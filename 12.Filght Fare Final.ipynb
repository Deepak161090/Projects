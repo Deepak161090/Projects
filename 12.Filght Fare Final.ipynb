{
 "cells": [
  {
   "cell_type": "code",
   "execution_count": 74,
   "metadata": {},
   "outputs": [],
   "source": [
    "import pandas as pd\n",
    "import numpy as np\n",
    "import sklearn\n",
    "import seaborn as sns\n",
    "import matplotlib.pyplot as plt\n",
    "from sklearn.linear_model import LinearRegression\n",
    "from sklearn.metrics import mean_squared_error,mean_absolute_error\n",
    "from sklearn.model_selection import train_test_split\n",
    "from sklearn.preprocessing import StandardScaler\n",
    "from sklearn.preprocessing import PowerTransformer\n",
    "from sklearn.model_selection import train_test_split\n",
    "from sklearn.linear_model import LinearRegression\n",
    "from sklearn.model_selection import cross_val_score\n",
    "from sklearn.metrics import r2_score"
   ]
  },
  {
   "cell_type": "code",
   "execution_count": 2,
   "metadata": {},
   "outputs": [],
   "source": [
    "flight = pd.read_excel('Flight Price.xlsx')"
   ]
  },
  {
   "cell_type": "code",
   "execution_count": 3,
   "metadata": {},
   "outputs": [],
   "source": [
    "flight_test=pd.read_excel('Test_set.xlsx')"
   ]
  },
  {
   "cell_type": "code",
   "execution_count": 4,
   "metadata": {},
   "outputs": [
    {
     "data": {
      "text/html": [
       "<div>\n",
       "<style scoped>\n",
       "    .dataframe tbody tr th:only-of-type {\n",
       "        vertical-align: middle;\n",
       "    }\n",
       "\n",
       "    .dataframe tbody tr th {\n",
       "        vertical-align: top;\n",
       "    }\n",
       "\n",
       "    .dataframe thead th {\n",
       "        text-align: right;\n",
       "    }\n",
       "</style>\n",
       "<table border=\"1\" class=\"dataframe\">\n",
       "  <thead>\n",
       "    <tr style=\"text-align: right;\">\n",
       "      <th></th>\n",
       "      <th>Airline</th>\n",
       "      <th>Date_of_Journey</th>\n",
       "      <th>Source</th>\n",
       "      <th>Destination</th>\n",
       "      <th>Route</th>\n",
       "      <th>Dep_Time</th>\n",
       "      <th>Arrival_Time</th>\n",
       "      <th>Duration</th>\n",
       "      <th>Total_Stops</th>\n",
       "      <th>Additional_Info</th>\n",
       "      <th>Price</th>\n",
       "    </tr>\n",
       "  </thead>\n",
       "  <tbody>\n",
       "    <tr>\n",
       "      <th>0</th>\n",
       "      <td>IndiGo</td>\n",
       "      <td>24/03/2019</td>\n",
       "      <td>Banglore</td>\n",
       "      <td>New Delhi</td>\n",
       "      <td>BLR → DEL</td>\n",
       "      <td>22:20</td>\n",
       "      <td>01:10 22 Mar</td>\n",
       "      <td>2h 50m</td>\n",
       "      <td>non-stop</td>\n",
       "      <td>No info</td>\n",
       "      <td>3897</td>\n",
       "    </tr>\n",
       "    <tr>\n",
       "      <th>1</th>\n",
       "      <td>Air India</td>\n",
       "      <td>1/05/2019</td>\n",
       "      <td>Kolkata</td>\n",
       "      <td>Banglore</td>\n",
       "      <td>CCU → IXR → BBI → BLR</td>\n",
       "      <td>05:50</td>\n",
       "      <td>13:15</td>\n",
       "      <td>7h 25m</td>\n",
       "      <td>2 stops</td>\n",
       "      <td>No info</td>\n",
       "      <td>7662</td>\n",
       "    </tr>\n",
       "    <tr>\n",
       "      <th>2</th>\n",
       "      <td>Jet Airways</td>\n",
       "      <td>9/06/2019</td>\n",
       "      <td>Delhi</td>\n",
       "      <td>Cochin</td>\n",
       "      <td>DEL → LKO → BOM → COK</td>\n",
       "      <td>09:25</td>\n",
       "      <td>04:25 10 Jun</td>\n",
       "      <td>19h</td>\n",
       "      <td>2 stops</td>\n",
       "      <td>No info</td>\n",
       "      <td>13882</td>\n",
       "    </tr>\n",
       "    <tr>\n",
       "      <th>3</th>\n",
       "      <td>IndiGo</td>\n",
       "      <td>12/05/2019</td>\n",
       "      <td>Kolkata</td>\n",
       "      <td>Banglore</td>\n",
       "      <td>CCU → NAG → BLR</td>\n",
       "      <td>18:05</td>\n",
       "      <td>23:30</td>\n",
       "      <td>5h 25m</td>\n",
       "      <td>1 stop</td>\n",
       "      <td>No info</td>\n",
       "      <td>6218</td>\n",
       "    </tr>\n",
       "    <tr>\n",
       "      <th>4</th>\n",
       "      <td>IndiGo</td>\n",
       "      <td>01/03/2019</td>\n",
       "      <td>Banglore</td>\n",
       "      <td>New Delhi</td>\n",
       "      <td>BLR → NAG → DEL</td>\n",
       "      <td>16:50</td>\n",
       "      <td>21:35</td>\n",
       "      <td>4h 45m</td>\n",
       "      <td>1 stop</td>\n",
       "      <td>No info</td>\n",
       "      <td>13302</td>\n",
       "    </tr>\n",
       "  </tbody>\n",
       "</table>\n",
       "</div>"
      ],
      "text/plain": [
       "       Airline Date_of_Journey    Source Destination                  Route  \\\n",
       "0       IndiGo      24/03/2019  Banglore   New Delhi              BLR → DEL   \n",
       "1    Air India       1/05/2019   Kolkata    Banglore  CCU → IXR → BBI → BLR   \n",
       "2  Jet Airways       9/06/2019     Delhi      Cochin  DEL → LKO → BOM → COK   \n",
       "3       IndiGo      12/05/2019   Kolkata    Banglore        CCU → NAG → BLR   \n",
       "4       IndiGo      01/03/2019  Banglore   New Delhi        BLR → NAG → DEL   \n",
       "\n",
       "  Dep_Time  Arrival_Time Duration Total_Stops Additional_Info  Price  \n",
       "0    22:20  01:10 22 Mar   2h 50m    non-stop         No info   3897  \n",
       "1    05:50         13:15   7h 25m     2 stops         No info   7662  \n",
       "2    09:25  04:25 10 Jun      19h     2 stops         No info  13882  \n",
       "3    18:05         23:30   5h 25m      1 stop         No info   6218  \n",
       "4    16:50         21:35   4h 45m      1 stop         No info  13302  "
      ]
     },
     "execution_count": 4,
     "metadata": {},
     "output_type": "execute_result"
    }
   ],
   "source": [
    "flight.head()"
   ]
  },
  {
   "cell_type": "code",
   "execution_count": 5,
   "metadata": {},
   "outputs": [
    {
     "data": {
      "text/html": [
       "<div>\n",
       "<style scoped>\n",
       "    .dataframe tbody tr th:only-of-type {\n",
       "        vertical-align: middle;\n",
       "    }\n",
       "\n",
       "    .dataframe tbody tr th {\n",
       "        vertical-align: top;\n",
       "    }\n",
       "\n",
       "    .dataframe thead th {\n",
       "        text-align: right;\n",
       "    }\n",
       "</style>\n",
       "<table border=\"1\" class=\"dataframe\">\n",
       "  <thead>\n",
       "    <tr style=\"text-align: right;\">\n",
       "      <th></th>\n",
       "      <th>Airline</th>\n",
       "      <th>Date_of_Journey</th>\n",
       "      <th>Source</th>\n",
       "      <th>Destination</th>\n",
       "      <th>Route</th>\n",
       "      <th>Dep_Time</th>\n",
       "      <th>Arrival_Time</th>\n",
       "      <th>Duration</th>\n",
       "      <th>Total_Stops</th>\n",
       "      <th>Additional_Info</th>\n",
       "    </tr>\n",
       "  </thead>\n",
       "  <tbody>\n",
       "    <tr>\n",
       "      <th>0</th>\n",
       "      <td>Jet Airways</td>\n",
       "      <td>6/06/2019</td>\n",
       "      <td>Delhi</td>\n",
       "      <td>Cochin</td>\n",
       "      <td>DEL → BOM → COK</td>\n",
       "      <td>17:30</td>\n",
       "      <td>04:25 07 Jun</td>\n",
       "      <td>10h 55m</td>\n",
       "      <td>1 stop</td>\n",
       "      <td>No info</td>\n",
       "    </tr>\n",
       "    <tr>\n",
       "      <th>1</th>\n",
       "      <td>IndiGo</td>\n",
       "      <td>12/05/2019</td>\n",
       "      <td>Kolkata</td>\n",
       "      <td>Banglore</td>\n",
       "      <td>CCU → MAA → BLR</td>\n",
       "      <td>06:20</td>\n",
       "      <td>10:20</td>\n",
       "      <td>4h</td>\n",
       "      <td>1 stop</td>\n",
       "      <td>No info</td>\n",
       "    </tr>\n",
       "    <tr>\n",
       "      <th>2</th>\n",
       "      <td>Jet Airways</td>\n",
       "      <td>21/05/2019</td>\n",
       "      <td>Delhi</td>\n",
       "      <td>Cochin</td>\n",
       "      <td>DEL → BOM → COK</td>\n",
       "      <td>19:15</td>\n",
       "      <td>19:00 22 May</td>\n",
       "      <td>23h 45m</td>\n",
       "      <td>1 stop</td>\n",
       "      <td>In-flight meal not included</td>\n",
       "    </tr>\n",
       "    <tr>\n",
       "      <th>3</th>\n",
       "      <td>Multiple carriers</td>\n",
       "      <td>21/05/2019</td>\n",
       "      <td>Delhi</td>\n",
       "      <td>Cochin</td>\n",
       "      <td>DEL → BOM → COK</td>\n",
       "      <td>08:00</td>\n",
       "      <td>21:00</td>\n",
       "      <td>13h</td>\n",
       "      <td>1 stop</td>\n",
       "      <td>No info</td>\n",
       "    </tr>\n",
       "    <tr>\n",
       "      <th>4</th>\n",
       "      <td>Air Asia</td>\n",
       "      <td>24/06/2019</td>\n",
       "      <td>Banglore</td>\n",
       "      <td>Delhi</td>\n",
       "      <td>BLR → DEL</td>\n",
       "      <td>23:55</td>\n",
       "      <td>02:45 25 Jun</td>\n",
       "      <td>2h 50m</td>\n",
       "      <td>non-stop</td>\n",
       "      <td>No info</td>\n",
       "    </tr>\n",
       "  </tbody>\n",
       "</table>\n",
       "</div>"
      ],
      "text/plain": [
       "             Airline Date_of_Journey    Source Destination            Route  \\\n",
       "0        Jet Airways       6/06/2019     Delhi      Cochin  DEL → BOM → COK   \n",
       "1             IndiGo      12/05/2019   Kolkata    Banglore  CCU → MAA → BLR   \n",
       "2        Jet Airways      21/05/2019     Delhi      Cochin  DEL → BOM → COK   \n",
       "3  Multiple carriers      21/05/2019     Delhi      Cochin  DEL → BOM → COK   \n",
       "4           Air Asia      24/06/2019  Banglore       Delhi        BLR → DEL   \n",
       "\n",
       "  Dep_Time  Arrival_Time Duration Total_Stops              Additional_Info  \n",
       "0    17:30  04:25 07 Jun  10h 55m      1 stop                      No info  \n",
       "1    06:20         10:20       4h      1 stop                      No info  \n",
       "2    19:15  19:00 22 May  23h 45m      1 stop  In-flight meal not included  \n",
       "3    08:00         21:00      13h      1 stop                      No info  \n",
       "4    23:55  02:45 25 Jun   2h 50m    non-stop                      No info  "
      ]
     },
     "execution_count": 5,
     "metadata": {},
     "output_type": "execute_result"
    }
   ],
   "source": [
    "flight_test.head()"
   ]
  },
  {
   "cell_type": "code",
   "execution_count": 6,
   "metadata": {},
   "outputs": [
    {
     "data": {
      "text/plain": [
       "Airline            0\n",
       "Date_of_Journey    0\n",
       "Source             0\n",
       "Destination        0\n",
       "Route              1\n",
       "Dep_Time           0\n",
       "Arrival_Time       0\n",
       "Duration           0\n",
       "Total_Stops        1\n",
       "Additional_Info    0\n",
       "Price              0\n",
       "dtype: int64"
      ]
     },
     "execution_count": 6,
     "metadata": {},
     "output_type": "execute_result"
    }
   ],
   "source": [
    "flight.isnull().sum()   # only 2 null values wisest thing would be to drop them as it wouldn\" have much effect as dataset is lage"
   ]
  },
  {
   "cell_type": "code",
   "execution_count": 7,
   "metadata": {},
   "outputs": [
    {
     "data": {
      "text/plain": [
       "Airline            0\n",
       "Date_of_Journey    0\n",
       "Source             0\n",
       "Destination        0\n",
       "Route              0\n",
       "Dep_Time           0\n",
       "Arrival_Time       0\n",
       "Duration           0\n",
       "Total_Stops        0\n",
       "Additional_Info    0\n",
       "dtype: int64"
      ]
     },
     "execution_count": 7,
     "metadata": {},
     "output_type": "execute_result"
    }
   ],
   "source": [
    "flight_test.isnull().sum()"
   ]
  },
  {
   "cell_type": "code",
   "execution_count": 8,
   "metadata": {},
   "outputs": [],
   "source": [
    "flight.dropna(inplace=True)"
   ]
  },
  {
   "cell_type": "code",
   "execution_count": 9,
   "metadata": {},
   "outputs": [
    {
     "data": {
      "text/plain": [
       "(10682, 11)"
      ]
     },
     "execution_count": 9,
     "metadata": {},
     "output_type": "execute_result"
    }
   ],
   "source": [
    "flight.shape"
   ]
  },
  {
   "cell_type": "code",
   "execution_count": 10,
   "metadata": {},
   "outputs": [
    {
     "data": {
      "text/plain": [
       "(2671, 10)"
      ]
     },
     "execution_count": 10,
     "metadata": {},
     "output_type": "execute_result"
    }
   ],
   "source": [
    "flight_test.shape"
   ]
  },
  {
   "cell_type": "code",
   "execution_count": 11,
   "metadata": {},
   "outputs": [
    {
     "data": {
      "text/plain": [
       "Airline            0\n",
       "Date_of_Journey    0\n",
       "Source             0\n",
       "Destination        0\n",
       "Route              0\n",
       "Dep_Time           0\n",
       "Arrival_Time       0\n",
       "Duration           0\n",
       "Total_Stops        0\n",
       "Additional_Info    0\n",
       "Price              0\n",
       "dtype: int64"
      ]
     },
     "execution_count": 11,
     "metadata": {},
     "output_type": "execute_result"
    }
   ],
   "source": [
    "flight.isnull().sum()  # no null values"
   ]
  },
  {
   "cell_type": "code",
   "execution_count": 12,
   "metadata": {},
   "outputs": [
    {
     "name": "stdout",
     "output_type": "stream",
     "text": [
      "<class 'pandas.core.frame.DataFrame'>\n",
      "Int64Index: 10682 entries, 0 to 10682\n",
      "Data columns (total 11 columns):\n",
      " #   Column           Non-Null Count  Dtype \n",
      "---  ------           --------------  ----- \n",
      " 0   Airline          10682 non-null  object\n",
      " 1   Date_of_Journey  10682 non-null  object\n",
      " 2   Source           10682 non-null  object\n",
      " 3   Destination      10682 non-null  object\n",
      " 4   Route            10682 non-null  object\n",
      " 5   Dep_Time         10682 non-null  object\n",
      " 6   Arrival_Time     10682 non-null  object\n",
      " 7   Duration         10682 non-null  object\n",
      " 8   Total_Stops      10682 non-null  object\n",
      " 9   Additional_Info  10682 non-null  object\n",
      " 10  Price            10682 non-null  int64 \n",
      "dtypes: int64(1), object(10)\n",
      "memory usage: 1001.4+ KB\n"
     ]
    }
   ],
   "source": [
    "flight.info()# all the independent features are object (string)"
   ]
  },
  {
   "cell_type": "code",
   "execution_count": 13,
   "metadata": {},
   "outputs": [
    {
     "name": "stdout",
     "output_type": "stream",
     "text": [
      "<class 'pandas.core.frame.DataFrame'>\n",
      "RangeIndex: 2671 entries, 0 to 2670\n",
      "Data columns (total 10 columns):\n",
      " #   Column           Non-Null Count  Dtype \n",
      "---  ------           --------------  ----- \n",
      " 0   Airline          2671 non-null   object\n",
      " 1   Date_of_Journey  2671 non-null   object\n",
      " 2   Source           2671 non-null   object\n",
      " 3   Destination      2671 non-null   object\n",
      " 4   Route            2671 non-null   object\n",
      " 5   Dep_Time         2671 non-null   object\n",
      " 6   Arrival_Time     2671 non-null   object\n",
      " 7   Duration         2671 non-null   object\n",
      " 8   Total_Stops      2671 non-null   object\n",
      " 9   Additional_Info  2671 non-null   object\n",
      "dtypes: object(10)\n",
      "memory usage: 208.8+ KB\n"
     ]
    }
   ],
   "source": [
    "flight_test.info()"
   ]
  },
  {
   "cell_type": "code",
   "execution_count": 14,
   "metadata": {},
   "outputs": [
    {
     "data": {
      "text/plain": [
       "Index(['Airline', 'Date_of_Journey', 'Source', 'Destination', 'Route',\n",
       "       'Dep_Time', 'Arrival_Time', 'Duration', 'Total_Stops',\n",
       "       'Additional_Info', 'Price'],\n",
       "      dtype='object')"
      ]
     },
     "execution_count": 14,
     "metadata": {},
     "output_type": "execute_result"
    }
   ],
   "source": [
    "flight.columns"
   ]
  },
  {
   "cell_type": "code",
   "execution_count": 15,
   "metadata": {},
   "outputs": [
    {
     "data": {
      "text/plain": [
       "Jet Airways                          3849\n",
       "IndiGo                               2053\n",
       "Air India                            1751\n",
       "Multiple carriers                    1196\n",
       "SpiceJet                              818\n",
       "Vistara                               479\n",
       "Air Asia                              319\n",
       "GoAir                                 194\n",
       "Multiple carriers Premium economy      13\n",
       "Jet Airways Business                    6\n",
       "Vistara Premium economy                 3\n",
       "Trujet                                  1\n",
       "Name: Airline, dtype: int64"
      ]
     },
     "execution_count": 15,
     "metadata": {},
     "output_type": "execute_result"
    }
   ],
   "source": [
    "flight['Airline'].value_counts() # max people travelled by JetAirways and so on"
   ]
  },
  {
   "cell_type": "code",
   "execution_count": 16,
   "metadata": {},
   "outputs": [
    {
     "data": {
      "text/plain": [
       "Jet Airways                          897\n",
       "IndiGo                               511\n",
       "Air India                            440\n",
       "Multiple carriers                    347\n",
       "SpiceJet                             208\n",
       "Vistara                              129\n",
       "Air Asia                              86\n",
       "GoAir                                 46\n",
       "Multiple carriers Premium economy      3\n",
       "Vistara Premium economy                2\n",
       "Jet Airways Business                   2\n",
       "Name: Airline, dtype: int64"
      ]
     },
     "execution_count": 16,
     "metadata": {},
     "output_type": "execute_result"
    }
   ],
   "source": [
    "flight_test['Airline'].value_counts()"
   ]
  },
  {
   "cell_type": "code",
   "execution_count": 17,
   "metadata": {},
   "outputs": [
    {
     "data": {
      "text/plain": [
       "array(['24/03/2019', '1/05/2019', '9/06/2019', '12/05/2019', '01/03/2019',\n",
       "       '24/06/2019', '12/03/2019', '27/05/2019', '1/06/2019',\n",
       "       '18/04/2019', '9/05/2019', '24/04/2019', '3/03/2019', '15/04/2019',\n",
       "       '12/06/2019', '6/03/2019', '21/03/2019', '3/04/2019', '6/05/2019',\n",
       "       '15/05/2019', '18/06/2019', '15/06/2019', '6/04/2019',\n",
       "       '18/05/2019', '27/06/2019', '21/05/2019', '06/03/2019',\n",
       "       '3/06/2019', '15/03/2019', '3/05/2019', '9/03/2019', '6/06/2019',\n",
       "       '24/05/2019', '09/03/2019', '1/04/2019', '21/04/2019',\n",
       "       '21/06/2019', '27/03/2019', '18/03/2019', '12/04/2019',\n",
       "       '9/04/2019', '1/03/2019', '03/03/2019', '27/04/2019'], dtype=object)"
      ]
     },
     "execution_count": 17,
     "metadata": {},
     "output_type": "execute_result"
    }
   ],
   "source": [
    "flight['Date_of_Journey'].unique() # months & day differ but year is same"
   ]
  },
  {
   "cell_type": "code",
   "execution_count": 18,
   "metadata": {},
   "outputs": [
    {
     "data": {
      "text/plain": [
       "Delhi       4536\n",
       "Kolkata     2871\n",
       "Banglore    2197\n",
       "Mumbai       697\n",
       "Chennai      381\n",
       "Name: Source, dtype: int64"
      ]
     },
     "execution_count": 18,
     "metadata": {},
     "output_type": "execute_result"
    }
   ],
   "source": [
    "flight['Source'].value_counts() # many flights originate from Delhi"
   ]
  },
  {
   "cell_type": "code",
   "execution_count": 19,
   "metadata": {},
   "outputs": [
    {
     "data": {
      "text/plain": [
       "Delhi       1145\n",
       "Kolkata      710\n",
       "Banglore     555\n",
       "Mumbai       186\n",
       "Chennai       75\n",
       "Name: Source, dtype: int64"
      ]
     },
     "execution_count": 19,
     "metadata": {},
     "output_type": "execute_result"
    }
   ],
   "source": [
    "flight_test['Source'].value_counts()"
   ]
  },
  {
   "cell_type": "code",
   "execution_count": 20,
   "metadata": {},
   "outputs": [
    {
     "data": {
      "text/plain": [
       "Cochin       4536\n",
       "Banglore     2871\n",
       "Delhi        1265\n",
       "New Delhi     932\n",
       "Hyderabad     697\n",
       "Kolkata       381\n",
       "Name: Destination, dtype: int64"
      ]
     },
     "execution_count": 20,
     "metadata": {},
     "output_type": "execute_result"
    }
   ],
   "source": [
    "flight['Destination'].value_counts()"
   ]
  },
  {
   "cell_type": "code",
   "execution_count": 21,
   "metadata": {},
   "outputs": [
    {
     "data": {
      "text/plain": [
       "Cochin       1145\n",
       "Banglore      710\n",
       "Delhi         317\n",
       "New Delhi     238\n",
       "Hyderabad     186\n",
       "Kolkata        75\n",
       "Name: Destination, dtype: int64"
      ]
     },
     "execution_count": 21,
     "metadata": {},
     "output_type": "execute_result"
    }
   ],
   "source": [
    "flight_test['Destination'].value_counts()"
   ]
  },
  {
   "cell_type": "code",
   "execution_count": 22,
   "metadata": {},
   "outputs": [
    {
     "data": {
      "text/plain": [
       "DEL → BOM → COK          2376\n",
       "BLR → DEL                1552\n",
       "CCU → BOM → BLR           979\n",
       "CCU → BLR                 724\n",
       "BOM → HYD                 621\n",
       "                         ... \n",
       "BOM → COK → MAA → HYD       1\n",
       "BOM → JAI → DEL → HYD       1\n",
       "CCU → RPR → HYD → BLR       1\n",
       "BOM → VNS → DEL → HYD       1\n",
       "CCU → IXZ → MAA → BLR       1\n",
       "Name: Route, Length: 128, dtype: int64"
      ]
     },
     "execution_count": 22,
     "metadata": {},
     "output_type": "execute_result"
    }
   ],
   "source": [
    "flight['Route'].value_counts()"
   ]
  },
  {
   "cell_type": "code",
   "execution_count": 23,
   "metadata": {},
   "outputs": [
    {
     "data": {
      "text/plain": [
       "array(['01:10 22 Mar', '13:15', '04:25 10 Jun', ..., '06:50 10 Mar',\n",
       "       '00:05 19 Mar', '21:20 13 Mar'], dtype=object)"
      ]
     },
     "execution_count": 23,
     "metadata": {},
     "output_type": "execute_result"
    }
   ],
   "source": [
    "flight['Arrival_Time'].unique()"
   ]
  },
  {
   "cell_type": "code",
   "execution_count": 24,
   "metadata": {},
   "outputs": [
    {
     "data": {
      "text/plain": [
       "1 stop      5625\n",
       "non-stop    3491\n",
       "2 stops     1520\n",
       "3 stops       45\n",
       "4 stops        1\n",
       "Name: Total_Stops, dtype: int64"
      ]
     },
     "execution_count": 24,
     "metadata": {},
     "output_type": "execute_result"
    }
   ],
   "source": [
    "flight['Total_Stops'].value_counts()"
   ]
  },
  {
   "cell_type": "code",
   "execution_count": 25,
   "metadata": {},
   "outputs": [
    {
     "data": {
      "text/plain": [
       "1 stop      1431\n",
       "non-stop     849\n",
       "2 stops      379\n",
       "3 stops       11\n",
       "4 stops        1\n",
       "Name: Total_Stops, dtype: int64"
      ]
     },
     "execution_count": 25,
     "metadata": {},
     "output_type": "execute_result"
    }
   ],
   "source": [
    "flight_test['Total_Stops'].value_counts()"
   ]
  },
  {
   "cell_type": "code",
   "execution_count": 26,
   "metadata": {},
   "outputs": [
    {
     "data": {
      "text/plain": [
       "No info                         8344\n",
       "In-flight meal not included     1982\n",
       "No check-in baggage included     320\n",
       "1 Long layover                    19\n",
       "Change airports                    7\n",
       "Business class                     4\n",
       "No Info                            3\n",
       "2 Long layover                     1\n",
       "1 Short layover                    1\n",
       "Red-eye flight                     1\n",
       "Name: Additional_Info, dtype: int64"
      ]
     },
     "execution_count": 26,
     "metadata": {},
     "output_type": "execute_result"
    }
   ],
   "source": [
    "flight['Additional_Info'].value_counts()"
   ]
  },
  {
   "cell_type": "code",
   "execution_count": 27,
   "metadata": {},
   "outputs": [],
   "source": [
    "#### Everything is string need to convert into computer readable format"
   ]
  },
  {
   "cell_type": "code",
   "execution_count": 28,
   "metadata": {},
   "outputs": [],
   "source": [
    "flight[\"Total_Stops\"].replace([\"non-stop\",\"1 stop\",\"2 stops\",\"3 stops\",\"4 stops\"],[0,1,2,3,4],inplace = True)\n",
    "flight_test[\"Total_Stops\"].replace([\"non-stop\",\"1 stop\",\"2 stops\",\"3 stops\",\"4 stops\"],[0,1,2,3,4],inplace = True)"
   ]
  },
  {
   "cell_type": "code",
   "execution_count": 29,
   "metadata": {},
   "outputs": [],
   "source": [
    "flight[\"Journey_Day\"] = pd.to_datetime(flight.Date_of_Journey,format='%d/%m/%Y').dt.day\n",
    "flight[\"Journey_Month\"] = pd.to_datetime(flight.Date_of_Journey,format='%d/%m/%Y').dt.month\n",
    "flight[\"Arrive_h\"] = pd.to_datetime(flight.Arrival_Time).dt.hour\n",
    "flight[\"Arrive_min\"] = pd.to_datetime(flight.Arrival_Time).dt.minute\n",
    "flight[\"Dep_h\"] = pd.to_datetime(flight.Dep_Time).dt.hour\n",
    "flight[\"Dep_min\"] = pd.to_datetime(flight.Dep_Time).dt.hour\n",
    "flight_test[\"Journey_Day\"] = pd.to_datetime(flight.Date_of_Journey,format='%d/%m/%Y').dt.day\n",
    "flight_test[\"Journey_Month\"] = pd.to_datetime(flight.Date_of_Journey,format='%d/%m/%Y').dt.month\n",
    "flight_test[\"Arrive_h\"] = pd.to_datetime(flight.Arrival_Time).dt.hour\n",
    "flight_test[\"Arrive_min\"] = pd.to_datetime(flight.Arrival_Time).dt.minute\n",
    "flight_test[\"Dep_h\"] = pd.to_datetime(flight.Dep_Time).dt.hour\n",
    "flight_test[\"Dep_min\"] = pd.to_datetime(flight.Dep_Time).dt.hour\n",
    "##### no need for year because 2019 is the unique value"
   ]
  },
  {
   "cell_type": "code",
   "execution_count": 30,
   "metadata": {},
   "outputs": [],
   "source": [
    "duration = list(flight[\"Duration\"])\n",
    "for i in range(len(duration)):\n",
    "    if len(duration[i].split()) != 2:\n",
    "        if \"h\" in duration[i]:\n",
    "            duration[i]= duration[i].strip() + \" 0m\"\n",
    "        else:\n",
    "            duration[i] = \"0h \" + duration[i]\n",
    "\n",
    "hours =[]\n",
    "mins = []\n",
    "for i in range(len(duration)):\n",
    "    hours.append(int(duration[i].split(sep=\"h\")[0]))\n",
    "    mins.append(int(duration[i].split(sep= \"m\")[0].split()[-1]))"
   ]
  },
  {
   "cell_type": "code",
   "execution_count": 31,
   "metadata": {},
   "outputs": [],
   "source": [
    "duration = list(flight_test[\"Duration\"])\n",
    "for i in range(len(duration)):\n",
    "    if len(duration[i].split()) != 2:\n",
    "        if \"h\" in duration[i]:\n",
    "            duration[i]= duration[i].strip() + \" 0m\"\n",
    "        else:\n",
    "            duration[i] = \"0h \" + duration[i]\n",
    "\n",
    "hours_test =[]\n",
    "mins_test = []\n",
    "for i in range(len(duration)):\n",
    "    hours_test.append(int(duration[i].split(sep=\"h\")[0]))\n",
    "    mins_test.append(int(duration[i].split(sep= \"m\")[0].split()[-1]))"
   ]
  },
  {
   "cell_type": "code",
   "execution_count": 32,
   "metadata": {},
   "outputs": [],
   "source": [
    "flight['Duration_h']= hours\n",
    "flight_test['Duration_h']= hours_test"
   ]
  },
  {
   "cell_type": "code",
   "execution_count": 33,
   "metadata": {},
   "outputs": [],
   "source": [
    "flight['Duration_min']=mins\n",
    "flight_test['Duration_min']=mins_test"
   ]
  },
  {
   "cell_type": "code",
   "execution_count": 34,
   "metadata": {},
   "outputs": [],
   "source": [
    "flight['duration']=flight['Duration_h']*60+flight['Duration_min']\n",
    "flight_test['duration']=flight_test['Duration_h']*60+flight_test['Duration_min']"
   ]
  },
  {
   "cell_type": "code",
   "execution_count": 35,
   "metadata": {},
   "outputs": [
    {
     "data": {
      "text/html": [
       "<div>\n",
       "<style scoped>\n",
       "    .dataframe tbody tr th:only-of-type {\n",
       "        vertical-align: middle;\n",
       "    }\n",
       "\n",
       "    .dataframe tbody tr th {\n",
       "        vertical-align: top;\n",
       "    }\n",
       "\n",
       "    .dataframe thead th {\n",
       "        text-align: right;\n",
       "    }\n",
       "</style>\n",
       "<table border=\"1\" class=\"dataframe\">\n",
       "  <thead>\n",
       "    <tr style=\"text-align: right;\">\n",
       "      <th></th>\n",
       "      <th>Airline</th>\n",
       "      <th>Date_of_Journey</th>\n",
       "      <th>Source</th>\n",
       "      <th>Destination</th>\n",
       "      <th>Route</th>\n",
       "      <th>Dep_Time</th>\n",
       "      <th>Arrival_Time</th>\n",
       "      <th>Duration</th>\n",
       "      <th>Total_Stops</th>\n",
       "      <th>Additional_Info</th>\n",
       "      <th>Price</th>\n",
       "      <th>Journey_Day</th>\n",
       "      <th>Journey_Month</th>\n",
       "      <th>Arrive_h</th>\n",
       "      <th>Arrive_min</th>\n",
       "      <th>Dep_h</th>\n",
       "      <th>Dep_min</th>\n",
       "      <th>Duration_h</th>\n",
       "      <th>Duration_min</th>\n",
       "      <th>duration</th>\n",
       "    </tr>\n",
       "  </thead>\n",
       "  <tbody>\n",
       "    <tr>\n",
       "      <th>0</th>\n",
       "      <td>IndiGo</td>\n",
       "      <td>24/03/2019</td>\n",
       "      <td>Banglore</td>\n",
       "      <td>New Delhi</td>\n",
       "      <td>BLR → DEL</td>\n",
       "      <td>22:20</td>\n",
       "      <td>01:10 22 Mar</td>\n",
       "      <td>2h 50m</td>\n",
       "      <td>0</td>\n",
       "      <td>No info</td>\n",
       "      <td>3897</td>\n",
       "      <td>24</td>\n",
       "      <td>3</td>\n",
       "      <td>1</td>\n",
       "      <td>10</td>\n",
       "      <td>22</td>\n",
       "      <td>22</td>\n",
       "      <td>2</td>\n",
       "      <td>50</td>\n",
       "      <td>170</td>\n",
       "    </tr>\n",
       "    <tr>\n",
       "      <th>1</th>\n",
       "      <td>Air India</td>\n",
       "      <td>1/05/2019</td>\n",
       "      <td>Kolkata</td>\n",
       "      <td>Banglore</td>\n",
       "      <td>CCU → IXR → BBI → BLR</td>\n",
       "      <td>05:50</td>\n",
       "      <td>13:15</td>\n",
       "      <td>7h 25m</td>\n",
       "      <td>2</td>\n",
       "      <td>No info</td>\n",
       "      <td>7662</td>\n",
       "      <td>1</td>\n",
       "      <td>5</td>\n",
       "      <td>13</td>\n",
       "      <td>15</td>\n",
       "      <td>5</td>\n",
       "      <td>5</td>\n",
       "      <td>7</td>\n",
       "      <td>25</td>\n",
       "      <td>445</td>\n",
       "    </tr>\n",
       "    <tr>\n",
       "      <th>2</th>\n",
       "      <td>Jet Airways</td>\n",
       "      <td>9/06/2019</td>\n",
       "      <td>Delhi</td>\n",
       "      <td>Cochin</td>\n",
       "      <td>DEL → LKO → BOM → COK</td>\n",
       "      <td>09:25</td>\n",
       "      <td>04:25 10 Jun</td>\n",
       "      <td>19h</td>\n",
       "      <td>2</td>\n",
       "      <td>No info</td>\n",
       "      <td>13882</td>\n",
       "      <td>9</td>\n",
       "      <td>6</td>\n",
       "      <td>4</td>\n",
       "      <td>25</td>\n",
       "      <td>9</td>\n",
       "      <td>9</td>\n",
       "      <td>19</td>\n",
       "      <td>0</td>\n",
       "      <td>1140</td>\n",
       "    </tr>\n",
       "    <tr>\n",
       "      <th>3</th>\n",
       "      <td>IndiGo</td>\n",
       "      <td>12/05/2019</td>\n",
       "      <td>Kolkata</td>\n",
       "      <td>Banglore</td>\n",
       "      <td>CCU → NAG → BLR</td>\n",
       "      <td>18:05</td>\n",
       "      <td>23:30</td>\n",
       "      <td>5h 25m</td>\n",
       "      <td>1</td>\n",
       "      <td>No info</td>\n",
       "      <td>6218</td>\n",
       "      <td>12</td>\n",
       "      <td>5</td>\n",
       "      <td>23</td>\n",
       "      <td>30</td>\n",
       "      <td>18</td>\n",
       "      <td>18</td>\n",
       "      <td>5</td>\n",
       "      <td>25</td>\n",
       "      <td>325</td>\n",
       "    </tr>\n",
       "    <tr>\n",
       "      <th>4</th>\n",
       "      <td>IndiGo</td>\n",
       "      <td>01/03/2019</td>\n",
       "      <td>Banglore</td>\n",
       "      <td>New Delhi</td>\n",
       "      <td>BLR → NAG → DEL</td>\n",
       "      <td>16:50</td>\n",
       "      <td>21:35</td>\n",
       "      <td>4h 45m</td>\n",
       "      <td>1</td>\n",
       "      <td>No info</td>\n",
       "      <td>13302</td>\n",
       "      <td>1</td>\n",
       "      <td>3</td>\n",
       "      <td>21</td>\n",
       "      <td>35</td>\n",
       "      <td>16</td>\n",
       "      <td>16</td>\n",
       "      <td>4</td>\n",
       "      <td>45</td>\n",
       "      <td>285</td>\n",
       "    </tr>\n",
       "  </tbody>\n",
       "</table>\n",
       "</div>"
      ],
      "text/plain": [
       "       Airline Date_of_Journey    Source Destination                  Route  \\\n",
       "0       IndiGo      24/03/2019  Banglore   New Delhi              BLR → DEL   \n",
       "1    Air India       1/05/2019   Kolkata    Banglore  CCU → IXR → BBI → BLR   \n",
       "2  Jet Airways       9/06/2019     Delhi      Cochin  DEL → LKO → BOM → COK   \n",
       "3       IndiGo      12/05/2019   Kolkata    Banglore        CCU → NAG → BLR   \n",
       "4       IndiGo      01/03/2019  Banglore   New Delhi        BLR → NAG → DEL   \n",
       "\n",
       "  Dep_Time  Arrival_Time Duration  Total_Stops Additional_Info  Price  \\\n",
       "0    22:20  01:10 22 Mar   2h 50m            0         No info   3897   \n",
       "1    05:50         13:15   7h 25m            2         No info   7662   \n",
       "2    09:25  04:25 10 Jun      19h            2         No info  13882   \n",
       "3    18:05         23:30   5h 25m            1         No info   6218   \n",
       "4    16:50         21:35   4h 45m            1         No info  13302   \n",
       "\n",
       "   Journey_Day  Journey_Month  Arrive_h  Arrive_min  Dep_h  Dep_min  \\\n",
       "0           24              3         1          10     22       22   \n",
       "1            1              5        13          15      5        5   \n",
       "2            9              6         4          25      9        9   \n",
       "3           12              5        23          30     18       18   \n",
       "4            1              3        21          35     16       16   \n",
       "\n",
       "   Duration_h  Duration_min  duration  \n",
       "0           2            50       170  \n",
       "1           7            25       445  \n",
       "2          19             0      1140  \n",
       "3           5            25       325  \n",
       "4           4            45       285  "
      ]
     },
     "execution_count": 35,
     "metadata": {},
     "output_type": "execute_result"
    }
   ],
   "source": [
    "flight.head()"
   ]
  },
  {
   "cell_type": "code",
   "execution_count": 36,
   "metadata": {},
   "outputs": [
    {
     "data": {
      "text/html": [
       "<div>\n",
       "<style scoped>\n",
       "    .dataframe tbody tr th:only-of-type {\n",
       "        vertical-align: middle;\n",
       "    }\n",
       "\n",
       "    .dataframe tbody tr th {\n",
       "        vertical-align: top;\n",
       "    }\n",
       "\n",
       "    .dataframe thead th {\n",
       "        text-align: right;\n",
       "    }\n",
       "</style>\n",
       "<table border=\"1\" class=\"dataframe\">\n",
       "  <thead>\n",
       "    <tr style=\"text-align: right;\">\n",
       "      <th></th>\n",
       "      <th>Airline</th>\n",
       "      <th>Date_of_Journey</th>\n",
       "      <th>Source</th>\n",
       "      <th>Destination</th>\n",
       "      <th>Route</th>\n",
       "      <th>Dep_Time</th>\n",
       "      <th>Arrival_Time</th>\n",
       "      <th>Duration</th>\n",
       "      <th>Total_Stops</th>\n",
       "      <th>Additional_Info</th>\n",
       "      <th>Journey_Day</th>\n",
       "      <th>Journey_Month</th>\n",
       "      <th>Arrive_h</th>\n",
       "      <th>Arrive_min</th>\n",
       "      <th>Dep_h</th>\n",
       "      <th>Dep_min</th>\n",
       "      <th>Duration_h</th>\n",
       "      <th>Duration_min</th>\n",
       "      <th>duration</th>\n",
       "    </tr>\n",
       "  </thead>\n",
       "  <tbody>\n",
       "    <tr>\n",
       "      <th>0</th>\n",
       "      <td>Jet Airways</td>\n",
       "      <td>6/06/2019</td>\n",
       "      <td>Delhi</td>\n",
       "      <td>Cochin</td>\n",
       "      <td>DEL → BOM → COK</td>\n",
       "      <td>17:30</td>\n",
       "      <td>04:25 07 Jun</td>\n",
       "      <td>10h 55m</td>\n",
       "      <td>1</td>\n",
       "      <td>No info</td>\n",
       "      <td>24</td>\n",
       "      <td>3</td>\n",
       "      <td>1</td>\n",
       "      <td>10</td>\n",
       "      <td>22</td>\n",
       "      <td>22</td>\n",
       "      <td>10</td>\n",
       "      <td>55</td>\n",
       "      <td>655</td>\n",
       "    </tr>\n",
       "    <tr>\n",
       "      <th>1</th>\n",
       "      <td>IndiGo</td>\n",
       "      <td>12/05/2019</td>\n",
       "      <td>Kolkata</td>\n",
       "      <td>Banglore</td>\n",
       "      <td>CCU → MAA → BLR</td>\n",
       "      <td>06:20</td>\n",
       "      <td>10:20</td>\n",
       "      <td>4h</td>\n",
       "      <td>1</td>\n",
       "      <td>No info</td>\n",
       "      <td>1</td>\n",
       "      <td>5</td>\n",
       "      <td>13</td>\n",
       "      <td>15</td>\n",
       "      <td>5</td>\n",
       "      <td>5</td>\n",
       "      <td>4</td>\n",
       "      <td>0</td>\n",
       "      <td>240</td>\n",
       "    </tr>\n",
       "    <tr>\n",
       "      <th>2</th>\n",
       "      <td>Jet Airways</td>\n",
       "      <td>21/05/2019</td>\n",
       "      <td>Delhi</td>\n",
       "      <td>Cochin</td>\n",
       "      <td>DEL → BOM → COK</td>\n",
       "      <td>19:15</td>\n",
       "      <td>19:00 22 May</td>\n",
       "      <td>23h 45m</td>\n",
       "      <td>1</td>\n",
       "      <td>In-flight meal not included</td>\n",
       "      <td>9</td>\n",
       "      <td>6</td>\n",
       "      <td>4</td>\n",
       "      <td>25</td>\n",
       "      <td>9</td>\n",
       "      <td>9</td>\n",
       "      <td>23</td>\n",
       "      <td>45</td>\n",
       "      <td>1425</td>\n",
       "    </tr>\n",
       "    <tr>\n",
       "      <th>3</th>\n",
       "      <td>Multiple carriers</td>\n",
       "      <td>21/05/2019</td>\n",
       "      <td>Delhi</td>\n",
       "      <td>Cochin</td>\n",
       "      <td>DEL → BOM → COK</td>\n",
       "      <td>08:00</td>\n",
       "      <td>21:00</td>\n",
       "      <td>13h</td>\n",
       "      <td>1</td>\n",
       "      <td>No info</td>\n",
       "      <td>12</td>\n",
       "      <td>5</td>\n",
       "      <td>23</td>\n",
       "      <td>30</td>\n",
       "      <td>18</td>\n",
       "      <td>18</td>\n",
       "      <td>13</td>\n",
       "      <td>0</td>\n",
       "      <td>780</td>\n",
       "    </tr>\n",
       "    <tr>\n",
       "      <th>4</th>\n",
       "      <td>Air Asia</td>\n",
       "      <td>24/06/2019</td>\n",
       "      <td>Banglore</td>\n",
       "      <td>Delhi</td>\n",
       "      <td>BLR → DEL</td>\n",
       "      <td>23:55</td>\n",
       "      <td>02:45 25 Jun</td>\n",
       "      <td>2h 50m</td>\n",
       "      <td>0</td>\n",
       "      <td>No info</td>\n",
       "      <td>1</td>\n",
       "      <td>3</td>\n",
       "      <td>21</td>\n",
       "      <td>35</td>\n",
       "      <td>16</td>\n",
       "      <td>16</td>\n",
       "      <td>2</td>\n",
       "      <td>50</td>\n",
       "      <td>170</td>\n",
       "    </tr>\n",
       "  </tbody>\n",
       "</table>\n",
       "</div>"
      ],
      "text/plain": [
       "             Airline Date_of_Journey    Source Destination            Route  \\\n",
       "0        Jet Airways       6/06/2019     Delhi      Cochin  DEL → BOM → COK   \n",
       "1             IndiGo      12/05/2019   Kolkata    Banglore  CCU → MAA → BLR   \n",
       "2        Jet Airways      21/05/2019     Delhi      Cochin  DEL → BOM → COK   \n",
       "3  Multiple carriers      21/05/2019     Delhi      Cochin  DEL → BOM → COK   \n",
       "4           Air Asia      24/06/2019  Banglore       Delhi        BLR → DEL   \n",
       "\n",
       "  Dep_Time  Arrival_Time Duration  Total_Stops              Additional_Info  \\\n",
       "0    17:30  04:25 07 Jun  10h 55m            1                      No info   \n",
       "1    06:20         10:20       4h            1                      No info   \n",
       "2    19:15  19:00 22 May  23h 45m            1  In-flight meal not included   \n",
       "3    08:00         21:00      13h            1                      No info   \n",
       "4    23:55  02:45 25 Jun   2h 50m            0                      No info   \n",
       "\n",
       "   Journey_Day  Journey_Month  Arrive_h  Arrive_min  Dep_h  Dep_min  \\\n",
       "0           24              3         1          10     22       22   \n",
       "1            1              5        13          15      5        5   \n",
       "2            9              6         4          25      9        9   \n",
       "3           12              5        23          30     18       18   \n",
       "4            1              3        21          35     16       16   \n",
       "\n",
       "   Duration_h  Duration_min  duration  \n",
       "0          10            55       655  \n",
       "1           4             0       240  \n",
       "2          23            45      1425  \n",
       "3          13             0       780  \n",
       "4           2            50       170  "
      ]
     },
     "execution_count": 36,
     "metadata": {},
     "output_type": "execute_result"
    }
   ],
   "source": [
    "flight_test.head()"
   ]
  },
  {
   "cell_type": "code",
   "execution_count": 37,
   "metadata": {},
   "outputs": [],
   "source": [
    "flight.drop(['Duration','Duration_h','Duration_min','Date_of_Journey',\"Arrival_Time\",'Dep_Time'],axis=1,inplace=True)\n",
    "flight_test.drop(['Duration','Duration_h','Duration_min','Date_of_Journey',\"Arrival_Time\",'Dep_Time'],axis=1,inplace=True)"
   ]
  },
  {
   "cell_type": "code",
   "execution_count": 38,
   "metadata": {},
   "outputs": [
    {
     "data": {
      "text/html": [
       "<div>\n",
       "<style scoped>\n",
       "    .dataframe tbody tr th:only-of-type {\n",
       "        vertical-align: middle;\n",
       "    }\n",
       "\n",
       "    .dataframe tbody tr th {\n",
       "        vertical-align: top;\n",
       "    }\n",
       "\n",
       "    .dataframe thead th {\n",
       "        text-align: right;\n",
       "    }\n",
       "</style>\n",
       "<table border=\"1\" class=\"dataframe\">\n",
       "  <thead>\n",
       "    <tr style=\"text-align: right;\">\n",
       "      <th></th>\n",
       "      <th>Airline</th>\n",
       "      <th>Source</th>\n",
       "      <th>Destination</th>\n",
       "      <th>Route</th>\n",
       "      <th>Total_Stops</th>\n",
       "      <th>Additional_Info</th>\n",
       "      <th>Price</th>\n",
       "      <th>Journey_Day</th>\n",
       "      <th>Journey_Month</th>\n",
       "      <th>Arrive_h</th>\n",
       "      <th>Arrive_min</th>\n",
       "      <th>Dep_h</th>\n",
       "      <th>Dep_min</th>\n",
       "      <th>duration</th>\n",
       "    </tr>\n",
       "  </thead>\n",
       "  <tbody>\n",
       "    <tr>\n",
       "      <th>0</th>\n",
       "      <td>IndiGo</td>\n",
       "      <td>Banglore</td>\n",
       "      <td>New Delhi</td>\n",
       "      <td>BLR → DEL</td>\n",
       "      <td>0</td>\n",
       "      <td>No info</td>\n",
       "      <td>3897</td>\n",
       "      <td>24</td>\n",
       "      <td>3</td>\n",
       "      <td>1</td>\n",
       "      <td>10</td>\n",
       "      <td>22</td>\n",
       "      <td>22</td>\n",
       "      <td>170</td>\n",
       "    </tr>\n",
       "    <tr>\n",
       "      <th>1</th>\n",
       "      <td>Air India</td>\n",
       "      <td>Kolkata</td>\n",
       "      <td>Banglore</td>\n",
       "      <td>CCU → IXR → BBI → BLR</td>\n",
       "      <td>2</td>\n",
       "      <td>No info</td>\n",
       "      <td>7662</td>\n",
       "      <td>1</td>\n",
       "      <td>5</td>\n",
       "      <td>13</td>\n",
       "      <td>15</td>\n",
       "      <td>5</td>\n",
       "      <td>5</td>\n",
       "      <td>445</td>\n",
       "    </tr>\n",
       "    <tr>\n",
       "      <th>2</th>\n",
       "      <td>Jet Airways</td>\n",
       "      <td>Delhi</td>\n",
       "      <td>Cochin</td>\n",
       "      <td>DEL → LKO → BOM → COK</td>\n",
       "      <td>2</td>\n",
       "      <td>No info</td>\n",
       "      <td>13882</td>\n",
       "      <td>9</td>\n",
       "      <td>6</td>\n",
       "      <td>4</td>\n",
       "      <td>25</td>\n",
       "      <td>9</td>\n",
       "      <td>9</td>\n",
       "      <td>1140</td>\n",
       "    </tr>\n",
       "    <tr>\n",
       "      <th>3</th>\n",
       "      <td>IndiGo</td>\n",
       "      <td>Kolkata</td>\n",
       "      <td>Banglore</td>\n",
       "      <td>CCU → NAG → BLR</td>\n",
       "      <td>1</td>\n",
       "      <td>No info</td>\n",
       "      <td>6218</td>\n",
       "      <td>12</td>\n",
       "      <td>5</td>\n",
       "      <td>23</td>\n",
       "      <td>30</td>\n",
       "      <td>18</td>\n",
       "      <td>18</td>\n",
       "      <td>325</td>\n",
       "    </tr>\n",
       "    <tr>\n",
       "      <th>4</th>\n",
       "      <td>IndiGo</td>\n",
       "      <td>Banglore</td>\n",
       "      <td>New Delhi</td>\n",
       "      <td>BLR → NAG → DEL</td>\n",
       "      <td>1</td>\n",
       "      <td>No info</td>\n",
       "      <td>13302</td>\n",
       "      <td>1</td>\n",
       "      <td>3</td>\n",
       "      <td>21</td>\n",
       "      <td>35</td>\n",
       "      <td>16</td>\n",
       "      <td>16</td>\n",
       "      <td>285</td>\n",
       "    </tr>\n",
       "  </tbody>\n",
       "</table>\n",
       "</div>"
      ],
      "text/plain": [
       "       Airline    Source Destination                  Route  Total_Stops  \\\n",
       "0       IndiGo  Banglore   New Delhi              BLR → DEL            0   \n",
       "1    Air India   Kolkata    Banglore  CCU → IXR → BBI → BLR            2   \n",
       "2  Jet Airways     Delhi      Cochin  DEL → LKO → BOM → COK            2   \n",
       "3       IndiGo   Kolkata    Banglore        CCU → NAG → BLR            1   \n",
       "4       IndiGo  Banglore   New Delhi        BLR → NAG → DEL            1   \n",
       "\n",
       "  Additional_Info  Price  Journey_Day  Journey_Month  Arrive_h  Arrive_min  \\\n",
       "0         No info   3897           24              3         1          10   \n",
       "1         No info   7662            1              5        13          15   \n",
       "2         No info  13882            9              6         4          25   \n",
       "3         No info   6218           12              5        23          30   \n",
       "4         No info  13302            1              3        21          35   \n",
       "\n",
       "   Dep_h  Dep_min  duration  \n",
       "0     22       22       170  \n",
       "1      5        5       445  \n",
       "2      9        9      1140  \n",
       "3     18       18       325  \n",
       "4     16       16       285  "
      ]
     },
     "execution_count": 38,
     "metadata": {},
     "output_type": "execute_result"
    }
   ],
   "source": [
    "flight.head()"
   ]
  },
  {
   "cell_type": "code",
   "execution_count": 39,
   "metadata": {},
   "outputs": [
    {
     "data": {
      "text/html": [
       "<div>\n",
       "<style scoped>\n",
       "    .dataframe tbody tr th:only-of-type {\n",
       "        vertical-align: middle;\n",
       "    }\n",
       "\n",
       "    .dataframe tbody tr th {\n",
       "        vertical-align: top;\n",
       "    }\n",
       "\n",
       "    .dataframe thead th {\n",
       "        text-align: right;\n",
       "    }\n",
       "</style>\n",
       "<table border=\"1\" class=\"dataframe\">\n",
       "  <thead>\n",
       "    <tr style=\"text-align: right;\">\n",
       "      <th></th>\n",
       "      <th>Airline</th>\n",
       "      <th>Source</th>\n",
       "      <th>Destination</th>\n",
       "      <th>Route</th>\n",
       "      <th>Total_Stops</th>\n",
       "      <th>Additional_Info</th>\n",
       "      <th>Journey_Day</th>\n",
       "      <th>Journey_Month</th>\n",
       "      <th>Arrive_h</th>\n",
       "      <th>Arrive_min</th>\n",
       "      <th>Dep_h</th>\n",
       "      <th>Dep_min</th>\n",
       "      <th>duration</th>\n",
       "    </tr>\n",
       "  </thead>\n",
       "  <tbody>\n",
       "    <tr>\n",
       "      <th>0</th>\n",
       "      <td>Jet Airways</td>\n",
       "      <td>Delhi</td>\n",
       "      <td>Cochin</td>\n",
       "      <td>DEL → BOM → COK</td>\n",
       "      <td>1</td>\n",
       "      <td>No info</td>\n",
       "      <td>24</td>\n",
       "      <td>3</td>\n",
       "      <td>1</td>\n",
       "      <td>10</td>\n",
       "      <td>22</td>\n",
       "      <td>22</td>\n",
       "      <td>655</td>\n",
       "    </tr>\n",
       "    <tr>\n",
       "      <th>1</th>\n",
       "      <td>IndiGo</td>\n",
       "      <td>Kolkata</td>\n",
       "      <td>Banglore</td>\n",
       "      <td>CCU → MAA → BLR</td>\n",
       "      <td>1</td>\n",
       "      <td>No info</td>\n",
       "      <td>1</td>\n",
       "      <td>5</td>\n",
       "      <td>13</td>\n",
       "      <td>15</td>\n",
       "      <td>5</td>\n",
       "      <td>5</td>\n",
       "      <td>240</td>\n",
       "    </tr>\n",
       "    <tr>\n",
       "      <th>2</th>\n",
       "      <td>Jet Airways</td>\n",
       "      <td>Delhi</td>\n",
       "      <td>Cochin</td>\n",
       "      <td>DEL → BOM → COK</td>\n",
       "      <td>1</td>\n",
       "      <td>In-flight meal not included</td>\n",
       "      <td>9</td>\n",
       "      <td>6</td>\n",
       "      <td>4</td>\n",
       "      <td>25</td>\n",
       "      <td>9</td>\n",
       "      <td>9</td>\n",
       "      <td>1425</td>\n",
       "    </tr>\n",
       "    <tr>\n",
       "      <th>3</th>\n",
       "      <td>Multiple carriers</td>\n",
       "      <td>Delhi</td>\n",
       "      <td>Cochin</td>\n",
       "      <td>DEL → BOM → COK</td>\n",
       "      <td>1</td>\n",
       "      <td>No info</td>\n",
       "      <td>12</td>\n",
       "      <td>5</td>\n",
       "      <td>23</td>\n",
       "      <td>30</td>\n",
       "      <td>18</td>\n",
       "      <td>18</td>\n",
       "      <td>780</td>\n",
       "    </tr>\n",
       "    <tr>\n",
       "      <th>4</th>\n",
       "      <td>Air Asia</td>\n",
       "      <td>Banglore</td>\n",
       "      <td>Delhi</td>\n",
       "      <td>BLR → DEL</td>\n",
       "      <td>0</td>\n",
       "      <td>No info</td>\n",
       "      <td>1</td>\n",
       "      <td>3</td>\n",
       "      <td>21</td>\n",
       "      <td>35</td>\n",
       "      <td>16</td>\n",
       "      <td>16</td>\n",
       "      <td>170</td>\n",
       "    </tr>\n",
       "  </tbody>\n",
       "</table>\n",
       "</div>"
      ],
      "text/plain": [
       "             Airline    Source Destination            Route  Total_Stops  \\\n",
       "0        Jet Airways     Delhi      Cochin  DEL → BOM → COK            1   \n",
       "1             IndiGo   Kolkata    Banglore  CCU → MAA → BLR            1   \n",
       "2        Jet Airways     Delhi      Cochin  DEL → BOM → COK            1   \n",
       "3  Multiple carriers     Delhi      Cochin  DEL → BOM → COK            1   \n",
       "4           Air Asia  Banglore       Delhi        BLR → DEL            0   \n",
       "\n",
       "               Additional_Info  Journey_Day  Journey_Month  Arrive_h  \\\n",
       "0                      No info           24              3         1   \n",
       "1                      No info            1              5        13   \n",
       "2  In-flight meal not included            9              6         4   \n",
       "3                      No info           12              5        23   \n",
       "4                      No info            1              3        21   \n",
       "\n",
       "   Arrive_min  Dep_h  Dep_min  duration  \n",
       "0          10     22       22       655  \n",
       "1          15      5        5       240  \n",
       "2          25      9        9      1425  \n",
       "3          30     18       18       780  \n",
       "4          35     16       16       170  "
      ]
     },
     "execution_count": 39,
     "metadata": {},
     "output_type": "execute_result"
    }
   ],
   "source": [
    "flight_test.head()"
   ]
  },
  {
   "cell_type": "code",
   "execution_count": 40,
   "metadata": {},
   "outputs": [
    {
     "data": {
      "text/plain": [
       "Airline            object\n",
       "Source             object\n",
       "Destination        object\n",
       "Route              object\n",
       "Total_Stops         int64\n",
       "Additional_Info    object\n",
       "Price               int64\n",
       "Journey_Day         int64\n",
       "Journey_Month       int64\n",
       "Arrive_h            int64\n",
       "Arrive_min          int64\n",
       "Dep_h               int64\n",
       "Dep_min             int64\n",
       "duration            int64\n",
       "dtype: object"
      ]
     },
     "execution_count": 40,
     "metadata": {},
     "output_type": "execute_result"
    }
   ],
   "source": [
    "flight.dtypes"
   ]
  },
  {
   "cell_type": "code",
   "execution_count": 41,
   "metadata": {},
   "outputs": [
    {
     "data": {
      "text/plain": [
       "Airline            object\n",
       "Source             object\n",
       "Destination        object\n",
       "Route              object\n",
       "Total_Stops         int64\n",
       "Additional_Info    object\n",
       "Journey_Day         int64\n",
       "Journey_Month       int64\n",
       "Arrive_h            int64\n",
       "Arrive_min          int64\n",
       "Dep_h               int64\n",
       "Dep_min             int64\n",
       "duration            int64\n",
       "dtype: object"
      ]
     },
     "execution_count": 41,
     "metadata": {},
     "output_type": "execute_result"
    }
   ],
   "source": [
    "flight_test.dtypes"
   ]
  },
  {
   "cell_type": "code",
   "execution_count": 42,
   "metadata": {},
   "outputs": [],
   "source": [
    "# now airline,source,Destination,route and additional_info are objects(categorical,strinh)"
   ]
  },
  {
   "cell_type": "code",
   "execution_count": 43,
   "metadata": {},
   "outputs": [
    {
     "data": {
      "image/png": "[encoded data removed]",
      "text/plain": [
       "<Figure size 2160x864 with 1 Axes>"
      ]
     },
     "metadata": {
      "needs_background": "light"
     },
     "output_type": "display_data"
    }
   ],
   "source": [
    "plt.figure(figsize=(30,12))\n",
    "sns.barplot(x=\"Airline\",y=\"Price\",data=flight)\n",
    "plt.show()    # jet airways business has high price so less people travel"
   ]
  },
  {
   "cell_type": "code",
   "execution_count": 44,
   "metadata": {},
   "outputs": [
    {
     "data": {
      "image/png": "[encoded data removed]",
      "text/plain": [
       "<Figure size 432x432 with 1 Axes>"
      ]
     },
     "metadata": {
      "needs_background": "light"
     },
     "output_type": "display_data"
    }
   ],
   "source": [
    "plt.figure(figsize=(6,6))\n",
    "sns.barplot(x=\"Source\",y=\"Price\",data=flight)   # flight originating from new delhi have max price\n",
    "plt.show()"
   ]
  },
  {
   "cell_type": "code",
   "execution_count": 45,
   "metadata": {},
   "outputs": [
    {
     "data": {
      "image/png": "[encoded data removed]",
      "text/plain": [
       "<Figure size 432x432 with 1 Axes>"
      ]
     },
     "metadata": {
      "needs_background": "light"
     },
     "output_type": "display_data"
    }
   ],
   "source": [
    "plt.figure(figsize=(6,6))\n",
    "sns.barplot(x=\"Destination\",y=\"Price\",data=flight)\n",
    "plt.show()    # flighs to  new delhi have max price"
   ]
  },
  {
   "cell_type": "code",
   "execution_count": 46,
   "metadata": {},
   "outputs": [
    {
     "data": {
      "image/png": "[encoded data removed]",
      "text/plain": [
       "<Figure size 2160x864 with 1 Axes>"
      ]
     },
     "metadata": {
      "needs_background": "light"
     },
     "output_type": "display_data"
    }
   ],
   "source": [
    "plt.figure(figsize=(30,12))\n",
    "sns.barplot(x=\"duration\",y=\"Price\",data=flight)\n",
    "plt.show()"
   ]
  },
  {
   "cell_type": "code",
   "execution_count": 47,
   "metadata": {},
   "outputs": [],
   "source": [
    "from sklearn.preprocessing import LabelEncoder\n",
    "le = LabelEncoder()\n",
    "encode = ['Airline','Source','Destination','Additional_Info','Route']\n",
    "for i in encode:\n",
    "    flight[i]=le.fit_transform(flight[i].astype(str))\n",
    "    flight_test[i]=le.fit_transform(flight_test[i].astype(str))"
   ]
  },
  {
   "cell_type": "code",
   "execution_count": 48,
   "metadata": {},
   "outputs": [
    {
     "data": {
      "text/plain": [
       "Airline            int32\n",
       "Source             int32\n",
       "Destination        int32\n",
       "Route              int32\n",
       "Total_Stops        int64\n",
       "Additional_Info    int32\n",
       "Price              int64\n",
       "Journey_Day        int64\n",
       "Journey_Month      int64\n",
       "Arrive_h           int64\n",
       "Arrive_min         int64\n",
       "Dep_h              int64\n",
       "Dep_min            int64\n",
       "duration           int64\n",
       "dtype: object"
      ]
     },
     "execution_count": 48,
     "metadata": {},
     "output_type": "execute_result"
    }
   ],
   "source": [
    "flight.dtypes"
   ]
  },
  {
   "cell_type": "code",
   "execution_count": 49,
   "metadata": {},
   "outputs": [
    {
     "data": {
      "text/plain": [
       "Airline            int32\n",
       "Source             int32\n",
       "Destination        int32\n",
       "Route              int32\n",
       "Total_Stops        int64\n",
       "Additional_Info    int32\n",
       "Journey_Day        int64\n",
       "Journey_Month      int64\n",
       "Arrive_h           int64\n",
       "Arrive_min         int64\n",
       "Dep_h              int64\n",
       "Dep_min            int64\n",
       "duration           int64\n",
       "dtype: object"
      ]
     },
     "execution_count": 49,
     "metadata": {},
     "output_type": "execute_result"
    }
   ],
   "source": [
    "flight_test.dtypes"
   ]
  },
  {
   "cell_type": "code",
   "execution_count": 52,
   "metadata": {},
   "outputs": [
    {
     "data": {
      "text/html": [
       "<div>\n",
       "<style scoped>\n",
       "    .dataframe tbody tr th:only-of-type {\n",
       "        vertical-align: middle;\n",
       "    }\n",
       "\n",
       "    .dataframe tbody tr th {\n",
       "        vertical-align: top;\n",
       "    }\n",
       "\n",
       "    .dataframe thead th {\n",
       "        text-align: right;\n",
       "    }\n",
       "</style>\n",
       "<table border=\"1\" class=\"dataframe\">\n",
       "  <thead>\n",
       "    <tr style=\"text-align: right;\">\n",
       "      <th></th>\n",
       "      <th>Airline</th>\n",
       "      <th>Source</th>\n",
       "      <th>Destination</th>\n",
       "      <th>Route</th>\n",
       "      <th>Total_Stops</th>\n",
       "      <th>Additional_Info</th>\n",
       "      <th>Price</th>\n",
       "      <th>Journey_Day</th>\n",
       "      <th>Journey_Month</th>\n",
       "      <th>Arrive_h</th>\n",
       "      <th>Arrive_min</th>\n",
       "      <th>Dep_h</th>\n",
       "      <th>Dep_min</th>\n",
       "      <th>duration</th>\n",
       "    </tr>\n",
       "  </thead>\n",
       "  <tbody>\n",
       "    <tr>\n",
       "      <th>0</th>\n",
       "      <td>3</td>\n",
       "      <td>0</td>\n",
       "      <td>5</td>\n",
       "      <td>18</td>\n",
       "      <td>0</td>\n",
       "      <td>8</td>\n",
       "      <td>3897</td>\n",
       "      <td>24</td>\n",
       "      <td>3</td>\n",
       "      <td>1</td>\n",
       "      <td>10</td>\n",
       "      <td>22</td>\n",
       "      <td>22</td>\n",
       "      <td>170</td>\n",
       "    </tr>\n",
       "    <tr>\n",
       "      <th>1</th>\n",
       "      <td>1</td>\n",
       "      <td>3</td>\n",
       "      <td>0</td>\n",
       "      <td>84</td>\n",
       "      <td>2</td>\n",
       "      <td>8</td>\n",
       "      <td>7662</td>\n",
       "      <td>1</td>\n",
       "      <td>5</td>\n",
       "      <td>13</td>\n",
       "      <td>15</td>\n",
       "      <td>5</td>\n",
       "      <td>5</td>\n",
       "      <td>445</td>\n",
       "    </tr>\n",
       "    <tr>\n",
       "      <th>2</th>\n",
       "      <td>4</td>\n",
       "      <td>2</td>\n",
       "      <td>1</td>\n",
       "      <td>118</td>\n",
       "      <td>2</td>\n",
       "      <td>8</td>\n",
       "      <td>13882</td>\n",
       "      <td>9</td>\n",
       "      <td>6</td>\n",
       "      <td>4</td>\n",
       "      <td>25</td>\n",
       "      <td>9</td>\n",
       "      <td>9</td>\n",
       "      <td>1140</td>\n",
       "    </tr>\n",
       "    <tr>\n",
       "      <th>3</th>\n",
       "      <td>3</td>\n",
       "      <td>3</td>\n",
       "      <td>0</td>\n",
       "      <td>91</td>\n",
       "      <td>1</td>\n",
       "      <td>8</td>\n",
       "      <td>6218</td>\n",
       "      <td>12</td>\n",
       "      <td>5</td>\n",
       "      <td>23</td>\n",
       "      <td>30</td>\n",
       "      <td>18</td>\n",
       "      <td>18</td>\n",
       "      <td>325</td>\n",
       "    </tr>\n",
       "    <tr>\n",
       "      <th>4</th>\n",
       "      <td>3</td>\n",
       "      <td>0</td>\n",
       "      <td>5</td>\n",
       "      <td>29</td>\n",
       "      <td>1</td>\n",
       "      <td>8</td>\n",
       "      <td>13302</td>\n",
       "      <td>1</td>\n",
       "      <td>3</td>\n",
       "      <td>21</td>\n",
       "      <td>35</td>\n",
       "      <td>16</td>\n",
       "      <td>16</td>\n",
       "      <td>285</td>\n",
       "    </tr>\n",
       "    <tr>\n",
       "      <th>...</th>\n",
       "      <td>...</td>\n",
       "      <td>...</td>\n",
       "      <td>...</td>\n",
       "      <td>...</td>\n",
       "      <td>...</td>\n",
       "      <td>...</td>\n",
       "      <td>...</td>\n",
       "      <td>...</td>\n",
       "      <td>...</td>\n",
       "      <td>...</td>\n",
       "      <td>...</td>\n",
       "      <td>...</td>\n",
       "      <td>...</td>\n",
       "      <td>...</td>\n",
       "    </tr>\n",
       "    <tr>\n",
       "      <th>10678</th>\n",
       "      <td>0</td>\n",
       "      <td>3</td>\n",
       "      <td>0</td>\n",
       "      <td>64</td>\n",
       "      <td>0</td>\n",
       "      <td>8</td>\n",
       "      <td>4107</td>\n",
       "      <td>9</td>\n",
       "      <td>4</td>\n",
       "      <td>22</td>\n",
       "      <td>25</td>\n",
       "      <td>19</td>\n",
       "      <td>19</td>\n",
       "      <td>150</td>\n",
       "    </tr>\n",
       "    <tr>\n",
       "      <th>10679</th>\n",
       "      <td>1</td>\n",
       "      <td>3</td>\n",
       "      <td>0</td>\n",
       "      <td>64</td>\n",
       "      <td>0</td>\n",
       "      <td>8</td>\n",
       "      <td>4145</td>\n",
       "      <td>27</td>\n",
       "      <td>4</td>\n",
       "      <td>23</td>\n",
       "      <td>20</td>\n",
       "      <td>20</td>\n",
       "      <td>20</td>\n",
       "      <td>155</td>\n",
       "    </tr>\n",
       "    <tr>\n",
       "      <th>10680</th>\n",
       "      <td>4</td>\n",
       "      <td>0</td>\n",
       "      <td>2</td>\n",
       "      <td>18</td>\n",
       "      <td>0</td>\n",
       "      <td>8</td>\n",
       "      <td>7229</td>\n",
       "      <td>27</td>\n",
       "      <td>4</td>\n",
       "      <td>11</td>\n",
       "      <td>20</td>\n",
       "      <td>8</td>\n",
       "      <td>8</td>\n",
       "      <td>180</td>\n",
       "    </tr>\n",
       "    <tr>\n",
       "      <th>10681</th>\n",
       "      <td>10</td>\n",
       "      <td>0</td>\n",
       "      <td>5</td>\n",
       "      <td>18</td>\n",
       "      <td>0</td>\n",
       "      <td>8</td>\n",
       "      <td>12648</td>\n",
       "      <td>1</td>\n",
       "      <td>3</td>\n",
       "      <td>14</td>\n",
       "      <td>10</td>\n",
       "      <td>11</td>\n",
       "      <td>11</td>\n",
       "      <td>160</td>\n",
       "    </tr>\n",
       "    <tr>\n",
       "      <th>10682</th>\n",
       "      <td>1</td>\n",
       "      <td>2</td>\n",
       "      <td>1</td>\n",
       "      <td>108</td>\n",
       "      <td>2</td>\n",
       "      <td>8</td>\n",
       "      <td>11753</td>\n",
       "      <td>9</td>\n",
       "      <td>5</td>\n",
       "      <td>19</td>\n",
       "      <td>15</td>\n",
       "      <td>10</td>\n",
       "      <td>10</td>\n",
       "      <td>500</td>\n",
       "    </tr>\n",
       "  </tbody>\n",
       "</table>\n",
       "<p>10682 rows × 14 columns</p>\n",
       "</div>"
      ],
      "text/plain": [
       "       Airline  Source  Destination  Route  Total_Stops  Additional_Info  \\\n",
       "0            3       0            5     18            0                8   \n",
       "1            1       3            0     84            2                8   \n",
       "2            4       2            1    118            2                8   \n",
       "3            3       3            0     91            1                8   \n",
       "4            3       0            5     29            1                8   \n",
       "...        ...     ...          ...    ...          ...              ...   \n",
       "10678        0       3            0     64            0                8   \n",
       "10679        1       3            0     64            0                8   \n",
       "10680        4       0            2     18            0                8   \n",
       "10681       10       0            5     18            0                8   \n",
       "10682        1       2            1    108            2                8   \n",
       "\n",
       "       Price  Journey_Day  Journey_Month  Arrive_h  Arrive_min  Dep_h  \\\n",
       "0       3897           24              3         1          10     22   \n",
       "1       7662            1              5        13          15      5   \n",
       "2      13882            9              6         4          25      9   \n",
       "3       6218           12              5        23          30     18   \n",
       "4      13302            1              3        21          35     16   \n",
       "...      ...          ...            ...       ...         ...    ...   \n",
       "10678   4107            9              4        22          25     19   \n",
       "10679   4145           27              4        23          20     20   \n",
       "10680   7229           27              4        11          20      8   \n",
       "10681  12648            1              3        14          10     11   \n",
       "10682  11753            9              5        19          15     10   \n",
       "\n",
       "       Dep_min  duration  \n",
       "0           22       170  \n",
       "1            5       445  \n",
       "2            9      1140  \n",
       "3           18       325  \n",
       "4           16       285  \n",
       "...        ...       ...  \n",
       "10678       19       150  \n",
       "10679       20       155  \n",
       "10680        8       180  \n",
       "10681       11       160  \n",
       "10682       10       500  \n",
       "\n",
       "[10682 rows x 14 columns]"
      ]
     },
     "execution_count": 52,
     "metadata": {},
     "output_type": "execute_result"
    }
   ],
   "source": [
    "flight # additionaLInfo is not important variable can be dropped from both"
   ]
  },
  {
   "cell_type": "code",
   "execution_count": 51,
   "metadata": {},
   "outputs": [
    {
     "data": {
      "text/html": [
       "<div>\n",
       "<style scoped>\n",
       "    .dataframe tbody tr th:only-of-type {\n",
       "        vertical-align: middle;\n",
       "    }\n",
       "\n",
       "    .dataframe tbody tr th {\n",
       "        vertical-align: top;\n",
       "    }\n",
       "\n",
       "    .dataframe thead th {\n",
       "        text-align: right;\n",
       "    }\n",
       "</style>\n",
       "<table border=\"1\" class=\"dataframe\">\n",
       "  <thead>\n",
       "    <tr style=\"text-align: right;\">\n",
       "      <th></th>\n",
       "      <th>Airline</th>\n",
       "      <th>Source</th>\n",
       "      <th>Destination</th>\n",
       "      <th>Route</th>\n",
       "      <th>Total_Stops</th>\n",
       "      <th>Additional_Info</th>\n",
       "      <th>Journey_Day</th>\n",
       "      <th>Journey_Month</th>\n",
       "      <th>Arrive_h</th>\n",
       "      <th>Arrive_min</th>\n",
       "      <th>Dep_h</th>\n",
       "      <th>Dep_min</th>\n",
       "      <th>duration</th>\n",
       "    </tr>\n",
       "  </thead>\n",
       "  <tbody>\n",
       "    <tr>\n",
       "      <th>0</th>\n",
       "      <td>4</td>\n",
       "      <td>2</td>\n",
       "      <td>1</td>\n",
       "      <td>76</td>\n",
       "      <td>1</td>\n",
       "      <td>5</td>\n",
       "      <td>24</td>\n",
       "      <td>3</td>\n",
       "      <td>1</td>\n",
       "      <td>10</td>\n",
       "      <td>22</td>\n",
       "      <td>22</td>\n",
       "      <td>655</td>\n",
       "    </tr>\n",
       "    <tr>\n",
       "      <th>1</th>\n",
       "      <td>3</td>\n",
       "      <td>3</td>\n",
       "      <td>0</td>\n",
       "      <td>65</td>\n",
       "      <td>1</td>\n",
       "      <td>5</td>\n",
       "      <td>1</td>\n",
       "      <td>5</td>\n",
       "      <td>13</td>\n",
       "      <td>15</td>\n",
       "      <td>5</td>\n",
       "      <td>5</td>\n",
       "      <td>240</td>\n",
       "    </tr>\n",
       "    <tr>\n",
       "      <th>2</th>\n",
       "      <td>4</td>\n",
       "      <td>2</td>\n",
       "      <td>1</td>\n",
       "      <td>76</td>\n",
       "      <td>1</td>\n",
       "      <td>3</td>\n",
       "      <td>9</td>\n",
       "      <td>6</td>\n",
       "      <td>4</td>\n",
       "      <td>25</td>\n",
       "      <td>9</td>\n",
       "      <td>9</td>\n",
       "      <td>1425</td>\n",
       "    </tr>\n",
       "    <tr>\n",
       "      <th>3</th>\n",
       "      <td>6</td>\n",
       "      <td>2</td>\n",
       "      <td>1</td>\n",
       "      <td>76</td>\n",
       "      <td>1</td>\n",
       "      <td>5</td>\n",
       "      <td>12</td>\n",
       "      <td>5</td>\n",
       "      <td>23</td>\n",
       "      <td>30</td>\n",
       "      <td>18</td>\n",
       "      <td>18</td>\n",
       "      <td>780</td>\n",
       "    </tr>\n",
       "    <tr>\n",
       "      <th>4</th>\n",
       "      <td>0</td>\n",
       "      <td>0</td>\n",
       "      <td>2</td>\n",
       "      <td>16</td>\n",
       "      <td>0</td>\n",
       "      <td>5</td>\n",
       "      <td>1</td>\n",
       "      <td>3</td>\n",
       "      <td>21</td>\n",
       "      <td>35</td>\n",
       "      <td>16</td>\n",
       "      <td>16</td>\n",
       "      <td>170</td>\n",
       "    </tr>\n",
       "    <tr>\n",
       "      <th>...</th>\n",
       "      <td>...</td>\n",
       "      <td>...</td>\n",
       "      <td>...</td>\n",
       "      <td>...</td>\n",
       "      <td>...</td>\n",
       "      <td>...</td>\n",
       "      <td>...</td>\n",
       "      <td>...</td>\n",
       "      <td>...</td>\n",
       "      <td>...</td>\n",
       "      <td>...</td>\n",
       "      <td>...</td>\n",
       "      <td>...</td>\n",
       "    </tr>\n",
       "    <tr>\n",
       "      <th>2666</th>\n",
       "      <td>1</td>\n",
       "      <td>3</td>\n",
       "      <td>0</td>\n",
       "      <td>51</td>\n",
       "      <td>1</td>\n",
       "      <td>5</td>\n",
       "      <td>1</td>\n",
       "      <td>3</td>\n",
       "      <td>9</td>\n",
       "      <td>15</td>\n",
       "      <td>5</td>\n",
       "      <td>5</td>\n",
       "      <td>1435</td>\n",
       "    </tr>\n",
       "    <tr>\n",
       "      <th>2667</th>\n",
       "      <td>3</td>\n",
       "      <td>3</td>\n",
       "      <td>0</td>\n",
       "      <td>43</td>\n",
       "      <td>0</td>\n",
       "      <td>5</td>\n",
       "      <td>1</td>\n",
       "      <td>5</td>\n",
       "      <td>22</td>\n",
       "      <td>55</td>\n",
       "      <td>20</td>\n",
       "      <td>20</td>\n",
       "      <td>155</td>\n",
       "    </tr>\n",
       "    <tr>\n",
       "      <th>2668</th>\n",
       "      <td>4</td>\n",
       "      <td>2</td>\n",
       "      <td>1</td>\n",
       "      <td>76</td>\n",
       "      <td>1</td>\n",
       "      <td>5</td>\n",
       "      <td>12</td>\n",
       "      <td>5</td>\n",
       "      <td>5</td>\n",
       "      <td>35</td>\n",
       "      <td>9</td>\n",
       "      <td>9</td>\n",
       "      <td>395</td>\n",
       "    </tr>\n",
       "    <tr>\n",
       "      <th>2669</th>\n",
       "      <td>1</td>\n",
       "      <td>2</td>\n",
       "      <td>1</td>\n",
       "      <td>76</td>\n",
       "      <td>1</td>\n",
       "      <td>5</td>\n",
       "      <td>18</td>\n",
       "      <td>6</td>\n",
       "      <td>3</td>\n",
       "      <td>15</td>\n",
       "      <td>0</td>\n",
       "      <td>0</td>\n",
       "      <td>915</td>\n",
       "    </tr>\n",
       "    <tr>\n",
       "      <th>2670</th>\n",
       "      <td>6</td>\n",
       "      <td>2</td>\n",
       "      <td>1</td>\n",
       "      <td>76</td>\n",
       "      <td>1</td>\n",
       "      <td>5</td>\n",
       "      <td>21</td>\n",
       "      <td>5</td>\n",
       "      <td>12</td>\n",
       "      <td>10</td>\n",
       "      <td>6</td>\n",
       "      <td>6</td>\n",
       "      <td>860</td>\n",
       "    </tr>\n",
       "  </tbody>\n",
       "</table>\n",
       "<p>2671 rows × 13 columns</p>\n",
       "</div>"
      ],
      "text/plain": [
       "      Airline  Source  Destination  Route  Total_Stops  Additional_Info  \\\n",
       "0           4       2            1     76            1                5   \n",
       "1           3       3            0     65            1                5   \n",
       "2           4       2            1     76            1                3   \n",
       "3           6       2            1     76            1                5   \n",
       "4           0       0            2     16            0                5   \n",
       "...       ...     ...          ...    ...          ...              ...   \n",
       "2666        1       3            0     51            1                5   \n",
       "2667        3       3            0     43            0                5   \n",
       "2668        4       2            1     76            1                5   \n",
       "2669        1       2            1     76            1                5   \n",
       "2670        6       2            1     76            1                5   \n",
       "\n",
       "      Journey_Day  Journey_Month  Arrive_h  Arrive_min  Dep_h  Dep_min  \\\n",
       "0              24              3         1          10     22       22   \n",
       "1               1              5        13          15      5        5   \n",
       "2               9              6         4          25      9        9   \n",
       "3              12              5        23          30     18       18   \n",
       "4               1              3        21          35     16       16   \n",
       "...           ...            ...       ...         ...    ...      ...   \n",
       "2666            1              3         9          15      5        5   \n",
       "2667            1              5        22          55     20       20   \n",
       "2668           12              5         5          35      9        9   \n",
       "2669           18              6         3          15      0        0   \n",
       "2670           21              5        12          10      6        6   \n",
       "\n",
       "      duration  \n",
       "0          655  \n",
       "1          240  \n",
       "2         1425  \n",
       "3          780  \n",
       "4          170  \n",
       "...        ...  \n",
       "2666      1435  \n",
       "2667       155  \n",
       "2668       395  \n",
       "2669       915  \n",
       "2670       860  \n",
       "\n",
       "[2671 rows x 13 columns]"
      ]
     },
     "execution_count": 51,
     "metadata": {},
     "output_type": "execute_result"
    }
   ],
   "source": [
    "flight_test"
   ]
  },
  {
   "cell_type": "code",
   "execution_count": 53,
   "metadata": {},
   "outputs": [],
   "source": [
    "flight.drop([\"Additional_Info\"],axis=1,inplace=True)\n",
    "flight_test.drop([\"Additional_Info\"],axis=1,inplace=True)"
   ]
  },
  {
   "cell_type": "code",
   "execution_count": 54,
   "metadata": {},
   "outputs": [
    {
     "data": {
      "image/png": "[encoded data removed]",
      "text/plain": [
       "<Figure size 1296x1296 with 2 Axes>"
      ]
     },
     "metadata": {
      "needs_background": "light"
     },
     "output_type": "display_data"
    }
   ],
   "source": [
    "plt.figure(figsize=(18,18))\n",
    "sns.heatmap(flight.corr(),annot= True)   # not much correlaton among varaibles observed\n",
    "plt.show()"
   ]
  },
  {
   "cell_type": "code",
   "execution_count": 56,
   "metadata": {},
   "outputs": [
    {
     "data": {
      "image/png": "[encoded data removed]",
      "text/plain": [
       "<Figure size 1296x1296 with 2 Axes>"
      ]
     },
     "metadata": {
      "needs_background": "light"
     },
     "output_type": "display_data"
    }
   ],
   "source": [
    "plt.figure(figsize=(18,18))\n",
    "sns.heatmap(flight_test.corr(),annot= True)   #same here \n",
    "plt.show()"
   ]
  },
  {
   "cell_type": "code",
   "execution_count": 64,
   "metadata": {},
   "outputs": [],
   "source": [
    "x= flight.drop('Price',axis=1)\n",
    "y=flight['Price']\n",
    "df_x= flight.drop('Price',axis=1)"
   ]
  },
  {
   "cell_type": "code",
   "execution_count": 65,
   "metadata": {},
   "outputs": [
    {
     "data": {
      "text/html": [
       "<div>\n",
       "<style scoped>\n",
       "    .dataframe tbody tr th:only-of-type {\n",
       "        vertical-align: middle;\n",
       "    }\n",
       "\n",
       "    .dataframe tbody tr th {\n",
       "        vertical-align: top;\n",
       "    }\n",
       "\n",
       "    .dataframe thead th {\n",
       "        text-align: right;\n",
       "    }\n",
       "</style>\n",
       "<table border=\"1\" class=\"dataframe\">\n",
       "  <thead>\n",
       "    <tr style=\"text-align: right;\">\n",
       "      <th></th>\n",
       "      <th>Airline</th>\n",
       "      <th>Source</th>\n",
       "      <th>Destination</th>\n",
       "      <th>Route</th>\n",
       "      <th>Total_Stops</th>\n",
       "      <th>Journey_Day</th>\n",
       "      <th>Journey_Month</th>\n",
       "      <th>Arrive_h</th>\n",
       "      <th>Arrive_min</th>\n",
       "      <th>Dep_h</th>\n",
       "      <th>Dep_min</th>\n",
       "      <th>duration</th>\n",
       "    </tr>\n",
       "  </thead>\n",
       "  <tbody>\n",
       "    <tr>\n",
       "      <th>0</th>\n",
       "      <td>3</td>\n",
       "      <td>0</td>\n",
       "      <td>5</td>\n",
       "      <td>18</td>\n",
       "      <td>0</td>\n",
       "      <td>24</td>\n",
       "      <td>3</td>\n",
       "      <td>1</td>\n",
       "      <td>10</td>\n",
       "      <td>22</td>\n",
       "      <td>22</td>\n",
       "      <td>170</td>\n",
       "    </tr>\n",
       "    <tr>\n",
       "      <th>1</th>\n",
       "      <td>1</td>\n",
       "      <td>3</td>\n",
       "      <td>0</td>\n",
       "      <td>84</td>\n",
       "      <td>2</td>\n",
       "      <td>1</td>\n",
       "      <td>5</td>\n",
       "      <td>13</td>\n",
       "      <td>15</td>\n",
       "      <td>5</td>\n",
       "      <td>5</td>\n",
       "      <td>445</td>\n",
       "    </tr>\n",
       "    <tr>\n",
       "      <th>2</th>\n",
       "      <td>4</td>\n",
       "      <td>2</td>\n",
       "      <td>1</td>\n",
       "      <td>118</td>\n",
       "      <td>2</td>\n",
       "      <td>9</td>\n",
       "      <td>6</td>\n",
       "      <td>4</td>\n",
       "      <td>25</td>\n",
       "      <td>9</td>\n",
       "      <td>9</td>\n",
       "      <td>1140</td>\n",
       "    </tr>\n",
       "    <tr>\n",
       "      <th>3</th>\n",
       "      <td>3</td>\n",
       "      <td>3</td>\n",
       "      <td>0</td>\n",
       "      <td>91</td>\n",
       "      <td>1</td>\n",
       "      <td>12</td>\n",
       "      <td>5</td>\n",
       "      <td>23</td>\n",
       "      <td>30</td>\n",
       "      <td>18</td>\n",
       "      <td>18</td>\n",
       "      <td>325</td>\n",
       "    </tr>\n",
       "    <tr>\n",
       "      <th>4</th>\n",
       "      <td>3</td>\n",
       "      <td>0</td>\n",
       "      <td>5</td>\n",
       "      <td>29</td>\n",
       "      <td>1</td>\n",
       "      <td>1</td>\n",
       "      <td>3</td>\n",
       "      <td>21</td>\n",
       "      <td>35</td>\n",
       "      <td>16</td>\n",
       "      <td>16</td>\n",
       "      <td>285</td>\n",
       "    </tr>\n",
       "  </tbody>\n",
       "</table>\n",
       "</div>"
      ],
      "text/plain": [
       "   Airline  Source  Destination  Route  Total_Stops  Journey_Day  \\\n",
       "0        3       0            5     18            0           24   \n",
       "1        1       3            0     84            2            1   \n",
       "2        4       2            1    118            2            9   \n",
       "3        3       3            0     91            1           12   \n",
       "4        3       0            5     29            1            1   \n",
       "\n",
       "   Journey_Month  Arrive_h  Arrive_min  Dep_h  Dep_min  duration  \n",
       "0              3         1          10     22       22       170  \n",
       "1              5        13          15      5        5       445  \n",
       "2              6         4          25      9        9      1140  \n",
       "3              5        23          30     18       18       325  \n",
       "4              3        21          35     16       16       285  "
      ]
     },
     "execution_count": 65,
     "metadata": {},
     "output_type": "execute_result"
    }
   ],
   "source": [
    "x.head()"
   ]
  },
  {
   "cell_type": "code",
   "execution_count": 66,
   "metadata": {},
   "outputs": [
    {
     "data": {
      "text/plain": [
       "0         3897\n",
       "1         7662\n",
       "2        13882\n",
       "3         6218\n",
       "4        13302\n",
       "         ...  \n",
       "10678     4107\n",
       "10679     4145\n",
       "10680     7229\n",
       "10681    12648\n",
       "10682    11753\n",
       "Name: Price, Length: 10682, dtype: int64"
      ]
     },
     "execution_count": 66,
     "metadata": {},
     "output_type": "execute_result"
    }
   ],
   "source": [
    "y"
   ]
  },
  {
   "cell_type": "code",
   "execution_count": 67,
   "metadata": {},
   "outputs": [
    {
     "data": {
      "text/plain": [
       "Airline          0.731057\n",
       "Source          -0.424023\n",
       "Destination      1.244046\n",
       "Route           -0.501911\n",
       "Total_Stops      0.317109\n",
       "Journey_Day      0.118174\n",
       "Journey_Month   -0.387409\n",
       "Arrive_h        -0.370146\n",
       "Arrive_min       0.110945\n",
       "Dep_h            0.112924\n",
       "Dep_min          0.112924\n",
       "duration         0.861411\n",
       "dtype: float64"
      ]
     },
     "execution_count": 67,
     "metadata": {},
     "output_type": "execute_result"
    }
   ],
   "source": [
    "x.skew()"
   ]
  },
  {
   "cell_type": "code",
   "execution_count": 68,
   "metadata": {},
   "outputs": [
    {
     "data": {
      "text/plain": [
       "{'alpha': 0.1}"
      ]
     },
     "execution_count": 68,
     "metadata": {},
     "output_type": "execute_result"
    }
   ],
   "source": [
    "from sklearn.model_selection import GridSearchCV\n",
    "from sklearn.linear_model import Lasso,Ridge\n",
    "ls = Lasso()\n",
    "parameters = {\"alpha\":[0.0001,0.001,0.01,0.1]}\n",
    "clf= GridSearchCV(ls,parameters,cv=10)\n",
    "clf.fit(x,y)\n",
    "clf.best_params_"
   ]
  },
  {
   "cell_type": "code",
   "execution_count": 69,
   "metadata": {},
   "outputs": [
    {
     "data": {
      "text/plain": [
       "{'alpha': 0.1}"
      ]
     },
     "execution_count": 69,
     "metadata": {},
     "output_type": "execute_result"
    }
   ],
   "source": [
    "from sklearn.model_selection import GridSearchCV\n",
    "from sklearn.linear_model import Lasso,Ridge\n",
    "ls = Lasso()\n",
    "parameters = {\"alpha\":[0.0001,0.001,0.01,0.1]}\n",
    "clf= GridSearchCV(ls,parameters,cv=10)\n",
    "clf.fit(x,y)\n",
    "clf.best_params_"
   ]
  },
  {
   "cell_type": "code",
   "execution_count": 70,
   "metadata": {},
   "outputs": [
    {
     "data": {
      "text/plain": [
       "{'n_neighbors': 3}"
      ]
     },
     "execution_count": 70,
     "metadata": {},
     "output_type": "execute_result"
    }
   ],
   "source": [
    "from sklearn.neighbors import KNeighborsRegressor\n",
    "neighbors={'n_neighbors':range(1,20)}\n",
    "knr = KNeighborsRegressor()\n",
    "gknr = GridSearchCV(knr,neighbors,cv=5)\n",
    "gknr.fit(x,y)\n",
    "gknr.best_params_"
   ]
  },
  {
   "cell_type": "code",
   "execution_count": 71,
   "metadata": {},
   "outputs": [],
   "source": [
    "lr = LinearRegression()\n",
    "ls=Lasso(alpha=0.1)\n",
    "rg = Ridge(alpha=0.1)\n",
    "knr= KNeighborsRegressor(n_neighbors=3)"
   ]
  },
  {
   "cell_type": "code",
   "execution_count": 75,
   "metadata": {},
   "outputs": [],
   "source": [
    "def maxr2_score(regr,x,y):\n",
    "    max_r_score = 0 \n",
    "    for r_state in range(42,100):\n",
    "        x_train,x_test,y_train,y_test = train_test_split(x,y,test_size=0.1,random_state=r_state)\n",
    "        regr.fit(x_train,y_train)\n",
    "        y_pred = regr.predict(x_test)\n",
    "        r2_scr = r2_score(y_test,y_pred)\n",
    "        print(\"r2 score corresponding to \",r_state,\"is\",r2_score)\n",
    "        if r2_scr>max_r_score:\n",
    "            max_r_score = r2_scr\n",
    "            final_r_state=r_state\n",
    "    print(\"max r2 score corresponding to \",final_r_state,\"is\",max_r_score)\n",
    "    return final_r_state"
   ]
  },
  {
   "cell_type": "code",
   "execution_count": 76,
   "metadata": {},
   "outputs": [
    {
     "name": "stdout",
     "output_type": "stream",
     "text": [
      "r2 score corresponding to  42 is <function r2_score at 0x000002679F9CCA68>\n",
      "r2 score corresponding to  43 is <function r2_score at 0x000002679F9CCA68>\n",
      "r2 score corresponding to  44 is <function r2_score at 0x000002679F9CCA68>\n",
      "r2 score corresponding to  45 is <function r2_score at 0x000002679F9CCA68>\n",
      "r2 score corresponding to  46 is <function r2_score at 0x000002679F9CCA68>\n",
      "r2 score corresponding to  47 is <function r2_score at 0x000002679F9CCA68>\n",
      "r2 score corresponding to  48 is <function r2_score at 0x000002679F9CCA68>\n",
      "r2 score corresponding to  49 is <function r2_score at 0x000002679F9CCA68>\n",
      "r2 score corresponding to  50 is <function r2_score at 0x000002679F9CCA68>\n",
      "r2 score corresponding to  51 is <function r2_score at 0x000002679F9CCA68>\n",
      "r2 score corresponding to  52 is <function r2_score at 0x000002679F9CCA68>\n",
      "r2 score corresponding to  53 is <function r2_score at 0x000002679F9CCA68>\n",
      "r2 score corresponding to  54 is <function r2_score at 0x000002679F9CCA68>\n",
      "r2 score corresponding to  55 is <function r2_score at 0x000002679F9CCA68>\n",
      "r2 score corresponding to  56 is <function r2_score at 0x000002679F9CCA68>\n",
      "r2 score corresponding to  57 is <function r2_score at 0x000002679F9CCA68>\n",
      "r2 score corresponding to  58 is <function r2_score at 0x000002679F9CCA68>\n",
      "r2 score corresponding to  59 is <function r2_score at 0x000002679F9CCA68>\n",
      "r2 score corresponding to  60 is <function r2_score at 0x000002679F9CCA68>\n",
      "r2 score corresponding to  61 is <function r2_score at 0x000002679F9CCA68>\n",
      "r2 score corresponding to  62 is <function r2_score at 0x000002679F9CCA68>\n",
      "r2 score corresponding to  63 is <function r2_score at 0x000002679F9CCA68>\n",
      "r2 score corresponding to  64 is <function r2_score at 0x000002679F9CCA68>\n",
      "r2 score corresponding to  65 is <function r2_score at 0x000002679F9CCA68>\n",
      "r2 score corresponding to  66 is <function r2_score at 0x000002679F9CCA68>\n",
      "r2 score corresponding to  67 is <function r2_score at 0x000002679F9CCA68>\n",
      "r2 score corresponding to  68 is <function r2_score at 0x000002679F9CCA68>\n",
      "r2 score corresponding to  69 is <function r2_score at 0x000002679F9CCA68>\n",
      "r2 score corresponding to  70 is <function r2_score at 0x000002679F9CCA68>\n",
      "r2 score corresponding to  71 is <function r2_score at 0x000002679F9CCA68>\n",
      "r2 score corresponding to  72 is <function r2_score at 0x000002679F9CCA68>\n",
      "r2 score corresponding to  73 is <function r2_score at 0x000002679F9CCA68>\n",
      "r2 score corresponding to  74 is <function r2_score at 0x000002679F9CCA68>\n",
      "r2 score corresponding to  75 is <function r2_score at 0x000002679F9CCA68>\n",
      "r2 score corresponding to  76 is <function r2_score at 0x000002679F9CCA68>\n",
      "r2 score corresponding to  77 is <function r2_score at 0x000002679F9CCA68>\n",
      "r2 score corresponding to  78 is <function r2_score at 0x000002679F9CCA68>\n",
      "r2 score corresponding to  79 is <function r2_score at 0x000002679F9CCA68>\n",
      "r2 score corresponding to  80 is <function r2_score at 0x000002679F9CCA68>\n",
      "r2 score corresponding to  81 is <function r2_score at 0x000002679F9CCA68>\n",
      "r2 score corresponding to  82 is <function r2_score at 0x000002679F9CCA68>\n",
      "r2 score corresponding to  83 is <function r2_score at 0x000002679F9CCA68>\n",
      "r2 score corresponding to  84 is <function r2_score at 0x000002679F9CCA68>\n",
      "r2 score corresponding to  85 is <function r2_score at 0x000002679F9CCA68>\n",
      "r2 score corresponding to  86 is <function r2_score at 0x000002679F9CCA68>\n",
      "r2 score corresponding to  87 is <function r2_score at 0x000002679F9CCA68>\n",
      "r2 score corresponding to  88 is <function r2_score at 0x000002679F9CCA68>\n",
      "r2 score corresponding to  89 is <function r2_score at 0x000002679F9CCA68>\n",
      "r2 score corresponding to  90 is <function r2_score at 0x000002679F9CCA68>\n",
      "r2 score corresponding to  91 is <function r2_score at 0x000002679F9CCA68>\n",
      "r2 score corresponding to  92 is <function r2_score at 0x000002679F9CCA68>\n",
      "r2 score corresponding to  93 is <function r2_score at 0x000002679F9CCA68>\n",
      "r2 score corresponding to  94 is <function r2_score at 0x000002679F9CCA68>\n",
      "r2 score corresponding to  95 is <function r2_score at 0x000002679F9CCA68>\n",
      "r2 score corresponding to  96 is <function r2_score at 0x000002679F9CCA68>\n",
      "r2 score corresponding to  97 is <function r2_score at 0x000002679F9CCA68>\n",
      "r2 score corresponding to  98 is <function r2_score at 0x000002679F9CCA68>\n",
      "r2 score corresponding to  99 is <function r2_score at 0x000002679F9CCA68>\n",
      "max r2 score corresponding to  64 is 0.47390579632876173\n"
     ]
    }
   ],
   "source": [
    "r_state= maxr2_score(lr,x,y)"
   ]
  },
  {
   "cell_type": "code",
   "execution_count": 77,
   "metadata": {},
   "outputs": [
    {
     "name": "stdout",
     "output_type": "stream",
     "text": [
      "r2 score corresponding to  42 is <function r2_score at 0x000002679F9CCA68>\n",
      "r2 score corresponding to  43 is <function r2_score at 0x000002679F9CCA68>\n",
      "r2 score corresponding to  44 is <function r2_score at 0x000002679F9CCA68>\n",
      "r2 score corresponding to  45 is <function r2_score at 0x000002679F9CCA68>\n",
      "r2 score corresponding to  46 is <function r2_score at 0x000002679F9CCA68>\n",
      "r2 score corresponding to  47 is <function r2_score at 0x000002679F9CCA68>\n",
      "r2 score corresponding to  48 is <function r2_score at 0x000002679F9CCA68>\n",
      "r2 score corresponding to  49 is <function r2_score at 0x000002679F9CCA68>\n",
      "r2 score corresponding to  50 is <function r2_score at 0x000002679F9CCA68>\n",
      "r2 score corresponding to  51 is <function r2_score at 0x000002679F9CCA68>\n",
      "r2 score corresponding to  52 is <function r2_score at 0x000002679F9CCA68>\n",
      "r2 score corresponding to  53 is <function r2_score at 0x000002679F9CCA68>\n",
      "r2 score corresponding to  54 is <function r2_score at 0x000002679F9CCA68>\n",
      "r2 score corresponding to  55 is <function r2_score at 0x000002679F9CCA68>\n",
      "r2 score corresponding to  56 is <function r2_score at 0x000002679F9CCA68>\n",
      "r2 score corresponding to  57 is <function r2_score at 0x000002679F9CCA68>\n",
      "r2 score corresponding to  58 is <function r2_score at 0x000002679F9CCA68>\n",
      "r2 score corresponding to  59 is <function r2_score at 0x000002679F9CCA68>\n",
      "r2 score corresponding to  60 is <function r2_score at 0x000002679F9CCA68>\n",
      "r2 score corresponding to  61 is <function r2_score at 0x000002679F9CCA68>\n",
      "r2 score corresponding to  62 is <function r2_score at 0x000002679F9CCA68>\n",
      "r2 score corresponding to  63 is <function r2_score at 0x000002679F9CCA68>\n",
      "r2 score corresponding to  64 is <function r2_score at 0x000002679F9CCA68>\n",
      "r2 score corresponding to  65 is <function r2_score at 0x000002679F9CCA68>\n",
      "r2 score corresponding to  66 is <function r2_score at 0x000002679F9CCA68>\n",
      "r2 score corresponding to  67 is <function r2_score at 0x000002679F9CCA68>\n",
      "r2 score corresponding to  68 is <function r2_score at 0x000002679F9CCA68>\n",
      "r2 score corresponding to  69 is <function r2_score at 0x000002679F9CCA68>\n",
      "r2 score corresponding to  70 is <function r2_score at 0x000002679F9CCA68>\n",
      "r2 score corresponding to  71 is <function r2_score at 0x000002679F9CCA68>\n",
      "r2 score corresponding to  72 is <function r2_score at 0x000002679F9CCA68>\n",
      "r2 score corresponding to  73 is <function r2_score at 0x000002679F9CCA68>\n",
      "r2 score corresponding to  74 is <function r2_score at 0x000002679F9CCA68>\n",
      "r2 score corresponding to  75 is <function r2_score at 0x000002679F9CCA68>\n",
      "r2 score corresponding to  76 is <function r2_score at 0x000002679F9CCA68>\n",
      "r2 score corresponding to  77 is <function r2_score at 0x000002679F9CCA68>\n",
      "r2 score corresponding to  78 is <function r2_score at 0x000002679F9CCA68>\n",
      "r2 score corresponding to  79 is <function r2_score at 0x000002679F9CCA68>\n",
      "r2 score corresponding to  80 is <function r2_score at 0x000002679F9CCA68>\n",
      "r2 score corresponding to  81 is <function r2_score at 0x000002679F9CCA68>\n",
      "r2 score corresponding to  82 is <function r2_score at 0x000002679F9CCA68>\n",
      "r2 score corresponding to  83 is <function r2_score at 0x000002679F9CCA68>\n",
      "r2 score corresponding to  84 is <function r2_score at 0x000002679F9CCA68>\n",
      "r2 score corresponding to  85 is <function r2_score at 0x000002679F9CCA68>\n",
      "r2 score corresponding to  86 is <function r2_score at 0x000002679F9CCA68>\n",
      "r2 score corresponding to  87 is <function r2_score at 0x000002679F9CCA68>\n",
      "r2 score corresponding to  88 is <function r2_score at 0x000002679F9CCA68>\n",
      "r2 score corresponding to  89 is <function r2_score at 0x000002679F9CCA68>\n",
      "r2 score corresponding to  90 is <function r2_score at 0x000002679F9CCA68>\n",
      "r2 score corresponding to  91 is <function r2_score at 0x000002679F9CCA68>\n",
      "r2 score corresponding to  92 is <function r2_score at 0x000002679F9CCA68>\n",
      "r2 score corresponding to  93 is <function r2_score at 0x000002679F9CCA68>\n",
      "r2 score corresponding to  94 is <function r2_score at 0x000002679F9CCA68>\n",
      "r2 score corresponding to  95 is <function r2_score at 0x000002679F9CCA68>\n",
      "r2 score corresponding to  96 is <function r2_score at 0x000002679F9CCA68>\n",
      "r2 score corresponding to  97 is <function r2_score at 0x000002679F9CCA68>\n",
      "r2 score corresponding to  98 is <function r2_score at 0x000002679F9CCA68>\n",
      "r2 score corresponding to  99 is <function r2_score at 0x000002679F9CCA68>\n",
      "max r2 score corresponding to  99 is 0.5986823557531067\n"
     ]
    }
   ],
   "source": [
    "r_state= maxr2_score(knr,x,y)"
   ]
  },
  {
   "cell_type": "code",
   "execution_count": 78,
   "metadata": {},
   "outputs": [
    {
     "name": "stdout",
     "output_type": "stream",
     "text": [
      "r2 score corresponding to  42 is <function r2_score at 0x000002679F9CCA68>\n",
      "r2 score corresponding to  43 is <function r2_score at 0x000002679F9CCA68>\n",
      "r2 score corresponding to  44 is <function r2_score at 0x000002679F9CCA68>\n",
      "r2 score corresponding to  45 is <function r2_score at 0x000002679F9CCA68>\n",
      "r2 score corresponding to  46 is <function r2_score at 0x000002679F9CCA68>\n",
      "r2 score corresponding to  47 is <function r2_score at 0x000002679F9CCA68>\n",
      "r2 score corresponding to  48 is <function r2_score at 0x000002679F9CCA68>\n",
      "r2 score corresponding to  49 is <function r2_score at 0x000002679F9CCA68>\n",
      "r2 score corresponding to  50 is <function r2_score at 0x000002679F9CCA68>\n",
      "r2 score corresponding to  51 is <function r2_score at 0x000002679F9CCA68>\n",
      "r2 score corresponding to  52 is <function r2_score at 0x000002679F9CCA68>\n",
      "r2 score corresponding to  53 is <function r2_score at 0x000002679F9CCA68>\n",
      "r2 score corresponding to  54 is <function r2_score at 0x000002679F9CCA68>\n",
      "r2 score corresponding to  55 is <function r2_score at 0x000002679F9CCA68>\n",
      "r2 score corresponding to  56 is <function r2_score at 0x000002679F9CCA68>\n",
      "r2 score corresponding to  57 is <function r2_score at 0x000002679F9CCA68>\n",
      "r2 score corresponding to  58 is <function r2_score at 0x000002679F9CCA68>\n",
      "r2 score corresponding to  59 is <function r2_score at 0x000002679F9CCA68>\n",
      "r2 score corresponding to  60 is <function r2_score at 0x000002679F9CCA68>\n",
      "r2 score corresponding to  61 is <function r2_score at 0x000002679F9CCA68>\n",
      "r2 score corresponding to  62 is <function r2_score at 0x000002679F9CCA68>\n",
      "r2 score corresponding to  63 is <function r2_score at 0x000002679F9CCA68>\n",
      "r2 score corresponding to  64 is <function r2_score at 0x000002679F9CCA68>\n",
      "r2 score corresponding to  65 is <function r2_score at 0x000002679F9CCA68>\n",
      "r2 score corresponding to  66 is <function r2_score at 0x000002679F9CCA68>\n",
      "r2 score corresponding to  67 is <function r2_score at 0x000002679F9CCA68>\n",
      "r2 score corresponding to  68 is <function r2_score at 0x000002679F9CCA68>\n",
      "r2 score corresponding to  69 is <function r2_score at 0x000002679F9CCA68>\n",
      "r2 score corresponding to  70 is <function r2_score at 0x000002679F9CCA68>\n",
      "r2 score corresponding to  71 is <function r2_score at 0x000002679F9CCA68>\n",
      "r2 score corresponding to  72 is <function r2_score at 0x000002679F9CCA68>\n",
      "r2 score corresponding to  73 is <function r2_score at 0x000002679F9CCA68>\n",
      "r2 score corresponding to  74 is <function r2_score at 0x000002679F9CCA68>\n",
      "r2 score corresponding to  75 is <function r2_score at 0x000002679F9CCA68>\n",
      "r2 score corresponding to  76 is <function r2_score at 0x000002679F9CCA68>\n",
      "r2 score corresponding to  77 is <function r2_score at 0x000002679F9CCA68>\n",
      "r2 score corresponding to  78 is <function r2_score at 0x000002679F9CCA68>\n",
      "r2 score corresponding to  79 is <function r2_score at 0x000002679F9CCA68>\n",
      "r2 score corresponding to  80 is <function r2_score at 0x000002679F9CCA68>\n",
      "r2 score corresponding to  81 is <function r2_score at 0x000002679F9CCA68>\n",
      "r2 score corresponding to  82 is <function r2_score at 0x000002679F9CCA68>\n",
      "r2 score corresponding to  83 is <function r2_score at 0x000002679F9CCA68>\n",
      "r2 score corresponding to  84 is <function r2_score at 0x000002679F9CCA68>\n",
      "r2 score corresponding to  85 is <function r2_score at 0x000002679F9CCA68>\n",
      "r2 score corresponding to  86 is <function r2_score at 0x000002679F9CCA68>\n",
      "r2 score corresponding to  87 is <function r2_score at 0x000002679F9CCA68>\n",
      "r2 score corresponding to  88 is <function r2_score at 0x000002679F9CCA68>\n",
      "r2 score corresponding to  89 is <function r2_score at 0x000002679F9CCA68>\n",
      "r2 score corresponding to  90 is <function r2_score at 0x000002679F9CCA68>\n",
      "r2 score corresponding to  91 is <function r2_score at 0x000002679F9CCA68>\n",
      "r2 score corresponding to  92 is <function r2_score at 0x000002679F9CCA68>\n",
      "r2 score corresponding to  93 is <function r2_score at 0x000002679F9CCA68>\n",
      "r2 score corresponding to  94 is <function r2_score at 0x000002679F9CCA68>\n",
      "r2 score corresponding to  95 is <function r2_score at 0x000002679F9CCA68>\n",
      "r2 score corresponding to  96 is <function r2_score at 0x000002679F9CCA68>\n",
      "r2 score corresponding to  97 is <function r2_score at 0x000002679F9CCA68>\n",
      "r2 score corresponding to  98 is <function r2_score at 0x000002679F9CCA68>\n",
      "r2 score corresponding to  99 is <function r2_score at 0x000002679F9CCA68>\n",
      "max r2 score corresponding to  64 is 0.4739104369694812\n"
     ]
    }
   ],
   "source": [
    "r_state= maxr2_score(ls,x,y)"
   ]
  },
  {
   "cell_type": "code",
   "execution_count": 79,
   "metadata": {},
   "outputs": [
    {
     "data": {
      "text/plain": [
       "{'learning_rate': 1, 'n_estimators': 250}"
      ]
     },
     "execution_count": 79,
     "metadata": {},
     "output_type": "execute_result"
    }
   ],
   "source": [
    "from sklearn.ensemble import GradientBoostingRegressor\n",
    "import warnings \n",
    "warnings.filterwarnings(\"ignore\")\n",
    "gbr = GradientBoostingRegressor()\n",
    "parameters = {\"learning_rate\":[0.001,0.01,0.1,1],\"n_estimators\":[50,100,150,200,250]}\n",
    "clft = GridSearchCV(gbr,parameters,cv=5)\n",
    "clft.fit(x,y)\n",
    "clft.best_params_"
   ]
  },
  {
   "cell_type": "code",
   "execution_count": 80,
   "metadata": {},
   "outputs": [],
   "source": [
    "gbr = GradientBoostingRegressor(learning_rate=1,n_estimators=250)"
   ]
  },
  {
   "cell_type": "code",
   "execution_count": 81,
   "metadata": {},
   "outputs": [
    {
     "name": "stdout",
     "output_type": "stream",
     "text": [
      "r2 score corresponding to  42 is <function r2_score at 0x000002679F9CCA68>\n",
      "r2 score corresponding to  43 is <function r2_score at 0x000002679F9CCA68>\n",
      "r2 score corresponding to  44 is <function r2_score at 0x000002679F9CCA68>\n",
      "r2 score corresponding to  45 is <function r2_score at 0x000002679F9CCA68>\n",
      "r2 score corresponding to  46 is <function r2_score at 0x000002679F9CCA68>\n",
      "r2 score corresponding to  47 is <function r2_score at 0x000002679F9CCA68>\n",
      "r2 score corresponding to  48 is <function r2_score at 0x000002679F9CCA68>\n",
      "r2 score corresponding to  49 is <function r2_score at 0x000002679F9CCA68>\n",
      "r2 score corresponding to  50 is <function r2_score at 0x000002679F9CCA68>\n",
      "r2 score corresponding to  51 is <function r2_score at 0x000002679F9CCA68>\n",
      "r2 score corresponding to  52 is <function r2_score at 0x000002679F9CCA68>\n",
      "r2 score corresponding to  53 is <function r2_score at 0x000002679F9CCA68>\n",
      "r2 score corresponding to  54 is <function r2_score at 0x000002679F9CCA68>\n",
      "r2 score corresponding to  55 is <function r2_score at 0x000002679F9CCA68>\n",
      "r2 score corresponding to  56 is <function r2_score at 0x000002679F9CCA68>\n",
      "r2 score corresponding to  57 is <function r2_score at 0x000002679F9CCA68>\n",
      "r2 score corresponding to  58 is <function r2_score at 0x000002679F9CCA68>\n",
      "r2 score corresponding to  59 is <function r2_score at 0x000002679F9CCA68>\n",
      "r2 score corresponding to  60 is <function r2_score at 0x000002679F9CCA68>\n",
      "r2 score corresponding to  61 is <function r2_score at 0x000002679F9CCA68>\n",
      "r2 score corresponding to  62 is <function r2_score at 0x000002679F9CCA68>\n",
      "r2 score corresponding to  63 is <function r2_score at 0x000002679F9CCA68>\n",
      "r2 score corresponding to  64 is <function r2_score at 0x000002679F9CCA68>\n",
      "r2 score corresponding to  65 is <function r2_score at 0x000002679F9CCA68>\n",
      "r2 score corresponding to  66 is <function r2_score at 0x000002679F9CCA68>\n",
      "r2 score corresponding to  67 is <function r2_score at 0x000002679F9CCA68>\n",
      "r2 score corresponding to  68 is <function r2_score at 0x000002679F9CCA68>\n",
      "r2 score corresponding to  69 is <function r2_score at 0x000002679F9CCA68>\n",
      "r2 score corresponding to  70 is <function r2_score at 0x000002679F9CCA68>\n",
      "r2 score corresponding to  71 is <function r2_score at 0x000002679F9CCA68>\n",
      "r2 score corresponding to  72 is <function r2_score at 0x000002679F9CCA68>\n",
      "r2 score corresponding to  73 is <function r2_score at 0x000002679F9CCA68>\n",
      "r2 score corresponding to  74 is <function r2_score at 0x000002679F9CCA68>\n",
      "r2 score corresponding to  75 is <function r2_score at 0x000002679F9CCA68>\n",
      "r2 score corresponding to  76 is <function r2_score at 0x000002679F9CCA68>\n",
      "r2 score corresponding to  77 is <function r2_score at 0x000002679F9CCA68>\n",
      "r2 score corresponding to  78 is <function r2_score at 0x000002679F9CCA68>\n",
      "r2 score corresponding to  79 is <function r2_score at 0x000002679F9CCA68>\n",
      "r2 score corresponding to  80 is <function r2_score at 0x000002679F9CCA68>\n",
      "r2 score corresponding to  81 is <function r2_score at 0x000002679F9CCA68>\n",
      "r2 score corresponding to  82 is <function r2_score at 0x000002679F9CCA68>\n",
      "r2 score corresponding to  83 is <function r2_score at 0x000002679F9CCA68>\n",
      "r2 score corresponding to  84 is <function r2_score at 0x000002679F9CCA68>\n",
      "r2 score corresponding to  85 is <function r2_score at 0x000002679F9CCA68>\n",
      "r2 score corresponding to  86 is <function r2_score at 0x000002679F9CCA68>\n",
      "r2 score corresponding to  87 is <function r2_score at 0x000002679F9CCA68>\n",
      "r2 score corresponding to  88 is <function r2_score at 0x000002679F9CCA68>\n",
      "r2 score corresponding to  89 is <function r2_score at 0x000002679F9CCA68>\n",
      "r2 score corresponding to  90 is <function r2_score at 0x000002679F9CCA68>\n",
      "r2 score corresponding to  91 is <function r2_score at 0x000002679F9CCA68>\n",
      "r2 score corresponding to  92 is <function r2_score at 0x000002679F9CCA68>\n",
      "r2 score corresponding to  93 is <function r2_score at 0x000002679F9CCA68>\n",
      "r2 score corresponding to  94 is <function r2_score at 0x000002679F9CCA68>\n",
      "r2 score corresponding to  95 is <function r2_score at 0x000002679F9CCA68>\n",
      "r2 score corresponding to  96 is <function r2_score at 0x000002679F9CCA68>\n",
      "r2 score corresponding to  97 is <function r2_score at 0x000002679F9CCA68>\n",
      "r2 score corresponding to  98 is <function r2_score at 0x000002679F9CCA68>\n",
      "r2 score corresponding to  99 is <function r2_score at 0x000002679F9CCA68>\n",
      "max r2 score corresponding to  44 is 0.8306222427221713\n"
     ]
    }
   ],
   "source": [
    "r_state= maxr2_score(gbr,x,y)"
   ]
  },
  {
   "cell_type": "code",
   "execution_count": 82,
   "metadata": {},
   "outputs": [
    {
     "data": {
      "text/plain": [
       "{'base_estimator': DecisionTreeRegressor(ccp_alpha=0.0, criterion='mse', max_depth=None,\n",
       "                       max_features=None, max_leaf_nodes=None,\n",
       "                       min_impurity_decrease=0.0, min_impurity_split=None,\n",
       "                       min_samples_leaf=1, min_samples_split=2,\n",
       "                       min_weight_fraction_leaf=0.0, presort='deprecated',\n",
       "                       random_state=None, splitter='best'),\n",
       " 'learning_rate': 1,\n",
       " 'n_estimators': 150}"
      ]
     },
     "execution_count": 82,
     "metadata": {},
     "output_type": "execute_result"
    }
   ],
   "source": [
    "from sklearn.ensemble import AdaBoostRegressor\n",
    "from sklearn.tree import DecisionTreeRegressor\n",
    "ada = AdaBoostRegressor()\n",
    "parameters = {\"learning_rate\":[0.001,0.01,0.1,1],\"n_estimators\":[50,100,150,200,250],\"base_estimator\":[lr,ls,DecisionTreeRegressor(),knr]}\n",
    "fd = GridSearchCV(ada,parameters,cv=5)\n",
    "fd.fit(x,y)\n",
    "fd.best_params_"
   ]
  },
  {
   "cell_type": "code",
   "execution_count": 83,
   "metadata": {},
   "outputs": [],
   "source": [
    "ada = AdaBoostRegressor(base_estimator=DecisionTreeRegressor(),learning_rate=1,n_estimators=150)"
   ]
  },
  {
   "cell_type": "code",
   "execution_count": 84,
   "metadata": {},
   "outputs": [
    {
     "name": "stdout",
     "output_type": "stream",
     "text": [
      "r2 score corresponding to  42 is <function r2_score at 0x000002679F9CCA68>\n",
      "r2 score corresponding to  43 is <function r2_score at 0x000002679F9CCA68>\n",
      "r2 score corresponding to  44 is <function r2_score at 0x000002679F9CCA68>\n",
      "r2 score corresponding to  45 is <function r2_score at 0x000002679F9CCA68>\n",
      "r2 score corresponding to  46 is <function r2_score at 0x000002679F9CCA68>\n",
      "r2 score corresponding to  47 is <function r2_score at 0x000002679F9CCA68>\n",
      "r2 score corresponding to  48 is <function r2_score at 0x000002679F9CCA68>\n",
      "r2 score corresponding to  49 is <function r2_score at 0x000002679F9CCA68>\n",
      "r2 score corresponding to  50 is <function r2_score at 0x000002679F9CCA68>\n",
      "r2 score corresponding to  51 is <function r2_score at 0x000002679F9CCA68>\n",
      "r2 score corresponding to  52 is <function r2_score at 0x000002679F9CCA68>\n",
      "r2 score corresponding to  53 is <function r2_score at 0x000002679F9CCA68>\n",
      "r2 score corresponding to  54 is <function r2_score at 0x000002679F9CCA68>\n",
      "r2 score corresponding to  55 is <function r2_score at 0x000002679F9CCA68>\n",
      "r2 score corresponding to  56 is <function r2_score at 0x000002679F9CCA68>\n",
      "r2 score corresponding to  57 is <function r2_score at 0x000002679F9CCA68>\n",
      "r2 score corresponding to  58 is <function r2_score at 0x000002679F9CCA68>\n",
      "r2 score corresponding to  59 is <function r2_score at 0x000002679F9CCA68>\n",
      "r2 score corresponding to  60 is <function r2_score at 0x000002679F9CCA68>\n",
      "r2 score corresponding to  61 is <function r2_score at 0x000002679F9CCA68>\n",
      "r2 score corresponding to  62 is <function r2_score at 0x000002679F9CCA68>\n",
      "r2 score corresponding to  63 is <function r2_score at 0x000002679F9CCA68>\n",
      "r2 score corresponding to  64 is <function r2_score at 0x000002679F9CCA68>\n",
      "r2 score corresponding to  65 is <function r2_score at 0x000002679F9CCA68>\n",
      "r2 score corresponding to  66 is <function r2_score at 0x000002679F9CCA68>\n",
      "r2 score corresponding to  67 is <function r2_score at 0x000002679F9CCA68>\n",
      "r2 score corresponding to  68 is <function r2_score at 0x000002679F9CCA68>\n",
      "r2 score corresponding to  69 is <function r2_score at 0x000002679F9CCA68>\n",
      "r2 score corresponding to  70 is <function r2_score at 0x000002679F9CCA68>\n",
      "r2 score corresponding to  71 is <function r2_score at 0x000002679F9CCA68>\n",
      "r2 score corresponding to  72 is <function r2_score at 0x000002679F9CCA68>\n",
      "r2 score corresponding to  73 is <function r2_score at 0x000002679F9CCA68>\n",
      "r2 score corresponding to  74 is <function r2_score at 0x000002679F9CCA68>\n",
      "r2 score corresponding to  75 is <function r2_score at 0x000002679F9CCA68>\n",
      "r2 score corresponding to  76 is <function r2_score at 0x000002679F9CCA68>\n",
      "r2 score corresponding to  77 is <function r2_score at 0x000002679F9CCA68>\n",
      "r2 score corresponding to  78 is <function r2_score at 0x000002679F9CCA68>\n",
      "r2 score corresponding to  79 is <function r2_score at 0x000002679F9CCA68>\n",
      "r2 score corresponding to  80 is <function r2_score at 0x000002679F9CCA68>\n",
      "r2 score corresponding to  81 is <function r2_score at 0x000002679F9CCA68>\n",
      "r2 score corresponding to  82 is <function r2_score at 0x000002679F9CCA68>\n",
      "r2 score corresponding to  83 is <function r2_score at 0x000002679F9CCA68>\n",
      "r2 score corresponding to  84 is <function r2_score at 0x000002679F9CCA68>\n",
      "r2 score corresponding to  85 is <function r2_score at 0x000002679F9CCA68>\n",
      "r2 score corresponding to  86 is <function r2_score at 0x000002679F9CCA68>\n",
      "r2 score corresponding to  87 is <function r2_score at 0x000002679F9CCA68>\n",
      "r2 score corresponding to  88 is <function r2_score at 0x000002679F9CCA68>\n",
      "r2 score corresponding to  89 is <function r2_score at 0x000002679F9CCA68>\n",
      "r2 score corresponding to  90 is <function r2_score at 0x000002679F9CCA68>\n",
      "r2 score corresponding to  91 is <function r2_score at 0x000002679F9CCA68>\n",
      "r2 score corresponding to  92 is <function r2_score at 0x000002679F9CCA68>\n",
      "r2 score corresponding to  93 is <function r2_score at 0x000002679F9CCA68>\n",
      "r2 score corresponding to  94 is <function r2_score at 0x000002679F9CCA68>\n",
      "r2 score corresponding to  95 is <function r2_score at 0x000002679F9CCA68>\n",
      "r2 score corresponding to  96 is <function r2_score at 0x000002679F9CCA68>\n",
      "r2 score corresponding to  97 is <function r2_score at 0x000002679F9CCA68>\n",
      "r2 score corresponding to  98 is <function r2_score at 0x000002679F9CCA68>\n",
      "r2 score corresponding to  99 is <function r2_score at 0x000002679F9CCA68>\n",
      "max r2 score corresponding to  58 is 0.8373560513332543\n"
     ]
    }
   ],
   "source": [
    "r_state= maxr2_score(ada,x,y)"
   ]
  },
  {
   "cell_type": "code",
   "execution_count": 85,
   "metadata": {},
   "outputs": [],
   "source": [
    "x_train,x_test,y_train,y_test = train_test_split(x,y,random_state=58 ,test_size=0.1)\n",
    "ada = AdaBoostRegressor(base_estimator=DecisionTreeRegressor(),learning_rate=1,n_estimators=150)\n",
    "ada.fit(x_train,y_train)\n",
    "y_pred = ada.predict(x_test)   # Ada boost Regressor had the best  results"
   ]
  },
  {
   "cell_type": "code",
   "execution_count": 86,
   "metadata": {},
   "outputs": [
    {
     "name": "stdout",
     "output_type": "stream",
     "text": [
      "RMSE is: 1901.7355858336336\n",
      "r2 score: 83.43527987079932\n"
     ]
    }
   ],
   "source": [
    "print(\"RMSE is:\",np.sqrt(mean_squared_error(y_test,y_pred)))\n",
    "print(\"r2 score:\",r2_score(y_test,y_pred)*100)"
   ]
  },
  {
   "cell_type": "code",
   "execution_count": 90,
   "metadata": {},
   "outputs": [],
   "source": [
    "# here adaboost regressor is performing well"
   ]
  },
  {
   "cell_type": "code",
   "execution_count": 91,
   "metadata": {},
   "outputs": [
    {
     "data": {
      "text/plain": [
       "['Flight Fare.obj']"
      ]
     },
     "execution_count": 91,
     "metadata": {},
     "output_type": "execute_result"
    }
   ],
   "source": [
    "from sklearn.externals import joblib\n",
    "joblib.dump(ada,\"Flight Fare.obj\")"
   ]
  },
  {
   "cell_type": "code",
   "execution_count": 92,
   "metadata": {},
   "outputs": [],
   "source": [
    "model = joblib.load('Flight Fare.obj')"
   ]
  },
  {
   "cell_type": "code",
   "execution_count": 93,
   "metadata": {},
   "outputs": [
    {
     "data": {
      "text/plain": [
       "array([ 7598.07407407, 12819.        ,  4777.        , ...,\n",
       "        5510.        ,  8372.        ,  4668.        ])"
      ]
     },
     "execution_count": 93,
     "metadata": {},
     "output_type": "execute_result"
    }
   ],
   "source": [
    "model.predict(x_test)"
   ]
  },
  {
   "cell_type": "code",
   "execution_count": null,
   "metadata": {},
   "outputs": [],
   "source": []
  }
 ],
 "metadata": {
  "kernelspec": {
   "display_name": "Python 3",
   "language": "python",
   "name": "python3"
  },
  "language_info": {
   "codemirror_mode": {
    "name": "ipython",
    "version": 3
   },
   "file_extension": ".py",
   "mimetype": "text/x-python",
   "name": "python",
   "nbconvert_exporter": "python",
   "pygments_lexer": "ipython3",
   "version": "3.7.6"
  }
 },
 "nbformat": 4,
 "nbformat_minor": 4
}
