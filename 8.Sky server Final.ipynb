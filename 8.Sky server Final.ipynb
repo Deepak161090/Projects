{
 "cells": [
  {
   "cell_type": "code",
   "execution_count": 1,
   "metadata": {},
   "outputs": [],
   "source": [
    "import pandas as pd\n",
    "import numpy as np\n",
    "import seaborn as sns\n",
    "import matplotlib.pyplot as plt\n",
    "import warnings\n",
    "from sklearn.decomposition import PCA\n",
    "from sklearn.linear_model import LogisticRegression\n",
    "from sklearn.svm import SVC\n",
    "from sklearn.tree import DecisionTreeClassifier\n",
    "from sklearn.naive_bayes import MultinomialNB\n",
    "from sklearn.ensemble import RandomForestClassifier\n",
    "from sklearn.model_selection import train_test_split,cross_val_score\n",
    "from sklearn.neighbors import KNeighborsClassifier\n",
    "from sklearn.metrics import accuracy_score,confusion_matrix,classification_report,roc_curve,auc"
   ]
  },
  {
   "cell_type": "code",
   "execution_count": 2,
   "metadata": {},
   "outputs": [],
   "source": [
    "sky = pd.read_csv(\"Sky Server.csv\")"
   ]
  },
  {
   "cell_type": "code",
   "execution_count": 3,
   "metadata": {},
   "outputs": [
    {
     "data": {
      "text/html": [
       "<div>\n",
       "<style scoped>\n",
       "    .dataframe tbody tr th:only-of-type {\n",
       "        vertical-align: middle;\n",
       "    }\n",
       "\n",
       "    .dataframe tbody tr th {\n",
       "        vertical-align: top;\n",
       "    }\n",
       "\n",
       "    .dataframe thead th {\n",
       "        text-align: right;\n",
       "    }\n",
       "</style>\n",
       "<table border=\"1\" class=\"dataframe\">\n",
       "  <thead>\n",
       "    <tr style=\"text-align: right;\">\n",
       "      <th></th>\n",
       "      <th>objid</th>\n",
       "      <th>ra</th>\n",
       "      <th>dec</th>\n",
       "      <th>u</th>\n",
       "      <th>g</th>\n",
       "      <th>r</th>\n",
       "      <th>i</th>\n",
       "      <th>z</th>\n",
       "      <th>run</th>\n",
       "      <th>rerun</th>\n",
       "      <th>camcol</th>\n",
       "      <th>field</th>\n",
       "      <th>specobjid</th>\n",
       "      <th>class</th>\n",
       "      <th>redshift</th>\n",
       "      <th>plate</th>\n",
       "      <th>mjd</th>\n",
       "      <th>fiberid</th>\n",
       "    </tr>\n",
       "  </thead>\n",
       "  <tbody>\n",
       "    <tr>\n",
       "      <th>0</th>\n",
       "      <td>1.237650e+18</td>\n",
       "      <td>183.531326</td>\n",
       "      <td>0.089693</td>\n",
       "      <td>19.47406</td>\n",
       "      <td>17.04240</td>\n",
       "      <td>15.94699</td>\n",
       "      <td>15.50342</td>\n",
       "      <td>15.22531</td>\n",
       "      <td>752.0</td>\n",
       "      <td>301.0</td>\n",
       "      <td>4.0</td>\n",
       "      <td>267.0</td>\n",
       "      <td>3.722360e+18</td>\n",
       "      <td>STAR</td>\n",
       "      <td>-0.000009</td>\n",
       "      <td>3306.0</td>\n",
       "      <td>54922.0</td>\n",
       "      <td>491.0</td>\n",
       "    </tr>\n",
       "    <tr>\n",
       "      <th>1</th>\n",
       "      <td>1.237650e+18</td>\n",
       "      <td>183.598371</td>\n",
       "      <td>0.135285</td>\n",
       "      <td>18.66280</td>\n",
       "      <td>17.21449</td>\n",
       "      <td>16.67637</td>\n",
       "      <td>16.48922</td>\n",
       "      <td>16.39150</td>\n",
       "      <td>752.0</td>\n",
       "      <td>301.0</td>\n",
       "      <td>4.0</td>\n",
       "      <td>267.0</td>\n",
       "      <td>3.638140e+17</td>\n",
       "      <td>STAR</td>\n",
       "      <td>-0.000055</td>\n",
       "      <td>323.0</td>\n",
       "      <td>51615.0</td>\n",
       "      <td>541.0</td>\n",
       "    </tr>\n",
       "    <tr>\n",
       "      <th>2</th>\n",
       "      <td>1.237650e+18</td>\n",
       "      <td>183.680207</td>\n",
       "      <td>0.126185</td>\n",
       "      <td>19.38298</td>\n",
       "      <td>18.19169</td>\n",
       "      <td>17.47428</td>\n",
       "      <td>17.08732</td>\n",
       "      <td>16.80125</td>\n",
       "      <td>752.0</td>\n",
       "      <td>301.0</td>\n",
       "      <td>4.0</td>\n",
       "      <td>268.0</td>\n",
       "      <td>3.232740e+17</td>\n",
       "      <td>GALAXY</td>\n",
       "      <td>0.123111</td>\n",
       "      <td>287.0</td>\n",
       "      <td>52023.0</td>\n",
       "      <td>513.0</td>\n",
       "    </tr>\n",
       "    <tr>\n",
       "      <th>3</th>\n",
       "      <td>1.237650e+18</td>\n",
       "      <td>183.870529</td>\n",
       "      <td>0.049911</td>\n",
       "      <td>17.76536</td>\n",
       "      <td>16.60272</td>\n",
       "      <td>16.16116</td>\n",
       "      <td>15.98233</td>\n",
       "      <td>15.90438</td>\n",
       "      <td>752.0</td>\n",
       "      <td>301.0</td>\n",
       "      <td>4.0</td>\n",
       "      <td>269.0</td>\n",
       "      <td>3.722370e+18</td>\n",
       "      <td>STAR</td>\n",
       "      <td>-0.000111</td>\n",
       "      <td>3306.0</td>\n",
       "      <td>54922.0</td>\n",
       "      <td>510.0</td>\n",
       "    </tr>\n",
       "    <tr>\n",
       "      <th>4</th>\n",
       "      <td>1.237650e+18</td>\n",
       "      <td>183.883288</td>\n",
       "      <td>0.102557</td>\n",
       "      <td>17.55025</td>\n",
       "      <td>16.26342</td>\n",
       "      <td>16.43869</td>\n",
       "      <td>16.55492</td>\n",
       "      <td>16.61326</td>\n",
       "      <td>752.0</td>\n",
       "      <td>301.0</td>\n",
       "      <td>4.0</td>\n",
       "      <td>269.0</td>\n",
       "      <td>3.722370e+18</td>\n",
       "      <td>STAR</td>\n",
       "      <td>0.000590</td>\n",
       "      <td>3306.0</td>\n",
       "      <td>54922.0</td>\n",
       "      <td>512.0</td>\n",
       "    </tr>\n",
       "    <tr>\n",
       "      <th>...</th>\n",
       "      <td>...</td>\n",
       "      <td>...</td>\n",
       "      <td>...</td>\n",
       "      <td>...</td>\n",
       "      <td>...</td>\n",
       "      <td>...</td>\n",
       "      <td>...</td>\n",
       "      <td>...</td>\n",
       "      <td>...</td>\n",
       "      <td>...</td>\n",
       "      <td>...</td>\n",
       "      <td>...</td>\n",
       "      <td>...</td>\n",
       "      <td>...</td>\n",
       "      <td>...</td>\n",
       "      <td>...</td>\n",
       "      <td>...</td>\n",
       "      <td>...</td>\n",
       "    </tr>\n",
       "    <tr>\n",
       "      <th>8413</th>\n",
       "      <td>1.237650e+18</td>\n",
       "      <td>130.841677</td>\n",
       "      <td>0.999005</td>\n",
       "      <td>18.95358</td>\n",
       "      <td>17.54726</td>\n",
       "      <td>16.75322</td>\n",
       "      <td>16.35117</td>\n",
       "      <td>16.08986</td>\n",
       "      <td>1239.0</td>\n",
       "      <td>301.0</td>\n",
       "      <td>6.0</td>\n",
       "      <td>70.0</td>\n",
       "      <td>5.259020e+17</td>\n",
       "      <td>GALAXY</td>\n",
       "      <td>0.110381</td>\n",
       "      <td>467.0</td>\n",
       "      <td>51901.0</td>\n",
       "      <td>387.0</td>\n",
       "    </tr>\n",
       "    <tr>\n",
       "      <th>8414</th>\n",
       "      <td>1.237650e+18</td>\n",
       "      <td>130.852163</td>\n",
       "      <td>0.951573</td>\n",
       "      <td>18.59335</td>\n",
       "      <td>16.53429</td>\n",
       "      <td>15.48791</td>\n",
       "      <td>14.98926</td>\n",
       "      <td>14.61014</td>\n",
       "      <td>1239.0</td>\n",
       "      <td>301.0</td>\n",
       "      <td>6.0</td>\n",
       "      <td>70.0</td>\n",
       "      <td>5.259020e+17</td>\n",
       "      <td>GALAXY</td>\n",
       "      <td>0.096327</td>\n",
       "      <td>467.0</td>\n",
       "      <td>51901.0</td>\n",
       "      <td>389.0</td>\n",
       "    </tr>\n",
       "    <tr>\n",
       "      <th>8415</th>\n",
       "      <td>1.237650e+18</td>\n",
       "      <td>131.078028</td>\n",
       "      <td>0.886101</td>\n",
       "      <td>18.64174</td>\n",
       "      <td>18.91801</td>\n",
       "      <td>19.41393</td>\n",
       "      <td>19.77970</td>\n",
       "      <td>20.10166</td>\n",
       "      <td>1239.0</td>\n",
       "      <td>301.0</td>\n",
       "      <td>6.0</td>\n",
       "      <td>72.0</td>\n",
       "      <td>4.289760e+18</td>\n",
       "      <td>STAR</td>\n",
       "      <td>0.000220</td>\n",
       "      <td>3810.0</td>\n",
       "      <td>56015.0</td>\n",
       "      <td>286.0</td>\n",
       "    </tr>\n",
       "    <tr>\n",
       "      <th>8416</th>\n",
       "      <td>1.237650e+18</td>\n",
       "      <td>131.145721</td>\n",
       "      <td>0.921603</td>\n",
       "      <td>18.01667</td>\n",
       "      <td>17.71583</td>\n",
       "      <td>17.63513</td>\n",
       "      <td>17.56084</td>\n",
       "      <td>17.53474</td>\n",
       "      <td>1239.0</td>\n",
       "      <td>301.0</td>\n",
       "      <td>6.0</td>\n",
       "      <td>72.0</td>\n",
       "      <td>5.259140e+17</td>\n",
       "      <td>QSO</td>\n",
       "      <td>0.439289</td>\n",
       "      <td>467.0</td>\n",
       "      <td>51901.0</td>\n",
       "      <td>433.0</td>\n",
       "    </tr>\n",
       "    <tr>\n",
       "      <th>8417</th>\n",
       "      <td>1.237650e+18</td>\n",
       "      <td>131.167072</td>\n",
       "      <td>0.896987</td>\n",
       "      <td>19.44700</td>\n",
       "      <td>NaN</td>\n",
       "      <td>NaN</td>\n",
       "      <td>NaN</td>\n",
       "      <td>NaN</td>\n",
       "      <td>NaN</td>\n",
       "      <td>NaN</td>\n",
       "      <td>NaN</td>\n",
       "      <td>NaN</td>\n",
       "      <td>NaN</td>\n",
       "      <td>NaN</td>\n",
       "      <td>NaN</td>\n",
       "      <td>NaN</td>\n",
       "      <td>NaN</td>\n",
       "      <td>NaN</td>\n",
       "    </tr>\n",
       "  </tbody>\n",
       "</table>\n",
       "<p>8418 rows × 18 columns</p>\n",
       "</div>"
      ],
      "text/plain": [
       "             objid          ra       dec         u         g         r  \\\n",
       "0     1.237650e+18  183.531326  0.089693  19.47406  17.04240  15.94699   \n",
       "1     1.237650e+18  183.598371  0.135285  18.66280  17.21449  16.67637   \n",
       "2     1.237650e+18  183.680207  0.126185  19.38298  18.19169  17.47428   \n",
       "3     1.237650e+18  183.870529  0.049911  17.76536  16.60272  16.16116   \n",
       "4     1.237650e+18  183.883288  0.102557  17.55025  16.26342  16.43869   \n",
       "...            ...         ...       ...       ...       ...       ...   \n",
       "8413  1.237650e+18  130.841677  0.999005  18.95358  17.54726  16.75322   \n",
       "8414  1.237650e+18  130.852163  0.951573  18.59335  16.53429  15.48791   \n",
       "8415  1.237650e+18  131.078028  0.886101  18.64174  18.91801  19.41393   \n",
       "8416  1.237650e+18  131.145721  0.921603  18.01667  17.71583  17.63513   \n",
       "8417  1.237650e+18  131.167072  0.896987  19.44700       NaN       NaN   \n",
       "\n",
       "             i         z     run  rerun  camcol  field     specobjid   class  \\\n",
       "0     15.50342  15.22531   752.0  301.0     4.0  267.0  3.722360e+18    STAR   \n",
       "1     16.48922  16.39150   752.0  301.0     4.0  267.0  3.638140e+17    STAR   \n",
       "2     17.08732  16.80125   752.0  301.0     4.0  268.0  3.232740e+17  GALAXY   \n",
       "3     15.98233  15.90438   752.0  301.0     4.0  269.0  3.722370e+18    STAR   \n",
       "4     16.55492  16.61326   752.0  301.0     4.0  269.0  3.722370e+18    STAR   \n",
       "...        ...       ...     ...    ...     ...    ...           ...     ...   \n",
       "8413  16.35117  16.08986  1239.0  301.0     6.0   70.0  5.259020e+17  GALAXY   \n",
       "8414  14.98926  14.61014  1239.0  301.0     6.0   70.0  5.259020e+17  GALAXY   \n",
       "8415  19.77970  20.10166  1239.0  301.0     6.0   72.0  4.289760e+18    STAR   \n",
       "8416  17.56084  17.53474  1239.0  301.0     6.0   72.0  5.259140e+17     QSO   \n",
       "8417       NaN       NaN     NaN    NaN     NaN    NaN           NaN     NaN   \n",
       "\n",
       "      redshift   plate      mjd  fiberid  \n",
       "0    -0.000009  3306.0  54922.0    491.0  \n",
       "1    -0.000055   323.0  51615.0    541.0  \n",
       "2     0.123111   287.0  52023.0    513.0  \n",
       "3    -0.000111  3306.0  54922.0    510.0  \n",
       "4     0.000590  3306.0  54922.0    512.0  \n",
       "...        ...     ...      ...      ...  \n",
       "8413  0.110381   467.0  51901.0    387.0  \n",
       "8414  0.096327   467.0  51901.0    389.0  \n",
       "8415  0.000220  3810.0  56015.0    286.0  \n",
       "8416  0.439289   467.0  51901.0    433.0  \n",
       "8417       NaN     NaN      NaN      NaN  \n",
       "\n",
       "[8418 rows x 18 columns]"
      ]
     },
     "execution_count": 3,
     "metadata": {},
     "output_type": "execute_result"
    }
   ],
   "source": [
    "sky"
   ]
  },
  {
   "cell_type": "code",
   "execution_count": 4,
   "metadata": {},
   "outputs": [
    {
     "data": {
      "text/plain": [
       "objid        float64\n",
       "ra           float64\n",
       "dec          float64\n",
       "u            float64\n",
       "g            float64\n",
       "r            float64\n",
       "i            float64\n",
       "z            float64\n",
       "run          float64\n",
       "rerun        float64\n",
       "camcol       float64\n",
       "field        float64\n",
       "specobjid    float64\n",
       "class         object\n",
       "redshift     float64\n",
       "plate        float64\n",
       "mjd          float64\n",
       "fiberid      float64\n",
       "dtype: object"
      ]
     },
     "execution_count": 4,
     "metadata": {},
     "output_type": "execute_result"
    }
   ],
   "source": [
    "sky.dtypes"
   ]
  },
  {
   "cell_type": "code",
   "execution_count": 5,
   "metadata": {},
   "outputs": [
    {
     "data": {
      "text/plain": [
       "objid        0\n",
       "ra           0\n",
       "dec          0\n",
       "u            0\n",
       "g            1\n",
       "r            1\n",
       "i            1\n",
       "z            1\n",
       "run          1\n",
       "rerun        1\n",
       "camcol       1\n",
       "field        1\n",
       "specobjid    1\n",
       "class        1\n",
       "redshift     1\n",
       "plate        1\n",
       "mjd          1\n",
       "fiberid      1\n",
       "dtype: int64"
      ]
     },
     "execution_count": 5,
     "metadata": {},
     "output_type": "execute_result"
    }
   ],
   "source": [
    "sky.isnull().sum()"
   ]
  },
  {
   "cell_type": "code",
   "execution_count": 6,
   "metadata": {},
   "outputs": [],
   "source": [
    "sky.dropna(inplace=True)"
   ]
  },
  {
   "cell_type": "code",
   "execution_count": 7,
   "metadata": {},
   "outputs": [
    {
     "data": {
      "text/html": [
       "<div>\n",
       "<style scoped>\n",
       "    .dataframe tbody tr th:only-of-type {\n",
       "        vertical-align: middle;\n",
       "    }\n",
       "\n",
       "    .dataframe tbody tr th {\n",
       "        vertical-align: top;\n",
       "    }\n",
       "\n",
       "    .dataframe thead th {\n",
       "        text-align: right;\n",
       "    }\n",
       "</style>\n",
       "<table border=\"1\" class=\"dataframe\">\n",
       "  <thead>\n",
       "    <tr style=\"text-align: right;\">\n",
       "      <th></th>\n",
       "      <th>objid</th>\n",
       "      <th>ra</th>\n",
       "      <th>dec</th>\n",
       "      <th>u</th>\n",
       "      <th>g</th>\n",
       "      <th>r</th>\n",
       "      <th>i</th>\n",
       "      <th>z</th>\n",
       "      <th>run</th>\n",
       "      <th>rerun</th>\n",
       "      <th>camcol</th>\n",
       "      <th>field</th>\n",
       "      <th>specobjid</th>\n",
       "      <th>class</th>\n",
       "      <th>redshift</th>\n",
       "      <th>plate</th>\n",
       "      <th>mjd</th>\n",
       "      <th>fiberid</th>\n",
       "    </tr>\n",
       "  </thead>\n",
       "  <tbody>\n",
       "    <tr>\n",
       "      <th>0</th>\n",
       "      <td>1.237650e+18</td>\n",
       "      <td>183.531326</td>\n",
       "      <td>0.089693</td>\n",
       "      <td>19.47406</td>\n",
       "      <td>17.04240</td>\n",
       "      <td>15.94699</td>\n",
       "      <td>15.50342</td>\n",
       "      <td>15.22531</td>\n",
       "      <td>752.0</td>\n",
       "      <td>301.0</td>\n",
       "      <td>4.0</td>\n",
       "      <td>267.0</td>\n",
       "      <td>3.722360e+18</td>\n",
       "      <td>STAR</td>\n",
       "      <td>-0.000009</td>\n",
       "      <td>3306.0</td>\n",
       "      <td>54922.0</td>\n",
       "      <td>491.0</td>\n",
       "    </tr>\n",
       "    <tr>\n",
       "      <th>1</th>\n",
       "      <td>1.237650e+18</td>\n",
       "      <td>183.598371</td>\n",
       "      <td>0.135285</td>\n",
       "      <td>18.66280</td>\n",
       "      <td>17.21449</td>\n",
       "      <td>16.67637</td>\n",
       "      <td>16.48922</td>\n",
       "      <td>16.39150</td>\n",
       "      <td>752.0</td>\n",
       "      <td>301.0</td>\n",
       "      <td>4.0</td>\n",
       "      <td>267.0</td>\n",
       "      <td>3.638140e+17</td>\n",
       "      <td>STAR</td>\n",
       "      <td>-0.000055</td>\n",
       "      <td>323.0</td>\n",
       "      <td>51615.0</td>\n",
       "      <td>541.0</td>\n",
       "    </tr>\n",
       "    <tr>\n",
       "      <th>2</th>\n",
       "      <td>1.237650e+18</td>\n",
       "      <td>183.680207</td>\n",
       "      <td>0.126185</td>\n",
       "      <td>19.38298</td>\n",
       "      <td>18.19169</td>\n",
       "      <td>17.47428</td>\n",
       "      <td>17.08732</td>\n",
       "      <td>16.80125</td>\n",
       "      <td>752.0</td>\n",
       "      <td>301.0</td>\n",
       "      <td>4.0</td>\n",
       "      <td>268.0</td>\n",
       "      <td>3.232740e+17</td>\n",
       "      <td>GALAXY</td>\n",
       "      <td>0.123111</td>\n",
       "      <td>287.0</td>\n",
       "      <td>52023.0</td>\n",
       "      <td>513.0</td>\n",
       "    </tr>\n",
       "    <tr>\n",
       "      <th>3</th>\n",
       "      <td>1.237650e+18</td>\n",
       "      <td>183.870529</td>\n",
       "      <td>0.049911</td>\n",
       "      <td>17.76536</td>\n",
       "      <td>16.60272</td>\n",
       "      <td>16.16116</td>\n",
       "      <td>15.98233</td>\n",
       "      <td>15.90438</td>\n",
       "      <td>752.0</td>\n",
       "      <td>301.0</td>\n",
       "      <td>4.0</td>\n",
       "      <td>269.0</td>\n",
       "      <td>3.722370e+18</td>\n",
       "      <td>STAR</td>\n",
       "      <td>-0.000111</td>\n",
       "      <td>3306.0</td>\n",
       "      <td>54922.0</td>\n",
       "      <td>510.0</td>\n",
       "    </tr>\n",
       "    <tr>\n",
       "      <th>4</th>\n",
       "      <td>1.237650e+18</td>\n",
       "      <td>183.883288</td>\n",
       "      <td>0.102557</td>\n",
       "      <td>17.55025</td>\n",
       "      <td>16.26342</td>\n",
       "      <td>16.43869</td>\n",
       "      <td>16.55492</td>\n",
       "      <td>16.61326</td>\n",
       "      <td>752.0</td>\n",
       "      <td>301.0</td>\n",
       "      <td>4.0</td>\n",
       "      <td>269.0</td>\n",
       "      <td>3.722370e+18</td>\n",
       "      <td>STAR</td>\n",
       "      <td>0.000590</td>\n",
       "      <td>3306.0</td>\n",
       "      <td>54922.0</td>\n",
       "      <td>512.0</td>\n",
       "    </tr>\n",
       "    <tr>\n",
       "      <th>...</th>\n",
       "      <td>...</td>\n",
       "      <td>...</td>\n",
       "      <td>...</td>\n",
       "      <td>...</td>\n",
       "      <td>...</td>\n",
       "      <td>...</td>\n",
       "      <td>...</td>\n",
       "      <td>...</td>\n",
       "      <td>...</td>\n",
       "      <td>...</td>\n",
       "      <td>...</td>\n",
       "      <td>...</td>\n",
       "      <td>...</td>\n",
       "      <td>...</td>\n",
       "      <td>...</td>\n",
       "      <td>...</td>\n",
       "      <td>...</td>\n",
       "      <td>...</td>\n",
       "    </tr>\n",
       "    <tr>\n",
       "      <th>8412</th>\n",
       "      <td>1.237650e+18</td>\n",
       "      <td>130.778930</td>\n",
       "      <td>0.962776</td>\n",
       "      <td>19.15103</td>\n",
       "      <td>17.32718</td>\n",
       "      <td>16.49546</td>\n",
       "      <td>16.10516</td>\n",
       "      <td>15.84143</td>\n",
       "      <td>1239.0</td>\n",
       "      <td>301.0</td>\n",
       "      <td>6.0</td>\n",
       "      <td>70.0</td>\n",
       "      <td>5.259040e+17</td>\n",
       "      <td>GALAXY</td>\n",
       "      <td>0.076989</td>\n",
       "      <td>467.0</td>\n",
       "      <td>51901.0</td>\n",
       "      <td>396.0</td>\n",
       "    </tr>\n",
       "    <tr>\n",
       "      <th>8413</th>\n",
       "      <td>1.237650e+18</td>\n",
       "      <td>130.841677</td>\n",
       "      <td>0.999005</td>\n",
       "      <td>18.95358</td>\n",
       "      <td>17.54726</td>\n",
       "      <td>16.75322</td>\n",
       "      <td>16.35117</td>\n",
       "      <td>16.08986</td>\n",
       "      <td>1239.0</td>\n",
       "      <td>301.0</td>\n",
       "      <td>6.0</td>\n",
       "      <td>70.0</td>\n",
       "      <td>5.259020e+17</td>\n",
       "      <td>GALAXY</td>\n",
       "      <td>0.110381</td>\n",
       "      <td>467.0</td>\n",
       "      <td>51901.0</td>\n",
       "      <td>387.0</td>\n",
       "    </tr>\n",
       "    <tr>\n",
       "      <th>8414</th>\n",
       "      <td>1.237650e+18</td>\n",
       "      <td>130.852163</td>\n",
       "      <td>0.951573</td>\n",
       "      <td>18.59335</td>\n",
       "      <td>16.53429</td>\n",
       "      <td>15.48791</td>\n",
       "      <td>14.98926</td>\n",
       "      <td>14.61014</td>\n",
       "      <td>1239.0</td>\n",
       "      <td>301.0</td>\n",
       "      <td>6.0</td>\n",
       "      <td>70.0</td>\n",
       "      <td>5.259020e+17</td>\n",
       "      <td>GALAXY</td>\n",
       "      <td>0.096327</td>\n",
       "      <td>467.0</td>\n",
       "      <td>51901.0</td>\n",
       "      <td>389.0</td>\n",
       "    </tr>\n",
       "    <tr>\n",
       "      <th>8415</th>\n",
       "      <td>1.237650e+18</td>\n",
       "      <td>131.078028</td>\n",
       "      <td>0.886101</td>\n",
       "      <td>18.64174</td>\n",
       "      <td>18.91801</td>\n",
       "      <td>19.41393</td>\n",
       "      <td>19.77970</td>\n",
       "      <td>20.10166</td>\n",
       "      <td>1239.0</td>\n",
       "      <td>301.0</td>\n",
       "      <td>6.0</td>\n",
       "      <td>72.0</td>\n",
       "      <td>4.289760e+18</td>\n",
       "      <td>STAR</td>\n",
       "      <td>0.000220</td>\n",
       "      <td>3810.0</td>\n",
       "      <td>56015.0</td>\n",
       "      <td>286.0</td>\n",
       "    </tr>\n",
       "    <tr>\n",
       "      <th>8416</th>\n",
       "      <td>1.237650e+18</td>\n",
       "      <td>131.145721</td>\n",
       "      <td>0.921603</td>\n",
       "      <td>18.01667</td>\n",
       "      <td>17.71583</td>\n",
       "      <td>17.63513</td>\n",
       "      <td>17.56084</td>\n",
       "      <td>17.53474</td>\n",
       "      <td>1239.0</td>\n",
       "      <td>301.0</td>\n",
       "      <td>6.0</td>\n",
       "      <td>72.0</td>\n",
       "      <td>5.259140e+17</td>\n",
       "      <td>QSO</td>\n",
       "      <td>0.439289</td>\n",
       "      <td>467.0</td>\n",
       "      <td>51901.0</td>\n",
       "      <td>433.0</td>\n",
       "    </tr>\n",
       "  </tbody>\n",
       "</table>\n",
       "<p>8417 rows × 18 columns</p>\n",
       "</div>"
      ],
      "text/plain": [
       "             objid          ra       dec         u         g         r  \\\n",
       "0     1.237650e+18  183.531326  0.089693  19.47406  17.04240  15.94699   \n",
       "1     1.237650e+18  183.598371  0.135285  18.66280  17.21449  16.67637   \n",
       "2     1.237650e+18  183.680207  0.126185  19.38298  18.19169  17.47428   \n",
       "3     1.237650e+18  183.870529  0.049911  17.76536  16.60272  16.16116   \n",
       "4     1.237650e+18  183.883288  0.102557  17.55025  16.26342  16.43869   \n",
       "...            ...         ...       ...       ...       ...       ...   \n",
       "8412  1.237650e+18  130.778930  0.962776  19.15103  17.32718  16.49546   \n",
       "8413  1.237650e+18  130.841677  0.999005  18.95358  17.54726  16.75322   \n",
       "8414  1.237650e+18  130.852163  0.951573  18.59335  16.53429  15.48791   \n",
       "8415  1.237650e+18  131.078028  0.886101  18.64174  18.91801  19.41393   \n",
       "8416  1.237650e+18  131.145721  0.921603  18.01667  17.71583  17.63513   \n",
       "\n",
       "             i         z     run  rerun  camcol  field     specobjid   class  \\\n",
       "0     15.50342  15.22531   752.0  301.0     4.0  267.0  3.722360e+18    STAR   \n",
       "1     16.48922  16.39150   752.0  301.0     4.0  267.0  3.638140e+17    STAR   \n",
       "2     17.08732  16.80125   752.0  301.0     4.0  268.0  3.232740e+17  GALAXY   \n",
       "3     15.98233  15.90438   752.0  301.0     4.0  269.0  3.722370e+18    STAR   \n",
       "4     16.55492  16.61326   752.0  301.0     4.0  269.0  3.722370e+18    STAR   \n",
       "...        ...       ...     ...    ...     ...    ...           ...     ...   \n",
       "8412  16.10516  15.84143  1239.0  301.0     6.0   70.0  5.259040e+17  GALAXY   \n",
       "8413  16.35117  16.08986  1239.0  301.0     6.0   70.0  5.259020e+17  GALAXY   \n",
       "8414  14.98926  14.61014  1239.0  301.0     6.0   70.0  5.259020e+17  GALAXY   \n",
       "8415  19.77970  20.10166  1239.0  301.0     6.0   72.0  4.289760e+18    STAR   \n",
       "8416  17.56084  17.53474  1239.0  301.0     6.0   72.0  5.259140e+17     QSO   \n",
       "\n",
       "      redshift   plate      mjd  fiberid  \n",
       "0    -0.000009  3306.0  54922.0    491.0  \n",
       "1    -0.000055   323.0  51615.0    541.0  \n",
       "2     0.123111   287.0  52023.0    513.0  \n",
       "3    -0.000111  3306.0  54922.0    510.0  \n",
       "4     0.000590  3306.0  54922.0    512.0  \n",
       "...        ...     ...      ...      ...  \n",
       "8412  0.076989   467.0  51901.0    396.0  \n",
       "8413  0.110381   467.0  51901.0    387.0  \n",
       "8414  0.096327   467.0  51901.0    389.0  \n",
       "8415  0.000220  3810.0  56015.0    286.0  \n",
       "8416  0.439289   467.0  51901.0    433.0  \n",
       "\n",
       "[8417 rows x 18 columns]"
      ]
     },
     "execution_count": 7,
     "metadata": {},
     "output_type": "execute_result"
    }
   ],
   "source": [
    "sky"
   ]
  },
  {
   "cell_type": "code",
   "execution_count": 8,
   "metadata": {},
   "outputs": [
    {
     "data": {
      "text/plain": [
       "objid        0\n",
       "ra           0\n",
       "dec          0\n",
       "u            0\n",
       "g            0\n",
       "r            0\n",
       "i            0\n",
       "z            0\n",
       "run          0\n",
       "rerun        0\n",
       "camcol       0\n",
       "field        0\n",
       "specobjid    0\n",
       "class        0\n",
       "redshift     0\n",
       "plate        0\n",
       "mjd          0\n",
       "fiberid      0\n",
       "dtype: int64"
      ]
     },
     "execution_count": 8,
     "metadata": {},
     "output_type": "execute_result"
    }
   ],
   "source": [
    "sky.isnull().sum()"
   ]
  },
  {
   "cell_type": "code",
   "execution_count": 9,
   "metadata": {},
   "outputs": [
    {
     "data": {
      "text/plain": [
       "array(['STAR', 'GALAXY', 'QSO'], dtype=object)"
      ]
     },
     "execution_count": 9,
     "metadata": {},
     "output_type": "execute_result"
    }
   ],
   "source": [
    "sky['class'].unique()"
   ]
  },
  {
   "cell_type": "code",
   "execution_count": 10,
   "metadata": {},
   "outputs": [],
   "source": [
    "from sklearn.preprocessing import LabelEncoder\n",
    "le = LabelEncoder()\n",
    "sky['class'] = le.fit_transform(sky['class'].astype(str))"
   ]
  },
  {
   "cell_type": "code",
   "execution_count": 11,
   "metadata": {},
   "outputs": [
    {
     "data": {
      "text/html": [
       "<div>\n",
       "<style scoped>\n",
       "    .dataframe tbody tr th:only-of-type {\n",
       "        vertical-align: middle;\n",
       "    }\n",
       "\n",
       "    .dataframe tbody tr th {\n",
       "        vertical-align: top;\n",
       "    }\n",
       "\n",
       "    .dataframe thead th {\n",
       "        text-align: right;\n",
       "    }\n",
       "</style>\n",
       "<table border=\"1\" class=\"dataframe\">\n",
       "  <thead>\n",
       "    <tr style=\"text-align: right;\">\n",
       "      <th></th>\n",
       "      <th>objid</th>\n",
       "      <th>ra</th>\n",
       "      <th>dec</th>\n",
       "      <th>u</th>\n",
       "      <th>g</th>\n",
       "      <th>r</th>\n",
       "      <th>i</th>\n",
       "      <th>z</th>\n",
       "      <th>run</th>\n",
       "      <th>rerun</th>\n",
       "      <th>camcol</th>\n",
       "      <th>field</th>\n",
       "      <th>specobjid</th>\n",
       "      <th>class</th>\n",
       "      <th>redshift</th>\n",
       "      <th>plate</th>\n",
       "      <th>mjd</th>\n",
       "      <th>fiberid</th>\n",
       "    </tr>\n",
       "  </thead>\n",
       "  <tbody>\n",
       "    <tr>\n",
       "      <th>0</th>\n",
       "      <td>1.237650e+18</td>\n",
       "      <td>183.531326</td>\n",
       "      <td>0.089693</td>\n",
       "      <td>19.47406</td>\n",
       "      <td>17.04240</td>\n",
       "      <td>15.94699</td>\n",
       "      <td>15.50342</td>\n",
       "      <td>15.22531</td>\n",
       "      <td>752.0</td>\n",
       "      <td>301.0</td>\n",
       "      <td>4.0</td>\n",
       "      <td>267.0</td>\n",
       "      <td>3.722360e+18</td>\n",
       "      <td>2</td>\n",
       "      <td>-0.000009</td>\n",
       "      <td>3306.0</td>\n",
       "      <td>54922.0</td>\n",
       "      <td>491.0</td>\n",
       "    </tr>\n",
       "    <tr>\n",
       "      <th>1</th>\n",
       "      <td>1.237650e+18</td>\n",
       "      <td>183.598371</td>\n",
       "      <td>0.135285</td>\n",
       "      <td>18.66280</td>\n",
       "      <td>17.21449</td>\n",
       "      <td>16.67637</td>\n",
       "      <td>16.48922</td>\n",
       "      <td>16.39150</td>\n",
       "      <td>752.0</td>\n",
       "      <td>301.0</td>\n",
       "      <td>4.0</td>\n",
       "      <td>267.0</td>\n",
       "      <td>3.638140e+17</td>\n",
       "      <td>2</td>\n",
       "      <td>-0.000055</td>\n",
       "      <td>323.0</td>\n",
       "      <td>51615.0</td>\n",
       "      <td>541.0</td>\n",
       "    </tr>\n",
       "    <tr>\n",
       "      <th>2</th>\n",
       "      <td>1.237650e+18</td>\n",
       "      <td>183.680207</td>\n",
       "      <td>0.126185</td>\n",
       "      <td>19.38298</td>\n",
       "      <td>18.19169</td>\n",
       "      <td>17.47428</td>\n",
       "      <td>17.08732</td>\n",
       "      <td>16.80125</td>\n",
       "      <td>752.0</td>\n",
       "      <td>301.0</td>\n",
       "      <td>4.0</td>\n",
       "      <td>268.0</td>\n",
       "      <td>3.232740e+17</td>\n",
       "      <td>0</td>\n",
       "      <td>0.123111</td>\n",
       "      <td>287.0</td>\n",
       "      <td>52023.0</td>\n",
       "      <td>513.0</td>\n",
       "    </tr>\n",
       "    <tr>\n",
       "      <th>3</th>\n",
       "      <td>1.237650e+18</td>\n",
       "      <td>183.870529</td>\n",
       "      <td>0.049911</td>\n",
       "      <td>17.76536</td>\n",
       "      <td>16.60272</td>\n",
       "      <td>16.16116</td>\n",
       "      <td>15.98233</td>\n",
       "      <td>15.90438</td>\n",
       "      <td>752.0</td>\n",
       "      <td>301.0</td>\n",
       "      <td>4.0</td>\n",
       "      <td>269.0</td>\n",
       "      <td>3.722370e+18</td>\n",
       "      <td>2</td>\n",
       "      <td>-0.000111</td>\n",
       "      <td>3306.0</td>\n",
       "      <td>54922.0</td>\n",
       "      <td>510.0</td>\n",
       "    </tr>\n",
       "    <tr>\n",
       "      <th>4</th>\n",
       "      <td>1.237650e+18</td>\n",
       "      <td>183.883288</td>\n",
       "      <td>0.102557</td>\n",
       "      <td>17.55025</td>\n",
       "      <td>16.26342</td>\n",
       "      <td>16.43869</td>\n",
       "      <td>16.55492</td>\n",
       "      <td>16.61326</td>\n",
       "      <td>752.0</td>\n",
       "      <td>301.0</td>\n",
       "      <td>4.0</td>\n",
       "      <td>269.0</td>\n",
       "      <td>3.722370e+18</td>\n",
       "      <td>2</td>\n",
       "      <td>0.000590</td>\n",
       "      <td>3306.0</td>\n",
       "      <td>54922.0</td>\n",
       "      <td>512.0</td>\n",
       "    </tr>\n",
       "    <tr>\n",
       "      <th>...</th>\n",
       "      <td>...</td>\n",
       "      <td>...</td>\n",
       "      <td>...</td>\n",
       "      <td>...</td>\n",
       "      <td>...</td>\n",
       "      <td>...</td>\n",
       "      <td>...</td>\n",
       "      <td>...</td>\n",
       "      <td>...</td>\n",
       "      <td>...</td>\n",
       "      <td>...</td>\n",
       "      <td>...</td>\n",
       "      <td>...</td>\n",
       "      <td>...</td>\n",
       "      <td>...</td>\n",
       "      <td>...</td>\n",
       "      <td>...</td>\n",
       "      <td>...</td>\n",
       "    </tr>\n",
       "    <tr>\n",
       "      <th>8412</th>\n",
       "      <td>1.237650e+18</td>\n",
       "      <td>130.778930</td>\n",
       "      <td>0.962776</td>\n",
       "      <td>19.15103</td>\n",
       "      <td>17.32718</td>\n",
       "      <td>16.49546</td>\n",
       "      <td>16.10516</td>\n",
       "      <td>15.84143</td>\n",
       "      <td>1239.0</td>\n",
       "      <td>301.0</td>\n",
       "      <td>6.0</td>\n",
       "      <td>70.0</td>\n",
       "      <td>5.259040e+17</td>\n",
       "      <td>0</td>\n",
       "      <td>0.076989</td>\n",
       "      <td>467.0</td>\n",
       "      <td>51901.0</td>\n",
       "      <td>396.0</td>\n",
       "    </tr>\n",
       "    <tr>\n",
       "      <th>8413</th>\n",
       "      <td>1.237650e+18</td>\n",
       "      <td>130.841677</td>\n",
       "      <td>0.999005</td>\n",
       "      <td>18.95358</td>\n",
       "      <td>17.54726</td>\n",
       "      <td>16.75322</td>\n",
       "      <td>16.35117</td>\n",
       "      <td>16.08986</td>\n",
       "      <td>1239.0</td>\n",
       "      <td>301.0</td>\n",
       "      <td>6.0</td>\n",
       "      <td>70.0</td>\n",
       "      <td>5.259020e+17</td>\n",
       "      <td>0</td>\n",
       "      <td>0.110381</td>\n",
       "      <td>467.0</td>\n",
       "      <td>51901.0</td>\n",
       "      <td>387.0</td>\n",
       "    </tr>\n",
       "    <tr>\n",
       "      <th>8414</th>\n",
       "      <td>1.237650e+18</td>\n",
       "      <td>130.852163</td>\n",
       "      <td>0.951573</td>\n",
       "      <td>18.59335</td>\n",
       "      <td>16.53429</td>\n",
       "      <td>15.48791</td>\n",
       "      <td>14.98926</td>\n",
       "      <td>14.61014</td>\n",
       "      <td>1239.0</td>\n",
       "      <td>301.0</td>\n",
       "      <td>6.0</td>\n",
       "      <td>70.0</td>\n",
       "      <td>5.259020e+17</td>\n",
       "      <td>0</td>\n",
       "      <td>0.096327</td>\n",
       "      <td>467.0</td>\n",
       "      <td>51901.0</td>\n",
       "      <td>389.0</td>\n",
       "    </tr>\n",
       "    <tr>\n",
       "      <th>8415</th>\n",
       "      <td>1.237650e+18</td>\n",
       "      <td>131.078028</td>\n",
       "      <td>0.886101</td>\n",
       "      <td>18.64174</td>\n",
       "      <td>18.91801</td>\n",
       "      <td>19.41393</td>\n",
       "      <td>19.77970</td>\n",
       "      <td>20.10166</td>\n",
       "      <td>1239.0</td>\n",
       "      <td>301.0</td>\n",
       "      <td>6.0</td>\n",
       "      <td>72.0</td>\n",
       "      <td>4.289760e+18</td>\n",
       "      <td>2</td>\n",
       "      <td>0.000220</td>\n",
       "      <td>3810.0</td>\n",
       "      <td>56015.0</td>\n",
       "      <td>286.0</td>\n",
       "    </tr>\n",
       "    <tr>\n",
       "      <th>8416</th>\n",
       "      <td>1.237650e+18</td>\n",
       "      <td>131.145721</td>\n",
       "      <td>0.921603</td>\n",
       "      <td>18.01667</td>\n",
       "      <td>17.71583</td>\n",
       "      <td>17.63513</td>\n",
       "      <td>17.56084</td>\n",
       "      <td>17.53474</td>\n",
       "      <td>1239.0</td>\n",
       "      <td>301.0</td>\n",
       "      <td>6.0</td>\n",
       "      <td>72.0</td>\n",
       "      <td>5.259140e+17</td>\n",
       "      <td>1</td>\n",
       "      <td>0.439289</td>\n",
       "      <td>467.0</td>\n",
       "      <td>51901.0</td>\n",
       "      <td>433.0</td>\n",
       "    </tr>\n",
       "  </tbody>\n",
       "</table>\n",
       "<p>8417 rows × 18 columns</p>\n",
       "</div>"
      ],
      "text/plain": [
       "             objid          ra       dec         u         g         r  \\\n",
       "0     1.237650e+18  183.531326  0.089693  19.47406  17.04240  15.94699   \n",
       "1     1.237650e+18  183.598371  0.135285  18.66280  17.21449  16.67637   \n",
       "2     1.237650e+18  183.680207  0.126185  19.38298  18.19169  17.47428   \n",
       "3     1.237650e+18  183.870529  0.049911  17.76536  16.60272  16.16116   \n",
       "4     1.237650e+18  183.883288  0.102557  17.55025  16.26342  16.43869   \n",
       "...            ...         ...       ...       ...       ...       ...   \n",
       "8412  1.237650e+18  130.778930  0.962776  19.15103  17.32718  16.49546   \n",
       "8413  1.237650e+18  130.841677  0.999005  18.95358  17.54726  16.75322   \n",
       "8414  1.237650e+18  130.852163  0.951573  18.59335  16.53429  15.48791   \n",
       "8415  1.237650e+18  131.078028  0.886101  18.64174  18.91801  19.41393   \n",
       "8416  1.237650e+18  131.145721  0.921603  18.01667  17.71583  17.63513   \n",
       "\n",
       "             i         z     run  rerun  camcol  field     specobjid  class  \\\n",
       "0     15.50342  15.22531   752.0  301.0     4.0  267.0  3.722360e+18      2   \n",
       "1     16.48922  16.39150   752.0  301.0     4.0  267.0  3.638140e+17      2   \n",
       "2     17.08732  16.80125   752.0  301.0     4.0  268.0  3.232740e+17      0   \n",
       "3     15.98233  15.90438   752.0  301.0     4.0  269.0  3.722370e+18      2   \n",
       "4     16.55492  16.61326   752.0  301.0     4.0  269.0  3.722370e+18      2   \n",
       "...        ...       ...     ...    ...     ...    ...           ...    ...   \n",
       "8412  16.10516  15.84143  1239.0  301.0     6.0   70.0  5.259040e+17      0   \n",
       "8413  16.35117  16.08986  1239.0  301.0     6.0   70.0  5.259020e+17      0   \n",
       "8414  14.98926  14.61014  1239.0  301.0     6.0   70.0  5.259020e+17      0   \n",
       "8415  19.77970  20.10166  1239.0  301.0     6.0   72.0  4.289760e+18      2   \n",
       "8416  17.56084  17.53474  1239.0  301.0     6.0   72.0  5.259140e+17      1   \n",
       "\n",
       "      redshift   plate      mjd  fiberid  \n",
       "0    -0.000009  3306.0  54922.0    491.0  \n",
       "1    -0.000055   323.0  51615.0    541.0  \n",
       "2     0.123111   287.0  52023.0    513.0  \n",
       "3    -0.000111  3306.0  54922.0    510.0  \n",
       "4     0.000590  3306.0  54922.0    512.0  \n",
       "...        ...     ...      ...      ...  \n",
       "8412  0.076989   467.0  51901.0    396.0  \n",
       "8413  0.110381   467.0  51901.0    387.0  \n",
       "8414  0.096327   467.0  51901.0    389.0  \n",
       "8415  0.000220  3810.0  56015.0    286.0  \n",
       "8416  0.439289   467.0  51901.0    433.0  \n",
       "\n",
       "[8417 rows x 18 columns]"
      ]
     },
     "execution_count": 11,
     "metadata": {},
     "output_type": "execute_result"
    }
   ],
   "source": [
    "sky"
   ]
  },
  {
   "cell_type": "code",
   "execution_count": 12,
   "metadata": {},
   "outputs": [
    {
     "data": {
      "text/plain": [
       "objid        float64\n",
       "ra           float64\n",
       "dec          float64\n",
       "u            float64\n",
       "g            float64\n",
       "r            float64\n",
       "i            float64\n",
       "z            float64\n",
       "run          float64\n",
       "rerun        float64\n",
       "camcol       float64\n",
       "field        float64\n",
       "specobjid    float64\n",
       "class          int32\n",
       "redshift     float64\n",
       "plate        float64\n",
       "mjd          float64\n",
       "fiberid      float64\n",
       "dtype: object"
      ]
     },
     "execution_count": 12,
     "metadata": {},
     "output_type": "execute_result"
    }
   ],
   "source": [
    "sky.dtypes"
   ]
  },
  {
   "cell_type": "code",
   "execution_count": 13,
   "metadata": {},
   "outputs": [
    {
     "data": {
      "text/plain": [
       "objid        1.000178\n",
       "ra          -1.196442\n",
       "dec          1.488789\n",
       "u           -1.218973\n",
       "g           -0.541467\n",
       "r           -0.014741\n",
       "i            0.303195\n",
       "z            0.196327\n",
       "run          0.539451\n",
       "rerun        0.000000\n",
       "camcol      -0.107280\n",
       "field        0.261513\n",
       "specobjid    1.797436\n",
       "class        0.171462\n",
       "redshift     4.370244\n",
       "plate        1.797420\n",
       "mjd          1.049550\n",
       "fiberid      0.333279\n",
       "dtype: float64"
      ]
     },
     "execution_count": 13,
     "metadata": {},
     "output_type": "execute_result"
    }
   ],
   "source": [
    "sky.skew()"
   ]
  },
  {
   "cell_type": "code",
   "execution_count": 14,
   "metadata": {},
   "outputs": [
    {
     "data": {
      "text/plain": [
       "objid           AxesSubplot(0.125,0.816017;0.133621x0.0639831)\n",
       "ra           AxesSubplot(0.285345,0.816017;0.133621x0.0639831)\n",
       "dec           AxesSubplot(0.44569,0.816017;0.133621x0.0639831)\n",
       "u            AxesSubplot(0.606034,0.816017;0.133621x0.0639831)\n",
       "g            AxesSubplot(0.766379,0.816017;0.133621x0.0639831)\n",
       "r               AxesSubplot(0.125,0.739237;0.133621x0.0639831)\n",
       "i            AxesSubplot(0.285345,0.739237;0.133621x0.0639831)\n",
       "z             AxesSubplot(0.44569,0.739237;0.133621x0.0639831)\n",
       "run          AxesSubplot(0.606034,0.739237;0.133621x0.0639831)\n",
       "rerun        AxesSubplot(0.766379,0.739237;0.133621x0.0639831)\n",
       "camcol          AxesSubplot(0.125,0.662458;0.133621x0.0639831)\n",
       "field        AxesSubplot(0.285345,0.662458;0.133621x0.0639831)\n",
       "specobjid     AxesSubplot(0.44569,0.662458;0.133621x0.0639831)\n",
       "class        AxesSubplot(0.606034,0.662458;0.133621x0.0639831)\n",
       "redshift     AxesSubplot(0.766379,0.662458;0.133621x0.0639831)\n",
       "plate           AxesSubplot(0.125,0.585678;0.133621x0.0639831)\n",
       "mjd          AxesSubplot(0.285345,0.585678;0.133621x0.0639831)\n",
       "fiberid       AxesSubplot(0.44569,0.585678;0.133621x0.0639831)\n",
       "dtype: object"
      ]
     },
     "execution_count": 14,
     "metadata": {},
     "output_type": "execute_result"
    },
    {
     "data": {
      "image/png": "[encoded data removed]",
      "text/plain": [
       "<Figure size 1296x1296 with 50 Axes>"
      ]
     },
     "metadata": {
      "needs_background": "light"
     },
     "output_type": "display_data"
    }
   ],
   "source": [
    "sky.plot(kind=\"box\",subplots = True,layout=(10,5),figsize=(18,18))"
   ]
  },
  {
   "cell_type": "code",
   "execution_count": 15,
   "metadata": {},
   "outputs": [
    {
     "data": {
      "text/plain": [
       "1.237650e+18    8417\n",
       "Name: objid, dtype: int64"
      ]
     },
     "execution_count": 15,
     "metadata": {},
     "output_type": "execute_result"
    }
   ],
   "source": [
    "sky['objid'].value_counts() # we can drop this column as all the values are same"
   ]
  },
  {
   "cell_type": "code",
   "execution_count": 16,
   "metadata": {},
   "outputs": [],
   "source": [
    "sky.drop('objid',axis=1,inplace= True)"
   ]
  },
  {
   "cell_type": "code",
   "execution_count": 17,
   "metadata": {},
   "outputs": [
    {
     "data": {
      "text/plain": [
       "2.881220e+18    18\n",
       "2.881270e+18    18\n",
       "3.222410e+18    17\n",
       "3.222370e+18    16\n",
       "2.881250e+18    16\n",
       "                ..\n",
       "4.315780e+18     1\n",
       "4.988460e+17     1\n",
       "4.841730e+17     1\n",
       "3.885350e+17     1\n",
       "3.716180e+17     1\n",
       "Name: specobjid, Length: 5404, dtype: int64"
      ]
     },
     "execution_count": 17,
     "metadata": {},
     "output_type": "execute_result"
    }
   ],
   "source": [
    "sky['specobjid'].value_counts()"
   ]
  },
  {
   "cell_type": "code",
   "execution_count": 18,
   "metadata": {},
   "outputs": [
    {
     "data": {
      "text/html": [
       "<div>\n",
       "<style scoped>\n",
       "    .dataframe tbody tr th:only-of-type {\n",
       "        vertical-align: middle;\n",
       "    }\n",
       "\n",
       "    .dataframe tbody tr th {\n",
       "        vertical-align: top;\n",
       "    }\n",
       "\n",
       "    .dataframe thead th {\n",
       "        text-align: right;\n",
       "    }\n",
       "</style>\n",
       "<table border=\"1\" class=\"dataframe\">\n",
       "  <thead>\n",
       "    <tr style=\"text-align: right;\">\n",
       "      <th></th>\n",
       "      <th>ra</th>\n",
       "      <th>dec</th>\n",
       "      <th>u</th>\n",
       "      <th>g</th>\n",
       "      <th>r</th>\n",
       "      <th>i</th>\n",
       "      <th>z</th>\n",
       "      <th>run</th>\n",
       "      <th>rerun</th>\n",
       "      <th>camcol</th>\n",
       "      <th>field</th>\n",
       "      <th>specobjid</th>\n",
       "      <th>class</th>\n",
       "      <th>redshift</th>\n",
       "      <th>plate</th>\n",
       "      <th>mjd</th>\n",
       "      <th>fiberid</th>\n",
       "    </tr>\n",
       "  </thead>\n",
       "  <tbody>\n",
       "    <tr>\n",
       "      <th>0</th>\n",
       "      <td>183.531326</td>\n",
       "      <td>0.089693</td>\n",
       "      <td>19.47406</td>\n",
       "      <td>17.04240</td>\n",
       "      <td>15.94699</td>\n",
       "      <td>15.50342</td>\n",
       "      <td>15.22531</td>\n",
       "      <td>752.0</td>\n",
       "      <td>301.0</td>\n",
       "      <td>4.0</td>\n",
       "      <td>267.0</td>\n",
       "      <td>3.722360e+18</td>\n",
       "      <td>2</td>\n",
       "      <td>-0.000009</td>\n",
       "      <td>3306.0</td>\n",
       "      <td>54922.0</td>\n",
       "      <td>491.0</td>\n",
       "    </tr>\n",
       "    <tr>\n",
       "      <th>1</th>\n",
       "      <td>183.598371</td>\n",
       "      <td>0.135285</td>\n",
       "      <td>18.66280</td>\n",
       "      <td>17.21449</td>\n",
       "      <td>16.67637</td>\n",
       "      <td>16.48922</td>\n",
       "      <td>16.39150</td>\n",
       "      <td>752.0</td>\n",
       "      <td>301.0</td>\n",
       "      <td>4.0</td>\n",
       "      <td>267.0</td>\n",
       "      <td>3.638140e+17</td>\n",
       "      <td>2</td>\n",
       "      <td>-0.000055</td>\n",
       "      <td>323.0</td>\n",
       "      <td>51615.0</td>\n",
       "      <td>541.0</td>\n",
       "    </tr>\n",
       "    <tr>\n",
       "      <th>2</th>\n",
       "      <td>183.680207</td>\n",
       "      <td>0.126185</td>\n",
       "      <td>19.38298</td>\n",
       "      <td>18.19169</td>\n",
       "      <td>17.47428</td>\n",
       "      <td>17.08732</td>\n",
       "      <td>16.80125</td>\n",
       "      <td>752.0</td>\n",
       "      <td>301.0</td>\n",
       "      <td>4.0</td>\n",
       "      <td>268.0</td>\n",
       "      <td>3.232740e+17</td>\n",
       "      <td>0</td>\n",
       "      <td>0.123111</td>\n",
       "      <td>287.0</td>\n",
       "      <td>52023.0</td>\n",
       "      <td>513.0</td>\n",
       "    </tr>\n",
       "    <tr>\n",
       "      <th>3</th>\n",
       "      <td>183.870529</td>\n",
       "      <td>0.049911</td>\n",
       "      <td>17.76536</td>\n",
       "      <td>16.60272</td>\n",
       "      <td>16.16116</td>\n",
       "      <td>15.98233</td>\n",
       "      <td>15.90438</td>\n",
       "      <td>752.0</td>\n",
       "      <td>301.0</td>\n",
       "      <td>4.0</td>\n",
       "      <td>269.0</td>\n",
       "      <td>3.722370e+18</td>\n",
       "      <td>2</td>\n",
       "      <td>-0.000111</td>\n",
       "      <td>3306.0</td>\n",
       "      <td>54922.0</td>\n",
       "      <td>510.0</td>\n",
       "    </tr>\n",
       "    <tr>\n",
       "      <th>4</th>\n",
       "      <td>183.883288</td>\n",
       "      <td>0.102557</td>\n",
       "      <td>17.55025</td>\n",
       "      <td>16.26342</td>\n",
       "      <td>16.43869</td>\n",
       "      <td>16.55492</td>\n",
       "      <td>16.61326</td>\n",
       "      <td>752.0</td>\n",
       "      <td>301.0</td>\n",
       "      <td>4.0</td>\n",
       "      <td>269.0</td>\n",
       "      <td>3.722370e+18</td>\n",
       "      <td>2</td>\n",
       "      <td>0.000590</td>\n",
       "      <td>3306.0</td>\n",
       "      <td>54922.0</td>\n",
       "      <td>512.0</td>\n",
       "    </tr>\n",
       "    <tr>\n",
       "      <th>...</th>\n",
       "      <td>...</td>\n",
       "      <td>...</td>\n",
       "      <td>...</td>\n",
       "      <td>...</td>\n",
       "      <td>...</td>\n",
       "      <td>...</td>\n",
       "      <td>...</td>\n",
       "      <td>...</td>\n",
       "      <td>...</td>\n",
       "      <td>...</td>\n",
       "      <td>...</td>\n",
       "      <td>...</td>\n",
       "      <td>...</td>\n",
       "      <td>...</td>\n",
       "      <td>...</td>\n",
       "      <td>...</td>\n",
       "      <td>...</td>\n",
       "    </tr>\n",
       "    <tr>\n",
       "      <th>8412</th>\n",
       "      <td>130.778930</td>\n",
       "      <td>0.962776</td>\n",
       "      <td>19.15103</td>\n",
       "      <td>17.32718</td>\n",
       "      <td>16.49546</td>\n",
       "      <td>16.10516</td>\n",
       "      <td>15.84143</td>\n",
       "      <td>1239.0</td>\n",
       "      <td>301.0</td>\n",
       "      <td>6.0</td>\n",
       "      <td>70.0</td>\n",
       "      <td>5.259040e+17</td>\n",
       "      <td>0</td>\n",
       "      <td>0.076989</td>\n",
       "      <td>467.0</td>\n",
       "      <td>51901.0</td>\n",
       "      <td>396.0</td>\n",
       "    </tr>\n",
       "    <tr>\n",
       "      <th>8413</th>\n",
       "      <td>130.841677</td>\n",
       "      <td>0.999005</td>\n",
       "      <td>18.95358</td>\n",
       "      <td>17.54726</td>\n",
       "      <td>16.75322</td>\n",
       "      <td>16.35117</td>\n",
       "      <td>16.08986</td>\n",
       "      <td>1239.0</td>\n",
       "      <td>301.0</td>\n",
       "      <td>6.0</td>\n",
       "      <td>70.0</td>\n",
       "      <td>5.259020e+17</td>\n",
       "      <td>0</td>\n",
       "      <td>0.110381</td>\n",
       "      <td>467.0</td>\n",
       "      <td>51901.0</td>\n",
       "      <td>387.0</td>\n",
       "    </tr>\n",
       "    <tr>\n",
       "      <th>8414</th>\n",
       "      <td>130.852163</td>\n",
       "      <td>0.951573</td>\n",
       "      <td>18.59335</td>\n",
       "      <td>16.53429</td>\n",
       "      <td>15.48791</td>\n",
       "      <td>14.98926</td>\n",
       "      <td>14.61014</td>\n",
       "      <td>1239.0</td>\n",
       "      <td>301.0</td>\n",
       "      <td>6.0</td>\n",
       "      <td>70.0</td>\n",
       "      <td>5.259020e+17</td>\n",
       "      <td>0</td>\n",
       "      <td>0.096327</td>\n",
       "      <td>467.0</td>\n",
       "      <td>51901.0</td>\n",
       "      <td>389.0</td>\n",
       "    </tr>\n",
       "    <tr>\n",
       "      <th>8415</th>\n",
       "      <td>131.078028</td>\n",
       "      <td>0.886101</td>\n",
       "      <td>18.64174</td>\n",
       "      <td>18.91801</td>\n",
       "      <td>19.41393</td>\n",
       "      <td>19.77970</td>\n",
       "      <td>20.10166</td>\n",
       "      <td>1239.0</td>\n",
       "      <td>301.0</td>\n",
       "      <td>6.0</td>\n",
       "      <td>72.0</td>\n",
       "      <td>4.289760e+18</td>\n",
       "      <td>2</td>\n",
       "      <td>0.000220</td>\n",
       "      <td>3810.0</td>\n",
       "      <td>56015.0</td>\n",
       "      <td>286.0</td>\n",
       "    </tr>\n",
       "    <tr>\n",
       "      <th>8416</th>\n",
       "      <td>131.145721</td>\n",
       "      <td>0.921603</td>\n",
       "      <td>18.01667</td>\n",
       "      <td>17.71583</td>\n",
       "      <td>17.63513</td>\n",
       "      <td>17.56084</td>\n",
       "      <td>17.53474</td>\n",
       "      <td>1239.0</td>\n",
       "      <td>301.0</td>\n",
       "      <td>6.0</td>\n",
       "      <td>72.0</td>\n",
       "      <td>5.259140e+17</td>\n",
       "      <td>1</td>\n",
       "      <td>0.439289</td>\n",
       "      <td>467.0</td>\n",
       "      <td>51901.0</td>\n",
       "      <td>433.0</td>\n",
       "    </tr>\n",
       "  </tbody>\n",
       "</table>\n",
       "<p>8417 rows × 17 columns</p>\n",
       "</div>"
      ],
      "text/plain": [
       "              ra       dec         u         g         r         i         z  \\\n",
       "0     183.531326  0.089693  19.47406  17.04240  15.94699  15.50342  15.22531   \n",
       "1     183.598371  0.135285  18.66280  17.21449  16.67637  16.48922  16.39150   \n",
       "2     183.680207  0.126185  19.38298  18.19169  17.47428  17.08732  16.80125   \n",
       "3     183.870529  0.049911  17.76536  16.60272  16.16116  15.98233  15.90438   \n",
       "4     183.883288  0.102557  17.55025  16.26342  16.43869  16.55492  16.61326   \n",
       "...          ...       ...       ...       ...       ...       ...       ...   \n",
       "8412  130.778930  0.962776  19.15103  17.32718  16.49546  16.10516  15.84143   \n",
       "8413  130.841677  0.999005  18.95358  17.54726  16.75322  16.35117  16.08986   \n",
       "8414  130.852163  0.951573  18.59335  16.53429  15.48791  14.98926  14.61014   \n",
       "8415  131.078028  0.886101  18.64174  18.91801  19.41393  19.77970  20.10166   \n",
       "8416  131.145721  0.921603  18.01667  17.71583  17.63513  17.56084  17.53474   \n",
       "\n",
       "         run  rerun  camcol  field     specobjid  class  redshift   plate  \\\n",
       "0      752.0  301.0     4.0  267.0  3.722360e+18      2 -0.000009  3306.0   \n",
       "1      752.0  301.0     4.0  267.0  3.638140e+17      2 -0.000055   323.0   \n",
       "2      752.0  301.0     4.0  268.0  3.232740e+17      0  0.123111   287.0   \n",
       "3      752.0  301.0     4.0  269.0  3.722370e+18      2 -0.000111  3306.0   \n",
       "4      752.0  301.0     4.0  269.0  3.722370e+18      2  0.000590  3306.0   \n",
       "...      ...    ...     ...    ...           ...    ...       ...     ...   \n",
       "8412  1239.0  301.0     6.0   70.0  5.259040e+17      0  0.076989   467.0   \n",
       "8413  1239.0  301.0     6.0   70.0  5.259020e+17      0  0.110381   467.0   \n",
       "8414  1239.0  301.0     6.0   70.0  5.259020e+17      0  0.096327   467.0   \n",
       "8415  1239.0  301.0     6.0   72.0  4.289760e+18      2  0.000220  3810.0   \n",
       "8416  1239.0  301.0     6.0   72.0  5.259140e+17      1  0.439289   467.0   \n",
       "\n",
       "          mjd  fiberid  \n",
       "0     54922.0    491.0  \n",
       "1     51615.0    541.0  \n",
       "2     52023.0    513.0  \n",
       "3     54922.0    510.0  \n",
       "4     54922.0    512.0  \n",
       "...       ...      ...  \n",
       "8412  51901.0    396.0  \n",
       "8413  51901.0    387.0  \n",
       "8414  51901.0    389.0  \n",
       "8415  56015.0    286.0  \n",
       "8416  51901.0    433.0  \n",
       "\n",
       "[8417 rows x 17 columns]"
      ]
     },
     "execution_count": 18,
     "metadata": {},
     "output_type": "execute_result"
    }
   ],
   "source": [
    "sky"
   ]
  },
  {
   "cell_type": "code",
   "execution_count": 19,
   "metadata": {},
   "outputs": [
    {
     "data": {
      "text/plain": [
       "array([ 752.,  756.,  308.,  727.,  745., 1035., 1045., 1140., 1231.,\n",
       "       1332., 1334., 1302., 1239., 1119., 1331., 1345., 1350., 1404.,\n",
       "       1412., 1336., 1402.])"
      ]
     },
     "execution_count": 19,
     "metadata": {},
     "output_type": "execute_result"
    }
   ],
   "source": [
    "sky['run'].unique()"
   ]
  },
  {
   "cell_type": "code",
   "execution_count": 20,
   "metadata": {},
   "outputs": [
    {
     "data": {
      "text/plain": [
       "array([301.])"
      ]
     },
     "execution_count": 20,
     "metadata": {},
     "output_type": "execute_result"
    }
   ],
   "source": [
    "sky['rerun'].unique()"
   ]
  },
  {
   "cell_type": "code",
   "execution_count": 21,
   "metadata": {},
   "outputs": [],
   "source": [
    "sky.drop('rerun',axis=1,inplace= True) # since rerun has same values in all fields"
   ]
  },
  {
   "cell_type": "code",
   "execution_count": 22,
   "metadata": {},
   "outputs": [
    {
     "data": {
      "text/plain": [
       "array([4., 2., 1., 5., 6., 3.])"
      ]
     },
     "execution_count": 22,
     "metadata": {},
     "output_type": "execute_result"
    }
   ],
   "source": [
    "sky['camcol'].unique()"
   ]
  },
  {
   "cell_type": "code",
   "execution_count": 23,
   "metadata": {},
   "outputs": [
    {
     "data": {
      "text/plain": [
       "<matplotlib.axes._subplots.AxesSubplot at 0x2498d4afc48>"
      ]
     },
     "execution_count": 23,
     "metadata": {},
     "output_type": "execute_result"
    },
    {
     "data": {
      "image/png": "[encoded data removed]",
      "text/plain": [
       "<Figure size 432x288 with 1 Axes>"
      ]
     },
     "metadata": {
      "needs_background": "light"
     },
     "output_type": "display_data"
    }
   ],
   "source": [
    "sns.distplot(sky['run']) # data should be normalisd"
   ]
  },
  {
   "cell_type": "code",
   "execution_count": 24,
   "metadata": {},
   "outputs": [
    {
     "data": {
      "text/plain": [
       "<matplotlib.axes._subplots.AxesSubplot at 0x2498dab15c8>"
      ]
     },
     "execution_count": 24,
     "metadata": {},
     "output_type": "execute_result"
    },
    {
     "data": {
      "image/png": "[encoded data removed]",
      "text/plain": [
       "<Figure size 432x288 with 1 Axes>"
      ]
     },
     "metadata": {
      "needs_background": "light"
     },
     "output_type": "display_data"
    }
   ],
   "source": [
    "sns.distplot(sky['ra']) # skeewed data"
   ]
  },
  {
   "cell_type": "code",
   "execution_count": 25,
   "metadata": {},
   "outputs": [
    {
     "data": {
      "text/plain": [
       "<matplotlib.axes._subplots.AxesSubplot at 0x2498ed62f08>"
      ]
     },
     "execution_count": 25,
     "metadata": {},
     "output_type": "execute_result"
    },
    {
     "data": {
      "image/png": "[encoded data removed]",
      "text/plain": [
       "<Figure size 432x288 with 1 Axes>"
      ]
     },
     "metadata": {
      "needs_background": "light"
     },
     "output_type": "display_data"
    }
   ],
   "source": [
    "sns.distplot(sky['dec']) # skewed data "
   ]
  },
  {
   "cell_type": "code",
   "execution_count": 26,
   "metadata": {},
   "outputs": [
    {
     "data": {
      "text/plain": [
       "<matplotlib.axes._subplots.AxesSubplot at 0x2498eda4808>"
      ]
     },
     "execution_count": 26,
     "metadata": {},
     "output_type": "execute_result"
    },
    {
     "data": {
      "image/png": "[encoded data removed]",
      "text/plain": [
       "<Figure size 432x288 with 1 Axes>"
      ]
     },
     "metadata": {
      "needs_background": "light"
     },
     "output_type": "display_data"
    }
   ],
   "source": [
    "sns.distplot(sky['u']) # skewed data"
   ]
  },
  {
   "cell_type": "code",
   "execution_count": 27,
   "metadata": {},
   "outputs": [
    {
     "data": {
      "text/plain": [
       "<matplotlib.axes._subplots.AxesSubplot at 0x2498efb2f88>"
      ]
     },
     "execution_count": 27,
     "metadata": {},
     "output_type": "execute_result"
    },
    {
     "data": {
      "image/png": "[encoded data removed]",
      "text/plain": [
       "<Figure size 432x288 with 1 Axes>"
      ]
     },
     "metadata": {
      "needs_background": "light"
     },
     "output_type": "display_data"
    }
   ],
   "source": [
    "sns.distplot(sky['g']) # skewed data "
   ]
  },
  {
   "cell_type": "code",
   "execution_count": 28,
   "metadata": {},
   "outputs": [
    {
     "data": {
      "text/plain": [
       "<matplotlib.axes._subplots.AxesSubplot at 0x2498efe58c8>"
      ]
     },
     "execution_count": 28,
     "metadata": {},
     "output_type": "execute_result"
    },
    {
     "data": {
      "image/png": "[encoded data removed]",
      "text/plain": [
       "<Figure size 432x288 with 1 Axes>"
      ]
     },
     "metadata": {
      "needs_background": "light"
     },
     "output_type": "display_data"
    }
   ],
   "source": [
    "sns.distplot(sky['r']) # pretty much normal"
   ]
  },
  {
   "cell_type": "code",
   "execution_count": 29,
   "metadata": {},
   "outputs": [
    {
     "data": {
      "text/plain": [
       "<matplotlib.axes._subplots.AxesSubplot at 0x2498b5198c8>"
      ]
     },
     "execution_count": 29,
     "metadata": {},
     "output_type": "execute_result"
    },
    {
     "data": {
      "image/png": "[encoded data removed]",
      "text/plain": [
       "<Figure size 432x288 with 1 Axes>"
      ]
     },
     "metadata": {
      "needs_background": "light"
     },
     "output_type": "display_data"
    }
   ],
   "source": [
    "sns.distplot(sky['i']) # prettty much normal"
   ]
  },
  {
   "cell_type": "code",
   "execution_count": 30,
   "metadata": {},
   "outputs": [
    {
     "data": {
      "text/plain": [
       "<matplotlib.axes._subplots.AxesSubplot at 0x2498f18e588>"
      ]
     },
     "execution_count": 30,
     "metadata": {},
     "output_type": "execute_result"
    },
    {
     "data": {
      "image/png": "[encoded data removed]",
      "text/plain": [
       "<Figure size 432x288 with 1 Axes>"
      ]
     },
     "metadata": {
      "needs_background": "light"
     },
     "output_type": "display_data"
    }
   ],
   "source": [
    "sns.distplot(sky['z']) # pretty much normal"
   ]
  },
  {
   "cell_type": "code",
   "execution_count": 31,
   "metadata": {},
   "outputs": [
    {
     "data": {
      "text/plain": [
       "<matplotlib.axes._subplots.AxesSubplot at 0x2498ba86e48>"
      ]
     },
     "execution_count": 31,
     "metadata": {},
     "output_type": "execute_result"
    },
    {
     "data": {
      "image/png": "[encoded data removed]",
      "text/plain": [
       "<Figure size 432x288 with 1 Axes>"
      ]
     },
     "metadata": {
      "needs_background": "light"
     },
     "output_type": "display_data"
    }
   ],
   "source": [
    "sns.distplot(sky['field']) # should be treated"
   ]
  },
  {
   "cell_type": "code",
   "execution_count": 32,
   "metadata": {},
   "outputs": [
    {
     "data": {
      "text/plain": [
       "<matplotlib.axes._subplots.AxesSubplot at 0x2498f37d288>"
      ]
     },
     "execution_count": 32,
     "metadata": {},
     "output_type": "execute_result"
    },
    {
     "data": {
      "image/png": "[encoded data removed]",
      "text/plain": [
       "<Figure size 432x288 with 1 Axes>"
      ]
     },
     "metadata": {
      "needs_background": "light"
     },
     "output_type": "display_data"
    }
   ],
   "source": [
    "sns.distplot(sky['redshift']) # skewed should be treated"
   ]
  },
  {
   "cell_type": "code",
   "execution_count": 33,
   "metadata": {},
   "outputs": [
    {
     "data": {
      "text/plain": [
       "<matplotlib.axes._subplots.AxesSubplot at 0x249906cfe08>"
      ]
     },
     "execution_count": 33,
     "metadata": {},
     "output_type": "execute_result"
    },
    {
     "data": {
      "image/png": "[encoded data removed]",
      "text/plain": [
       "<Figure size 432x288 with 1 Axes>"
      ]
     },
     "metadata": {
      "needs_background": "light"
     },
     "output_type": "display_data"
    }
   ],
   "source": [
    "sns.distplot(sky['plate']) # should be treated"
   ]
  },
  {
   "cell_type": "code",
   "execution_count": 34,
   "metadata": {},
   "outputs": [
    {
     "data": {
      "text/plain": [
       "<matplotlib.axes._subplots.AxesSubplot at 0x2499078d5c8>"
      ]
     },
     "execution_count": 34,
     "metadata": {},
     "output_type": "execute_result"
    },
    {
     "data": {
      "image/png": "[encoded data removed]",
      "text/plain": [
       "<Figure size 432x288 with 1 Axes>"
      ]
     },
     "metadata": {
      "needs_background": "light"
     },
     "output_type": "display_data"
    }
   ],
   "source": [
    "sns.distplot(sky['mjd']) # should be treated"
   ]
  },
  {
   "cell_type": "code",
   "execution_count": 35,
   "metadata": {},
   "outputs": [
    {
     "data": {
      "text/plain": [
       "<matplotlib.axes._subplots.AxesSubplot at 0x24990853788>"
      ]
     },
     "execution_count": 35,
     "metadata": {},
     "output_type": "execute_result"
    },
    {
     "data": {
      "image/png": "[encoded data removed]",
      "text/plain": [
       "<Figure size 432x288 with 1 Axes>"
      ]
     },
     "metadata": {
      "needs_background": "light"
     },
     "output_type": "display_data"
    }
   ],
   "source": [
    "sns.distplot(sky['fiberid']) # should be treated"
   ]
  },
  {
   "cell_type": "code",
   "execution_count": 36,
   "metadata": {},
   "outputs": [
    {
     "data": {
      "text/plain": [
       "<matplotlib.axes._subplots.AxesSubplot at 0x2499092cf88>"
      ]
     },
     "execution_count": 36,
     "metadata": {},
     "output_type": "execute_result"
    },
    {
     "data": {
      "image/png": "[encoded data removed]",
      "text/plain": [
       "<Figure size 432x288 with 1 Axes>"
      ]
     },
     "metadata": {
      "needs_background": "light"
     },
     "output_type": "display_data"
    }
   ],
   "source": [
    "sns.distplot(sky['camcol'])"
   ]
  },
  {
   "cell_type": "code",
   "execution_count": 37,
   "metadata": {},
   "outputs": [
    {
     "data": {
      "text/plain": [
       "<matplotlib.axes._subplots.AxesSubplot at 0x24990910d48>"
      ]
     },
     "execution_count": 37,
     "metadata": {},
     "output_type": "execute_result"
    },
    {
     "data": {
      "image/png": "[encoded data removed]",
      "text/plain": [
       "<Figure size 432x288 with 1 Axes>"
      ]
     },
     "metadata": {
      "needs_background": "light"
     },
     "output_type": "display_data"
    }
   ],
   "source": [
    "sns.distplot(sky['specobjid']) # should be treated"
   ]
  },
  {
   "cell_type": "code",
   "execution_count": 38,
   "metadata": {},
   "outputs": [
    {
     "data": {
      "image/png": "[encoded data removed]",
      "text/plain": [
       "<Figure size 864x864 with 2 Axes>"
      ]
     },
     "metadata": {
      "needs_background": "light"
     },
     "output_type": "display_data"
    }
   ],
   "source": [
    "plt.figure(figsize=(12,12))\n",
    "sns.heatmap(sky.corr(),annot= True)\n",
    "plt.show()"
   ]
  },
  {
   "cell_type": "code",
   "execution_count": 39,
   "metadata": {},
   "outputs": [],
   "source": [
    "def correlation(dataset,threshold):\n",
    "    col_corr = set()\n",
    "    corr_matrix = dataset.corr()\n",
    "    for i in range(len(corr_matrix.columns)):\n",
    "        for j in range(i):\n",
    "            if abs(corr_matrix.iloc[i,j]) > threshold:\n",
    "                colname = corr_matrix.columns[i]\n",
    "                col_corr.add(colname)\n",
    "    return col_corr"
   ]
  },
  {
   "cell_type": "code",
   "execution_count": 40,
   "metadata": {},
   "outputs": [
    {
     "data": {
      "text/plain": [
       "5"
      ]
     },
     "execution_count": 40,
     "metadata": {},
     "output_type": "execute_result"
    }
   ],
   "source": [
    "corr_features = correlation(sky,0.95)\n",
    "len(set(corr_features))"
   ]
  },
  {
   "cell_type": "code",
   "execution_count": 41,
   "metadata": {},
   "outputs": [],
   "source": [
    "# here above function shows heavy correlation of more than 95% between the variables in the dataset , it could result in overfitting . Wise thing is to drop them\n"
   ]
  },
  {
   "cell_type": "code",
   "execution_count": 42,
   "metadata": {},
   "outputs": [
    {
     "data": {
      "text/plain": [
       "{'i', 'mjd', 'plate', 'r', 'z'}"
      ]
     },
     "execution_count": 42,
     "metadata": {},
     "output_type": "execute_result"
    }
   ],
   "source": [
    "corr_features"
   ]
  },
  {
   "cell_type": "code",
   "execution_count": 43,
   "metadata": {},
   "outputs": [],
   "source": [
    "sky_new = sky.drop(corr_features,axis=1)"
   ]
  },
  {
   "cell_type": "code",
   "execution_count": 44,
   "metadata": {},
   "outputs": [
    {
     "data": {
      "text/html": [
       "<div>\n",
       "<style scoped>\n",
       "    .dataframe tbody tr th:only-of-type {\n",
       "        vertical-align: middle;\n",
       "    }\n",
       "\n",
       "    .dataframe tbody tr th {\n",
       "        vertical-align: top;\n",
       "    }\n",
       "\n",
       "    .dataframe thead th {\n",
       "        text-align: right;\n",
       "    }\n",
       "</style>\n",
       "<table border=\"1\" class=\"dataframe\">\n",
       "  <thead>\n",
       "    <tr style=\"text-align: right;\">\n",
       "      <th></th>\n",
       "      <th>ra</th>\n",
       "      <th>dec</th>\n",
       "      <th>u</th>\n",
       "      <th>g</th>\n",
       "      <th>run</th>\n",
       "      <th>camcol</th>\n",
       "      <th>field</th>\n",
       "      <th>specobjid</th>\n",
       "      <th>class</th>\n",
       "      <th>redshift</th>\n",
       "      <th>fiberid</th>\n",
       "    </tr>\n",
       "  </thead>\n",
       "  <tbody>\n",
       "    <tr>\n",
       "      <th>0</th>\n",
       "      <td>183.531326</td>\n",
       "      <td>0.089693</td>\n",
       "      <td>19.47406</td>\n",
       "      <td>17.04240</td>\n",
       "      <td>752.0</td>\n",
       "      <td>4.0</td>\n",
       "      <td>267.0</td>\n",
       "      <td>3.722360e+18</td>\n",
       "      <td>2</td>\n",
       "      <td>-0.000009</td>\n",
       "      <td>491.0</td>\n",
       "    </tr>\n",
       "    <tr>\n",
       "      <th>1</th>\n",
       "      <td>183.598371</td>\n",
       "      <td>0.135285</td>\n",
       "      <td>18.66280</td>\n",
       "      <td>17.21449</td>\n",
       "      <td>752.0</td>\n",
       "      <td>4.0</td>\n",
       "      <td>267.0</td>\n",
       "      <td>3.638140e+17</td>\n",
       "      <td>2</td>\n",
       "      <td>-0.000055</td>\n",
       "      <td>541.0</td>\n",
       "    </tr>\n",
       "    <tr>\n",
       "      <th>2</th>\n",
       "      <td>183.680207</td>\n",
       "      <td>0.126185</td>\n",
       "      <td>19.38298</td>\n",
       "      <td>18.19169</td>\n",
       "      <td>752.0</td>\n",
       "      <td>4.0</td>\n",
       "      <td>268.0</td>\n",
       "      <td>3.232740e+17</td>\n",
       "      <td>0</td>\n",
       "      <td>0.123111</td>\n",
       "      <td>513.0</td>\n",
       "    </tr>\n",
       "    <tr>\n",
       "      <th>3</th>\n",
       "      <td>183.870529</td>\n",
       "      <td>0.049911</td>\n",
       "      <td>17.76536</td>\n",
       "      <td>16.60272</td>\n",
       "      <td>752.0</td>\n",
       "      <td>4.0</td>\n",
       "      <td>269.0</td>\n",
       "      <td>3.722370e+18</td>\n",
       "      <td>2</td>\n",
       "      <td>-0.000111</td>\n",
       "      <td>510.0</td>\n",
       "    </tr>\n",
       "    <tr>\n",
       "      <th>4</th>\n",
       "      <td>183.883288</td>\n",
       "      <td>0.102557</td>\n",
       "      <td>17.55025</td>\n",
       "      <td>16.26342</td>\n",
       "      <td>752.0</td>\n",
       "      <td>4.0</td>\n",
       "      <td>269.0</td>\n",
       "      <td>3.722370e+18</td>\n",
       "      <td>2</td>\n",
       "      <td>0.000590</td>\n",
       "      <td>512.0</td>\n",
       "    </tr>\n",
       "    <tr>\n",
       "      <th>...</th>\n",
       "      <td>...</td>\n",
       "      <td>...</td>\n",
       "      <td>...</td>\n",
       "      <td>...</td>\n",
       "      <td>...</td>\n",
       "      <td>...</td>\n",
       "      <td>...</td>\n",
       "      <td>...</td>\n",
       "      <td>...</td>\n",
       "      <td>...</td>\n",
       "      <td>...</td>\n",
       "    </tr>\n",
       "    <tr>\n",
       "      <th>8412</th>\n",
       "      <td>130.778930</td>\n",
       "      <td>0.962776</td>\n",
       "      <td>19.15103</td>\n",
       "      <td>17.32718</td>\n",
       "      <td>1239.0</td>\n",
       "      <td>6.0</td>\n",
       "      <td>70.0</td>\n",
       "      <td>5.259040e+17</td>\n",
       "      <td>0</td>\n",
       "      <td>0.076989</td>\n",
       "      <td>396.0</td>\n",
       "    </tr>\n",
       "    <tr>\n",
       "      <th>8413</th>\n",
       "      <td>130.841677</td>\n",
       "      <td>0.999005</td>\n",
       "      <td>18.95358</td>\n",
       "      <td>17.54726</td>\n",
       "      <td>1239.0</td>\n",
       "      <td>6.0</td>\n",
       "      <td>70.0</td>\n",
       "      <td>5.259020e+17</td>\n",
       "      <td>0</td>\n",
       "      <td>0.110381</td>\n",
       "      <td>387.0</td>\n",
       "    </tr>\n",
       "    <tr>\n",
       "      <th>8414</th>\n",
       "      <td>130.852163</td>\n",
       "      <td>0.951573</td>\n",
       "      <td>18.59335</td>\n",
       "      <td>16.53429</td>\n",
       "      <td>1239.0</td>\n",
       "      <td>6.0</td>\n",
       "      <td>70.0</td>\n",
       "      <td>5.259020e+17</td>\n",
       "      <td>0</td>\n",
       "      <td>0.096327</td>\n",
       "      <td>389.0</td>\n",
       "    </tr>\n",
       "    <tr>\n",
       "      <th>8415</th>\n",
       "      <td>131.078028</td>\n",
       "      <td>0.886101</td>\n",
       "      <td>18.64174</td>\n",
       "      <td>18.91801</td>\n",
       "      <td>1239.0</td>\n",
       "      <td>6.0</td>\n",
       "      <td>72.0</td>\n",
       "      <td>4.289760e+18</td>\n",
       "      <td>2</td>\n",
       "      <td>0.000220</td>\n",
       "      <td>286.0</td>\n",
       "    </tr>\n",
       "    <tr>\n",
       "      <th>8416</th>\n",
       "      <td>131.145721</td>\n",
       "      <td>0.921603</td>\n",
       "      <td>18.01667</td>\n",
       "      <td>17.71583</td>\n",
       "      <td>1239.0</td>\n",
       "      <td>6.0</td>\n",
       "      <td>72.0</td>\n",
       "      <td>5.259140e+17</td>\n",
       "      <td>1</td>\n",
       "      <td>0.439289</td>\n",
       "      <td>433.0</td>\n",
       "    </tr>\n",
       "  </tbody>\n",
       "</table>\n",
       "<p>8417 rows × 11 columns</p>\n",
       "</div>"
      ],
      "text/plain": [
       "              ra       dec         u         g     run  camcol  field  \\\n",
       "0     183.531326  0.089693  19.47406  17.04240   752.0     4.0  267.0   \n",
       "1     183.598371  0.135285  18.66280  17.21449   752.0     4.0  267.0   \n",
       "2     183.680207  0.126185  19.38298  18.19169   752.0     4.0  268.0   \n",
       "3     183.870529  0.049911  17.76536  16.60272   752.0     4.0  269.0   \n",
       "4     183.883288  0.102557  17.55025  16.26342   752.0     4.0  269.0   \n",
       "...          ...       ...       ...       ...     ...     ...    ...   \n",
       "8412  130.778930  0.962776  19.15103  17.32718  1239.0     6.0   70.0   \n",
       "8413  130.841677  0.999005  18.95358  17.54726  1239.0     6.0   70.0   \n",
       "8414  130.852163  0.951573  18.59335  16.53429  1239.0     6.0   70.0   \n",
       "8415  131.078028  0.886101  18.64174  18.91801  1239.0     6.0   72.0   \n",
       "8416  131.145721  0.921603  18.01667  17.71583  1239.0     6.0   72.0   \n",
       "\n",
       "         specobjid  class  redshift  fiberid  \n",
       "0     3.722360e+18      2 -0.000009    491.0  \n",
       "1     3.638140e+17      2 -0.000055    541.0  \n",
       "2     3.232740e+17      0  0.123111    513.0  \n",
       "3     3.722370e+18      2 -0.000111    510.0  \n",
       "4     3.722370e+18      2  0.000590    512.0  \n",
       "...            ...    ...       ...      ...  \n",
       "8412  5.259040e+17      0  0.076989    396.0  \n",
       "8413  5.259020e+17      0  0.110381    387.0  \n",
       "8414  5.259020e+17      0  0.096327    389.0  \n",
       "8415  4.289760e+18      2  0.000220    286.0  \n",
       "8416  5.259140e+17      1  0.439289    433.0  \n",
       "\n",
       "[8417 rows x 11 columns]"
      ]
     },
     "execution_count": 44,
     "metadata": {},
     "output_type": "execute_result"
    }
   ],
   "source": [
    "sky_new"
   ]
  },
  {
   "cell_type": "code",
   "execution_count": 45,
   "metadata": {},
   "outputs": [
    {
     "data": {
      "image/png": "[encoded data removed]",
      "text/plain": [
       "<Figure size 864x864 with 2 Axes>"
      ]
     },
     "metadata": {
      "needs_background": "light"
     },
     "output_type": "display_data"
    }
   ],
   "source": [
    "plt.figure(figsize=(12,12))\n",
    "sns.heatmap(sky_new.corr(),annot= True)\n",
    "plt.show()"
   ]
  },
  {
   "cell_type": "code",
   "execution_count": 46,
   "metadata": {},
   "outputs": [],
   "source": [
    "#now the correlation looks good again time to cross check"
   ]
  },
  {
   "cell_type": "code",
   "execution_count": 47,
   "metadata": {},
   "outputs": [],
   "source": [
    "def correlation(dataset,threshold):\n",
    "    col_corr = set()\n",
    "    corr_matrix = dataset.corr()\n",
    "    for i in range(len(corr_matrix.columns)):\n",
    "        for j in range(i):\n",
    "            if abs(corr_matrix.iloc[i,j]) > threshold:\n",
    "                colname = corr_matrix.columns[i]\n",
    "                col_corr.add(colname)\n",
    "    return col_corr"
   ]
  },
  {
   "cell_type": "code",
   "execution_count": 48,
   "metadata": {},
   "outputs": [
    {
     "data": {
      "text/plain": [
       "0"
      ]
     },
     "execution_count": 48,
     "metadata": {},
     "output_type": "execute_result"
    }
   ],
   "source": [
    "corr_features = correlation(sky_new,0.95) # we are good to go\n",
    "len(set(corr_features))"
   ]
  },
  {
   "cell_type": "code",
   "execution_count": 49,
   "metadata": {},
   "outputs": [
    {
     "name": "stdout",
     "output_type": "stream",
     "text": [
      "(8417, 11)\n",
      "(7342, 11)\n"
     ]
    }
   ],
   "source": [
    "from scipy.stats import zscore\n",
    "z = np.abs(zscore(sky_new))\n",
    "z\n",
    "print(sky_new.shape)\n",
    "space =sky_new.loc[(z<3).all(axis=1)]\n",
    "print(space.shape)"
   ]
  },
  {
   "cell_type": "code",
   "execution_count": 50,
   "metadata": {},
   "outputs": [
    {
     "name": "stdout",
     "output_type": "stream",
     "text": [
      "<class 'pandas.core.frame.DataFrame'>\n",
      "Int64Index: 7342 entries, 0 to 8416\n",
      "Data columns (total 11 columns):\n",
      " #   Column     Non-Null Count  Dtype  \n",
      "---  ------     --------------  -----  \n",
      " 0   ra         7342 non-null   float64\n",
      " 1   dec        7342 non-null   float64\n",
      " 2   u          7342 non-null   float64\n",
      " 3   g          7342 non-null   float64\n",
      " 4   run        7342 non-null   float64\n",
      " 5   camcol     7342 non-null   float64\n",
      " 6   field      7342 non-null   float64\n",
      " 7   specobjid  7342 non-null   float64\n",
      " 8   class      7342 non-null   int32  \n",
      " 9   redshift   7342 non-null   float64\n",
      " 10  fiberid    7342 non-null   float64\n",
      "dtypes: float64(10), int32(1)\n",
      "memory usage: 659.6 KB\n"
     ]
    }
   ],
   "source": [
    "space.info()"
   ]
  },
  {
   "cell_type": "code",
   "execution_count": 51,
   "metadata": {},
   "outputs": [
    {
     "data": {
      "text/html": [
       "<div>\n",
       "<style scoped>\n",
       "    .dataframe tbody tr th:only-of-type {\n",
       "        vertical-align: middle;\n",
       "    }\n",
       "\n",
       "    .dataframe tbody tr th {\n",
       "        vertical-align: top;\n",
       "    }\n",
       "\n",
       "    .dataframe thead th {\n",
       "        text-align: right;\n",
       "    }\n",
       "</style>\n",
       "<table border=\"1\" class=\"dataframe\">\n",
       "  <thead>\n",
       "    <tr style=\"text-align: right;\">\n",
       "      <th></th>\n",
       "      <th>ra</th>\n",
       "      <th>dec</th>\n",
       "      <th>u</th>\n",
       "      <th>g</th>\n",
       "      <th>run</th>\n",
       "      <th>camcol</th>\n",
       "      <th>field</th>\n",
       "      <th>specobjid</th>\n",
       "      <th>class</th>\n",
       "      <th>redshift</th>\n",
       "      <th>fiberid</th>\n",
       "    </tr>\n",
       "  </thead>\n",
       "  <tbody>\n",
       "    <tr>\n",
       "      <th>count</th>\n",
       "      <td>7342.000000</td>\n",
       "      <td>7342.000000</td>\n",
       "      <td>7342.000000</td>\n",
       "      <td>7342.000000</td>\n",
       "      <td>7342.000000</td>\n",
       "      <td>7342.000000</td>\n",
       "      <td>7342.000000</td>\n",
       "      <td>7.342000e+03</td>\n",
       "      <td>7342.000000</td>\n",
       "      <td>7342.000000</td>\n",
       "      <td>7342.000000</td>\n",
       "    </tr>\n",
       "    <tr>\n",
       "      <th>mean</th>\n",
       "      <td>181.330671</td>\n",
       "      <td>11.585933</td>\n",
       "      <td>18.638408</td>\n",
       "      <td>17.337803</td>\n",
       "      <td>946.550667</td>\n",
       "      <td>3.631708</td>\n",
       "      <td>322.008581</td>\n",
       "      <td>1.303621e+18</td>\n",
       "      <td>0.849087</td>\n",
       "      <td>0.076046</td>\n",
       "      <td>341.642604</td>\n",
       "    </tr>\n",
       "    <tr>\n",
       "      <th>std</th>\n",
       "      <td>37.313557</td>\n",
       "      <td>23.380168</td>\n",
       "      <td>0.776274</td>\n",
       "      <td>0.866110</td>\n",
       "      <td>264.275271</td>\n",
       "      <td>1.689658</td>\n",
       "      <td>162.453244</td>\n",
       "      <td>1.442811e+18</td>\n",
       "      <td>0.965047</td>\n",
       "      <td>0.165760</td>\n",
       "      <td>189.707966</td>\n",
       "    </tr>\n",
       "    <tr>\n",
       "      <th>min</th>\n",
       "      <td>29.797528</td>\n",
       "      <td>-5.382632</td>\n",
       "      <td>16.153330</td>\n",
       "      <td>14.570770</td>\n",
       "      <td>308.000000</td>\n",
       "      <td>1.000000</td>\n",
       "      <td>11.000000</td>\n",
       "      <td>2.995780e+17</td>\n",
       "      <td>0.000000</td>\n",
       "      <td>-0.004136</td>\n",
       "      <td>1.000000</td>\n",
       "    </tr>\n",
       "    <tr>\n",
       "      <th>25%</th>\n",
       "      <td>160.677428</td>\n",
       "      <td>-0.654515</td>\n",
       "      <td>18.191612</td>\n",
       "      <td>16.812893</td>\n",
       "      <td>752.000000</td>\n",
       "      <td>2.000000</td>\n",
       "      <td>217.000000</td>\n",
       "      <td>3.333215e+17</td>\n",
       "      <td>0.000000</td>\n",
       "      <td>0.000117</td>\n",
       "      <td>190.000000</td>\n",
       "    </tr>\n",
       "    <tr>\n",
       "      <th>50%</th>\n",
       "      <td>179.677680</td>\n",
       "      <td>0.255783</td>\n",
       "      <td>18.847230</td>\n",
       "      <td>17.470805</td>\n",
       "      <td>756.000000</td>\n",
       "      <td>4.000000</td>\n",
       "      <td>305.000000</td>\n",
       "      <td>4.088130e+17</td>\n",
       "      <td>0.000000</td>\n",
       "      <td>0.044496</td>\n",
       "      <td>345.000000</td>\n",
       "    </tr>\n",
       "    <tr>\n",
       "      <th>75%</th>\n",
       "      <td>201.483979</td>\n",
       "      <td>1.152577</td>\n",
       "      <td>19.254330</td>\n",
       "      <td>17.949932</td>\n",
       "      <td>1239.000000</td>\n",
       "      <td>5.000000</td>\n",
       "      <td>430.000000</td>\n",
       "      <td>2.880090e+18</td>\n",
       "      <td>2.000000</td>\n",
       "      <td>0.087352</td>\n",
       "      <td>495.000000</td>\n",
       "    </tr>\n",
       "    <tr>\n",
       "      <th>max</th>\n",
       "      <td>260.760200</td>\n",
       "      <td>68.542265</td>\n",
       "      <td>19.599900</td>\n",
       "      <td>19.918970</td>\n",
       "      <td>1412.000000</td>\n",
       "      <td>6.000000</td>\n",
       "      <td>767.000000</td>\n",
       "      <td>7.685630e+18</td>\n",
       "      <td>2.000000</td>\n",
       "      <td>1.301266</td>\n",
       "      <td>962.000000</td>\n",
       "    </tr>\n",
       "  </tbody>\n",
       "</table>\n",
       "</div>"
      ],
      "text/plain": [
       "                ra          dec            u            g          run  \\\n",
       "count  7342.000000  7342.000000  7342.000000  7342.000000  7342.000000   \n",
       "mean    181.330671    11.585933    18.638408    17.337803   946.550667   \n",
       "std      37.313557    23.380168     0.776274     0.866110   264.275271   \n",
       "min      29.797528    -5.382632    16.153330    14.570770   308.000000   \n",
       "25%     160.677428    -0.654515    18.191612    16.812893   752.000000   \n",
       "50%     179.677680     0.255783    18.847230    17.470805   756.000000   \n",
       "75%     201.483979     1.152577    19.254330    17.949932  1239.000000   \n",
       "max     260.760200    68.542265    19.599900    19.918970  1412.000000   \n",
       "\n",
       "            camcol        field     specobjid        class     redshift  \\\n",
       "count  7342.000000  7342.000000  7.342000e+03  7342.000000  7342.000000   \n",
       "mean      3.631708   322.008581  1.303621e+18     0.849087     0.076046   \n",
       "std       1.689658   162.453244  1.442811e+18     0.965047     0.165760   \n",
       "min       1.000000    11.000000  2.995780e+17     0.000000    -0.004136   \n",
       "25%       2.000000   217.000000  3.333215e+17     0.000000     0.000117   \n",
       "50%       4.000000   305.000000  4.088130e+17     0.000000     0.044496   \n",
       "75%       5.000000   430.000000  2.880090e+18     2.000000     0.087352   \n",
       "max       6.000000   767.000000  7.685630e+18     2.000000     1.301266   \n",
       "\n",
       "           fiberid  \n",
       "count  7342.000000  \n",
       "mean    341.642604  \n",
       "std     189.707966  \n",
       "min       1.000000  \n",
       "25%     190.000000  \n",
       "50%     345.000000  \n",
       "75%     495.000000  \n",
       "max     962.000000  "
      ]
     },
     "execution_count": 51,
     "metadata": {},
     "output_type": "execute_result"
    }
   ],
   "source": [
    "space.describe()"
   ]
  },
  {
   "cell_type": "code",
   "execution_count": 52,
   "metadata": {},
   "outputs": [
    {
     "data": {
      "text/plain": [
       "ra           0\n",
       "dec          0\n",
       "u            0\n",
       "g            0\n",
       "run          0\n",
       "camcol       0\n",
       "field        0\n",
       "specobjid    0\n",
       "class        0\n",
       "redshift     0\n",
       "fiberid      0\n",
       "dtype: int64"
      ]
     },
     "execution_count": 52,
     "metadata": {},
     "output_type": "execute_result"
    }
   ],
   "source": [
    "space.isnull().sum() # no null values time to for modelling"
   ]
  },
  {
   "cell_type": "code",
   "execution_count": 53,
   "metadata": {},
   "outputs": [
    {
     "data": {
      "text/plain": [
       "ra           float64\n",
       "dec          float64\n",
       "u            float64\n",
       "g            float64\n",
       "run          float64\n",
       "camcol       float64\n",
       "field        float64\n",
       "specobjid    float64\n",
       "class          int32\n",
       "redshift     float64\n",
       "fiberid      float64\n",
       "dtype: object"
      ]
     },
     "execution_count": 53,
     "metadata": {},
     "output_type": "execute_result"
    }
   ],
   "source": [
    "space.dtypes"
   ]
  },
  {
   "cell_type": "code",
   "execution_count": 54,
   "metadata": {},
   "outputs": [
    {
     "data": {
      "text/plain": [
       "ra          -0.283844\n",
       "dec          1.527467\n",
       "u           -0.984896\n",
       "g           -0.498562\n",
       "run          0.671687\n",
       "camcol      -0.145953\n",
       "field        0.236916\n",
       "specobjid    1.271255\n",
       "class        0.305109\n",
       "redshift     5.038548\n",
       "fiberid      0.084504\n",
       "dtype: float64"
      ]
     },
     "execution_count": 54,
     "metadata": {},
     "output_type": "execute_result"
    }
   ],
   "source": [
    "space.skew()"
   ]
  },
  {
   "cell_type": "code",
   "execution_count": 55,
   "metadata": {},
   "outputs": [
    {
     "data": {
      "text/plain": [
       "array([[<matplotlib.axes._subplots.AxesSubplot object at 0x0000024990D22F88>,\n",
       "        <matplotlib.axes._subplots.AxesSubplot object at 0x0000024990D480C8>,\n",
       "        <matplotlib.axes._subplots.AxesSubplot object at 0x0000024990D72D88>],\n",
       "       [<matplotlib.axes._subplots.AxesSubplot object at 0x0000024990DAEEC8>,\n",
       "        <matplotlib.axes._subplots.AxesSubplot object at 0x0000024990DE5FC8>,\n",
       "        <matplotlib.axes._subplots.AxesSubplot object at 0x0000024990E22048>],\n",
       "       [<matplotlib.axes._subplots.AxesSubplot object at 0x0000024990E5A188>,\n",
       "        <matplotlib.axes._subplots.AxesSubplot object at 0x0000024991333288>,\n",
       "        <matplotlib.axes._subplots.AxesSubplot object at 0x0000024991339E48>],\n",
       "       [<matplotlib.axes._subplots.AxesSubplot object at 0x0000024991370FC8>,\n",
       "        <matplotlib.axes._subplots.AxesSubplot object at 0x00000249913DB588>,\n",
       "        <matplotlib.axes._subplots.AxesSubplot object at 0x0000024991414608>]],\n",
       "      dtype=object)"
      ]
     },
     "execution_count": 55,
     "metadata": {},
     "output_type": "execute_result"
    },
    {
     "data": {
      "image/png": "[encoded data removed]",
      "text/plain": [
       "<Figure size 864x864 with 12 Axes>"
      ]
     },
     "metadata": {
      "needs_background": "light"
     },
     "output_type": "display_data"
    }
   ],
   "source": [
    "space.hist(figsize=(12,12))"
   ]
  },
  {
   "cell_type": "code",
   "execution_count": 56,
   "metadata": {},
   "outputs": [],
   "source": [
    "x= space.drop([\"class\"],axis=1)\n",
    "y = space[\"class\"]\n",
    "df_x= space.drop([\"class\"],axis=1)"
   ]
  },
  {
   "cell_type": "code",
   "execution_count": 57,
   "metadata": {},
   "outputs": [
    {
     "data": {
      "text/plain": [
       "(7342, 10)"
      ]
     },
     "execution_count": 57,
     "metadata": {},
     "output_type": "execute_result"
    }
   ],
   "source": [
    "x.shape"
   ]
  },
  {
   "cell_type": "code",
   "execution_count": 58,
   "metadata": {},
   "outputs": [
    {
     "data": {
      "text/plain": [
       "(7342,)"
      ]
     },
     "execution_count": 58,
     "metadata": {},
     "output_type": "execute_result"
    }
   ],
   "source": [
    "y.shape"
   ]
  },
  {
   "cell_type": "code",
   "execution_count": 59,
   "metadata": {},
   "outputs": [
    {
     "data": {
      "text/plain": [
       "ra          -0.283844\n",
       "dec          1.527467\n",
       "u           -0.984896\n",
       "g           -0.498562\n",
       "run          0.671687\n",
       "camcol      -0.145953\n",
       "field        0.236916\n",
       "specobjid    1.271255\n",
       "redshift     5.038548\n",
       "fiberid      0.084504\n",
       "dtype: float64"
      ]
     },
     "execution_count": 59,
     "metadata": {},
     "output_type": "execute_result"
    }
   ],
   "source": [
    "x.skew()"
   ]
  },
  {
   "cell_type": "code",
   "execution_count": 60,
   "metadata": {},
   "outputs": [
    {
     "name": "stderr",
     "output_type": "stream",
     "text": [
      "C:\\Users\\lenovo\\anaconda3\\lib\\site-packages\\sklearn\\preprocessing\\_data.py:2982: RuntimeWarning: divide by zero encountered in log\n",
      "  loglike = -n_samples / 2 * np.log(x_trans.var())\n"
     ]
    },
    {
     "data": {
      "text/html": [
       "<div>\n",
       "<style scoped>\n",
       "    .dataframe tbody tr th:only-of-type {\n",
       "        vertical-align: middle;\n",
       "    }\n",
       "\n",
       "    .dataframe tbody tr th {\n",
       "        vertical-align: top;\n",
       "    }\n",
       "\n",
       "    .dataframe thead th {\n",
       "        text-align: right;\n",
       "    }\n",
       "</style>\n",
       "<table border=\"1\" class=\"dataframe\">\n",
       "  <thead>\n",
       "    <tr style=\"text-align: right;\">\n",
       "      <th></th>\n",
       "      <th>ra</th>\n",
       "      <th>dec</th>\n",
       "      <th>u</th>\n",
       "      <th>g</th>\n",
       "      <th>run</th>\n",
       "      <th>camcol</th>\n",
       "      <th>field</th>\n",
       "      <th>specobjid</th>\n",
       "      <th>redshift</th>\n",
       "      <th>fiberid</th>\n",
       "    </tr>\n",
       "  </thead>\n",
       "  <tbody>\n",
       "    <tr>\n",
       "      <th>0</th>\n",
       "      <td>0.022581</td>\n",
       "      <td>-0.139471</td>\n",
       "      <td>1.341652</td>\n",
       "      <td>-0.427595</td>\n",
       "      <td>-0.709866</td>\n",
       "      <td>0.228982</td>\n",
       "      <td>-0.267004</td>\n",
       "      <td>0.0</td>\n",
       "      <td>-1.040432</td>\n",
       "      <td>0.796705</td>\n",
       "    </tr>\n",
       "    <tr>\n",
       "      <th>1</th>\n",
       "      <td>0.024415</td>\n",
       "      <td>-0.127097</td>\n",
       "      <td>-0.208162</td>\n",
       "      <td>-0.232146</td>\n",
       "      <td>-0.709866</td>\n",
       "      <td>0.228982</td>\n",
       "      <td>-0.267004</td>\n",
       "      <td>0.0</td>\n",
       "      <td>-1.041832</td>\n",
       "      <td>1.022033</td>\n",
       "    </tr>\n",
       "    <tr>\n",
       "      <th>2</th>\n",
       "      <td>0.026653</td>\n",
       "      <td>-0.129533</td>\n",
       "      <td>1.127485</td>\n",
       "      <td>1.014638</td>\n",
       "      <td>-0.709866</td>\n",
       "      <td>0.228982</td>\n",
       "      <td>-0.260770</td>\n",
       "      <td>0.0</td>\n",
       "      <td>1.183818</td>\n",
       "      <td>0.896545</td>\n",
       "    </tr>\n",
       "    <tr>\n",
       "      <th>3</th>\n",
       "      <td>0.031861</td>\n",
       "      <td>-0.150628</td>\n",
       "      <td>-1.219889</td>\n",
       "      <td>-0.896639</td>\n",
       "      <td>-0.709866</td>\n",
       "      <td>0.228982</td>\n",
       "      <td>-0.254542</td>\n",
       "      <td>0.0</td>\n",
       "      <td>-1.043531</td>\n",
       "      <td>0.882996</td>\n",
       "    </tr>\n",
       "    <tr>\n",
       "      <th>4</th>\n",
       "      <td>0.032210</td>\n",
       "      <td>-0.135936</td>\n",
       "      <td>-1.387415</td>\n",
       "      <td>-1.230201</td>\n",
       "      <td>-0.709866</td>\n",
       "      <td>0.228982</td>\n",
       "      <td>-0.254542</td>\n",
       "      <td>0.0</td>\n",
       "      <td>-1.022225</td>\n",
       "      <td>0.892031</td>\n",
       "    </tr>\n",
       "    <tr>\n",
       "      <th>...</th>\n",
       "      <td>...</td>\n",
       "      <td>...</td>\n",
       "      <td>...</td>\n",
       "      <td>...</td>\n",
       "      <td>...</td>\n",
       "      <td>...</td>\n",
       "      <td>...</td>\n",
       "      <td>...</td>\n",
       "      <td>...</td>\n",
       "      <td>...</td>\n",
       "    </tr>\n",
       "    <tr>\n",
       "      <th>7337</th>\n",
       "      <td>-1.343215</td>\n",
       "      <td>0.046318</td>\n",
       "      <td>0.632083</td>\n",
       "      <td>-0.100411</td>\n",
       "      <td>1.162299</td>\n",
       "      <td>1.387723</td>\n",
       "      <td>-1.664679</td>\n",
       "      <td>0.0</td>\n",
       "      <td>0.623597</td>\n",
       "      <td>0.351321</td>\n",
       "    </tr>\n",
       "    <tr>\n",
       "      <th>7338</th>\n",
       "      <td>-1.341688</td>\n",
       "      <td>0.052381</td>\n",
       "      <td>0.261800</td>\n",
       "      <td>0.165636</td>\n",
       "      <td>1.162299</td>\n",
       "      <td>1.387723</td>\n",
       "      <td>-1.664679</td>\n",
       "      <td>0.0</td>\n",
       "      <td>1.051202</td>\n",
       "      <td>0.307776</td>\n",
       "    </tr>\n",
       "    <tr>\n",
       "      <th>7339</th>\n",
       "      <td>-1.341433</td>\n",
       "      <td>0.044424</td>\n",
       "      <td>-0.308460</td>\n",
       "      <td>-0.965851</td>\n",
       "      <td>1.162299</td>\n",
       "      <td>1.387723</td>\n",
       "      <td>-1.664679</td>\n",
       "      <td>0.0</td>\n",
       "      <td>0.886550</td>\n",
       "      <td>0.317475</td>\n",
       "    </tr>\n",
       "    <tr>\n",
       "      <th>7340</th>\n",
       "      <td>-1.335937</td>\n",
       "      <td>0.033170</td>\n",
       "      <td>-0.239034</td>\n",
       "      <td>2.106395</td>\n",
       "      <td>1.162299</td>\n",
       "      <td>1.387723</td>\n",
       "      <td>-1.647583</td>\n",
       "      <td>0.0</td>\n",
       "      <td>-1.033472</td>\n",
       "      <td>-0.200953</td>\n",
       "    </tr>\n",
       "    <tr>\n",
       "      <th>7341</th>\n",
       "      <td>-1.334289</td>\n",
       "      <td>0.039312</td>\n",
       "      <td>-0.992102</td>\n",
       "      <td>0.377455</td>\n",
       "      <td>1.162299</td>\n",
       "      <td>1.387723</td>\n",
       "      <td>-1.647583</td>\n",
       "      <td>0.0</td>\n",
       "      <td>2.306478</td>\n",
       "      <td>0.527746</td>\n",
       "    </tr>\n",
       "  </tbody>\n",
       "</table>\n",
       "<p>7342 rows × 10 columns</p>\n",
       "</div>"
      ],
      "text/plain": [
       "            ra       dec         u         g       run    camcol     field  \\\n",
       "0     0.022581 -0.139471  1.341652 -0.427595 -0.709866  0.228982 -0.267004   \n",
       "1     0.024415 -0.127097 -0.208162 -0.232146 -0.709866  0.228982 -0.267004   \n",
       "2     0.026653 -0.129533  1.127485  1.014638 -0.709866  0.228982 -0.260770   \n",
       "3     0.031861 -0.150628 -1.219889 -0.896639 -0.709866  0.228982 -0.254542   \n",
       "4     0.032210 -0.135936 -1.387415 -1.230201 -0.709866  0.228982 -0.254542   \n",
       "...        ...       ...       ...       ...       ...       ...       ...   \n",
       "7337 -1.343215  0.046318  0.632083 -0.100411  1.162299  1.387723 -1.664679   \n",
       "7338 -1.341688  0.052381  0.261800  0.165636  1.162299  1.387723 -1.664679   \n",
       "7339 -1.341433  0.044424 -0.308460 -0.965851  1.162299  1.387723 -1.664679   \n",
       "7340 -1.335937  0.033170 -0.239034  2.106395  1.162299  1.387723 -1.647583   \n",
       "7341 -1.334289  0.039312 -0.992102  0.377455  1.162299  1.387723 -1.647583   \n",
       "\n",
       "      specobjid  redshift   fiberid  \n",
       "0           0.0 -1.040432  0.796705  \n",
       "1           0.0 -1.041832  1.022033  \n",
       "2           0.0  1.183818  0.896545  \n",
       "3           0.0 -1.043531  0.882996  \n",
       "4           0.0 -1.022225  0.892031  \n",
       "...         ...       ...       ...  \n",
       "7337        0.0  0.623597  0.351321  \n",
       "7338        0.0  1.051202  0.307776  \n",
       "7339        0.0  0.886550  0.317475  \n",
       "7340        0.0 -1.033472 -0.200953  \n",
       "7341        0.0  2.306478  0.527746  \n",
       "\n",
       "[7342 rows x 10 columns]"
      ]
     },
     "execution_count": 60,
     "metadata": {},
     "output_type": "execute_result"
    }
   ],
   "source": [
    "from sklearn.preprocessing import PowerTransformer\n",
    "pt = PowerTransformer()\n",
    "x = pt.fit_transform(x)  \n",
    "x = pd.DataFrame(x,columns=df_x.columns)\n",
    "x"
   ]
  },
  {
   "cell_type": "code",
   "execution_count": 61,
   "metadata": {},
   "outputs": [
    {
     "data": {
      "text/plain": [
       "ra           0.057425\n",
       "dec         -0.633429\n",
       "u           -0.209519\n",
       "g           -0.013367\n",
       "run         -0.056642\n",
       "camcol      -0.173664\n",
       "field       -0.112758\n",
       "specobjid    0.000000\n",
       "redshift     0.437934\n",
       "fiberid     -0.244095\n",
       "dtype: float64"
      ]
     },
     "execution_count": 61,
     "metadata": {},
     "output_type": "execute_result"
    }
   ],
   "source": [
    "x.skew() # good skewness removed very much"
   ]
  },
  {
   "cell_type": "code",
   "execution_count": 62,
   "metadata": {},
   "outputs": [],
   "source": [
    "from sklearn.preprocessing import StandardScaler\n",
    "sc = StandardScaler()\n",
    "x = sc.fit_transform(x)\n",
    "x = pd.DataFrame(x,columns=df_x.columns)"
   ]
  },
  {
   "cell_type": "code",
   "execution_count": 63,
   "metadata": {},
   "outputs": [
    {
     "data": {
      "text/html": [
       "<div>\n",
       "<style scoped>\n",
       "    .dataframe tbody tr th:only-of-type {\n",
       "        vertical-align: middle;\n",
       "    }\n",
       "\n",
       "    .dataframe tbody tr th {\n",
       "        vertical-align: top;\n",
       "    }\n",
       "\n",
       "    .dataframe thead th {\n",
       "        text-align: right;\n",
       "    }\n",
       "</style>\n",
       "<table border=\"1\" class=\"dataframe\">\n",
       "  <thead>\n",
       "    <tr style=\"text-align: right;\">\n",
       "      <th></th>\n",
       "      <th>ra</th>\n",
       "      <th>dec</th>\n",
       "      <th>u</th>\n",
       "      <th>g</th>\n",
       "      <th>run</th>\n",
       "      <th>camcol</th>\n",
       "      <th>field</th>\n",
       "      <th>specobjid</th>\n",
       "      <th>redshift</th>\n",
       "      <th>fiberid</th>\n",
       "    </tr>\n",
       "  </thead>\n",
       "  <tbody>\n",
       "    <tr>\n",
       "      <th>0</th>\n",
       "      <td>0.022581</td>\n",
       "      <td>-0.139471</td>\n",
       "      <td>1.341652</td>\n",
       "      <td>-0.427595</td>\n",
       "      <td>-0.709866</td>\n",
       "      <td>0.228982</td>\n",
       "      <td>-0.267004</td>\n",
       "      <td>0.0</td>\n",
       "      <td>-1.040432</td>\n",
       "      <td>0.796705</td>\n",
       "    </tr>\n",
       "    <tr>\n",
       "      <th>1</th>\n",
       "      <td>0.024415</td>\n",
       "      <td>-0.127097</td>\n",
       "      <td>-0.208162</td>\n",
       "      <td>-0.232146</td>\n",
       "      <td>-0.709866</td>\n",
       "      <td>0.228982</td>\n",
       "      <td>-0.267004</td>\n",
       "      <td>0.0</td>\n",
       "      <td>-1.041832</td>\n",
       "      <td>1.022033</td>\n",
       "    </tr>\n",
       "    <tr>\n",
       "      <th>2</th>\n",
       "      <td>0.026653</td>\n",
       "      <td>-0.129533</td>\n",
       "      <td>1.127485</td>\n",
       "      <td>1.014638</td>\n",
       "      <td>-0.709866</td>\n",
       "      <td>0.228982</td>\n",
       "      <td>-0.260770</td>\n",
       "      <td>0.0</td>\n",
       "      <td>1.183818</td>\n",
       "      <td>0.896545</td>\n",
       "    </tr>\n",
       "    <tr>\n",
       "      <th>3</th>\n",
       "      <td>0.031861</td>\n",
       "      <td>-0.150628</td>\n",
       "      <td>-1.219889</td>\n",
       "      <td>-0.896639</td>\n",
       "      <td>-0.709866</td>\n",
       "      <td>0.228982</td>\n",
       "      <td>-0.254542</td>\n",
       "      <td>0.0</td>\n",
       "      <td>-1.043531</td>\n",
       "      <td>0.882996</td>\n",
       "    </tr>\n",
       "    <tr>\n",
       "      <th>4</th>\n",
       "      <td>0.032210</td>\n",
       "      <td>-0.135936</td>\n",
       "      <td>-1.387415</td>\n",
       "      <td>-1.230201</td>\n",
       "      <td>-0.709866</td>\n",
       "      <td>0.228982</td>\n",
       "      <td>-0.254542</td>\n",
       "      <td>0.0</td>\n",
       "      <td>-1.022225</td>\n",
       "      <td>0.892031</td>\n",
       "    </tr>\n",
       "    <tr>\n",
       "      <th>...</th>\n",
       "      <td>...</td>\n",
       "      <td>...</td>\n",
       "      <td>...</td>\n",
       "      <td>...</td>\n",
       "      <td>...</td>\n",
       "      <td>...</td>\n",
       "      <td>...</td>\n",
       "      <td>...</td>\n",
       "      <td>...</td>\n",
       "      <td>...</td>\n",
       "    </tr>\n",
       "    <tr>\n",
       "      <th>7337</th>\n",
       "      <td>-1.343215</td>\n",
       "      <td>0.046318</td>\n",
       "      <td>0.632083</td>\n",
       "      <td>-0.100411</td>\n",
       "      <td>1.162299</td>\n",
       "      <td>1.387723</td>\n",
       "      <td>-1.664679</td>\n",
       "      <td>0.0</td>\n",
       "      <td>0.623597</td>\n",
       "      <td>0.351321</td>\n",
       "    </tr>\n",
       "    <tr>\n",
       "      <th>7338</th>\n",
       "      <td>-1.341688</td>\n",
       "      <td>0.052381</td>\n",
       "      <td>0.261800</td>\n",
       "      <td>0.165636</td>\n",
       "      <td>1.162299</td>\n",
       "      <td>1.387723</td>\n",
       "      <td>-1.664679</td>\n",
       "      <td>0.0</td>\n",
       "      <td>1.051202</td>\n",
       "      <td>0.307776</td>\n",
       "    </tr>\n",
       "    <tr>\n",
       "      <th>7339</th>\n",
       "      <td>-1.341433</td>\n",
       "      <td>0.044424</td>\n",
       "      <td>-0.308460</td>\n",
       "      <td>-0.965851</td>\n",
       "      <td>1.162299</td>\n",
       "      <td>1.387723</td>\n",
       "      <td>-1.664679</td>\n",
       "      <td>0.0</td>\n",
       "      <td>0.886550</td>\n",
       "      <td>0.317475</td>\n",
       "    </tr>\n",
       "    <tr>\n",
       "      <th>7340</th>\n",
       "      <td>-1.335937</td>\n",
       "      <td>0.033170</td>\n",
       "      <td>-0.239034</td>\n",
       "      <td>2.106395</td>\n",
       "      <td>1.162299</td>\n",
       "      <td>1.387723</td>\n",
       "      <td>-1.647583</td>\n",
       "      <td>0.0</td>\n",
       "      <td>-1.033472</td>\n",
       "      <td>-0.200953</td>\n",
       "    </tr>\n",
       "    <tr>\n",
       "      <th>7341</th>\n",
       "      <td>-1.334289</td>\n",
       "      <td>0.039312</td>\n",
       "      <td>-0.992102</td>\n",
       "      <td>0.377455</td>\n",
       "      <td>1.162299</td>\n",
       "      <td>1.387723</td>\n",
       "      <td>-1.647583</td>\n",
       "      <td>0.0</td>\n",
       "      <td>2.306478</td>\n",
       "      <td>0.527746</td>\n",
       "    </tr>\n",
       "  </tbody>\n",
       "</table>\n",
       "<p>7342 rows × 10 columns</p>\n",
       "</div>"
      ],
      "text/plain": [
       "            ra       dec         u         g       run    camcol     field  \\\n",
       "0     0.022581 -0.139471  1.341652 -0.427595 -0.709866  0.228982 -0.267004   \n",
       "1     0.024415 -0.127097 -0.208162 -0.232146 -0.709866  0.228982 -0.267004   \n",
       "2     0.026653 -0.129533  1.127485  1.014638 -0.709866  0.228982 -0.260770   \n",
       "3     0.031861 -0.150628 -1.219889 -0.896639 -0.709866  0.228982 -0.254542   \n",
       "4     0.032210 -0.135936 -1.387415 -1.230201 -0.709866  0.228982 -0.254542   \n",
       "...        ...       ...       ...       ...       ...       ...       ...   \n",
       "7337 -1.343215  0.046318  0.632083 -0.100411  1.162299  1.387723 -1.664679   \n",
       "7338 -1.341688  0.052381  0.261800  0.165636  1.162299  1.387723 -1.664679   \n",
       "7339 -1.341433  0.044424 -0.308460 -0.965851  1.162299  1.387723 -1.664679   \n",
       "7340 -1.335937  0.033170 -0.239034  2.106395  1.162299  1.387723 -1.647583   \n",
       "7341 -1.334289  0.039312 -0.992102  0.377455  1.162299  1.387723 -1.647583   \n",
       "\n",
       "      specobjid  redshift   fiberid  \n",
       "0           0.0 -1.040432  0.796705  \n",
       "1           0.0 -1.041832  1.022033  \n",
       "2           0.0  1.183818  0.896545  \n",
       "3           0.0 -1.043531  0.882996  \n",
       "4           0.0 -1.022225  0.892031  \n",
       "...         ...       ...       ...  \n",
       "7337        0.0  0.623597  0.351321  \n",
       "7338        0.0  1.051202  0.307776  \n",
       "7339        0.0  0.886550  0.317475  \n",
       "7340        0.0 -1.033472 -0.200953  \n",
       "7341        0.0  2.306478  0.527746  \n",
       "\n",
       "[7342 rows x 10 columns]"
      ]
     },
     "execution_count": 63,
     "metadata": {},
     "output_type": "execute_result"
    }
   ],
   "source": [
    "x"
   ]
  },
  {
   "cell_type": "code",
   "execution_count": 64,
   "metadata": {},
   "outputs": [],
   "source": [
    "x_train,x_test,y_train,y_test = train_test_split(x,y,test_size=0.33,random_state=42)"
   ]
  },
  {
   "cell_type": "code",
   "execution_count": 65,
   "metadata": {},
   "outputs": [],
   "source": [
    "from sklearn.model_selection import GridSearchCV\n",
    "rfc = RandomForestClassifier()\n",
    "knn = KNeighborsClassifier()"
   ]
  },
  {
   "cell_type": "code",
   "execution_count": 66,
   "metadata": {},
   "outputs": [
    {
     "data": {
      "text/plain": [
       "{'n_neighbors': 3}"
      ]
     },
     "execution_count": 66,
     "metadata": {},
     "output_type": "execute_result"
    }
   ],
   "source": [
    "parameters = {\"n_neighbors\": range(1,20)}\n",
    "gsc = GridSearchCV(knn,parameters,cv=5)\n",
    "gsc.fit(x,y)\n",
    "gsc.best_params_"
   ]
  },
  {
   "cell_type": "code",
   "execution_count": 67,
   "metadata": {},
   "outputs": [
    {
     "data": {
      "text/plain": [
       "{'n_estimators': 16}"
      ]
     },
     "execution_count": 67,
     "metadata": {},
     "output_type": "execute_result"
    }
   ],
   "source": [
    "parameters = {\"n_estimators\": range(1,20)}\n",
    "gsc = GridSearchCV(rfc,parameters,cv=5)\n",
    "gsc.fit(x,y)\n",
    "gsc.best_params_"
   ]
  },
  {
   "cell_type": "code",
   "execution_count": 68,
   "metadata": {},
   "outputs": [],
   "source": [
    "knn =KNeighborsClassifier(n_neighbors=3 )\n",
    "svc = SVC()\n",
    "dt= DecisionTreeClassifier()\n",
    "rf = RandomForestClassifier(n_estimators= 14)\n",
    "mb = MultinomialNB()"
   ]
  },
  {
   "cell_type": "code",
   "execution_count": 69,
   "metadata": {},
   "outputs": [],
   "source": [
    "models=[]\n",
    "models.append((\"KNeighborsClassifier\",knn))\n",
    "models.append((\"SVC\",svc))\n",
    "models.append((\"RandomForestClassifier\",rf))\n",
    "models.append((\"DecisionTreeClassifier\",dt))\n",
    "models.append((\"KNeighborsClassifier\",knn))\n",
    "models.append((\"MultinomailNB\",mb))"
   ]
  },
  {
   "cell_type": "code",
   "execution_count": 70,
   "metadata": {},
   "outputs": [
    {
     "name": "stdout",
     "output_type": "stream",
     "text": [
      "0.9843169624432522\n",
      "[[1272    4   19]\n",
      " [  15  102    0]\n",
      " [   0    0 1011]]\n",
      "              precision    recall  f1-score   support\n",
      "\n",
      "           0       0.99      0.98      0.99      1295\n",
      "           1       0.96      0.87      0.91       117\n",
      "           2       0.98      1.00      0.99      1011\n",
      "\n",
      "    accuracy                           0.98      2423\n",
      "   macro avg       0.98      0.95      0.96      2423\n",
      "weighted avg       0.98      0.98      0.98      2423\n",
      "\n"
     ]
    }
   ],
   "source": [
    "svc.fit(x_train,y_train)\n",
    "svc.score(x_train,y_train)\n",
    "predsvc = svc.predict(x_test)\n",
    "print(accuracy_score(y_test,predsvc))\n",
    "print(confusion_matrix(y_test,predsvc))\n",
    "print(classification_report(y_test,predsvc))"
   ]
  },
  {
   "cell_type": "code",
   "execution_count": 71,
   "metadata": {},
   "outputs": [
    {
     "name": "stdout",
     "output_type": "stream",
     "text": [
      "0.9640940982253405\n",
      "[[1244    4   47]\n",
      " [  22   95    0]\n",
      " [  14    0  997]]\n",
      "              precision    recall  f1-score   support\n",
      "\n",
      "           0       0.97      0.96      0.97      1295\n",
      "           1       0.96      0.81      0.88       117\n",
      "           2       0.95      0.99      0.97      1011\n",
      "\n",
      "    accuracy                           0.96      2423\n",
      "   macro avg       0.96      0.92      0.94      2423\n",
      "weighted avg       0.96      0.96      0.96      2423\n",
      "\n"
     ]
    }
   ],
   "source": [
    "knn.fit(x_train,y_train)\n",
    "knn.score(x_train,y_train)\n",
    "predk = knn.predict(x_test)\n",
    "print(accuracy_score(y_test,predk))\n",
    "print(confusion_matrix(y_test,predk))\n",
    "print(classification_report(y_test,predk))\n"
   ]
  },
  {
   "cell_type": "code",
   "execution_count": 72,
   "metadata": {},
   "outputs": [
    {
     "name": "stdout",
     "output_type": "stream",
     "text": [
      "0.9814279818406934\n",
      "[[1277   14    4]\n",
      " [  23   94    0]\n",
      " [   3    1 1007]]\n",
      "              precision    recall  f1-score   support\n",
      "\n",
      "           0       0.98      0.99      0.98      1295\n",
      "           1       0.86      0.80      0.83       117\n",
      "           2       1.00      1.00      1.00      1011\n",
      "\n",
      "    accuracy                           0.98      2423\n",
      "   macro avg       0.95      0.93      0.94      2423\n",
      "weighted avg       0.98      0.98      0.98      2423\n",
      "\n"
     ]
    }
   ],
   "source": [
    "dt.fit(x_train,y_train)\n",
    "dt.score(x_train,y_train)\n",
    "preddt = dt.predict(x_test)\n",
    "print(accuracy_score(y_test,preddt))\n",
    "print(confusion_matrix(y_test,preddt))\n",
    "print(classification_report(y_test,preddt))"
   ]
  },
  {
   "cell_type": "code",
   "execution_count": 73,
   "metadata": {},
   "outputs": [
    {
     "name": "stdout",
     "output_type": "stream",
     "text": [
      "0.9859678085018572\n",
      "[[1284    4    7]\n",
      " [  20   97    0]\n",
      " [   3    0 1008]]\n",
      "              precision    recall  f1-score   support\n",
      "\n",
      "           0       0.98      0.99      0.99      1295\n",
      "           1       0.96      0.83      0.89       117\n",
      "           2       0.99      1.00      1.00      1011\n",
      "\n",
      "    accuracy                           0.99      2423\n",
      "   macro avg       0.98      0.94      0.96      2423\n",
      "weighted avg       0.99      0.99      0.99      2423\n",
      "\n"
     ]
    }
   ],
   "source": [
    "rf.fit(x_train,y_train)\n",
    "rf.score(x_train,y_train)\n",
    "predrf = rf.predict(x_test)\n",
    "print(accuracy_score(y_test,predrf))\n",
    "print(confusion_matrix(y_test,predrf))\n",
    "print(classification_report(y_test,predrf))"
   ]
  },
  {
   "cell_type": "code",
   "execution_count": 74,
   "metadata": {},
   "outputs": [
    {
     "data": {
      "text/plain": [
       "array([0.07142857, 0.        , 0.07142857, ..., 0.        , 0.        ,\n",
       "       0.        ])"
      ]
     },
     "execution_count": 74,
     "metadata": {},
     "output_type": "execute_result"
    }
   ],
   "source": [
    "pred = rf.predict_proba(x_test)[:,1]\n",
    "pred"
   ]
  },
  {
   "cell_type": "code",
   "execution_count": 75,
   "metadata": {},
   "outputs": [],
   "source": [
    "fpr,tpr,thresholds = roc_curve(y_test,pred,pos_label =True)"
   ]
  },
  {
   "cell_type": "code",
   "execution_count": 76,
   "metadata": {},
   "outputs": [
    {
     "data": {
      "image/png": "[encoded data removed]",
      "text/plain": [
       "<Figure size 432x288 with 1 Axes>"
      ]
     },
     "metadata": {
      "needs_background": "light"
     },
     "output_type": "display_data"
    }
   ],
   "source": [
    "plt.plot(fpr,tpr,label= \"RandomForest Classification\")\n",
    "plt.plot([0,1],[0,1],'r--')\n",
    "plt.xlabel(\"False Rate\")\n",
    "plt.ylabel('True Rate')\n",
    "plt.title(\"Random Forest\")\n",
    "plt.show()"
   ]
  },
  {
   "cell_type": "code",
   "execution_count": 77,
   "metadata": {},
   "outputs": [
    {
     "name": "stderr",
     "output_type": "stream",
     "text": [
      "C:\\Users\\lenovo\\anaconda3\\lib\\site-packages\\sklearn\\externals\\joblib\\__init__.py:15: FutureWarning: sklearn.externals.joblib is deprecated in 0.21 and will be removed in 0.23. Please import this functionality directly from joblib, which can be installed with: pip install joblib. If this warning is raised when loading pickled models, you may need to re-serialize those models with scikit-learn 0.21+.\n",
      "  warnings.warn(msg, category=FutureWarning)\n"
     ]
    },
    {
     "data": {
      "text/plain": [
       "['Space Classification.obj']"
      ]
     },
     "execution_count": 77,
     "metadata": {},
     "output_type": "execute_result"
    }
   ],
   "source": [
    "from sklearn.externals import joblib\n",
    "joblib.dump(rf,\"Space Classification.obj\")"
   ]
  },
  {
   "cell_type": "code",
   "execution_count": 78,
   "metadata": {},
   "outputs": [],
   "source": [
    "model = joblib.load(\"Space Classification.obj\")"
   ]
  },
  {
   "cell_type": "code",
   "execution_count": 79,
   "metadata": {},
   "outputs": [
    {
     "data": {
      "text/plain": [
       "array([0, 0, 0, ..., 0, 0, 2])"
      ]
     },
     "execution_count": 79,
     "metadata": {},
     "output_type": "execute_result"
    }
   ],
   "source": [
    "model.predict(x_test)"
   ]
  },
  {
   "cell_type": "code",
   "execution_count": null,
   "metadata": {},
   "outputs": [],
   "source": []
  }
 ],
 "metadata": {
  "kernelspec": {
   "display_name": "Python 3",
   "language": "python",
   "name": "python3"
  },
  "language_info": {
   "codemirror_mode": {
    "name": "ipython",
    "version": 3
   },
   "file_extension": ".py",
   "mimetype": "text/x-python",
   "name": "python",
   "nbconvert_exporter": "python",
   "pygments_lexer": "ipython3",
   "version": "3.7.6"
  }
 },
 "nbformat": 4,
 "nbformat_minor": 4
}
