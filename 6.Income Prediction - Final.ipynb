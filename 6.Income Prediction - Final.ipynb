{
 "cells": [
  {
   "cell_type": "code",
   "execution_count": 1,
   "metadata": {},
   "outputs": [],
   "source": [
    "import pandas as pd\n",
    "import numpy as np\n",
    "import seaborn as sns\n",
    "import matplotlib.pyplot as plt\n",
    "import warnings\n",
    "from sklearn.decomposition import PCA\n",
    "from sklearn.linear_model import LogisticRegression\n",
    "from sklearn.naive_bayes import GaussianNB\n",
    "from sklearn.svm import SVC\n",
    "from sklearn.tree import DecisionTreeClassifier\n",
    "from sklearn.ensemble import RandomForestClassifier\n",
    "from sklearn.model_selection import train_test_split\n",
    "from sklearn.metrics import accuracy_score,confusion_matrix,classification_report\n",
    "from sklearn.neighbors import KNeighborsClassifier"
   ]
  },
  {
   "cell_type": "code",
   "execution_count": 2,
   "metadata": {},
   "outputs": [],
   "source": [
    "inc = pd.read_csv(\"adult 1.csv\",na_values=[\" ?\"]) #instead of nan ? appeared in case of null values ....hence it was replaced"
   ]
  },
  {
   "cell_type": "code",
   "execution_count": 3,
   "metadata": {},
   "outputs": [
    {
     "data": {
      "text/html": [
       "<div>\n",
       "<style scoped>\n",
       "    .dataframe tbody tr th:only-of-type {\n",
       "        vertical-align: middle;\n",
       "    }\n",
       "\n",
       "    .dataframe tbody tr th {\n",
       "        vertical-align: top;\n",
       "    }\n",
       "\n",
       "    .dataframe thead th {\n",
       "        text-align: right;\n",
       "    }\n",
       "</style>\n",
       "<table border=\"1\" class=\"dataframe\">\n",
       "  <thead>\n",
       "    <tr style=\"text-align: right;\">\n",
       "      <th></th>\n",
       "      <th>Age</th>\n",
       "      <th>Workclass</th>\n",
       "      <th>fnlwgt</th>\n",
       "      <th>Education</th>\n",
       "      <th>Education-num</th>\n",
       "      <th>Marital status</th>\n",
       "      <th>Occupation</th>\n",
       "      <th>Relationship</th>\n",
       "      <th>Race</th>\n",
       "      <th>sex</th>\n",
       "      <th>Capital Gain</th>\n",
       "      <th>Capital loss</th>\n",
       "      <th>Hours per week</th>\n",
       "      <th>Native country</th>\n",
       "      <th>Income</th>\n",
       "    </tr>\n",
       "  </thead>\n",
       "  <tbody>\n",
       "    <tr>\n",
       "      <th>0</th>\n",
       "      <td>39</td>\n",
       "      <td>State-gov</td>\n",
       "      <td>77516</td>\n",
       "      <td>Bachelors</td>\n",
       "      <td>13</td>\n",
       "      <td>Never-married</td>\n",
       "      <td>Adm-clerical</td>\n",
       "      <td>Not-in-family</td>\n",
       "      <td>White</td>\n",
       "      <td>Male</td>\n",
       "      <td>2174</td>\n",
       "      <td>0</td>\n",
       "      <td>40</td>\n",
       "      <td>United-States</td>\n",
       "      <td>&lt;=50K</td>\n",
       "    </tr>\n",
       "    <tr>\n",
       "      <th>1</th>\n",
       "      <td>50</td>\n",
       "      <td>Self-emp-not-inc</td>\n",
       "      <td>83311</td>\n",
       "      <td>Bachelors</td>\n",
       "      <td>13</td>\n",
       "      <td>Married-civ-spouse</td>\n",
       "      <td>Exec-managerial</td>\n",
       "      <td>Husband</td>\n",
       "      <td>White</td>\n",
       "      <td>Male</td>\n",
       "      <td>0</td>\n",
       "      <td>0</td>\n",
       "      <td>13</td>\n",
       "      <td>United-States</td>\n",
       "      <td>&lt;=50K</td>\n",
       "    </tr>\n",
       "    <tr>\n",
       "      <th>2</th>\n",
       "      <td>38</td>\n",
       "      <td>Private</td>\n",
       "      <td>215646</td>\n",
       "      <td>HS-grad</td>\n",
       "      <td>9</td>\n",
       "      <td>Divorced</td>\n",
       "      <td>Handlers-cleaners</td>\n",
       "      <td>Not-in-family</td>\n",
       "      <td>White</td>\n",
       "      <td>Male</td>\n",
       "      <td>0</td>\n",
       "      <td>0</td>\n",
       "      <td>40</td>\n",
       "      <td>United-States</td>\n",
       "      <td>&lt;=50K</td>\n",
       "    </tr>\n",
       "    <tr>\n",
       "      <th>3</th>\n",
       "      <td>53</td>\n",
       "      <td>Private</td>\n",
       "      <td>234721</td>\n",
       "      <td>11th</td>\n",
       "      <td>7</td>\n",
       "      <td>Married-civ-spouse</td>\n",
       "      <td>Handlers-cleaners</td>\n",
       "      <td>Husband</td>\n",
       "      <td>Black</td>\n",
       "      <td>Male</td>\n",
       "      <td>0</td>\n",
       "      <td>0</td>\n",
       "      <td>40</td>\n",
       "      <td>United-States</td>\n",
       "      <td>&lt;=50K</td>\n",
       "    </tr>\n",
       "    <tr>\n",
       "      <th>4</th>\n",
       "      <td>28</td>\n",
       "      <td>Private</td>\n",
       "      <td>338409</td>\n",
       "      <td>Bachelors</td>\n",
       "      <td>13</td>\n",
       "      <td>Married-civ-spouse</td>\n",
       "      <td>Prof-specialty</td>\n",
       "      <td>Wife</td>\n",
       "      <td>Black</td>\n",
       "      <td>Female</td>\n",
       "      <td>0</td>\n",
       "      <td>0</td>\n",
       "      <td>40</td>\n",
       "      <td>Cuba</td>\n",
       "      <td>&lt;=50K</td>\n",
       "    </tr>\n",
       "  </tbody>\n",
       "</table>\n",
       "</div>"
      ],
      "text/plain": [
       "   Age          Workclass  fnlwgt   Education  Education-num  \\\n",
       "0   39          State-gov   77516   Bachelors             13   \n",
       "1   50   Self-emp-not-inc   83311   Bachelors             13   \n",
       "2   38            Private  215646     HS-grad              9   \n",
       "3   53            Private  234721        11th              7   \n",
       "4   28            Private  338409   Bachelors             13   \n",
       "\n",
       "        Marital status          Occupation    Relationship    Race      sex  \\\n",
       "0        Never-married        Adm-clerical   Not-in-family   White     Male   \n",
       "1   Married-civ-spouse     Exec-managerial         Husband   White     Male   \n",
       "2             Divorced   Handlers-cleaners   Not-in-family   White     Male   \n",
       "3   Married-civ-spouse   Handlers-cleaners         Husband   Black     Male   \n",
       "4   Married-civ-spouse      Prof-specialty            Wife   Black   Female   \n",
       "\n",
       "   Capital Gain  Capital loss  Hours per week  Native country  Income  \n",
       "0          2174             0              40   United-States   <=50K  \n",
       "1             0             0              13   United-States   <=50K  \n",
       "2             0             0              40   United-States   <=50K  \n",
       "3             0             0              40   United-States   <=50K  \n",
       "4             0             0              40            Cuba   <=50K  "
      ]
     },
     "execution_count": 3,
     "metadata": {},
     "output_type": "execute_result"
    }
   ],
   "source": [
    "inc.head()"
   ]
  },
  {
   "cell_type": "code",
   "execution_count": 4,
   "metadata": {},
   "outputs": [
    {
     "data": {
      "text/html": [
       "<div>\n",
       "<style scoped>\n",
       "    .dataframe tbody tr th:only-of-type {\n",
       "        vertical-align: middle;\n",
       "    }\n",
       "\n",
       "    .dataframe tbody tr th {\n",
       "        vertical-align: top;\n",
       "    }\n",
       "\n",
       "    .dataframe thead th {\n",
       "        text-align: right;\n",
       "    }\n",
       "</style>\n",
       "<table border=\"1\" class=\"dataframe\">\n",
       "  <thead>\n",
       "    <tr style=\"text-align: right;\">\n",
       "      <th></th>\n",
       "      <th>Age</th>\n",
       "      <th>Workclass</th>\n",
       "      <th>fnlwgt</th>\n",
       "      <th>Education</th>\n",
       "      <th>Education-num</th>\n",
       "      <th>Marital status</th>\n",
       "      <th>Occupation</th>\n",
       "      <th>Relationship</th>\n",
       "      <th>Race</th>\n",
       "      <th>sex</th>\n",
       "      <th>Capital Gain</th>\n",
       "      <th>Capital loss</th>\n",
       "      <th>Hours per week</th>\n",
       "      <th>Native country</th>\n",
       "      <th>Income</th>\n",
       "    </tr>\n",
       "  </thead>\n",
       "  <tbody>\n",
       "    <tr>\n",
       "      <th>0</th>\n",
       "      <td>39</td>\n",
       "      <td>State-gov</td>\n",
       "      <td>77516</td>\n",
       "      <td>Bachelors</td>\n",
       "      <td>13</td>\n",
       "      <td>Never-married</td>\n",
       "      <td>Adm-clerical</td>\n",
       "      <td>Not-in-family</td>\n",
       "      <td>White</td>\n",
       "      <td>Male</td>\n",
       "      <td>2174</td>\n",
       "      <td>0</td>\n",
       "      <td>40</td>\n",
       "      <td>United-States</td>\n",
       "      <td>&lt;=50K</td>\n",
       "    </tr>\n",
       "    <tr>\n",
       "      <th>1</th>\n",
       "      <td>50</td>\n",
       "      <td>Self-emp-not-inc</td>\n",
       "      <td>83311</td>\n",
       "      <td>Bachelors</td>\n",
       "      <td>13</td>\n",
       "      <td>Married-civ-spouse</td>\n",
       "      <td>Exec-managerial</td>\n",
       "      <td>Husband</td>\n",
       "      <td>White</td>\n",
       "      <td>Male</td>\n",
       "      <td>0</td>\n",
       "      <td>0</td>\n",
       "      <td>13</td>\n",
       "      <td>United-States</td>\n",
       "      <td>&lt;=50K</td>\n",
       "    </tr>\n",
       "    <tr>\n",
       "      <th>2</th>\n",
       "      <td>38</td>\n",
       "      <td>Private</td>\n",
       "      <td>215646</td>\n",
       "      <td>HS-grad</td>\n",
       "      <td>9</td>\n",
       "      <td>Divorced</td>\n",
       "      <td>Handlers-cleaners</td>\n",
       "      <td>Not-in-family</td>\n",
       "      <td>White</td>\n",
       "      <td>Male</td>\n",
       "      <td>0</td>\n",
       "      <td>0</td>\n",
       "      <td>40</td>\n",
       "      <td>United-States</td>\n",
       "      <td>&lt;=50K</td>\n",
       "    </tr>\n",
       "    <tr>\n",
       "      <th>3</th>\n",
       "      <td>53</td>\n",
       "      <td>Private</td>\n",
       "      <td>234721</td>\n",
       "      <td>11th</td>\n",
       "      <td>7</td>\n",
       "      <td>Married-civ-spouse</td>\n",
       "      <td>Handlers-cleaners</td>\n",
       "      <td>Husband</td>\n",
       "      <td>Black</td>\n",
       "      <td>Male</td>\n",
       "      <td>0</td>\n",
       "      <td>0</td>\n",
       "      <td>40</td>\n",
       "      <td>United-States</td>\n",
       "      <td>&lt;=50K</td>\n",
       "    </tr>\n",
       "    <tr>\n",
       "      <th>4</th>\n",
       "      <td>28</td>\n",
       "      <td>Private</td>\n",
       "      <td>338409</td>\n",
       "      <td>Bachelors</td>\n",
       "      <td>13</td>\n",
       "      <td>Married-civ-spouse</td>\n",
       "      <td>Prof-specialty</td>\n",
       "      <td>Wife</td>\n",
       "      <td>Black</td>\n",
       "      <td>Female</td>\n",
       "      <td>0</td>\n",
       "      <td>0</td>\n",
       "      <td>40</td>\n",
       "      <td>Cuba</td>\n",
       "      <td>&lt;=50K</td>\n",
       "    </tr>\n",
       "    <tr>\n",
       "      <th>...</th>\n",
       "      <td>...</td>\n",
       "      <td>...</td>\n",
       "      <td>...</td>\n",
       "      <td>...</td>\n",
       "      <td>...</td>\n",
       "      <td>...</td>\n",
       "      <td>...</td>\n",
       "      <td>...</td>\n",
       "      <td>...</td>\n",
       "      <td>...</td>\n",
       "      <td>...</td>\n",
       "      <td>...</td>\n",
       "      <td>...</td>\n",
       "      <td>...</td>\n",
       "      <td>...</td>\n",
       "    </tr>\n",
       "    <tr>\n",
       "      <th>32556</th>\n",
       "      <td>27</td>\n",
       "      <td>Private</td>\n",
       "      <td>257302</td>\n",
       "      <td>Assoc-acdm</td>\n",
       "      <td>12</td>\n",
       "      <td>Married-civ-spouse</td>\n",
       "      <td>Tech-support</td>\n",
       "      <td>Wife</td>\n",
       "      <td>White</td>\n",
       "      <td>Female</td>\n",
       "      <td>0</td>\n",
       "      <td>0</td>\n",
       "      <td>38</td>\n",
       "      <td>United-States</td>\n",
       "      <td>&lt;=50K</td>\n",
       "    </tr>\n",
       "    <tr>\n",
       "      <th>32557</th>\n",
       "      <td>40</td>\n",
       "      <td>Private</td>\n",
       "      <td>154374</td>\n",
       "      <td>HS-grad</td>\n",
       "      <td>9</td>\n",
       "      <td>Married-civ-spouse</td>\n",
       "      <td>Machine-op-inspct</td>\n",
       "      <td>Husband</td>\n",
       "      <td>White</td>\n",
       "      <td>Male</td>\n",
       "      <td>0</td>\n",
       "      <td>0</td>\n",
       "      <td>40</td>\n",
       "      <td>United-States</td>\n",
       "      <td>&gt;50K</td>\n",
       "    </tr>\n",
       "    <tr>\n",
       "      <th>32558</th>\n",
       "      <td>58</td>\n",
       "      <td>Private</td>\n",
       "      <td>151910</td>\n",
       "      <td>HS-grad</td>\n",
       "      <td>9</td>\n",
       "      <td>Widowed</td>\n",
       "      <td>Adm-clerical</td>\n",
       "      <td>Unmarried</td>\n",
       "      <td>White</td>\n",
       "      <td>Female</td>\n",
       "      <td>0</td>\n",
       "      <td>0</td>\n",
       "      <td>40</td>\n",
       "      <td>United-States</td>\n",
       "      <td>&lt;=50K</td>\n",
       "    </tr>\n",
       "    <tr>\n",
       "      <th>32559</th>\n",
       "      <td>22</td>\n",
       "      <td>Private</td>\n",
       "      <td>201490</td>\n",
       "      <td>HS-grad</td>\n",
       "      <td>9</td>\n",
       "      <td>Never-married</td>\n",
       "      <td>Adm-clerical</td>\n",
       "      <td>Own-child</td>\n",
       "      <td>White</td>\n",
       "      <td>Male</td>\n",
       "      <td>0</td>\n",
       "      <td>0</td>\n",
       "      <td>20</td>\n",
       "      <td>United-States</td>\n",
       "      <td>&lt;=50K</td>\n",
       "    </tr>\n",
       "    <tr>\n",
       "      <th>32560</th>\n",
       "      <td>52</td>\n",
       "      <td>Self-emp-inc</td>\n",
       "      <td>287927</td>\n",
       "      <td>HS-grad</td>\n",
       "      <td>9</td>\n",
       "      <td>Married-civ-spouse</td>\n",
       "      <td>Exec-managerial</td>\n",
       "      <td>Wife</td>\n",
       "      <td>White</td>\n",
       "      <td>Female</td>\n",
       "      <td>15024</td>\n",
       "      <td>0</td>\n",
       "      <td>40</td>\n",
       "      <td>United-States</td>\n",
       "      <td>&gt;50K</td>\n",
       "    </tr>\n",
       "  </tbody>\n",
       "</table>\n",
       "<p>32561 rows × 15 columns</p>\n",
       "</div>"
      ],
      "text/plain": [
       "       Age          Workclass  fnlwgt    Education  Education-num  \\\n",
       "0       39          State-gov   77516    Bachelors             13   \n",
       "1       50   Self-emp-not-inc   83311    Bachelors             13   \n",
       "2       38            Private  215646      HS-grad              9   \n",
       "3       53            Private  234721         11th              7   \n",
       "4       28            Private  338409    Bachelors             13   \n",
       "...    ...                ...     ...          ...            ...   \n",
       "32556   27            Private  257302   Assoc-acdm             12   \n",
       "32557   40            Private  154374      HS-grad              9   \n",
       "32558   58            Private  151910      HS-grad              9   \n",
       "32559   22            Private  201490      HS-grad              9   \n",
       "32560   52       Self-emp-inc  287927      HS-grad              9   \n",
       "\n",
       "            Marital status          Occupation    Relationship    Race  \\\n",
       "0            Never-married        Adm-clerical   Not-in-family   White   \n",
       "1       Married-civ-spouse     Exec-managerial         Husband   White   \n",
       "2                 Divorced   Handlers-cleaners   Not-in-family   White   \n",
       "3       Married-civ-spouse   Handlers-cleaners         Husband   Black   \n",
       "4       Married-civ-spouse      Prof-specialty            Wife   Black   \n",
       "...                    ...                 ...             ...     ...   \n",
       "32556   Married-civ-spouse        Tech-support            Wife   White   \n",
       "32557   Married-civ-spouse   Machine-op-inspct         Husband   White   \n",
       "32558              Widowed        Adm-clerical       Unmarried   White   \n",
       "32559        Never-married        Adm-clerical       Own-child   White   \n",
       "32560   Married-civ-spouse     Exec-managerial            Wife   White   \n",
       "\n",
       "           sex  Capital Gain  Capital loss  Hours per week  Native country  \\\n",
       "0         Male          2174             0              40   United-States   \n",
       "1         Male             0             0              13   United-States   \n",
       "2         Male             0             0              40   United-States   \n",
       "3         Male             0             0              40   United-States   \n",
       "4       Female             0             0              40            Cuba   \n",
       "...        ...           ...           ...             ...             ...   \n",
       "32556   Female             0             0              38   United-States   \n",
       "32557     Male             0             0              40   United-States   \n",
       "32558   Female             0             0              40   United-States   \n",
       "32559     Male             0             0              20   United-States   \n",
       "32560   Female         15024             0              40   United-States   \n",
       "\n",
       "       Income  \n",
       "0       <=50K  \n",
       "1       <=50K  \n",
       "2       <=50K  \n",
       "3       <=50K  \n",
       "4       <=50K  \n",
       "...       ...  \n",
       "32556   <=50K  \n",
       "32557    >50K  \n",
       "32558   <=50K  \n",
       "32559   <=50K  \n",
       "32560    >50K  \n",
       "\n",
       "[32561 rows x 15 columns]"
      ]
     },
     "execution_count": 4,
     "metadata": {},
     "output_type": "execute_result"
    }
   ],
   "source": [
    "inc"
   ]
  },
  {
   "cell_type": "code",
   "execution_count": 5,
   "metadata": {},
   "outputs": [
    {
     "data": {
      "text/plain": [
       "Age                  0\n",
       "Workclass         1836\n",
       "fnlwgt               0\n",
       "Education            0\n",
       "Education-num        0\n",
       "Marital status       0\n",
       "Occupation        1843\n",
       "Relationship         0\n",
       "Race                 0\n",
       "sex                  0\n",
       "Capital Gain         0\n",
       "Capital loss         0\n",
       "Hours per week       0\n",
       "Native country     583\n",
       "Income               0\n",
       "dtype: int64"
      ]
     },
     "execution_count": 5,
     "metadata": {},
     "output_type": "execute_result"
    }
   ],
   "source": [
    "inc.isnull().sum()"
   ]
  },
  {
   "cell_type": "code",
   "execution_count": 6,
   "metadata": {},
   "outputs": [
    {
     "data": {
      "text/plain": [
       "<matplotlib.axes._subplots.AxesSubplot at 0x21e0040f3c8>"
      ]
     },
     "execution_count": 6,
     "metadata": {},
     "output_type": "execute_result"
    },
    {
     "data": {
      "image/png": "[encoded data removed]",
      "text/plain": [
       "<Figure size 432x288 with 2 Axes>"
      ]
     },
     "metadata": {
      "needs_background": "light"
     },
     "output_type": "display_data"
    }
   ],
   "source": [
    "sns.heatmap(inc.isnull())"
   ]
  },
  {
   "cell_type": "code",
   "execution_count": 7,
   "metadata": {},
   "outputs": [],
   "source": [
    "inc.dropna(inplace = True)"
   ]
  },
  {
   "cell_type": "code",
   "execution_count": 8,
   "metadata": {},
   "outputs": [
    {
     "data": {
      "text/html": [
       "<div>\n",
       "<style scoped>\n",
       "    .dataframe tbody tr th:only-of-type {\n",
       "        vertical-align: middle;\n",
       "    }\n",
       "\n",
       "    .dataframe tbody tr th {\n",
       "        vertical-align: top;\n",
       "    }\n",
       "\n",
       "    .dataframe thead th {\n",
       "        text-align: right;\n",
       "    }\n",
       "</style>\n",
       "<table border=\"1\" class=\"dataframe\">\n",
       "  <thead>\n",
       "    <tr style=\"text-align: right;\">\n",
       "      <th></th>\n",
       "      <th>Age</th>\n",
       "      <th>Workclass</th>\n",
       "      <th>fnlwgt</th>\n",
       "      <th>Education</th>\n",
       "      <th>Education-num</th>\n",
       "      <th>Marital status</th>\n",
       "      <th>Occupation</th>\n",
       "      <th>Relationship</th>\n",
       "      <th>Race</th>\n",
       "      <th>sex</th>\n",
       "      <th>Capital Gain</th>\n",
       "      <th>Capital loss</th>\n",
       "      <th>Hours per week</th>\n",
       "      <th>Native country</th>\n",
       "      <th>Income</th>\n",
       "    </tr>\n",
       "  </thead>\n",
       "  <tbody>\n",
       "    <tr>\n",
       "      <th>0</th>\n",
       "      <td>39</td>\n",
       "      <td>State-gov</td>\n",
       "      <td>77516</td>\n",
       "      <td>Bachelors</td>\n",
       "      <td>13</td>\n",
       "      <td>Never-married</td>\n",
       "      <td>Adm-clerical</td>\n",
       "      <td>Not-in-family</td>\n",
       "      <td>White</td>\n",
       "      <td>Male</td>\n",
       "      <td>2174</td>\n",
       "      <td>0</td>\n",
       "      <td>40</td>\n",
       "      <td>United-States</td>\n",
       "      <td>&lt;=50K</td>\n",
       "    </tr>\n",
       "    <tr>\n",
       "      <th>1</th>\n",
       "      <td>50</td>\n",
       "      <td>Self-emp-not-inc</td>\n",
       "      <td>83311</td>\n",
       "      <td>Bachelors</td>\n",
       "      <td>13</td>\n",
       "      <td>Married-civ-spouse</td>\n",
       "      <td>Exec-managerial</td>\n",
       "      <td>Husband</td>\n",
       "      <td>White</td>\n",
       "      <td>Male</td>\n",
       "      <td>0</td>\n",
       "      <td>0</td>\n",
       "      <td>13</td>\n",
       "      <td>United-States</td>\n",
       "      <td>&lt;=50K</td>\n",
       "    </tr>\n",
       "    <tr>\n",
       "      <th>2</th>\n",
       "      <td>38</td>\n",
       "      <td>Private</td>\n",
       "      <td>215646</td>\n",
       "      <td>HS-grad</td>\n",
       "      <td>9</td>\n",
       "      <td>Divorced</td>\n",
       "      <td>Handlers-cleaners</td>\n",
       "      <td>Not-in-family</td>\n",
       "      <td>White</td>\n",
       "      <td>Male</td>\n",
       "      <td>0</td>\n",
       "      <td>0</td>\n",
       "      <td>40</td>\n",
       "      <td>United-States</td>\n",
       "      <td>&lt;=50K</td>\n",
       "    </tr>\n",
       "    <tr>\n",
       "      <th>3</th>\n",
       "      <td>53</td>\n",
       "      <td>Private</td>\n",
       "      <td>234721</td>\n",
       "      <td>11th</td>\n",
       "      <td>7</td>\n",
       "      <td>Married-civ-spouse</td>\n",
       "      <td>Handlers-cleaners</td>\n",
       "      <td>Husband</td>\n",
       "      <td>Black</td>\n",
       "      <td>Male</td>\n",
       "      <td>0</td>\n",
       "      <td>0</td>\n",
       "      <td>40</td>\n",
       "      <td>United-States</td>\n",
       "      <td>&lt;=50K</td>\n",
       "    </tr>\n",
       "    <tr>\n",
       "      <th>4</th>\n",
       "      <td>28</td>\n",
       "      <td>Private</td>\n",
       "      <td>338409</td>\n",
       "      <td>Bachelors</td>\n",
       "      <td>13</td>\n",
       "      <td>Married-civ-spouse</td>\n",
       "      <td>Prof-specialty</td>\n",
       "      <td>Wife</td>\n",
       "      <td>Black</td>\n",
       "      <td>Female</td>\n",
       "      <td>0</td>\n",
       "      <td>0</td>\n",
       "      <td>40</td>\n",
       "      <td>Cuba</td>\n",
       "      <td>&lt;=50K</td>\n",
       "    </tr>\n",
       "    <tr>\n",
       "      <th>...</th>\n",
       "      <td>...</td>\n",
       "      <td>...</td>\n",
       "      <td>...</td>\n",
       "      <td>...</td>\n",
       "      <td>...</td>\n",
       "      <td>...</td>\n",
       "      <td>...</td>\n",
       "      <td>...</td>\n",
       "      <td>...</td>\n",
       "      <td>...</td>\n",
       "      <td>...</td>\n",
       "      <td>...</td>\n",
       "      <td>...</td>\n",
       "      <td>...</td>\n",
       "      <td>...</td>\n",
       "    </tr>\n",
       "    <tr>\n",
       "      <th>32556</th>\n",
       "      <td>27</td>\n",
       "      <td>Private</td>\n",
       "      <td>257302</td>\n",
       "      <td>Assoc-acdm</td>\n",
       "      <td>12</td>\n",
       "      <td>Married-civ-spouse</td>\n",
       "      <td>Tech-support</td>\n",
       "      <td>Wife</td>\n",
       "      <td>White</td>\n",
       "      <td>Female</td>\n",
       "      <td>0</td>\n",
       "      <td>0</td>\n",
       "      <td>38</td>\n",
       "      <td>United-States</td>\n",
       "      <td>&lt;=50K</td>\n",
       "    </tr>\n",
       "    <tr>\n",
       "      <th>32557</th>\n",
       "      <td>40</td>\n",
       "      <td>Private</td>\n",
       "      <td>154374</td>\n",
       "      <td>HS-grad</td>\n",
       "      <td>9</td>\n",
       "      <td>Married-civ-spouse</td>\n",
       "      <td>Machine-op-inspct</td>\n",
       "      <td>Husband</td>\n",
       "      <td>White</td>\n",
       "      <td>Male</td>\n",
       "      <td>0</td>\n",
       "      <td>0</td>\n",
       "      <td>40</td>\n",
       "      <td>United-States</td>\n",
       "      <td>&gt;50K</td>\n",
       "    </tr>\n",
       "    <tr>\n",
       "      <th>32558</th>\n",
       "      <td>58</td>\n",
       "      <td>Private</td>\n",
       "      <td>151910</td>\n",
       "      <td>HS-grad</td>\n",
       "      <td>9</td>\n",
       "      <td>Widowed</td>\n",
       "      <td>Adm-clerical</td>\n",
       "      <td>Unmarried</td>\n",
       "      <td>White</td>\n",
       "      <td>Female</td>\n",
       "      <td>0</td>\n",
       "      <td>0</td>\n",
       "      <td>40</td>\n",
       "      <td>United-States</td>\n",
       "      <td>&lt;=50K</td>\n",
       "    </tr>\n",
       "    <tr>\n",
       "      <th>32559</th>\n",
       "      <td>22</td>\n",
       "      <td>Private</td>\n",
       "      <td>201490</td>\n",
       "      <td>HS-grad</td>\n",
       "      <td>9</td>\n",
       "      <td>Never-married</td>\n",
       "      <td>Adm-clerical</td>\n",
       "      <td>Own-child</td>\n",
       "      <td>White</td>\n",
       "      <td>Male</td>\n",
       "      <td>0</td>\n",
       "      <td>0</td>\n",
       "      <td>20</td>\n",
       "      <td>United-States</td>\n",
       "      <td>&lt;=50K</td>\n",
       "    </tr>\n",
       "    <tr>\n",
       "      <th>32560</th>\n",
       "      <td>52</td>\n",
       "      <td>Self-emp-inc</td>\n",
       "      <td>287927</td>\n",
       "      <td>HS-grad</td>\n",
       "      <td>9</td>\n",
       "      <td>Married-civ-spouse</td>\n",
       "      <td>Exec-managerial</td>\n",
       "      <td>Wife</td>\n",
       "      <td>White</td>\n",
       "      <td>Female</td>\n",
       "      <td>15024</td>\n",
       "      <td>0</td>\n",
       "      <td>40</td>\n",
       "      <td>United-States</td>\n",
       "      <td>&gt;50K</td>\n",
       "    </tr>\n",
       "  </tbody>\n",
       "</table>\n",
       "<p>30162 rows × 15 columns</p>\n",
       "</div>"
      ],
      "text/plain": [
       "       Age          Workclass  fnlwgt    Education  Education-num  \\\n",
       "0       39          State-gov   77516    Bachelors             13   \n",
       "1       50   Self-emp-not-inc   83311    Bachelors             13   \n",
       "2       38            Private  215646      HS-grad              9   \n",
       "3       53            Private  234721         11th              7   \n",
       "4       28            Private  338409    Bachelors             13   \n",
       "...    ...                ...     ...          ...            ...   \n",
       "32556   27            Private  257302   Assoc-acdm             12   \n",
       "32557   40            Private  154374      HS-grad              9   \n",
       "32558   58            Private  151910      HS-grad              9   \n",
       "32559   22            Private  201490      HS-grad              9   \n",
       "32560   52       Self-emp-inc  287927      HS-grad              9   \n",
       "\n",
       "            Marital status          Occupation    Relationship    Race  \\\n",
       "0            Never-married        Adm-clerical   Not-in-family   White   \n",
       "1       Married-civ-spouse     Exec-managerial         Husband   White   \n",
       "2                 Divorced   Handlers-cleaners   Not-in-family   White   \n",
       "3       Married-civ-spouse   Handlers-cleaners         Husband   Black   \n",
       "4       Married-civ-spouse      Prof-specialty            Wife   Black   \n",
       "...                    ...                 ...             ...     ...   \n",
       "32556   Married-civ-spouse        Tech-support            Wife   White   \n",
       "32557   Married-civ-spouse   Machine-op-inspct         Husband   White   \n",
       "32558              Widowed        Adm-clerical       Unmarried   White   \n",
       "32559        Never-married        Adm-clerical       Own-child   White   \n",
       "32560   Married-civ-spouse     Exec-managerial            Wife   White   \n",
       "\n",
       "           sex  Capital Gain  Capital loss  Hours per week  Native country  \\\n",
       "0         Male          2174             0              40   United-States   \n",
       "1         Male             0             0              13   United-States   \n",
       "2         Male             0             0              40   United-States   \n",
       "3         Male             0             0              40   United-States   \n",
       "4       Female             0             0              40            Cuba   \n",
       "...        ...           ...           ...             ...             ...   \n",
       "32556   Female             0             0              38   United-States   \n",
       "32557     Male             0             0              40   United-States   \n",
       "32558   Female             0             0              40   United-States   \n",
       "32559     Male             0             0              20   United-States   \n",
       "32560   Female         15024             0              40   United-States   \n",
       "\n",
       "       Income  \n",
       "0       <=50K  \n",
       "1       <=50K  \n",
       "2       <=50K  \n",
       "3       <=50K  \n",
       "4       <=50K  \n",
       "...       ...  \n",
       "32556   <=50K  \n",
       "32557    >50K  \n",
       "32558   <=50K  \n",
       "32559   <=50K  \n",
       "32560    >50K  \n",
       "\n",
       "[30162 rows x 15 columns]"
      ]
     },
     "execution_count": 8,
     "metadata": {},
     "output_type": "execute_result"
    }
   ],
   "source": [
    "inc"
   ]
  },
  {
   "cell_type": "code",
   "execution_count": 9,
   "metadata": {},
   "outputs": [
    {
     "data": {
      "text/html": [
       "<div>\n",
       "<style scoped>\n",
       "    .dataframe tbody tr th:only-of-type {\n",
       "        vertical-align: middle;\n",
       "    }\n",
       "\n",
       "    .dataframe tbody tr th {\n",
       "        vertical-align: top;\n",
       "    }\n",
       "\n",
       "    .dataframe thead th {\n",
       "        text-align: right;\n",
       "    }\n",
       "</style>\n",
       "<table border=\"1\" class=\"dataframe\">\n",
       "  <thead>\n",
       "    <tr style=\"text-align: right;\">\n",
       "      <th></th>\n",
       "      <th>Age</th>\n",
       "      <th>fnlwgt</th>\n",
       "      <th>Education-num</th>\n",
       "      <th>Capital Gain</th>\n",
       "      <th>Capital loss</th>\n",
       "      <th>Hours per week</th>\n",
       "    </tr>\n",
       "  </thead>\n",
       "  <tbody>\n",
       "    <tr>\n",
       "      <th>count</th>\n",
       "      <td>30162.000000</td>\n",
       "      <td>3.016200e+04</td>\n",
       "      <td>30162.000000</td>\n",
       "      <td>30162.000000</td>\n",
       "      <td>30162.000000</td>\n",
       "      <td>30162.000000</td>\n",
       "    </tr>\n",
       "    <tr>\n",
       "      <th>mean</th>\n",
       "      <td>38.437902</td>\n",
       "      <td>1.897938e+05</td>\n",
       "      <td>10.121312</td>\n",
       "      <td>1092.007858</td>\n",
       "      <td>88.372489</td>\n",
       "      <td>40.931238</td>\n",
       "    </tr>\n",
       "    <tr>\n",
       "      <th>std</th>\n",
       "      <td>13.134665</td>\n",
       "      <td>1.056530e+05</td>\n",
       "      <td>2.549995</td>\n",
       "      <td>7406.346497</td>\n",
       "      <td>404.298370</td>\n",
       "      <td>11.979984</td>\n",
       "    </tr>\n",
       "    <tr>\n",
       "      <th>min</th>\n",
       "      <td>17.000000</td>\n",
       "      <td>1.376900e+04</td>\n",
       "      <td>1.000000</td>\n",
       "      <td>0.000000</td>\n",
       "      <td>0.000000</td>\n",
       "      <td>1.000000</td>\n",
       "    </tr>\n",
       "    <tr>\n",
       "      <th>25%</th>\n",
       "      <td>28.000000</td>\n",
       "      <td>1.176272e+05</td>\n",
       "      <td>9.000000</td>\n",
       "      <td>0.000000</td>\n",
       "      <td>0.000000</td>\n",
       "      <td>40.000000</td>\n",
       "    </tr>\n",
       "    <tr>\n",
       "      <th>50%</th>\n",
       "      <td>37.000000</td>\n",
       "      <td>1.784250e+05</td>\n",
       "      <td>10.000000</td>\n",
       "      <td>0.000000</td>\n",
       "      <td>0.000000</td>\n",
       "      <td>40.000000</td>\n",
       "    </tr>\n",
       "    <tr>\n",
       "      <th>75%</th>\n",
       "      <td>47.000000</td>\n",
       "      <td>2.376285e+05</td>\n",
       "      <td>13.000000</td>\n",
       "      <td>0.000000</td>\n",
       "      <td>0.000000</td>\n",
       "      <td>45.000000</td>\n",
       "    </tr>\n",
       "    <tr>\n",
       "      <th>max</th>\n",
       "      <td>90.000000</td>\n",
       "      <td>1.484705e+06</td>\n",
       "      <td>16.000000</td>\n",
       "      <td>99999.000000</td>\n",
       "      <td>4356.000000</td>\n",
       "      <td>99.000000</td>\n",
       "    </tr>\n",
       "  </tbody>\n",
       "</table>\n",
       "</div>"
      ],
      "text/plain": [
       "                Age        fnlwgt  Education-num  Capital Gain  Capital loss  \\\n",
       "count  30162.000000  3.016200e+04   30162.000000  30162.000000  30162.000000   \n",
       "mean      38.437902  1.897938e+05      10.121312   1092.007858     88.372489   \n",
       "std       13.134665  1.056530e+05       2.549995   7406.346497    404.298370   \n",
       "min       17.000000  1.376900e+04       1.000000      0.000000      0.000000   \n",
       "25%       28.000000  1.176272e+05       9.000000      0.000000      0.000000   \n",
       "50%       37.000000  1.784250e+05      10.000000      0.000000      0.000000   \n",
       "75%       47.000000  2.376285e+05      13.000000      0.000000      0.000000   \n",
       "max       90.000000  1.484705e+06      16.000000  99999.000000   4356.000000   \n",
       "\n",
       "       Hours per week  \n",
       "count    30162.000000  \n",
       "mean        40.931238  \n",
       "std         11.979984  \n",
       "min          1.000000  \n",
       "25%         40.000000  \n",
       "50%         40.000000  \n",
       "75%         45.000000  \n",
       "max         99.000000  "
      ]
     },
     "execution_count": 9,
     "metadata": {},
     "output_type": "execute_result"
    }
   ],
   "source": [
    "inc.describe()"
   ]
  },
  {
   "cell_type": "code",
   "execution_count": 10,
   "metadata": {},
   "outputs": [
    {
     "data": {
      "text/plain": [
       "Age                int64\n",
       "Workclass         object\n",
       "fnlwgt             int64\n",
       "Education         object\n",
       "Education-num      int64\n",
       "Marital status    object\n",
       "Occupation        object\n",
       "Relationship      object\n",
       "Race              object\n",
       "sex               object\n",
       "Capital Gain       int64\n",
       "Capital loss       int64\n",
       "Hours per week     int64\n",
       "Native country    object\n",
       "Income            object\n",
       "dtype: object"
      ]
     },
     "execution_count": 10,
     "metadata": {},
     "output_type": "execute_result"
    }
   ],
   "source": [
    "inc.dtypes"
   ]
  },
  {
   "cell_type": "code",
   "execution_count": 11,
   "metadata": {},
   "outputs": [
    {
     "data": {
      "text/plain": [
       "array([' State-gov', ' Self-emp-not-inc', ' Private', ' Federal-gov',\n",
       "       ' Local-gov', ' Self-emp-inc', ' Without-pay'], dtype=object)"
      ]
     },
     "execution_count": 11,
     "metadata": {},
     "output_type": "execute_result"
    }
   ],
   "source": [
    "inc['Workclass'].unique()"
   ]
  },
  {
   "cell_type": "code",
   "execution_count": 12,
   "metadata": {},
   "outputs": [
    {
     "data": {
      "text/plain": [
       "array([' White', ' Black', ' Asian-Pac-Islander', ' Amer-Indian-Eskimo',\n",
       "       ' Other'], dtype=object)"
      ]
     },
     "execution_count": 12,
     "metadata": {},
     "output_type": "execute_result"
    }
   ],
   "source": [
    "inc['Race'].unique()"
   ]
  },
  {
   "cell_type": "code",
   "execution_count": 13,
   "metadata": {},
   "outputs": [
    {
     "data": {
      "text/plain": [
       "array([' Bachelors', ' HS-grad', ' 11th', ' Masters', ' 9th',\n",
       "       ' Some-college', ' Assoc-acdm', ' 7th-8th', ' Doctorate',\n",
       "       ' Assoc-voc', ' Prof-school', ' 5th-6th', ' 10th', ' Preschool',\n",
       "       ' 12th', ' 1st-4th'], dtype=object)"
      ]
     },
     "execution_count": 13,
     "metadata": {},
     "output_type": "execute_result"
    }
   ],
   "source": [
    "inc['Education'].unique()"
   ]
  },
  {
   "cell_type": "code",
   "execution_count": 14,
   "metadata": {},
   "outputs": [
    {
     "data": {
      "text/plain": [
       "array([' Adm-clerical', ' Exec-managerial', ' Handlers-cleaners',\n",
       "       ' Prof-specialty', ' Other-service', ' Sales', ' Transport-moving',\n",
       "       ' Farming-fishing', ' Machine-op-inspct', ' Tech-support',\n",
       "       ' Craft-repair', ' Protective-serv', ' Armed-Forces',\n",
       "       ' Priv-house-serv'], dtype=object)"
      ]
     },
     "execution_count": 14,
     "metadata": {},
     "output_type": "execute_result"
    }
   ],
   "source": [
    "inc['Occupation'].unique()"
   ]
  },
  {
   "cell_type": "code",
   "execution_count": 15,
   "metadata": {},
   "outputs": [
    {
     "data": {
      "text/plain": [
       "array([' Not-in-family', ' Husband', ' Wife', ' Own-child', ' Unmarried',\n",
       "       ' Other-relative'], dtype=object)"
      ]
     },
     "execution_count": 15,
     "metadata": {},
     "output_type": "execute_result"
    }
   ],
   "source": [
    "inc['Relationship'].unique()"
   ]
  },
  {
   "cell_type": "code",
   "execution_count": 16,
   "metadata": {},
   "outputs": [
    {
     "data": {
      "text/plain": [
       "array([   0, 2042, 1408, 1902, 1887, 1719, 1762, 1564, 2179, 1816, 1980,\n",
       "       1977, 1876, 1340, 2206, 1741, 1485, 2339, 2415, 1380, 1721, 2051,\n",
       "       2377, 1669, 2352, 1672,  653, 2392, 1504, 1590, 1651, 1628, 1848,\n",
       "       2001, 1740, 2002, 1579, 2258, 1602, 2547, 2205, 1726, 2444, 1138,\n",
       "       2238,  625,  213, 1539,  880, 1668, 1092, 1594, 2231, 1844,  810,\n",
       "       2824, 2559, 2057, 1573, 1974,  974, 2174, 2149, 1735, 1258, 2603,\n",
       "       2282,  323, 2246, 1617, 1648, 1825, 3770, 1755, 3683, 2129, 4356,\n",
       "       2267, 2080, 2457,  419,  155, 3900, 2201, 1944, 2467, 2754, 2472,\n",
       "       3004, 1411], dtype=int64)"
      ]
     },
     "execution_count": 16,
     "metadata": {},
     "output_type": "execute_result"
    }
   ],
   "source": [
    "inc['Capital loss'].unique()"
   ]
  },
  {
   "cell_type": "code",
   "execution_count": 17,
   "metadata": {},
   "outputs": [
    {
     "data": {
      "text/plain": [
       "array([' United-States', ' Cuba', ' Jamaica', ' India', ' Mexico',\n",
       "       ' Puerto-Rico', ' Honduras', ' England', ' Canada', ' Germany',\n",
       "       ' Iran', ' Philippines', ' Poland', ' Columbia', ' Cambodia',\n",
       "       ' Thailand', ' Ecuador', ' Laos', ' Taiwan', ' Haiti', ' Portugal',\n",
       "       ' Dominican-Republic', ' El-Salvador', ' France', ' Guatemala',\n",
       "       ' Italy', ' China', ' South', ' Japan', ' Yugoslavia', ' Peru',\n",
       "       ' Outlying-US(Guam-USVI-etc)', ' Scotland', ' Trinadad&Tobago',\n",
       "       ' Greece', ' Nicaragua', ' Vietnam', ' Hong', ' Ireland',\n",
       "       ' Hungary', ' Holand-Netherlands'], dtype=object)"
      ]
     },
     "execution_count": 17,
     "metadata": {},
     "output_type": "execute_result"
    }
   ],
   "source": [
    "inc['Native country'].unique()"
   ]
  },
  {
   "cell_type": "code",
   "execution_count": 18,
   "metadata": {},
   "outputs": [
    {
     "data": {
      "text/plain": [
       "array([' <=50K', ' >50K'], dtype=object)"
      ]
     },
     "execution_count": 18,
     "metadata": {},
     "output_type": "execute_result"
    }
   ],
   "source": [
    "inc['Income'].unique()"
   ]
  },
  {
   "cell_type": "code",
   "execution_count": 19,
   "metadata": {},
   "outputs": [
    {
     "data": {
      "text/plain": [
       "array([' State-gov', ' Self-emp-not-inc', ' Private', ' Federal-gov',\n",
       "       ' Local-gov', ' Self-emp-inc', ' Without-pay'], dtype=object)"
      ]
     },
     "execution_count": 19,
     "metadata": {},
     "output_type": "execute_result"
    }
   ],
   "source": [
    "inc['Workclass'].unique()"
   ]
  },
  {
   "cell_type": "code",
   "execution_count": 20,
   "metadata": {},
   "outputs": [],
   "source": [
    "# All these abova variables are classes , its wise to convert it into machine readable form"
   ]
  },
  {
   "cell_type": "code",
   "execution_count": 21,
   "metadata": {},
   "outputs": [
    {
     "data": {
      "text/html": [
       "<div>\n",
       "<style scoped>\n",
       "    .dataframe tbody tr th:only-of-type {\n",
       "        vertical-align: middle;\n",
       "    }\n",
       "\n",
       "    .dataframe tbody tr th {\n",
       "        vertical-align: top;\n",
       "    }\n",
       "\n",
       "    .dataframe thead th {\n",
       "        text-align: right;\n",
       "    }\n",
       "</style>\n",
       "<table border=\"1\" class=\"dataframe\">\n",
       "  <thead>\n",
       "    <tr style=\"text-align: right;\">\n",
       "      <th></th>\n",
       "      <th>Age</th>\n",
       "      <th>fnlwgt</th>\n",
       "      <th>Education-num</th>\n",
       "      <th>Capital Gain</th>\n",
       "      <th>Capital loss</th>\n",
       "      <th>Hours per week</th>\n",
       "    </tr>\n",
       "  </thead>\n",
       "  <tbody>\n",
       "    <tr>\n",
       "      <th>Age</th>\n",
       "      <td>1.000000</td>\n",
       "      <td>-0.076511</td>\n",
       "      <td>0.043526</td>\n",
       "      <td>0.080154</td>\n",
       "      <td>0.060165</td>\n",
       "      <td>0.101599</td>\n",
       "    </tr>\n",
       "    <tr>\n",
       "      <th>fnlwgt</th>\n",
       "      <td>-0.076511</td>\n",
       "      <td>1.000000</td>\n",
       "      <td>-0.044992</td>\n",
       "      <td>0.000422</td>\n",
       "      <td>-0.009750</td>\n",
       "      <td>-0.022886</td>\n",
       "    </tr>\n",
       "    <tr>\n",
       "      <th>Education-num</th>\n",
       "      <td>0.043526</td>\n",
       "      <td>-0.044992</td>\n",
       "      <td>1.000000</td>\n",
       "      <td>0.124416</td>\n",
       "      <td>0.079646</td>\n",
       "      <td>0.152522</td>\n",
       "    </tr>\n",
       "    <tr>\n",
       "      <th>Capital Gain</th>\n",
       "      <td>0.080154</td>\n",
       "      <td>0.000422</td>\n",
       "      <td>0.124416</td>\n",
       "      <td>1.000000</td>\n",
       "      <td>-0.032229</td>\n",
       "      <td>0.080432</td>\n",
       "    </tr>\n",
       "    <tr>\n",
       "      <th>Capital loss</th>\n",
       "      <td>0.060165</td>\n",
       "      <td>-0.009750</td>\n",
       "      <td>0.079646</td>\n",
       "      <td>-0.032229</td>\n",
       "      <td>1.000000</td>\n",
       "      <td>0.052417</td>\n",
       "    </tr>\n",
       "    <tr>\n",
       "      <th>Hours per week</th>\n",
       "      <td>0.101599</td>\n",
       "      <td>-0.022886</td>\n",
       "      <td>0.152522</td>\n",
       "      <td>0.080432</td>\n",
       "      <td>0.052417</td>\n",
       "      <td>1.000000</td>\n",
       "    </tr>\n",
       "  </tbody>\n",
       "</table>\n",
       "</div>"
      ],
      "text/plain": [
       "                     Age    fnlwgt  Education-num  Capital Gain  Capital loss  \\\n",
       "Age             1.000000 -0.076511       0.043526      0.080154      0.060165   \n",
       "fnlwgt         -0.076511  1.000000      -0.044992      0.000422     -0.009750   \n",
       "Education-num   0.043526 -0.044992       1.000000      0.124416      0.079646   \n",
       "Capital Gain    0.080154  0.000422       0.124416      1.000000     -0.032229   \n",
       "Capital loss    0.060165 -0.009750       0.079646     -0.032229      1.000000   \n",
       "Hours per week  0.101599 -0.022886       0.152522      0.080432      0.052417   \n",
       "\n",
       "                Hours per week  \n",
       "Age                   0.101599  \n",
       "fnlwgt               -0.022886  \n",
       "Education-num         0.152522  \n",
       "Capital Gain          0.080432  \n",
       "Capital loss          0.052417  \n",
       "Hours per week        1.000000  "
      ]
     },
     "execution_count": 21,
     "metadata": {},
     "output_type": "execute_result"
    }
   ],
   "source": [
    "inc.corr()"
   ]
  },
  {
   "cell_type": "code",
   "execution_count": 22,
   "metadata": {},
   "outputs": [
    {
     "data": {
      "image/png": "[encoded data removed]",
      "text/plain": [
       "<Figure size 864x432 with 1 Axes>"
      ]
     },
     "metadata": {
      "needs_background": "light"
     },
     "output_type": "display_data"
    }
   ],
   "source": [
    "plt.figure(figsize=(12,6))\n",
    "sns.countplot(inc['Workclass'])\n",
    "plt.show()"
   ]
  },
  {
   "cell_type": "code",
   "execution_count": 23,
   "metadata": {},
   "outputs": [],
   "source": [
    "# above shows workers in private are more than any of the sectors"
   ]
  },
  {
   "cell_type": "code",
   "execution_count": 24,
   "metadata": {},
   "outputs": [
    {
     "data": {
      "image/png": "[encoded data removed]",
      "text/plain": [
       "<Figure size 1440x432 with 1 Axes>"
      ]
     },
     "metadata": {
      "needs_background": "light"
     },
     "output_type": "display_data"
    }
   ],
   "source": [
    "\n",
    "plt.figure(figsize=(20,6))\n",
    "sns.countplot(inc['Occupation'])\n",
    "plt.show()"
   ]
  },
  {
   "cell_type": "code",
   "execution_count": 25,
   "metadata": {},
   "outputs": [
    {
     "data": {
      "image/png": "[encoded data removed]",
      "text/plain": [
       "<Figure size 1440x432 with 1 Axes>"
      ]
     },
     "metadata": {
      "needs_background": "light"
     },
     "output_type": "display_data"
    }
   ],
   "source": [
    "plt.figure(figsize=(20,6))\n",
    "sns.countplot(inc['Education'])\n",
    "plt.show()"
   ]
  },
  {
   "cell_type": "code",
   "execution_count": 26,
   "metadata": {},
   "outputs": [
    {
     "data": {
      "image/png": "[encoded data removed]",
      "text/plain": [
       "<Figure size 432x432 with 1 Axes>"
      ]
     },
     "metadata": {
      "needs_background": "light"
     },
     "output_type": "display_data"
    }
   ],
   "source": [
    "plt.figure(figsize=(6,6))\n",
    "sns.countplot(inc['sex'])\n",
    "plt.show()"
   ]
  },
  {
   "cell_type": "code",
   "execution_count": 27,
   "metadata": {},
   "outputs": [],
   "source": [
    "# Here graph shows that the count of males is greater than females"
   ]
  },
  {
   "cell_type": "code",
   "execution_count": 28,
   "metadata": {},
   "outputs": [
    {
     "data": {
      "image/png": "[encoded data removed]",
      "text/plain": [
       "<Figure size 720x432 with 1 Axes>"
      ]
     },
     "metadata": {
      "needs_background": "light"
     },
     "output_type": "display_data"
    }
   ],
   "source": [
    "plt.figure(figsize=(10,6))\n",
    "sns.countplot(inc['Race'])\n",
    "plt.show()"
   ]
  },
  {
   "cell_type": "code",
   "execution_count": 29,
   "metadata": {},
   "outputs": [],
   "source": [
    "# Here above shows white people have high count than any other ethnic group"
   ]
  },
  {
   "cell_type": "code",
   "execution_count": 30,
   "metadata": {},
   "outputs": [
    {
     "data": {
      "image/png": "[encoded data removed]",
      "text/plain": [
       "<Figure size 1440x576 with 1 Axes>"
      ]
     },
     "metadata": {
      "needs_background": "light"
     },
     "output_type": "display_data"
    }
   ],
   "source": [
    "plt.figure(figsize=(20,8))\n",
    "sns.countplot(inc['Relationship'])\n",
    "plt.show()"
   ]
  },
  {
   "cell_type": "code",
   "execution_count": 31,
   "metadata": {},
   "outputs": [
    {
     "data": {
      "image/png": "[encoded data removed]",
      "text/plain": [
       "<Figure size 1440x576 with 1 Axes>"
      ]
     },
     "metadata": {
      "needs_background": "light"
     },
     "output_type": "display_data"
    }
   ],
   "source": [
    "plt.figure(figsize=(20,8))\n",
    "sns.countplot(inc['Native country'])\n",
    "plt.show()"
   ]
  },
  {
   "cell_type": "code",
   "execution_count": 32,
   "metadata": {},
   "outputs": [],
   "source": [
    "# here graph shows that the local nationals have high count than other nationalities"
   ]
  },
  {
   "cell_type": "code",
   "execution_count": 33,
   "metadata": {},
   "outputs": [
    {
     "data": {
      "image/png": "[encoded data removed]",
      "text/plain": [
       "<Figure size 1584x432 with 1 Axes>"
      ]
     },
     "metadata": {
      "needs_background": "light"
     },
     "output_type": "display_data"
    }
   ],
   "source": [
    "plt.figure(figsize=(22,6))\n",
    "sns.countplot( data = inc, x=\"Age\",hue = \"Income\")\n",
    "plt.show()"
   ]
  },
  {
   "cell_type": "code",
   "execution_count": 34,
   "metadata": {},
   "outputs": [
    {
     "data": {
      "image/png": "[encoded data removed]",
      "text/plain": [
       "<Figure size 2160x576 with 1 Axes>"
      ]
     },
     "metadata": {
      "needs_background": "light"
     },
     "output_type": "display_data"
    }
   ],
   "source": [
    "plt.figure(figsize=(30,8))\n",
    "sns.countplot( data = inc, x=\"Occupation\",hue = \"Income\")\n",
    "plt.show()"
   ]
  },
  {
   "cell_type": "code",
   "execution_count": 35,
   "metadata": {},
   "outputs": [
    {
     "data": {
      "image/png": "[encoded data removed]",
      "text/plain": [
       "<Figure size 864x432 with 1 Axes>"
      ]
     },
     "metadata": {
      "needs_background": "light"
     },
     "output_type": "display_data"
    }
   ],
   "source": [
    "plt.figure(figsize=(12,6))\n",
    "sns.countplot( data = inc, x=\"Workclass\",hue = \"Income\")\n",
    "plt.show()"
   ]
  },
  {
   "cell_type": "code",
   "execution_count": 36,
   "metadata": {},
   "outputs": [
    {
     "data": {
      "image/png": "[encoded data removed]",
      "text/plain": [
       "<Figure size 1584x432 with 1 Axes>"
      ]
     },
     "metadata": {
      "needs_background": "light"
     },
     "output_type": "display_data"
    }
   ],
   "source": [
    "plt.figure(figsize=(22,6))\n",
    "sns.countplot( data = inc, x=\"Relationship\",hue = \"Income\")\n",
    "plt.show()"
   ]
  },
  {
   "cell_type": "code",
   "execution_count": 37,
   "metadata": {},
   "outputs": [
    {
     "data": {
      "image/png": "[encoded data removed]",
      "text/plain": [
       "<Figure size 1584x432 with 1 Axes>"
      ]
     },
     "metadata": {
      "needs_background": "light"
     },
     "output_type": "display_data"
    }
   ],
   "source": [
    "plt.figure(figsize=(22,6))\n",
    "sns.countplot( data = inc, x=\"Native country\",hue = \"Income\")\n",
    "plt.show()"
   ]
  },
  {
   "cell_type": "code",
   "execution_count": 38,
   "metadata": {},
   "outputs": [
    {
     "data": {
      "image/png": "[encoded data removed]",
      "text/plain": [
       "<Figure size 1584x432 with 1 Axes>"
      ]
     },
     "metadata": {
      "needs_background": "light"
     },
     "output_type": "display_data"
    }
   ],
   "source": [
    "plt.figure(figsize=(22,6))\n",
    "sns.countplot( data = inc, x=\"sex\",hue = \"Income\")\n",
    "plt.show()"
   ]
  },
  {
   "cell_type": "code",
   "execution_count": 39,
   "metadata": {},
   "outputs": [
    {
     "data": {
      "image/png": "[encoded data removed]",
      "text/plain": [
       "<Figure size 1584x432 with 1 Axes>"
      ]
     },
     "metadata": {
      "needs_background": "light"
     },
     "output_type": "display_data"
    }
   ],
   "source": [
    "plt.figure(figsize=(22,6))\n",
    "sns.countplot( data = inc, x=\"Race\",hue = \"Income\")\n",
    "plt.show()"
   ]
  },
  {
   "cell_type": "code",
   "execution_count": 40,
   "metadata": {},
   "outputs": [
    {
     "data": {
      "image/png": "[encoded data removed]",
      "text/plain": [
       "<Figure size 1584x432 with 1 Axes>"
      ]
     },
     "metadata": {
      "needs_background": "light"
     },
     "output_type": "display_data"
    }
   ],
   "source": [
    "plt.figure(figsize=(22,6))\n",
    "sns.countplot( data = inc, x=\"Marital status\",hue = \"Income\")\n",
    "plt.show()"
   ]
  },
  {
   "cell_type": "code",
   "execution_count": 41,
   "metadata": {},
   "outputs": [],
   "source": [
    "# above graph shows that never married category has high number of <= 50 k count but a lower number of >5ok count and\n",
    "# married category has pretty good count of both income categories"
   ]
  },
  {
   "cell_type": "code",
   "execution_count": 42,
   "metadata": {},
   "outputs": [
    {
     "data": {
      "text/plain": [
       "Age                int64\n",
       "Workclass         object\n",
       "fnlwgt             int64\n",
       "Education         object\n",
       "Education-num      int64\n",
       "Marital status    object\n",
       "Occupation        object\n",
       "Relationship      object\n",
       "Race              object\n",
       "sex               object\n",
       "Capital Gain       int64\n",
       "Capital loss       int64\n",
       "Hours per week     int64\n",
       "Native country    object\n",
       "Income            object\n",
       "dtype: object"
      ]
     },
     "execution_count": 42,
     "metadata": {},
     "output_type": "execute_result"
    }
   ],
   "source": [
    "inc.dtypes"
   ]
  },
  {
   "cell_type": "code",
   "execution_count": 43,
   "metadata": {},
   "outputs": [
    {
     "data": {
      "text/html": [
       "<div>\n",
       "<style scoped>\n",
       "    .dataframe tbody tr th:only-of-type {\n",
       "        vertical-align: middle;\n",
       "    }\n",
       "\n",
       "    .dataframe tbody tr th {\n",
       "        vertical-align: top;\n",
       "    }\n",
       "\n",
       "    .dataframe thead th {\n",
       "        text-align: right;\n",
       "    }\n",
       "</style>\n",
       "<table border=\"1\" class=\"dataframe\">\n",
       "  <thead>\n",
       "    <tr style=\"text-align: right;\">\n",
       "      <th></th>\n",
       "      <th>Age</th>\n",
       "      <th>Workclass</th>\n",
       "      <th>fnlwgt</th>\n",
       "      <th>Education</th>\n",
       "      <th>Education-num</th>\n",
       "      <th>Marital status</th>\n",
       "      <th>Occupation</th>\n",
       "      <th>Relationship</th>\n",
       "      <th>Race</th>\n",
       "      <th>sex</th>\n",
       "      <th>Capital Gain</th>\n",
       "      <th>Capital loss</th>\n",
       "      <th>Hours per week</th>\n",
       "      <th>Native country</th>\n",
       "      <th>Income</th>\n",
       "    </tr>\n",
       "  </thead>\n",
       "  <tbody>\n",
       "    <tr>\n",
       "      <th>0</th>\n",
       "      <td>39</td>\n",
       "      <td>State-gov</td>\n",
       "      <td>77516</td>\n",
       "      <td>Bachelors</td>\n",
       "      <td>13</td>\n",
       "      <td>Never-married</td>\n",
       "      <td>Adm-clerical</td>\n",
       "      <td>Not-in-family</td>\n",
       "      <td>White</td>\n",
       "      <td>Male</td>\n",
       "      <td>2174</td>\n",
       "      <td>0</td>\n",
       "      <td>40</td>\n",
       "      <td>United-States</td>\n",
       "      <td>&lt;=50K</td>\n",
       "    </tr>\n",
       "    <tr>\n",
       "      <th>1</th>\n",
       "      <td>50</td>\n",
       "      <td>Self-emp-not-inc</td>\n",
       "      <td>83311</td>\n",
       "      <td>Bachelors</td>\n",
       "      <td>13</td>\n",
       "      <td>Married-civ-spouse</td>\n",
       "      <td>Exec-managerial</td>\n",
       "      <td>Husband</td>\n",
       "      <td>White</td>\n",
       "      <td>Male</td>\n",
       "      <td>0</td>\n",
       "      <td>0</td>\n",
       "      <td>13</td>\n",
       "      <td>United-States</td>\n",
       "      <td>&lt;=50K</td>\n",
       "    </tr>\n",
       "    <tr>\n",
       "      <th>2</th>\n",
       "      <td>38</td>\n",
       "      <td>Private</td>\n",
       "      <td>215646</td>\n",
       "      <td>HS-grad</td>\n",
       "      <td>9</td>\n",
       "      <td>Divorced</td>\n",
       "      <td>Handlers-cleaners</td>\n",
       "      <td>Not-in-family</td>\n",
       "      <td>White</td>\n",
       "      <td>Male</td>\n",
       "      <td>0</td>\n",
       "      <td>0</td>\n",
       "      <td>40</td>\n",
       "      <td>United-States</td>\n",
       "      <td>&lt;=50K</td>\n",
       "    </tr>\n",
       "    <tr>\n",
       "      <th>3</th>\n",
       "      <td>53</td>\n",
       "      <td>Private</td>\n",
       "      <td>234721</td>\n",
       "      <td>11th</td>\n",
       "      <td>7</td>\n",
       "      <td>Married-civ-spouse</td>\n",
       "      <td>Handlers-cleaners</td>\n",
       "      <td>Husband</td>\n",
       "      <td>Black</td>\n",
       "      <td>Male</td>\n",
       "      <td>0</td>\n",
       "      <td>0</td>\n",
       "      <td>40</td>\n",
       "      <td>United-States</td>\n",
       "      <td>&lt;=50K</td>\n",
       "    </tr>\n",
       "    <tr>\n",
       "      <th>4</th>\n",
       "      <td>28</td>\n",
       "      <td>Private</td>\n",
       "      <td>338409</td>\n",
       "      <td>Bachelors</td>\n",
       "      <td>13</td>\n",
       "      <td>Married-civ-spouse</td>\n",
       "      <td>Prof-specialty</td>\n",
       "      <td>Wife</td>\n",
       "      <td>Black</td>\n",
       "      <td>Female</td>\n",
       "      <td>0</td>\n",
       "      <td>0</td>\n",
       "      <td>40</td>\n",
       "      <td>Cuba</td>\n",
       "      <td>&lt;=50K</td>\n",
       "    </tr>\n",
       "    <tr>\n",
       "      <th>...</th>\n",
       "      <td>...</td>\n",
       "      <td>...</td>\n",
       "      <td>...</td>\n",
       "      <td>...</td>\n",
       "      <td>...</td>\n",
       "      <td>...</td>\n",
       "      <td>...</td>\n",
       "      <td>...</td>\n",
       "      <td>...</td>\n",
       "      <td>...</td>\n",
       "      <td>...</td>\n",
       "      <td>...</td>\n",
       "      <td>...</td>\n",
       "      <td>...</td>\n",
       "      <td>...</td>\n",
       "    </tr>\n",
       "    <tr>\n",
       "      <th>32556</th>\n",
       "      <td>27</td>\n",
       "      <td>Private</td>\n",
       "      <td>257302</td>\n",
       "      <td>Assoc-acdm</td>\n",
       "      <td>12</td>\n",
       "      <td>Married-civ-spouse</td>\n",
       "      <td>Tech-support</td>\n",
       "      <td>Wife</td>\n",
       "      <td>White</td>\n",
       "      <td>Female</td>\n",
       "      <td>0</td>\n",
       "      <td>0</td>\n",
       "      <td>38</td>\n",
       "      <td>United-States</td>\n",
       "      <td>&lt;=50K</td>\n",
       "    </tr>\n",
       "    <tr>\n",
       "      <th>32557</th>\n",
       "      <td>40</td>\n",
       "      <td>Private</td>\n",
       "      <td>154374</td>\n",
       "      <td>HS-grad</td>\n",
       "      <td>9</td>\n",
       "      <td>Married-civ-spouse</td>\n",
       "      <td>Machine-op-inspct</td>\n",
       "      <td>Husband</td>\n",
       "      <td>White</td>\n",
       "      <td>Male</td>\n",
       "      <td>0</td>\n",
       "      <td>0</td>\n",
       "      <td>40</td>\n",
       "      <td>United-States</td>\n",
       "      <td>&gt;50K</td>\n",
       "    </tr>\n",
       "    <tr>\n",
       "      <th>32558</th>\n",
       "      <td>58</td>\n",
       "      <td>Private</td>\n",
       "      <td>151910</td>\n",
       "      <td>HS-grad</td>\n",
       "      <td>9</td>\n",
       "      <td>Widowed</td>\n",
       "      <td>Adm-clerical</td>\n",
       "      <td>Unmarried</td>\n",
       "      <td>White</td>\n",
       "      <td>Female</td>\n",
       "      <td>0</td>\n",
       "      <td>0</td>\n",
       "      <td>40</td>\n",
       "      <td>United-States</td>\n",
       "      <td>&lt;=50K</td>\n",
       "    </tr>\n",
       "    <tr>\n",
       "      <th>32559</th>\n",
       "      <td>22</td>\n",
       "      <td>Private</td>\n",
       "      <td>201490</td>\n",
       "      <td>HS-grad</td>\n",
       "      <td>9</td>\n",
       "      <td>Never-married</td>\n",
       "      <td>Adm-clerical</td>\n",
       "      <td>Own-child</td>\n",
       "      <td>White</td>\n",
       "      <td>Male</td>\n",
       "      <td>0</td>\n",
       "      <td>0</td>\n",
       "      <td>20</td>\n",
       "      <td>United-States</td>\n",
       "      <td>&lt;=50K</td>\n",
       "    </tr>\n",
       "    <tr>\n",
       "      <th>32560</th>\n",
       "      <td>52</td>\n",
       "      <td>Self-emp-inc</td>\n",
       "      <td>287927</td>\n",
       "      <td>HS-grad</td>\n",
       "      <td>9</td>\n",
       "      <td>Married-civ-spouse</td>\n",
       "      <td>Exec-managerial</td>\n",
       "      <td>Wife</td>\n",
       "      <td>White</td>\n",
       "      <td>Female</td>\n",
       "      <td>15024</td>\n",
       "      <td>0</td>\n",
       "      <td>40</td>\n",
       "      <td>United-States</td>\n",
       "      <td>&gt;50K</td>\n",
       "    </tr>\n",
       "  </tbody>\n",
       "</table>\n",
       "<p>30162 rows × 15 columns</p>\n",
       "</div>"
      ],
      "text/plain": [
       "       Age          Workclass  fnlwgt    Education  Education-num  \\\n",
       "0       39          State-gov   77516    Bachelors             13   \n",
       "1       50   Self-emp-not-inc   83311    Bachelors             13   \n",
       "2       38            Private  215646      HS-grad              9   \n",
       "3       53            Private  234721         11th              7   \n",
       "4       28            Private  338409    Bachelors             13   \n",
       "...    ...                ...     ...          ...            ...   \n",
       "32556   27            Private  257302   Assoc-acdm             12   \n",
       "32557   40            Private  154374      HS-grad              9   \n",
       "32558   58            Private  151910      HS-grad              9   \n",
       "32559   22            Private  201490      HS-grad              9   \n",
       "32560   52       Self-emp-inc  287927      HS-grad              9   \n",
       "\n",
       "            Marital status          Occupation    Relationship    Race  \\\n",
       "0            Never-married        Adm-clerical   Not-in-family   White   \n",
       "1       Married-civ-spouse     Exec-managerial         Husband   White   \n",
       "2                 Divorced   Handlers-cleaners   Not-in-family   White   \n",
       "3       Married-civ-spouse   Handlers-cleaners         Husband   Black   \n",
       "4       Married-civ-spouse      Prof-specialty            Wife   Black   \n",
       "...                    ...                 ...             ...     ...   \n",
       "32556   Married-civ-spouse        Tech-support            Wife   White   \n",
       "32557   Married-civ-spouse   Machine-op-inspct         Husband   White   \n",
       "32558              Widowed        Adm-clerical       Unmarried   White   \n",
       "32559        Never-married        Adm-clerical       Own-child   White   \n",
       "32560   Married-civ-spouse     Exec-managerial            Wife   White   \n",
       "\n",
       "           sex  Capital Gain  Capital loss  Hours per week  Native country  \\\n",
       "0         Male          2174             0              40   United-States   \n",
       "1         Male             0             0              13   United-States   \n",
       "2         Male             0             0              40   United-States   \n",
       "3         Male             0             0              40   United-States   \n",
       "4       Female             0             0              40            Cuba   \n",
       "...        ...           ...           ...             ...             ...   \n",
       "32556   Female             0             0              38   United-States   \n",
       "32557     Male             0             0              40   United-States   \n",
       "32558   Female             0             0              40   United-States   \n",
       "32559     Male             0             0              20   United-States   \n",
       "32560   Female         15024             0              40   United-States   \n",
       "\n",
       "       Income  \n",
       "0       <=50K  \n",
       "1       <=50K  \n",
       "2       <=50K  \n",
       "3       <=50K  \n",
       "4       <=50K  \n",
       "...       ...  \n",
       "32556   <=50K  \n",
       "32557    >50K  \n",
       "32558   <=50K  \n",
       "32559   <=50K  \n",
       "32560    >50K  \n",
       "\n",
       "[30162 rows x 15 columns]"
      ]
     },
     "execution_count": 43,
     "metadata": {},
     "output_type": "execute_result"
    }
   ],
   "source": [
    "inc"
   ]
  },
  {
   "cell_type": "code",
   "execution_count": 44,
   "metadata": {},
   "outputs": [],
   "source": [
    "from sklearn.preprocessing import LabelEncoder\n",
    "le = LabelEncoder()\n",
    "encode = ['Race','sex','Occupation','Education','Marital status','Workclass','Relationship','Native country','Income']\n",
    "for i in encode:\n",
    "    inc[i]=le.fit_transform(inc[i].astype(str))"
   ]
  },
  {
   "cell_type": "code",
   "execution_count": 45,
   "metadata": {},
   "outputs": [
    {
     "data": {
      "text/plain": [
       "Age               int64\n",
       "Workclass         int32\n",
       "fnlwgt            int64\n",
       "Education         int32\n",
       "Education-num     int64\n",
       "Marital status    int32\n",
       "Occupation        int32\n",
       "Relationship      int32\n",
       "Race              int32\n",
       "sex               int32\n",
       "Capital Gain      int64\n",
       "Capital loss      int64\n",
       "Hours per week    int64\n",
       "Native country    int32\n",
       "Income            int32\n",
       "dtype: object"
      ]
     },
     "execution_count": 45,
     "metadata": {},
     "output_type": "execute_result"
    }
   ],
   "source": [
    "inc.dtypes"
   ]
  },
  {
   "cell_type": "code",
   "execution_count": 46,
   "metadata": {},
   "outputs": [
    {
     "data": {
      "text/html": [
       "<div>\n",
       "<style scoped>\n",
       "    .dataframe tbody tr th:only-of-type {\n",
       "        vertical-align: middle;\n",
       "    }\n",
       "\n",
       "    .dataframe tbody tr th {\n",
       "        vertical-align: top;\n",
       "    }\n",
       "\n",
       "    .dataframe thead th {\n",
       "        text-align: right;\n",
       "    }\n",
       "</style>\n",
       "<table border=\"1\" class=\"dataframe\">\n",
       "  <thead>\n",
       "    <tr style=\"text-align: right;\">\n",
       "      <th></th>\n",
       "      <th>Age</th>\n",
       "      <th>Workclass</th>\n",
       "      <th>fnlwgt</th>\n",
       "      <th>Education</th>\n",
       "      <th>Education-num</th>\n",
       "      <th>Marital status</th>\n",
       "      <th>Occupation</th>\n",
       "      <th>Relationship</th>\n",
       "      <th>Race</th>\n",
       "      <th>sex</th>\n",
       "      <th>Capital Gain</th>\n",
       "      <th>Capital loss</th>\n",
       "      <th>Hours per week</th>\n",
       "      <th>Native country</th>\n",
       "      <th>Income</th>\n",
       "    </tr>\n",
       "  </thead>\n",
       "  <tbody>\n",
       "    <tr>\n",
       "      <th>0</th>\n",
       "      <td>39</td>\n",
       "      <td>5</td>\n",
       "      <td>77516</td>\n",
       "      <td>9</td>\n",
       "      <td>13</td>\n",
       "      <td>4</td>\n",
       "      <td>0</td>\n",
       "      <td>1</td>\n",
       "      <td>4</td>\n",
       "      <td>1</td>\n",
       "      <td>2174</td>\n",
       "      <td>0</td>\n",
       "      <td>40</td>\n",
       "      <td>38</td>\n",
       "      <td>0</td>\n",
       "    </tr>\n",
       "    <tr>\n",
       "      <th>1</th>\n",
       "      <td>50</td>\n",
       "      <td>4</td>\n",
       "      <td>83311</td>\n",
       "      <td>9</td>\n",
       "      <td>13</td>\n",
       "      <td>2</td>\n",
       "      <td>3</td>\n",
       "      <td>0</td>\n",
       "      <td>4</td>\n",
       "      <td>1</td>\n",
       "      <td>0</td>\n",
       "      <td>0</td>\n",
       "      <td>13</td>\n",
       "      <td>38</td>\n",
       "      <td>0</td>\n",
       "    </tr>\n",
       "    <tr>\n",
       "      <th>2</th>\n",
       "      <td>38</td>\n",
       "      <td>2</td>\n",
       "      <td>215646</td>\n",
       "      <td>11</td>\n",
       "      <td>9</td>\n",
       "      <td>0</td>\n",
       "      <td>5</td>\n",
       "      <td>1</td>\n",
       "      <td>4</td>\n",
       "      <td>1</td>\n",
       "      <td>0</td>\n",
       "      <td>0</td>\n",
       "      <td>40</td>\n",
       "      <td>38</td>\n",
       "      <td>0</td>\n",
       "    </tr>\n",
       "    <tr>\n",
       "      <th>3</th>\n",
       "      <td>53</td>\n",
       "      <td>2</td>\n",
       "      <td>234721</td>\n",
       "      <td>1</td>\n",
       "      <td>7</td>\n",
       "      <td>2</td>\n",
       "      <td>5</td>\n",
       "      <td>0</td>\n",
       "      <td>2</td>\n",
       "      <td>1</td>\n",
       "      <td>0</td>\n",
       "      <td>0</td>\n",
       "      <td>40</td>\n",
       "      <td>38</td>\n",
       "      <td>0</td>\n",
       "    </tr>\n",
       "    <tr>\n",
       "      <th>4</th>\n",
       "      <td>28</td>\n",
       "      <td>2</td>\n",
       "      <td>338409</td>\n",
       "      <td>9</td>\n",
       "      <td>13</td>\n",
       "      <td>2</td>\n",
       "      <td>9</td>\n",
       "      <td>5</td>\n",
       "      <td>2</td>\n",
       "      <td>0</td>\n",
       "      <td>0</td>\n",
       "      <td>0</td>\n",
       "      <td>40</td>\n",
       "      <td>4</td>\n",
       "      <td>0</td>\n",
       "    </tr>\n",
       "    <tr>\n",
       "      <th>...</th>\n",
       "      <td>...</td>\n",
       "      <td>...</td>\n",
       "      <td>...</td>\n",
       "      <td>...</td>\n",
       "      <td>...</td>\n",
       "      <td>...</td>\n",
       "      <td>...</td>\n",
       "      <td>...</td>\n",
       "      <td>...</td>\n",
       "      <td>...</td>\n",
       "      <td>...</td>\n",
       "      <td>...</td>\n",
       "      <td>...</td>\n",
       "      <td>...</td>\n",
       "      <td>...</td>\n",
       "    </tr>\n",
       "    <tr>\n",
       "      <th>32556</th>\n",
       "      <td>27</td>\n",
       "      <td>2</td>\n",
       "      <td>257302</td>\n",
       "      <td>7</td>\n",
       "      <td>12</td>\n",
       "      <td>2</td>\n",
       "      <td>12</td>\n",
       "      <td>5</td>\n",
       "      <td>4</td>\n",
       "      <td>0</td>\n",
       "      <td>0</td>\n",
       "      <td>0</td>\n",
       "      <td>38</td>\n",
       "      <td>38</td>\n",
       "      <td>0</td>\n",
       "    </tr>\n",
       "    <tr>\n",
       "      <th>32557</th>\n",
       "      <td>40</td>\n",
       "      <td>2</td>\n",
       "      <td>154374</td>\n",
       "      <td>11</td>\n",
       "      <td>9</td>\n",
       "      <td>2</td>\n",
       "      <td>6</td>\n",
       "      <td>0</td>\n",
       "      <td>4</td>\n",
       "      <td>1</td>\n",
       "      <td>0</td>\n",
       "      <td>0</td>\n",
       "      <td>40</td>\n",
       "      <td>38</td>\n",
       "      <td>1</td>\n",
       "    </tr>\n",
       "    <tr>\n",
       "      <th>32558</th>\n",
       "      <td>58</td>\n",
       "      <td>2</td>\n",
       "      <td>151910</td>\n",
       "      <td>11</td>\n",
       "      <td>9</td>\n",
       "      <td>6</td>\n",
       "      <td>0</td>\n",
       "      <td>4</td>\n",
       "      <td>4</td>\n",
       "      <td>0</td>\n",
       "      <td>0</td>\n",
       "      <td>0</td>\n",
       "      <td>40</td>\n",
       "      <td>38</td>\n",
       "      <td>0</td>\n",
       "    </tr>\n",
       "    <tr>\n",
       "      <th>32559</th>\n",
       "      <td>22</td>\n",
       "      <td>2</td>\n",
       "      <td>201490</td>\n",
       "      <td>11</td>\n",
       "      <td>9</td>\n",
       "      <td>4</td>\n",
       "      <td>0</td>\n",
       "      <td>3</td>\n",
       "      <td>4</td>\n",
       "      <td>1</td>\n",
       "      <td>0</td>\n",
       "      <td>0</td>\n",
       "      <td>20</td>\n",
       "      <td>38</td>\n",
       "      <td>0</td>\n",
       "    </tr>\n",
       "    <tr>\n",
       "      <th>32560</th>\n",
       "      <td>52</td>\n",
       "      <td>3</td>\n",
       "      <td>287927</td>\n",
       "      <td>11</td>\n",
       "      <td>9</td>\n",
       "      <td>2</td>\n",
       "      <td>3</td>\n",
       "      <td>5</td>\n",
       "      <td>4</td>\n",
       "      <td>0</td>\n",
       "      <td>15024</td>\n",
       "      <td>0</td>\n",
       "      <td>40</td>\n",
       "      <td>38</td>\n",
       "      <td>1</td>\n",
       "    </tr>\n",
       "  </tbody>\n",
       "</table>\n",
       "<p>30162 rows × 15 columns</p>\n",
       "</div>"
      ],
      "text/plain": [
       "       Age  Workclass  fnlwgt  Education  Education-num  Marital status  \\\n",
       "0       39          5   77516          9             13               4   \n",
       "1       50          4   83311          9             13               2   \n",
       "2       38          2  215646         11              9               0   \n",
       "3       53          2  234721          1              7               2   \n",
       "4       28          2  338409          9             13               2   \n",
       "...    ...        ...     ...        ...            ...             ...   \n",
       "32556   27          2  257302          7             12               2   \n",
       "32557   40          2  154374         11              9               2   \n",
       "32558   58          2  151910         11              9               6   \n",
       "32559   22          2  201490         11              9               4   \n",
       "32560   52          3  287927         11              9               2   \n",
       "\n",
       "       Occupation  Relationship  Race  sex  Capital Gain  Capital loss  \\\n",
       "0               0             1     4    1          2174             0   \n",
       "1               3             0     4    1             0             0   \n",
       "2               5             1     4    1             0             0   \n",
       "3               5             0     2    1             0             0   \n",
       "4               9             5     2    0             0             0   \n",
       "...           ...           ...   ...  ...           ...           ...   \n",
       "32556          12             5     4    0             0             0   \n",
       "32557           6             0     4    1             0             0   \n",
       "32558           0             4     4    0             0             0   \n",
       "32559           0             3     4    1             0             0   \n",
       "32560           3             5     4    0         15024             0   \n",
       "\n",
       "       Hours per week  Native country  Income  \n",
       "0                  40              38       0  \n",
       "1                  13              38       0  \n",
       "2                  40              38       0  \n",
       "3                  40              38       0  \n",
       "4                  40               4       0  \n",
       "...               ...             ...     ...  \n",
       "32556              38              38       0  \n",
       "32557              40              38       1  \n",
       "32558              40              38       0  \n",
       "32559              20              38       0  \n",
       "32560              40              38       1  \n",
       "\n",
       "[30162 rows x 15 columns]"
      ]
     },
     "execution_count": 46,
     "metadata": {},
     "output_type": "execute_result"
    }
   ],
   "source": [
    "inc"
   ]
  },
  {
   "cell_type": "code",
   "execution_count": 47,
   "metadata": {},
   "outputs": [
    {
     "data": {
      "text/plain": [
       "Age                  AxesSubplot(0.125,0.816017;0.133621x0.0639831)\n",
       "Workclass         AxesSubplot(0.285345,0.816017;0.133621x0.0639831)\n",
       "fnlwgt             AxesSubplot(0.44569,0.816017;0.133621x0.0639831)\n",
       "Education         AxesSubplot(0.606034,0.816017;0.133621x0.0639831)\n",
       "Education-num     AxesSubplot(0.766379,0.816017;0.133621x0.0639831)\n",
       "Marital status       AxesSubplot(0.125,0.739237;0.133621x0.0639831)\n",
       "Occupation        AxesSubplot(0.285345,0.739237;0.133621x0.0639831)\n",
       "Relationship       AxesSubplot(0.44569,0.739237;0.133621x0.0639831)\n",
       "Race              AxesSubplot(0.606034,0.739237;0.133621x0.0639831)\n",
       "sex               AxesSubplot(0.766379,0.739237;0.133621x0.0639831)\n",
       "Capital Gain         AxesSubplot(0.125,0.662458;0.133621x0.0639831)\n",
       "Capital loss      AxesSubplot(0.285345,0.662458;0.133621x0.0639831)\n",
       "Hours per week     AxesSubplot(0.44569,0.662458;0.133621x0.0639831)\n",
       "Native country    AxesSubplot(0.606034,0.662458;0.133621x0.0639831)\n",
       "Income            AxesSubplot(0.766379,0.662458;0.133621x0.0639831)\n",
       "dtype: object"
      ]
     },
     "execution_count": 47,
     "metadata": {},
     "output_type": "execute_result"
    },
    {
     "data": {
      "image/png": "[encoded data removed]",
      "text/plain": [
       "<Figure size 1296x1296 with 50 Axes>"
      ]
     },
     "metadata": {
      "needs_background": "light"
     },
     "output_type": "display_data"
    }
   ],
   "source": [
    "inc.plot(kind=\"box\",subplots = True,layout=(10,5),figsize=(18,18))"
   ]
  },
  {
   "cell_type": "code",
   "execution_count": 48,
   "metadata": {},
   "outputs": [
    {
     "data": {
      "image/png": "[encoded data removed]",
      "text/plain": [
       "<Figure size 1296x1296 with 2 Axes>"
      ]
     },
     "metadata": {
      "needs_background": "light"
     },
     "output_type": "display_data"
    }
   ],
   "source": [
    "plt.figure(figsize=(18,18))\n",
    "sns.heatmap(inc.corr(),annot= True)\n",
    "plt.show()"
   ]
  },
  {
   "cell_type": "code",
   "execution_count": 49,
   "metadata": {},
   "outputs": [
    {
     "name": "stdout",
     "output_type": "stream",
     "text": [
      "(30162, 15)\n",
      "(25760, 15)\n"
     ]
    }
   ],
   "source": [
    "from scipy.stats import zscore\n",
    "z = np.abs(zscore(inc))\n",
    "z\n",
    "print(inc.shape)\n",
    "income =inc.loc[(z<3).all(axis=1)]\n",
    "print(income.shape)"
   ]
  },
  {
   "cell_type": "code",
   "execution_count": 50,
   "metadata": {},
   "outputs": [
    {
     "data": {
      "text/plain": [
       "Age               0\n",
       "Workclass         0\n",
       "fnlwgt            0\n",
       "Education         0\n",
       "Education-num     0\n",
       "Marital status    0\n",
       "Occupation        0\n",
       "Relationship      0\n",
       "Race              0\n",
       "sex               0\n",
       "Capital Gain      0\n",
       "Capital loss      0\n",
       "Hours per week    0\n",
       "Native country    0\n",
       "Income            0\n",
       "dtype: int64"
      ]
     },
     "execution_count": 50,
     "metadata": {},
     "output_type": "execute_result"
    }
   ],
   "source": [
    "income.isnull().sum()"
   ]
  },
  {
   "cell_type": "code",
   "execution_count": 51,
   "metadata": {},
   "outputs": [
    {
     "data": {
      "text/plain": [
       "Age               int64\n",
       "Workclass         int32\n",
       "fnlwgt            int64\n",
       "Education         int32\n",
       "Education-num     int64\n",
       "Marital status    int32\n",
       "Occupation        int32\n",
       "Relationship      int32\n",
       "Race              int32\n",
       "sex               int32\n",
       "Capital Gain      int64\n",
       "Capital loss      int64\n",
       "Hours per week    int64\n",
       "Native country    int32\n",
       "Income            int32\n",
       "dtype: object"
      ]
     },
     "execution_count": 51,
     "metadata": {},
     "output_type": "execute_result"
    }
   ],
   "source": [
    "income.dtypes"
   ]
  },
  {
   "cell_type": "code",
   "execution_count": 52,
   "metadata": {},
   "outputs": [
    {
     "data": {
      "text/plain": [
       "Age                0.443408\n",
       "Workclass          1.184029\n",
       "fnlwgt             0.627909\n",
       "Education         -0.965877\n",
       "Education-num     -0.135247\n",
       "Marital status    -0.039663\n",
       "Occupation         0.122640\n",
       "Relationship       0.788082\n",
       "Race              -2.641907\n",
       "sex               -0.719910\n",
       "Capital Gain       4.843972\n",
       "Capital loss      28.905740\n",
       "Hours per week    -0.285633\n",
       "Native country    -5.337237\n",
       "Income             1.269713\n",
       "dtype: float64"
      ]
     },
     "execution_count": 52,
     "metadata": {},
     "output_type": "execute_result"
    }
   ],
   "source": [
    "income.skew()"
   ]
  },
  {
   "cell_type": "code",
   "execution_count": 53,
   "metadata": {},
   "outputs": [
    {
     "data": {
      "text/plain": [
       "array([[<matplotlib.axes._subplots.AxesSubplot object at 0x0000021E030EBD08>,\n",
       "        <matplotlib.axes._subplots.AxesSubplot object at 0x0000021E03915C08>,\n",
       "        <matplotlib.axes._subplots.AxesSubplot object at 0x0000021E030F1508>,\n",
       "        <matplotlib.axes._subplots.AxesSubplot object at 0x0000021E0304C648>],\n",
       "       [<matplotlib.axes._subplots.AxesSubplot object at 0x0000021E039BC488>,\n",
       "        <matplotlib.axes._subplots.AxesSubplot object at 0x0000021E03941A48>,\n",
       "        <matplotlib.axes._subplots.AxesSubplot object at 0x0000021E03099B48>,\n",
       "        <matplotlib.axes._subplots.AxesSubplot object at 0x0000021E03083588>],\n",
       "       [<matplotlib.axes._subplots.AxesSubplot object at 0x0000021E0305A788>,\n",
       "        <matplotlib.axes._subplots.AxesSubplot object at 0x0000021E038F5A08>,\n",
       "        <matplotlib.axes._subplots.AxesSubplot object at 0x0000021E03815F48>,\n",
       "        <matplotlib.axes._subplots.AxesSubplot object at 0x0000021E03860048>],\n",
       "       [<matplotlib.axes._subplots.AxesSubplot object at 0x0000021E03806188>,\n",
       "        <matplotlib.axes._subplots.AxesSubplot object at 0x0000021E038BE2C8>,\n",
       "        <matplotlib.axes._subplots.AxesSubplot object at 0x0000021E03B373C8>,\n",
       "        <matplotlib.axes._subplots.AxesSubplot object at 0x0000021E03B704C8>]],\n",
       "      dtype=object)"
      ]
     },
     "execution_count": 53,
     "metadata": {},
     "output_type": "execute_result"
    },
    {
     "data": {
      "image/png": "[encoded data removed]",
      "text/plain": [
       "<Figure size 864x864 with 16 Axes>"
      ]
     },
     "metadata": {
      "needs_background": "light"
     },
     "output_type": "display_data"
    }
   ],
   "source": [
    "income.hist(figsize=(12,12)) # we have skewes data, It is required to treat the skewness"
   ]
  },
  {
   "cell_type": "code",
   "execution_count": 54,
   "metadata": {},
   "outputs": [],
   "source": [
    "# splitting in x and y"
   ]
  },
  {
   "cell_type": "code",
   "execution_count": 55,
   "metadata": {},
   "outputs": [],
   "source": [
    "x= income.drop([\"Income\"],axis=1)\n",
    "y = income[\"Income\"]\n",
    "df_x= income.drop([\"Income\"],axis=1)"
   ]
  },
  {
   "cell_type": "code",
   "execution_count": 56,
   "metadata": {},
   "outputs": [
    {
     "data": {
      "text/plain": [
       "(25760, 14)"
      ]
     },
     "execution_count": 56,
     "metadata": {},
     "output_type": "execute_result"
    }
   ],
   "source": [
    "x.shape"
   ]
  },
  {
   "cell_type": "code",
   "execution_count": 57,
   "metadata": {},
   "outputs": [
    {
     "data": {
      "text/plain": [
       "(25760,)"
      ]
     },
     "execution_count": 57,
     "metadata": {},
     "output_type": "execute_result"
    }
   ],
   "source": [
    "y.shape"
   ]
  },
  {
   "cell_type": "code",
   "execution_count": 58,
   "metadata": {},
   "outputs": [
    {
     "data": {
      "text/plain": [
       "Age                0.443408\n",
       "Workclass          1.184029\n",
       "fnlwgt             0.627909\n",
       "Education         -0.965877\n",
       "Education-num     -0.135247\n",
       "Marital status    -0.039663\n",
       "Occupation         0.122640\n",
       "Relationship       0.788082\n",
       "Race              -2.641907\n",
       "sex               -0.719910\n",
       "Capital Gain       4.843972\n",
       "Capital loss      28.905740\n",
       "Hours per week    -0.285633\n",
       "Native country    -5.337237\n",
       "dtype: float64"
      ]
     },
     "execution_count": 58,
     "metadata": {},
     "output_type": "execute_result"
    }
   ],
   "source": [
    "x.skew()"
   ]
  },
  {
   "cell_type": "code",
   "execution_count": 59,
   "metadata": {},
   "outputs": [
    {
     "data": {
      "text/html": [
       "<div>\n",
       "<style scoped>\n",
       "    .dataframe tbody tr th:only-of-type {\n",
       "        vertical-align: middle;\n",
       "    }\n",
       "\n",
       "    .dataframe tbody tr th {\n",
       "        vertical-align: top;\n",
       "    }\n",
       "\n",
       "    .dataframe thead th {\n",
       "        text-align: right;\n",
       "    }\n",
       "</style>\n",
       "<table border=\"1\" class=\"dataframe\">\n",
       "  <thead>\n",
       "    <tr style=\"text-align: right;\">\n",
       "      <th></th>\n",
       "      <th>Age</th>\n",
       "      <th>Workclass</th>\n",
       "      <th>fnlwgt</th>\n",
       "      <th>Education</th>\n",
       "      <th>Education-num</th>\n",
       "      <th>Marital status</th>\n",
       "      <th>Occupation</th>\n",
       "      <th>Relationship</th>\n",
       "      <th>Race</th>\n",
       "      <th>sex</th>\n",
       "      <th>Capital Gain</th>\n",
       "      <th>Capital loss</th>\n",
       "      <th>Hours per week</th>\n",
       "      <th>Native country</th>\n",
       "    </tr>\n",
       "  </thead>\n",
       "  <tbody>\n",
       "    <tr>\n",
       "      <th>0</th>\n",
       "      <td>0.201673</td>\n",
       "      <td>2.570760</td>\n",
       "      <td>-1.213558</td>\n",
       "      <td>-0.505167</td>\n",
       "      <td>1.223553</td>\n",
       "      <td>0.935960</td>\n",
       "      <td>-1.691007</td>\n",
       "      <td>0.139441</td>\n",
       "      <td>0.341822</td>\n",
       "      <td>0.702870</td>\n",
       "      <td>3.347889</td>\n",
       "      <td>-0.040891</td>\n",
       "      <td>-0.078755</td>\n",
       "      <td>0.161833</td>\n",
       "    </tr>\n",
       "    <tr>\n",
       "      <th>1</th>\n",
       "      <td>0.956507</td>\n",
       "      <td>1.785784</td>\n",
       "      <td>-1.126321</td>\n",
       "      <td>-0.505167</td>\n",
       "      <td>1.223553</td>\n",
       "      <td>-0.363205</td>\n",
       "      <td>-0.619238</td>\n",
       "      <td>-1.094651</td>\n",
       "      <td>0.341822</td>\n",
       "      <td>0.702870</td>\n",
       "      <td>-0.298693</td>\n",
       "      <td>-0.040891</td>\n",
       "      <td>-2.339068</td>\n",
       "      <td>0.161833</td>\n",
       "    </tr>\n",
       "    <tr>\n",
       "      <th>2</th>\n",
       "      <td>0.125419</td>\n",
       "      <td>-0.122672</td>\n",
       "      <td>0.414243</td>\n",
       "      <td>0.070217</td>\n",
       "      <td>-0.482734</td>\n",
       "      <td>-1.749667</td>\n",
       "      <td>-0.091909</td>\n",
       "      <td>0.139441</td>\n",
       "      <td>0.341822</td>\n",
       "      <td>0.702870</td>\n",
       "      <td>-0.298693</td>\n",
       "      <td>-0.040891</td>\n",
       "      <td>-0.078755</td>\n",
       "      <td>0.161833</td>\n",
       "    </tr>\n",
       "    <tr>\n",
       "      <th>3</th>\n",
       "      <td>1.140337</td>\n",
       "      <td>-0.122672</td>\n",
       "      <td>0.594587</td>\n",
       "      <td>-2.099610</td>\n",
       "      <td>-1.289169</td>\n",
       "      <td>-0.363205</td>\n",
       "      <td>-0.091909</td>\n",
       "      <td>-1.094651</td>\n",
       "      <td>-2.928207</td>\n",
       "      <td>0.702870</td>\n",
       "      <td>-0.298693</td>\n",
       "      <td>-0.040891</td>\n",
       "      <td>-0.078755</td>\n",
       "      <td>0.161833</td>\n",
       "    </tr>\n",
       "    <tr>\n",
       "      <th>4</th>\n",
       "      <td>0.047647</td>\n",
       "      <td>-0.122672</td>\n",
       "      <td>1.036979</td>\n",
       "      <td>0.379862</td>\n",
       "      <td>1.666653</td>\n",
       "      <td>-0.363205</td>\n",
       "      <td>-0.619238</td>\n",
       "      <td>1.552368</td>\n",
       "      <td>0.341822</td>\n",
       "      <td>-1.422738</td>\n",
       "      <td>-0.298693</td>\n",
       "      <td>-0.040891</td>\n",
       "      <td>-0.078755</td>\n",
       "      <td>0.161833</td>\n",
       "    </tr>\n",
       "    <tr>\n",
       "      <th>...</th>\n",
       "      <td>...</td>\n",
       "      <td>...</td>\n",
       "      <td>...</td>\n",
       "      <td>...</td>\n",
       "      <td>...</td>\n",
       "      <td>...</td>\n",
       "      <td>...</td>\n",
       "      <td>...</td>\n",
       "      <td>...</td>\n",
       "      <td>...</td>\n",
       "      <td>...</td>\n",
       "      <td>...</td>\n",
       "      <td>...</td>\n",
       "      <td>...</td>\n",
       "    </tr>\n",
       "    <tr>\n",
       "      <th>25755</th>\n",
       "      <td>-0.832546</td>\n",
       "      <td>-0.122672</td>\n",
       "      <td>0.799721</td>\n",
       "      <td>-1.017956</td>\n",
       "      <td>0.786653</td>\n",
       "      <td>-0.363205</td>\n",
       "      <td>1.359130</td>\n",
       "      <td>1.552368</td>\n",
       "      <td>0.341822</td>\n",
       "      <td>-1.422738</td>\n",
       "      <td>-0.298693</td>\n",
       "      <td>-0.040891</td>\n",
       "      <td>-0.266335</td>\n",
       "      <td>0.161833</td>\n",
       "    </tr>\n",
       "    <tr>\n",
       "      <th>25756</th>\n",
       "      <td>0.276474</td>\n",
       "      <td>-0.122672</td>\n",
       "      <td>-0.220626</td>\n",
       "      <td>0.070217</td>\n",
       "      <td>-0.482734</td>\n",
       "      <td>-0.363205</td>\n",
       "      <td>0.145422</td>\n",
       "      <td>-1.094651</td>\n",
       "      <td>0.341822</td>\n",
       "      <td>0.702870</td>\n",
       "      <td>-0.298693</td>\n",
       "      <td>-0.040891</td>\n",
       "      <td>-0.078755</td>\n",
       "      <td>0.161833</td>\n",
       "    </tr>\n",
       "    <tr>\n",
       "      <th>25757</th>\n",
       "      <td>1.429973</td>\n",
       "      <td>-0.122672</td>\n",
       "      <td>-0.248349</td>\n",
       "      <td>0.070217</td>\n",
       "      <td>-0.482734</td>\n",
       "      <td>2.188375</td>\n",
       "      <td>-1.691007</td>\n",
       "      <td>1.355530</td>\n",
       "      <td>0.341822</td>\n",
       "      <td>-1.422738</td>\n",
       "      <td>-0.298693</td>\n",
       "      <td>-0.040891</td>\n",
       "      <td>-0.078755</td>\n",
       "      <td>0.161833</td>\n",
       "    </tr>\n",
       "    <tr>\n",
       "      <th>25758</th>\n",
       "      <td>-1.367519</td>\n",
       "      <td>-0.122672</td>\n",
       "      <td>0.275699</td>\n",
       "      <td>0.070217</td>\n",
       "      <td>-0.482734</td>\n",
       "      <td>0.935960</td>\n",
       "      <td>-1.691007</td>\n",
       "      <td>1.095957</td>\n",
       "      <td>0.341822</td>\n",
       "      <td>0.702870</td>\n",
       "      <td>-0.298693</td>\n",
       "      <td>-0.040891</td>\n",
       "      <td>-1.819006</td>\n",
       "      <td>0.161833</td>\n",
       "    </tr>\n",
       "    <tr>\n",
       "      <th>25759</th>\n",
       "      <td>1.079953</td>\n",
       "      <td>0.902293</td>\n",
       "      <td>1.065350</td>\n",
       "      <td>0.070217</td>\n",
       "      <td>-0.482734</td>\n",
       "      <td>-0.363205</td>\n",
       "      <td>-0.619238</td>\n",
       "      <td>1.552368</td>\n",
       "      <td>0.341822</td>\n",
       "      <td>-1.422738</td>\n",
       "      <td>3.347955</td>\n",
       "      <td>-0.040891</td>\n",
       "      <td>-0.078755</td>\n",
       "      <td>0.161833</td>\n",
       "    </tr>\n",
       "  </tbody>\n",
       "</table>\n",
       "<p>25760 rows × 14 columns</p>\n",
       "</div>"
      ],
      "text/plain": [
       "            Age  Workclass    fnlwgt  Education  Education-num  \\\n",
       "0      0.201673   2.570760 -1.213558  -0.505167       1.223553   \n",
       "1      0.956507   1.785784 -1.126321  -0.505167       1.223553   \n",
       "2      0.125419  -0.122672  0.414243   0.070217      -0.482734   \n",
       "3      1.140337  -0.122672  0.594587  -2.099610      -1.289169   \n",
       "4      0.047647  -0.122672  1.036979   0.379862       1.666653   \n",
       "...         ...        ...       ...        ...            ...   \n",
       "25755 -0.832546  -0.122672  0.799721  -1.017956       0.786653   \n",
       "25756  0.276474  -0.122672 -0.220626   0.070217      -0.482734   \n",
       "25757  1.429973  -0.122672 -0.248349   0.070217      -0.482734   \n",
       "25758 -1.367519  -0.122672  0.275699   0.070217      -0.482734   \n",
       "25759  1.079953   0.902293  1.065350   0.070217      -0.482734   \n",
       "\n",
       "       Marital status  Occupation  Relationship      Race       sex  \\\n",
       "0            0.935960   -1.691007      0.139441  0.341822  0.702870   \n",
       "1           -0.363205   -0.619238     -1.094651  0.341822  0.702870   \n",
       "2           -1.749667   -0.091909      0.139441  0.341822  0.702870   \n",
       "3           -0.363205   -0.091909     -1.094651 -2.928207  0.702870   \n",
       "4           -0.363205   -0.619238      1.552368  0.341822 -1.422738   \n",
       "...               ...         ...           ...       ...       ...   \n",
       "25755       -0.363205    1.359130      1.552368  0.341822 -1.422738   \n",
       "25756       -0.363205    0.145422     -1.094651  0.341822  0.702870   \n",
       "25757        2.188375   -1.691007      1.355530  0.341822 -1.422738   \n",
       "25758        0.935960   -1.691007      1.095957  0.341822  0.702870   \n",
       "25759       -0.363205   -0.619238      1.552368  0.341822 -1.422738   \n",
       "\n",
       "       Capital Gain  Capital loss  Hours per week  Native country  \n",
       "0          3.347889     -0.040891       -0.078755        0.161833  \n",
       "1         -0.298693     -0.040891       -2.339068        0.161833  \n",
       "2         -0.298693     -0.040891       -0.078755        0.161833  \n",
       "3         -0.298693     -0.040891       -0.078755        0.161833  \n",
       "4         -0.298693     -0.040891       -0.078755        0.161833  \n",
       "...             ...           ...             ...             ...  \n",
       "25755     -0.298693     -0.040891       -0.266335        0.161833  \n",
       "25756     -0.298693     -0.040891       -0.078755        0.161833  \n",
       "25757     -0.298693     -0.040891       -0.078755        0.161833  \n",
       "25758     -0.298693     -0.040891       -1.819006        0.161833  \n",
       "25759      3.347955     -0.040891       -0.078755        0.161833  \n",
       "\n",
       "[25760 rows x 14 columns]"
      ]
     },
     "execution_count": 59,
     "metadata": {},
     "output_type": "execute_result"
    }
   ],
   "source": [
    "from sklearn.preprocessing import PowerTransformer\n",
    "pt = PowerTransformer()\n",
    "x = pt.fit_transform(x)  \n",
    "x = pd.DataFrame(x,columns=df_x.columns)\n",
    "x"
   ]
  },
  {
   "cell_type": "code",
   "execution_count": 60,
   "metadata": {},
   "outputs": [],
   "source": [
    "from sklearn.preprocessing import StandardScaler\n",
    "sc = StandardScaler()\n",
    "x = sc.fit_transform(x)\n",
    "x = pd.DataFrame(x,columns=df_x.columns)"
   ]
  },
  {
   "cell_type": "code",
   "execution_count": 61,
   "metadata": {},
   "outputs": [
    {
     "data": {
      "text/html": [
       "<div>\n",
       "<style scoped>\n",
       "    .dataframe tbody tr th:only-of-type {\n",
       "        vertical-align: middle;\n",
       "    }\n",
       "\n",
       "    .dataframe tbody tr th {\n",
       "        vertical-align: top;\n",
       "    }\n",
       "\n",
       "    .dataframe thead th {\n",
       "        text-align: right;\n",
       "    }\n",
       "</style>\n",
       "<table border=\"1\" class=\"dataframe\">\n",
       "  <thead>\n",
       "    <tr style=\"text-align: right;\">\n",
       "      <th></th>\n",
       "      <th>Age</th>\n",
       "      <th>Workclass</th>\n",
       "      <th>fnlwgt</th>\n",
       "      <th>Education</th>\n",
       "      <th>Education-num</th>\n",
       "      <th>Marital status</th>\n",
       "      <th>Occupation</th>\n",
       "      <th>Relationship</th>\n",
       "      <th>Race</th>\n",
       "      <th>sex</th>\n",
       "      <th>Capital Gain</th>\n",
       "      <th>Capital loss</th>\n",
       "      <th>Hours per week</th>\n",
       "      <th>Native country</th>\n",
       "    </tr>\n",
       "  </thead>\n",
       "  <tbody>\n",
       "    <tr>\n",
       "      <th>0</th>\n",
       "      <td>0.201673</td>\n",
       "      <td>2.570760</td>\n",
       "      <td>-1.213558</td>\n",
       "      <td>-0.505167</td>\n",
       "      <td>1.223553</td>\n",
       "      <td>0.935960</td>\n",
       "      <td>-1.691007</td>\n",
       "      <td>0.139441</td>\n",
       "      <td>0.341822</td>\n",
       "      <td>0.702870</td>\n",
       "      <td>3.347889</td>\n",
       "      <td>-0.040891</td>\n",
       "      <td>-0.078755</td>\n",
       "      <td>0.161833</td>\n",
       "    </tr>\n",
       "    <tr>\n",
       "      <th>1</th>\n",
       "      <td>0.956507</td>\n",
       "      <td>1.785784</td>\n",
       "      <td>-1.126321</td>\n",
       "      <td>-0.505167</td>\n",
       "      <td>1.223553</td>\n",
       "      <td>-0.363205</td>\n",
       "      <td>-0.619238</td>\n",
       "      <td>-1.094651</td>\n",
       "      <td>0.341822</td>\n",
       "      <td>0.702870</td>\n",
       "      <td>-0.298693</td>\n",
       "      <td>-0.040891</td>\n",
       "      <td>-2.339068</td>\n",
       "      <td>0.161833</td>\n",
       "    </tr>\n",
       "    <tr>\n",
       "      <th>2</th>\n",
       "      <td>0.125419</td>\n",
       "      <td>-0.122672</td>\n",
       "      <td>0.414243</td>\n",
       "      <td>0.070217</td>\n",
       "      <td>-0.482734</td>\n",
       "      <td>-1.749667</td>\n",
       "      <td>-0.091909</td>\n",
       "      <td>0.139441</td>\n",
       "      <td>0.341822</td>\n",
       "      <td>0.702870</td>\n",
       "      <td>-0.298693</td>\n",
       "      <td>-0.040891</td>\n",
       "      <td>-0.078755</td>\n",
       "      <td>0.161833</td>\n",
       "    </tr>\n",
       "    <tr>\n",
       "      <th>3</th>\n",
       "      <td>1.140337</td>\n",
       "      <td>-0.122672</td>\n",
       "      <td>0.594587</td>\n",
       "      <td>-2.099610</td>\n",
       "      <td>-1.289169</td>\n",
       "      <td>-0.363205</td>\n",
       "      <td>-0.091909</td>\n",
       "      <td>-1.094651</td>\n",
       "      <td>-2.928207</td>\n",
       "      <td>0.702870</td>\n",
       "      <td>-0.298693</td>\n",
       "      <td>-0.040891</td>\n",
       "      <td>-0.078755</td>\n",
       "      <td>0.161833</td>\n",
       "    </tr>\n",
       "    <tr>\n",
       "      <th>4</th>\n",
       "      <td>0.047647</td>\n",
       "      <td>-0.122672</td>\n",
       "      <td>1.036979</td>\n",
       "      <td>0.379862</td>\n",
       "      <td>1.666653</td>\n",
       "      <td>-0.363205</td>\n",
       "      <td>-0.619238</td>\n",
       "      <td>1.552368</td>\n",
       "      <td>0.341822</td>\n",
       "      <td>-1.422738</td>\n",
       "      <td>-0.298693</td>\n",
       "      <td>-0.040891</td>\n",
       "      <td>-0.078755</td>\n",
       "      <td>0.161833</td>\n",
       "    </tr>\n",
       "    <tr>\n",
       "      <th>...</th>\n",
       "      <td>...</td>\n",
       "      <td>...</td>\n",
       "      <td>...</td>\n",
       "      <td>...</td>\n",
       "      <td>...</td>\n",
       "      <td>...</td>\n",
       "      <td>...</td>\n",
       "      <td>...</td>\n",
       "      <td>...</td>\n",
       "      <td>...</td>\n",
       "      <td>...</td>\n",
       "      <td>...</td>\n",
       "      <td>...</td>\n",
       "      <td>...</td>\n",
       "    </tr>\n",
       "    <tr>\n",
       "      <th>25755</th>\n",
       "      <td>-0.832546</td>\n",
       "      <td>-0.122672</td>\n",
       "      <td>0.799721</td>\n",
       "      <td>-1.017956</td>\n",
       "      <td>0.786653</td>\n",
       "      <td>-0.363205</td>\n",
       "      <td>1.359130</td>\n",
       "      <td>1.552368</td>\n",
       "      <td>0.341822</td>\n",
       "      <td>-1.422738</td>\n",
       "      <td>-0.298693</td>\n",
       "      <td>-0.040891</td>\n",
       "      <td>-0.266335</td>\n",
       "      <td>0.161833</td>\n",
       "    </tr>\n",
       "    <tr>\n",
       "      <th>25756</th>\n",
       "      <td>0.276474</td>\n",
       "      <td>-0.122672</td>\n",
       "      <td>-0.220626</td>\n",
       "      <td>0.070217</td>\n",
       "      <td>-0.482734</td>\n",
       "      <td>-0.363205</td>\n",
       "      <td>0.145422</td>\n",
       "      <td>-1.094651</td>\n",
       "      <td>0.341822</td>\n",
       "      <td>0.702870</td>\n",
       "      <td>-0.298693</td>\n",
       "      <td>-0.040891</td>\n",
       "      <td>-0.078755</td>\n",
       "      <td>0.161833</td>\n",
       "    </tr>\n",
       "    <tr>\n",
       "      <th>25757</th>\n",
       "      <td>1.429973</td>\n",
       "      <td>-0.122672</td>\n",
       "      <td>-0.248349</td>\n",
       "      <td>0.070217</td>\n",
       "      <td>-0.482734</td>\n",
       "      <td>2.188375</td>\n",
       "      <td>-1.691007</td>\n",
       "      <td>1.355530</td>\n",
       "      <td>0.341822</td>\n",
       "      <td>-1.422738</td>\n",
       "      <td>-0.298693</td>\n",
       "      <td>-0.040891</td>\n",
       "      <td>-0.078755</td>\n",
       "      <td>0.161833</td>\n",
       "    </tr>\n",
       "    <tr>\n",
       "      <th>25758</th>\n",
       "      <td>-1.367519</td>\n",
       "      <td>-0.122672</td>\n",
       "      <td>0.275699</td>\n",
       "      <td>0.070217</td>\n",
       "      <td>-0.482734</td>\n",
       "      <td>0.935960</td>\n",
       "      <td>-1.691007</td>\n",
       "      <td>1.095957</td>\n",
       "      <td>0.341822</td>\n",
       "      <td>0.702870</td>\n",
       "      <td>-0.298693</td>\n",
       "      <td>-0.040891</td>\n",
       "      <td>-1.819006</td>\n",
       "      <td>0.161833</td>\n",
       "    </tr>\n",
       "    <tr>\n",
       "      <th>25759</th>\n",
       "      <td>1.079953</td>\n",
       "      <td>0.902293</td>\n",
       "      <td>1.065350</td>\n",
       "      <td>0.070217</td>\n",
       "      <td>-0.482734</td>\n",
       "      <td>-0.363205</td>\n",
       "      <td>-0.619238</td>\n",
       "      <td>1.552368</td>\n",
       "      <td>0.341822</td>\n",
       "      <td>-1.422738</td>\n",
       "      <td>3.347955</td>\n",
       "      <td>-0.040891</td>\n",
       "      <td>-0.078755</td>\n",
       "      <td>0.161833</td>\n",
       "    </tr>\n",
       "  </tbody>\n",
       "</table>\n",
       "<p>25760 rows × 14 columns</p>\n",
       "</div>"
      ],
      "text/plain": [
       "            Age  Workclass    fnlwgt  Education  Education-num  \\\n",
       "0      0.201673   2.570760 -1.213558  -0.505167       1.223553   \n",
       "1      0.956507   1.785784 -1.126321  -0.505167       1.223553   \n",
       "2      0.125419  -0.122672  0.414243   0.070217      -0.482734   \n",
       "3      1.140337  -0.122672  0.594587  -2.099610      -1.289169   \n",
       "4      0.047647  -0.122672  1.036979   0.379862       1.666653   \n",
       "...         ...        ...       ...        ...            ...   \n",
       "25755 -0.832546  -0.122672  0.799721  -1.017956       0.786653   \n",
       "25756  0.276474  -0.122672 -0.220626   0.070217      -0.482734   \n",
       "25757  1.429973  -0.122672 -0.248349   0.070217      -0.482734   \n",
       "25758 -1.367519  -0.122672  0.275699   0.070217      -0.482734   \n",
       "25759  1.079953   0.902293  1.065350   0.070217      -0.482734   \n",
       "\n",
       "       Marital status  Occupation  Relationship      Race       sex  \\\n",
       "0            0.935960   -1.691007      0.139441  0.341822  0.702870   \n",
       "1           -0.363205   -0.619238     -1.094651  0.341822  0.702870   \n",
       "2           -1.749667   -0.091909      0.139441  0.341822  0.702870   \n",
       "3           -0.363205   -0.091909     -1.094651 -2.928207  0.702870   \n",
       "4           -0.363205   -0.619238      1.552368  0.341822 -1.422738   \n",
       "...               ...         ...           ...       ...       ...   \n",
       "25755       -0.363205    1.359130      1.552368  0.341822 -1.422738   \n",
       "25756       -0.363205    0.145422     -1.094651  0.341822  0.702870   \n",
       "25757        2.188375   -1.691007      1.355530  0.341822 -1.422738   \n",
       "25758        0.935960   -1.691007      1.095957  0.341822  0.702870   \n",
       "25759       -0.363205   -0.619238      1.552368  0.341822 -1.422738   \n",
       "\n",
       "       Capital Gain  Capital loss  Hours per week  Native country  \n",
       "0          3.347889     -0.040891       -0.078755        0.161833  \n",
       "1         -0.298693     -0.040891       -2.339068        0.161833  \n",
       "2         -0.298693     -0.040891       -0.078755        0.161833  \n",
       "3         -0.298693     -0.040891       -0.078755        0.161833  \n",
       "4         -0.298693     -0.040891       -0.078755        0.161833  \n",
       "...             ...           ...             ...             ...  \n",
       "25755     -0.298693     -0.040891       -0.266335        0.161833  \n",
       "25756     -0.298693     -0.040891       -0.078755        0.161833  \n",
       "25757     -0.298693     -0.040891       -0.078755        0.161833  \n",
       "25758     -0.298693     -0.040891       -1.819006        0.161833  \n",
       "25759      3.347955     -0.040891       -0.078755        0.161833  \n",
       "\n",
       "[25760 rows x 14 columns]"
      ]
     },
     "execution_count": 61,
     "metadata": {},
     "output_type": "execute_result"
    }
   ],
   "source": [
    "x"
   ]
  },
  {
   "cell_type": "code",
   "execution_count": 62,
   "metadata": {},
   "outputs": [
    {
     "data": {
      "text/plain": [
       "Age               -0.021520\n",
       "Workclass          0.122427\n",
       "fnlwgt            -0.034667\n",
       "Education         -0.296304\n",
       "Education-num      0.028059\n",
       "Marital status    -0.129004\n",
       "Occupation        -0.203260\n",
       "Relationship       0.124492\n",
       "Race              -2.583865\n",
       "sex               -0.719910\n",
       "Capital Gain       3.049399\n",
       "Capital loss      24.415996\n",
       "Hours per week     0.123739\n",
       "Native country     1.627643\n",
       "dtype: float64"
      ]
     },
     "execution_count": 62,
     "metadata": {},
     "output_type": "execute_result"
    }
   ],
   "source": [
    "x.skew()"
   ]
  },
  {
   "cell_type": "code",
   "execution_count": 75,
   "metadata": {},
   "outputs": [],
   "source": [
    "from sklearn.model_selection import GridSearchCV\n",
    "from sklearn.model_selection import train_test_split,cross_val_score\n",
    "from sklearn.metrics import accuracy_score,confusion_matrix,classification_report,roc_curve,auc\n",
    "from sklearn.ensemble import RandomForestClassifier\n",
    "rfc = RandomForestClassifier()\n",
    "knn = KNeighborsClassifier()\n",
    "svc = SVC()\n",
    "dt= DecisionTreeClassifier()\n",
    "gnb = GaussianNB()\n",
    "lr = LogisticRegression()"
   ]
  },
  {
   "cell_type": "code",
   "execution_count": 94,
   "metadata": {},
   "outputs": [],
   "source": [
    "def acuu_score(regr,x,y):\n",
    "    max_r_score = 0 \n",
    "    for r_state in range(42,100):\n",
    "        x_train,x_test,y_train,y_test = train_test_split(x,y,test_size=0.33,random_state=r_state)\n",
    "        regr.fit(x_train,y_train)\n",
    "        y_pred = regr.predict(x_test)\n",
    "        acc_scr = accuracy_score(y_test,y_pred)\n",
    "        print(\"accuracy score corresponding to \",r_state,\"is\",accuracy_score)\n",
    "        if acc_scr>max_r_score:\n",
    "            max_r_score = acc_scr\n",
    "            final_r_state=r_state\n",
    "    print(\"max accuracy score corresponding to \",final_r_state,\"is\",max_r_score)\n",
    "    return final_r_state"
   ]
  },
  {
   "cell_type": "code",
   "execution_count": 95,
   "metadata": {},
   "outputs": [
    {
     "name": "stdout",
     "output_type": "stream",
     "text": [
      "accuracy score corresponding to  42 is <function accuracy_score at 0x0000021E7F876B88>\n",
      "accuracy score corresponding to  43 is <function accuracy_score at 0x0000021E7F876B88>\n",
      "accuracy score corresponding to  44 is <function accuracy_score at 0x0000021E7F876B88>\n",
      "accuracy score corresponding to  45 is <function accuracy_score at 0x0000021E7F876B88>\n",
      "accuracy score corresponding to  46 is <function accuracy_score at 0x0000021E7F876B88>\n",
      "accuracy score corresponding to  47 is <function accuracy_score at 0x0000021E7F876B88>\n",
      "accuracy score corresponding to  48 is <function accuracy_score at 0x0000021E7F876B88>\n",
      "accuracy score corresponding to  49 is <function accuracy_score at 0x0000021E7F876B88>\n",
      "accuracy score corresponding to  50 is <function accuracy_score at 0x0000021E7F876B88>\n",
      "accuracy score corresponding to  51 is <function accuracy_score at 0x0000021E7F876B88>\n",
      "accuracy score corresponding to  52 is <function accuracy_score at 0x0000021E7F876B88>\n",
      "accuracy score corresponding to  53 is <function accuracy_score at 0x0000021E7F876B88>\n",
      "accuracy score corresponding to  54 is <function accuracy_score at 0x0000021E7F876B88>\n",
      "accuracy score corresponding to  55 is <function accuracy_score at 0x0000021E7F876B88>\n",
      "accuracy score corresponding to  56 is <function accuracy_score at 0x0000021E7F876B88>\n",
      "accuracy score corresponding to  57 is <function accuracy_score at 0x0000021E7F876B88>\n",
      "accuracy score corresponding to  58 is <function accuracy_score at 0x0000021E7F876B88>\n",
      "accuracy score corresponding to  59 is <function accuracy_score at 0x0000021E7F876B88>\n",
      "accuracy score corresponding to  60 is <function accuracy_score at 0x0000021E7F876B88>\n",
      "accuracy score corresponding to  61 is <function accuracy_score at 0x0000021E7F876B88>\n",
      "accuracy score corresponding to  62 is <function accuracy_score at 0x0000021E7F876B88>\n",
      "accuracy score corresponding to  63 is <function accuracy_score at 0x0000021E7F876B88>\n",
      "accuracy score corresponding to  64 is <function accuracy_score at 0x0000021E7F876B88>\n",
      "accuracy score corresponding to  65 is <function accuracy_score at 0x0000021E7F876B88>\n",
      "accuracy score corresponding to  66 is <function accuracy_score at 0x0000021E7F876B88>\n",
      "accuracy score corresponding to  67 is <function accuracy_score at 0x0000021E7F876B88>\n",
      "accuracy score corresponding to  68 is <function accuracy_score at 0x0000021E7F876B88>\n",
      "accuracy score corresponding to  69 is <function accuracy_score at 0x0000021E7F876B88>\n",
      "accuracy score corresponding to  70 is <function accuracy_score at 0x0000021E7F876B88>\n",
      "accuracy score corresponding to  71 is <function accuracy_score at 0x0000021E7F876B88>\n",
      "accuracy score corresponding to  72 is <function accuracy_score at 0x0000021E7F876B88>\n",
      "accuracy score corresponding to  73 is <function accuracy_score at 0x0000021E7F876B88>\n",
      "accuracy score corresponding to  74 is <function accuracy_score at 0x0000021E7F876B88>\n",
      "accuracy score corresponding to  75 is <function accuracy_score at 0x0000021E7F876B88>\n",
      "accuracy score corresponding to  76 is <function accuracy_score at 0x0000021E7F876B88>\n",
      "accuracy score corresponding to  77 is <function accuracy_score at 0x0000021E7F876B88>\n",
      "accuracy score corresponding to  78 is <function accuracy_score at 0x0000021E7F876B88>\n",
      "accuracy score corresponding to  79 is <function accuracy_score at 0x0000021E7F876B88>\n",
      "accuracy score corresponding to  80 is <function accuracy_score at 0x0000021E7F876B88>\n",
      "accuracy score corresponding to  81 is <function accuracy_score at 0x0000021E7F876B88>\n",
      "accuracy score corresponding to  82 is <function accuracy_score at 0x0000021E7F876B88>\n",
      "accuracy score corresponding to  83 is <function accuracy_score at 0x0000021E7F876B88>\n",
      "accuracy score corresponding to  84 is <function accuracy_score at 0x0000021E7F876B88>\n",
      "accuracy score corresponding to  85 is <function accuracy_score at 0x0000021E7F876B88>\n",
      "accuracy score corresponding to  86 is <function accuracy_score at 0x0000021E7F876B88>\n",
      "accuracy score corresponding to  87 is <function accuracy_score at 0x0000021E7F876B88>\n",
      "accuracy score corresponding to  88 is <function accuracy_score at 0x0000021E7F876B88>\n",
      "accuracy score corresponding to  89 is <function accuracy_score at 0x0000021E7F876B88>\n",
      "accuracy score corresponding to  90 is <function accuracy_score at 0x0000021E7F876B88>\n",
      "accuracy score corresponding to  91 is <function accuracy_score at 0x0000021E7F876B88>\n",
      "accuracy score corresponding to  92 is <function accuracy_score at 0x0000021E7F876B88>\n",
      "accuracy score corresponding to  93 is <function accuracy_score at 0x0000021E7F876B88>\n",
      "accuracy score corresponding to  94 is <function accuracy_score at 0x0000021E7F876B88>\n",
      "accuracy score corresponding to  95 is <function accuracy_score at 0x0000021E7F876B88>\n",
      "accuracy score corresponding to  96 is <function accuracy_score at 0x0000021E7F876B88>\n",
      "accuracy score corresponding to  97 is <function accuracy_score at 0x0000021E7F876B88>\n",
      "accuracy score corresponding to  98 is <function accuracy_score at 0x0000021E7F876B88>\n",
      "accuracy score corresponding to  99 is <function accuracy_score at 0x0000021E7F876B88>\n",
      "max accuracy score corresponding to  49 is 0.8334313610163511\n"
     ]
    }
   ],
   "source": [
    "r_state = acuu_score(lr,x,y)"
   ]
  },
  {
   "cell_type": "code",
   "execution_count": 102,
   "metadata": {},
   "outputs": [
    {
     "name": "stdout",
     "output_type": "stream",
     "text": [
      "accuracy score corresponding to  42 is <function accuracy_score at 0x0000021E7F876B88>\n",
      "accuracy score corresponding to  43 is <function accuracy_score at 0x0000021E7F876B88>\n",
      "accuracy score corresponding to  44 is <function accuracy_score at 0x0000021E7F876B88>\n",
      "accuracy score corresponding to  45 is <function accuracy_score at 0x0000021E7F876B88>\n",
      "accuracy score corresponding to  46 is <function accuracy_score at 0x0000021E7F876B88>\n",
      "accuracy score corresponding to  47 is <function accuracy_score at 0x0000021E7F876B88>\n",
      "accuracy score corresponding to  48 is <function accuracy_score at 0x0000021E7F876B88>\n",
      "accuracy score corresponding to  49 is <function accuracy_score at 0x0000021E7F876B88>\n",
      "accuracy score corresponding to  50 is <function accuracy_score at 0x0000021E7F876B88>\n",
      "accuracy score corresponding to  51 is <function accuracy_score at 0x0000021E7F876B88>\n",
      "accuracy score corresponding to  52 is <function accuracy_score at 0x0000021E7F876B88>\n",
      "accuracy score corresponding to  53 is <function accuracy_score at 0x0000021E7F876B88>\n",
      "accuracy score corresponding to  54 is <function accuracy_score at 0x0000021E7F876B88>\n",
      "accuracy score corresponding to  55 is <function accuracy_score at 0x0000021E7F876B88>\n",
      "accuracy score corresponding to  56 is <function accuracy_score at 0x0000021E7F876B88>\n",
      "accuracy score corresponding to  57 is <function accuracy_score at 0x0000021E7F876B88>\n",
      "accuracy score corresponding to  58 is <function accuracy_score at 0x0000021E7F876B88>\n",
      "accuracy score corresponding to  59 is <function accuracy_score at 0x0000021E7F876B88>\n",
      "accuracy score corresponding to  60 is <function accuracy_score at 0x0000021E7F876B88>\n",
      "accuracy score corresponding to  61 is <function accuracy_score at 0x0000021E7F876B88>\n",
      "accuracy score corresponding to  62 is <function accuracy_score at 0x0000021E7F876B88>\n",
      "accuracy score corresponding to  63 is <function accuracy_score at 0x0000021E7F876B88>\n",
      "accuracy score corresponding to  64 is <function accuracy_score at 0x0000021E7F876B88>\n",
      "accuracy score corresponding to  65 is <function accuracy_score at 0x0000021E7F876B88>\n",
      "accuracy score corresponding to  66 is <function accuracy_score at 0x0000021E7F876B88>\n",
      "accuracy score corresponding to  67 is <function accuracy_score at 0x0000021E7F876B88>\n",
      "accuracy score corresponding to  68 is <function accuracy_score at 0x0000021E7F876B88>\n",
      "accuracy score corresponding to  69 is <function accuracy_score at 0x0000021E7F876B88>\n",
      "accuracy score corresponding to  70 is <function accuracy_score at 0x0000021E7F876B88>\n",
      "accuracy score corresponding to  71 is <function accuracy_score at 0x0000021E7F876B88>\n",
      "accuracy score corresponding to  72 is <function accuracy_score at 0x0000021E7F876B88>\n",
      "accuracy score corresponding to  73 is <function accuracy_score at 0x0000021E7F876B88>\n",
      "accuracy score corresponding to  74 is <function accuracy_score at 0x0000021E7F876B88>\n",
      "accuracy score corresponding to  75 is <function accuracy_score at 0x0000021E7F876B88>\n",
      "accuracy score corresponding to  76 is <function accuracy_score at 0x0000021E7F876B88>\n",
      "accuracy score corresponding to  77 is <function accuracy_score at 0x0000021E7F876B88>\n",
      "accuracy score corresponding to  78 is <function accuracy_score at 0x0000021E7F876B88>\n",
      "accuracy score corresponding to  79 is <function accuracy_score at 0x0000021E7F876B88>\n",
      "accuracy score corresponding to  80 is <function accuracy_score at 0x0000021E7F876B88>\n",
      "accuracy score corresponding to  81 is <function accuracy_score at 0x0000021E7F876B88>\n",
      "accuracy score corresponding to  82 is <function accuracy_score at 0x0000021E7F876B88>\n",
      "accuracy score corresponding to  83 is <function accuracy_score at 0x0000021E7F876B88>\n",
      "accuracy score corresponding to  84 is <function accuracy_score at 0x0000021E7F876B88>\n",
      "accuracy score corresponding to  85 is <function accuracy_score at 0x0000021E7F876B88>\n",
      "accuracy score corresponding to  86 is <function accuracy_score at 0x0000021E7F876B88>\n",
      "accuracy score corresponding to  87 is <function accuracy_score at 0x0000021E7F876B88>\n",
      "accuracy score corresponding to  88 is <function accuracy_score at 0x0000021E7F876B88>\n",
      "accuracy score corresponding to  89 is <function accuracy_score at 0x0000021E7F876B88>\n",
      "accuracy score corresponding to  90 is <function accuracy_score at 0x0000021E7F876B88>\n",
      "accuracy score corresponding to  91 is <function accuracy_score at 0x0000021E7F876B88>\n",
      "accuracy score corresponding to  92 is <function accuracy_score at 0x0000021E7F876B88>\n",
      "accuracy score corresponding to  93 is <function accuracy_score at 0x0000021E7F876B88>\n",
      "accuracy score corresponding to  94 is <function accuracy_score at 0x0000021E7F876B88>\n",
      "accuracy score corresponding to  95 is <function accuracy_score at 0x0000021E7F876B88>\n",
      "accuracy score corresponding to  96 is <function accuracy_score at 0x0000021E7F876B88>\n",
      "accuracy score corresponding to  97 is <function accuracy_score at 0x0000021E7F876B88>\n",
      "accuracy score corresponding to  98 is <function accuracy_score at 0x0000021E7F876B88>\n",
      "accuracy score corresponding to  99 is <function accuracy_score at 0x0000021E7F876B88>\n",
      "max accuracy score corresponding to  49 is 0.8381366898011998\n"
     ]
    }
   ],
   "source": [
    "r_state =acuu_score(knn,x,y)"
   ]
  },
  {
   "cell_type": "code",
   "execution_count": 97,
   "metadata": {},
   "outputs": [
    {
     "name": "stdout",
     "output_type": "stream",
     "text": [
      "accuracy score corresponding to  42 is <function accuracy_score at 0x0000021E7F876B88>\n",
      "accuracy score corresponding to  43 is <function accuracy_score at 0x0000021E7F876B88>\n",
      "accuracy score corresponding to  44 is <function accuracy_score at 0x0000021E7F876B88>\n",
      "accuracy score corresponding to  45 is <function accuracy_score at 0x0000021E7F876B88>\n",
      "accuracy score corresponding to  46 is <function accuracy_score at 0x0000021E7F876B88>\n",
      "accuracy score corresponding to  47 is <function accuracy_score at 0x0000021E7F876B88>\n",
      "accuracy score corresponding to  48 is <function accuracy_score at 0x0000021E7F876B88>\n",
      "accuracy score corresponding to  49 is <function accuracy_score at 0x0000021E7F876B88>\n",
      "accuracy score corresponding to  50 is <function accuracy_score at 0x0000021E7F876B88>\n",
      "accuracy score corresponding to  51 is <function accuracy_score at 0x0000021E7F876B88>\n",
      "accuracy score corresponding to  52 is <function accuracy_score at 0x0000021E7F876B88>\n",
      "accuracy score corresponding to  53 is <function accuracy_score at 0x0000021E7F876B88>\n",
      "accuracy score corresponding to  54 is <function accuracy_score at 0x0000021E7F876B88>\n",
      "accuracy score corresponding to  55 is <function accuracy_score at 0x0000021E7F876B88>\n",
      "accuracy score corresponding to  56 is <function accuracy_score at 0x0000021E7F876B88>\n",
      "accuracy score corresponding to  57 is <function accuracy_score at 0x0000021E7F876B88>\n",
      "accuracy score corresponding to  58 is <function accuracy_score at 0x0000021E7F876B88>\n",
      "accuracy score corresponding to  59 is <function accuracy_score at 0x0000021E7F876B88>\n",
      "accuracy score corresponding to  60 is <function accuracy_score at 0x0000021E7F876B88>\n",
      "accuracy score corresponding to  61 is <function accuracy_score at 0x0000021E7F876B88>\n",
      "accuracy score corresponding to  62 is <function accuracy_score at 0x0000021E7F876B88>\n",
      "accuracy score corresponding to  63 is <function accuracy_score at 0x0000021E7F876B88>\n",
      "accuracy score corresponding to  64 is <function accuracy_score at 0x0000021E7F876B88>\n",
      "accuracy score corresponding to  65 is <function accuracy_score at 0x0000021E7F876B88>\n",
      "accuracy score corresponding to  66 is <function accuracy_score at 0x0000021E7F876B88>\n",
      "accuracy score corresponding to  67 is <function accuracy_score at 0x0000021E7F876B88>\n",
      "accuracy score corresponding to  68 is <function accuracy_score at 0x0000021E7F876B88>\n",
      "accuracy score corresponding to  69 is <function accuracy_score at 0x0000021E7F876B88>\n",
      "accuracy score corresponding to  70 is <function accuracy_score at 0x0000021E7F876B88>\n",
      "accuracy score corresponding to  71 is <function accuracy_score at 0x0000021E7F876B88>\n",
      "accuracy score corresponding to  72 is <function accuracy_score at 0x0000021E7F876B88>\n",
      "accuracy score corresponding to  73 is <function accuracy_score at 0x0000021E7F876B88>\n",
      "accuracy score corresponding to  74 is <function accuracy_score at 0x0000021E7F876B88>\n",
      "accuracy score corresponding to  75 is <function accuracy_score at 0x0000021E7F876B88>\n",
      "accuracy score corresponding to  76 is <function accuracy_score at 0x0000021E7F876B88>\n",
      "accuracy score corresponding to  77 is <function accuracy_score at 0x0000021E7F876B88>\n",
      "accuracy score corresponding to  78 is <function accuracy_score at 0x0000021E7F876B88>\n",
      "accuracy score corresponding to  79 is <function accuracy_score at 0x0000021E7F876B88>\n",
      "accuracy score corresponding to  80 is <function accuracy_score at 0x0000021E7F876B88>\n",
      "accuracy score corresponding to  81 is <function accuracy_score at 0x0000021E7F876B88>\n",
      "accuracy score corresponding to  82 is <function accuracy_score at 0x0000021E7F876B88>\n",
      "accuracy score corresponding to  83 is <function accuracy_score at 0x0000021E7F876B88>\n",
      "accuracy score corresponding to  84 is <function accuracy_score at 0x0000021E7F876B88>\n",
      "accuracy score corresponding to  85 is <function accuracy_score at 0x0000021E7F876B88>\n",
      "accuracy score corresponding to  86 is <function accuracy_score at 0x0000021E7F876B88>\n",
      "accuracy score corresponding to  87 is <function accuracy_score at 0x0000021E7F876B88>\n",
      "accuracy score corresponding to  88 is <function accuracy_score at 0x0000021E7F876B88>\n",
      "accuracy score corresponding to  89 is <function accuracy_score at 0x0000021E7F876B88>\n",
      "accuracy score corresponding to  90 is <function accuracy_score at 0x0000021E7F876B88>\n",
      "accuracy score corresponding to  91 is <function accuracy_score at 0x0000021E7F876B88>\n",
      "accuracy score corresponding to  92 is <function accuracy_score at 0x0000021E7F876B88>\n",
      "accuracy score corresponding to  93 is <function accuracy_score at 0x0000021E7F876B88>\n",
      "accuracy score corresponding to  94 is <function accuracy_score at 0x0000021E7F876B88>\n",
      "accuracy score corresponding to  95 is <function accuracy_score at 0x0000021E7F876B88>\n",
      "accuracy score corresponding to  96 is <function accuracy_score at 0x0000021E7F876B88>\n",
      "accuracy score corresponding to  97 is <function accuracy_score at 0x0000021E7F876B88>\n",
      "accuracy score corresponding to  98 is <function accuracy_score at 0x0000021E7F876B88>\n",
      "accuracy score corresponding to  99 is <function accuracy_score at 0x0000021E7F876B88>\n",
      "max accuracy score corresponding to  60 is 0.8113163157275615\n"
     ]
    }
   ],
   "source": [
    "r_state =acuu_score(dt,x,y)"
   ]
  },
  {
   "cell_type": "code",
   "execution_count": 98,
   "metadata": {},
   "outputs": [
    {
     "name": "stdout",
     "output_type": "stream",
     "text": [
      "accuracy score corresponding to  42 is <function accuracy_score at 0x0000021E7F876B88>\n",
      "accuracy score corresponding to  43 is <function accuracy_score at 0x0000021E7F876B88>\n",
      "accuracy score corresponding to  44 is <function accuracy_score at 0x0000021E7F876B88>\n",
      "accuracy score corresponding to  45 is <function accuracy_score at 0x0000021E7F876B88>\n",
      "accuracy score corresponding to  46 is <function accuracy_score at 0x0000021E7F876B88>\n",
      "accuracy score corresponding to  47 is <function accuracy_score at 0x0000021E7F876B88>\n",
      "accuracy score corresponding to  48 is <function accuracy_score at 0x0000021E7F876B88>\n",
      "accuracy score corresponding to  49 is <function accuracy_score at 0x0000021E7F876B88>\n",
      "accuracy score corresponding to  50 is <function accuracy_score at 0x0000021E7F876B88>\n",
      "accuracy score corresponding to  51 is <function accuracy_score at 0x0000021E7F876B88>\n",
      "accuracy score corresponding to  52 is <function accuracy_score at 0x0000021E7F876B88>\n",
      "accuracy score corresponding to  53 is <function accuracy_score at 0x0000021E7F876B88>\n",
      "accuracy score corresponding to  54 is <function accuracy_score at 0x0000021E7F876B88>\n",
      "accuracy score corresponding to  55 is <function accuracy_score at 0x0000021E7F876B88>\n",
      "accuracy score corresponding to  56 is <function accuracy_score at 0x0000021E7F876B88>\n",
      "accuracy score corresponding to  57 is <function accuracy_score at 0x0000021E7F876B88>\n",
      "accuracy score corresponding to  58 is <function accuracy_score at 0x0000021E7F876B88>\n",
      "accuracy score corresponding to  59 is <function accuracy_score at 0x0000021E7F876B88>\n",
      "accuracy score corresponding to  60 is <function accuracy_score at 0x0000021E7F876B88>\n",
      "accuracy score corresponding to  61 is <function accuracy_score at 0x0000021E7F876B88>\n",
      "accuracy score corresponding to  62 is <function accuracy_score at 0x0000021E7F876B88>\n",
      "accuracy score corresponding to  63 is <function accuracy_score at 0x0000021E7F876B88>\n",
      "accuracy score corresponding to  64 is <function accuracy_score at 0x0000021E7F876B88>\n",
      "accuracy score corresponding to  65 is <function accuracy_score at 0x0000021E7F876B88>\n",
      "accuracy score corresponding to  66 is <function accuracy_score at 0x0000021E7F876B88>\n",
      "accuracy score corresponding to  67 is <function accuracy_score at 0x0000021E7F876B88>\n",
      "accuracy score corresponding to  68 is <function accuracy_score at 0x0000021E7F876B88>\n",
      "accuracy score corresponding to  69 is <function accuracy_score at 0x0000021E7F876B88>\n",
      "accuracy score corresponding to  70 is <function accuracy_score at 0x0000021E7F876B88>\n",
      "accuracy score corresponding to  71 is <function accuracy_score at 0x0000021E7F876B88>\n",
      "accuracy score corresponding to  72 is <function accuracy_score at 0x0000021E7F876B88>\n",
      "accuracy score corresponding to  73 is <function accuracy_score at 0x0000021E7F876B88>\n",
      "accuracy score corresponding to  74 is <function accuracy_score at 0x0000021E7F876B88>\n",
      "accuracy score corresponding to  75 is <function accuracy_score at 0x0000021E7F876B88>\n",
      "accuracy score corresponding to  76 is <function accuracy_score at 0x0000021E7F876B88>\n",
      "accuracy score corresponding to  77 is <function accuracy_score at 0x0000021E7F876B88>\n",
      "accuracy score corresponding to  78 is <function accuracy_score at 0x0000021E7F876B88>\n",
      "accuracy score corresponding to  79 is <function accuracy_score at 0x0000021E7F876B88>\n",
      "accuracy score corresponding to  80 is <function accuracy_score at 0x0000021E7F876B88>\n",
      "accuracy score corresponding to  81 is <function accuracy_score at 0x0000021E7F876B88>\n",
      "accuracy score corresponding to  82 is <function accuracy_score at 0x0000021E7F876B88>\n",
      "accuracy score corresponding to  83 is <function accuracy_score at 0x0000021E7F876B88>\n",
      "accuracy score corresponding to  84 is <function accuracy_score at 0x0000021E7F876B88>\n",
      "accuracy score corresponding to  85 is <function accuracy_score at 0x0000021E7F876B88>\n",
      "accuracy score corresponding to  86 is <function accuracy_score at 0x0000021E7F876B88>\n",
      "accuracy score corresponding to  87 is <function accuracy_score at 0x0000021E7F876B88>\n",
      "accuracy score corresponding to  88 is <function accuracy_score at 0x0000021E7F876B88>\n",
      "accuracy score corresponding to  89 is <function accuracy_score at 0x0000021E7F876B88>\n",
      "accuracy score corresponding to  90 is <function accuracy_score at 0x0000021E7F876B88>\n",
      "accuracy score corresponding to  91 is <function accuracy_score at 0x0000021E7F876B88>\n",
      "accuracy score corresponding to  92 is <function accuracy_score at 0x0000021E7F876B88>\n",
      "accuracy score corresponding to  93 is <function accuracy_score at 0x0000021E7F876B88>\n",
      "accuracy score corresponding to  94 is <function accuracy_score at 0x0000021E7F876B88>\n",
      "accuracy score corresponding to  95 is <function accuracy_score at 0x0000021E7F876B88>\n",
      "accuracy score corresponding to  96 is <function accuracy_score at 0x0000021E7F876B88>\n",
      "accuracy score corresponding to  97 is <function accuracy_score at 0x0000021E7F876B88>\n",
      "accuracy score corresponding to  98 is <function accuracy_score at 0x0000021E7F876B88>\n",
      "accuracy score corresponding to  99 is <function accuracy_score at 0x0000021E7F876B88>\n",
      "max accuracy score corresponding to  88 is 0.845665215856958\n"
     ]
    }
   ],
   "source": [
    "r_state =acuu_score(svc,x,y)"
   ]
  },
  {
   "cell_type": "code",
   "execution_count": 100,
   "metadata": {},
   "outputs": [
    {
     "name": "stdout",
     "output_type": "stream",
     "text": [
      "accuracy score corresponding to  42 is <function accuracy_score at 0x0000021E7F876B88>\n",
      "accuracy score corresponding to  43 is <function accuracy_score at 0x0000021E7F876B88>\n",
      "accuracy score corresponding to  44 is <function accuracy_score at 0x0000021E7F876B88>\n",
      "accuracy score corresponding to  45 is <function accuracy_score at 0x0000021E7F876B88>\n",
      "accuracy score corresponding to  46 is <function accuracy_score at 0x0000021E7F876B88>\n",
      "accuracy score corresponding to  47 is <function accuracy_score at 0x0000021E7F876B88>\n",
      "accuracy score corresponding to  48 is <function accuracy_score at 0x0000021E7F876B88>\n",
      "accuracy score corresponding to  49 is <function accuracy_score at 0x0000021E7F876B88>\n",
      "accuracy score corresponding to  50 is <function accuracy_score at 0x0000021E7F876B88>\n",
      "accuracy score corresponding to  51 is <function accuracy_score at 0x0000021E7F876B88>\n",
      "accuracy score corresponding to  52 is <function accuracy_score at 0x0000021E7F876B88>\n",
      "accuracy score corresponding to  53 is <function accuracy_score at 0x0000021E7F876B88>\n",
      "accuracy score corresponding to  54 is <function accuracy_score at 0x0000021E7F876B88>\n",
      "accuracy score corresponding to  55 is <function accuracy_score at 0x0000021E7F876B88>\n",
      "accuracy score corresponding to  56 is <function accuracy_score at 0x0000021E7F876B88>\n",
      "accuracy score corresponding to  57 is <function accuracy_score at 0x0000021E7F876B88>\n",
      "accuracy score corresponding to  58 is <function accuracy_score at 0x0000021E7F876B88>\n",
      "accuracy score corresponding to  59 is <function accuracy_score at 0x0000021E7F876B88>\n",
      "accuracy score corresponding to  60 is <function accuracy_score at 0x0000021E7F876B88>\n",
      "accuracy score corresponding to  61 is <function accuracy_score at 0x0000021E7F876B88>\n",
      "accuracy score corresponding to  62 is <function accuracy_score at 0x0000021E7F876B88>\n",
      "accuracy score corresponding to  63 is <function accuracy_score at 0x0000021E7F876B88>\n",
      "accuracy score corresponding to  64 is <function accuracy_score at 0x0000021E7F876B88>\n",
      "accuracy score corresponding to  65 is <function accuracy_score at 0x0000021E7F876B88>\n",
      "accuracy score corresponding to  66 is <function accuracy_score at 0x0000021E7F876B88>\n",
      "accuracy score corresponding to  67 is <function accuracy_score at 0x0000021E7F876B88>\n",
      "accuracy score corresponding to  68 is <function accuracy_score at 0x0000021E7F876B88>\n",
      "accuracy score corresponding to  69 is <function accuracy_score at 0x0000021E7F876B88>\n",
      "accuracy score corresponding to  70 is <function accuracy_score at 0x0000021E7F876B88>\n",
      "accuracy score corresponding to  71 is <function accuracy_score at 0x0000021E7F876B88>\n",
      "accuracy score corresponding to  72 is <function accuracy_score at 0x0000021E7F876B88>\n",
      "accuracy score corresponding to  73 is <function accuracy_score at 0x0000021E7F876B88>\n",
      "accuracy score corresponding to  74 is <function accuracy_score at 0x0000021E7F876B88>\n",
      "accuracy score corresponding to  75 is <function accuracy_score at 0x0000021E7F876B88>\n",
      "accuracy score corresponding to  76 is <function accuracy_score at 0x0000021E7F876B88>\n",
      "accuracy score corresponding to  77 is <function accuracy_score at 0x0000021E7F876B88>\n",
      "accuracy score corresponding to  78 is <function accuracy_score at 0x0000021E7F876B88>\n",
      "accuracy score corresponding to  79 is <function accuracy_score at 0x0000021E7F876B88>\n",
      "accuracy score corresponding to  80 is <function accuracy_score at 0x0000021E7F876B88>\n",
      "accuracy score corresponding to  81 is <function accuracy_score at 0x0000021E7F876B88>\n",
      "accuracy score corresponding to  82 is <function accuracy_score at 0x0000021E7F876B88>\n",
      "accuracy score corresponding to  83 is <function accuracy_score at 0x0000021E7F876B88>\n",
      "accuracy score corresponding to  84 is <function accuracy_score at 0x0000021E7F876B88>\n",
      "accuracy score corresponding to  85 is <function accuracy_score at 0x0000021E7F876B88>\n",
      "accuracy score corresponding to  86 is <function accuracy_score at 0x0000021E7F876B88>\n",
      "accuracy score corresponding to  87 is <function accuracy_score at 0x0000021E7F876B88>\n",
      "accuracy score corresponding to  88 is <function accuracy_score at 0x0000021E7F876B88>\n",
      "accuracy score corresponding to  89 is <function accuracy_score at 0x0000021E7F876B88>\n",
      "accuracy score corresponding to  90 is <function accuracy_score at 0x0000021E7F876B88>\n",
      "accuracy score corresponding to  91 is <function accuracy_score at 0x0000021E7F876B88>\n",
      "accuracy score corresponding to  92 is <function accuracy_score at 0x0000021E7F876B88>\n",
      "accuracy score corresponding to  93 is <function accuracy_score at 0x0000021E7F876B88>\n",
      "accuracy score corresponding to  94 is <function accuracy_score at 0x0000021E7F876B88>\n",
      "accuracy score corresponding to  95 is <function accuracy_score at 0x0000021E7F876B88>\n",
      "accuracy score corresponding to  96 is <function accuracy_score at 0x0000021E7F876B88>\n",
      "accuracy score corresponding to  97 is <function accuracy_score at 0x0000021E7F876B88>\n",
      "accuracy score corresponding to  98 is <function accuracy_score at 0x0000021E7F876B88>\n",
      "accuracy score corresponding to  99 is <function accuracy_score at 0x0000021E7F876B88>\n",
      "max accuracy score corresponding to  79 is 0.7728502529114222\n"
     ]
    }
   ],
   "source": [
    "r_state =acuu_score(gnb,x,y)   # "
   ]
  },
  {
   "cell_type": "code",
   "execution_count": 101,
   "metadata": {},
   "outputs": [],
   "source": [
    "x_train,x_test,y_train,y_test = train_test_split(x,y,test_size=0.33,random_state=88)  #since max result I obtained at random state = 88 .I will use it."
   ]
  },
  {
   "cell_type": "code",
   "execution_count": 83,
   "metadata": {},
   "outputs": [
    {
     "data": {
      "text/plain": [
       "{'n_neighbors': 19}"
      ]
     },
     "execution_count": 83,
     "metadata": {},
     "output_type": "execute_result"
    }
   ],
   "source": [
    "parameters = {\"n_neighbors\": range(1,20)}\n",
    "gsc = GridSearchCV(knn,parameters,cv=5)\n",
    "gsc.fit(x,y)\n",
    "gsc.best_params_"
   ]
  },
  {
   "cell_type": "code",
   "execution_count": 84,
   "metadata": {},
   "outputs": [
    {
     "data": {
      "text/plain": [
       "{'n_estimators': 18}"
      ]
     },
     "execution_count": 84,
     "metadata": {},
     "output_type": "execute_result"
    }
   ],
   "source": [
    "parameters = {\"n_estimators\": range(1,20)}\n",
    "gsc = GridSearchCV(rfc,parameters,cv=5)\n",
    "gsc.fit(x,y)\n",
    "gsc.best_params_"
   ]
  },
  {
   "cell_type": "code",
   "execution_count": 85,
   "metadata": {},
   "outputs": [],
   "source": [
    "knn =KNeighborsClassifier(n_neighbors= 19)\n",
    "svc = SVC()\n",
    "dt= DecisionTreeClassifier()\n",
    "rfc = RandomForestClassifier(n_estimators= 18)\n",
    "lr = LogisticRegression()\n",
    "gnb = GaussianNB()"
   ]
  },
  {
   "cell_type": "code",
   "execution_count": 86,
   "metadata": {},
   "outputs": [],
   "source": [
    "models=[]\n",
    "models.append((\"KNeighborsClassifier\",knn))\n",
    "models.append((\"SVC\",svc))\n",
    "models.append((\"DecisionTreeClassifier\",dt))\n",
    "models.append((\"LogisticRegression\",lr))\n",
    "models.append((\"GaussianNB\",gnb))"
   ]
  },
  {
   "cell_type": "code",
   "execution_count": 88,
   "metadata": {},
   "outputs": [
    {
     "name": "stdout",
     "output_type": "stream",
     "text": [
      "********************* KNeighborsClassifier ***********************\n",
      "\n",
      "\n",
      "KNeighborsClassifier(algorithm='auto', leaf_size=30, metric='minkowski',\n",
      "                     metric_params=None, n_jobs=None, n_neighbors=19, p=2,\n",
      "                     weights='uniform')\n",
      "\n",
      "\n",
      "Accuracy score =  0.836607457946124\n",
      "\n",
      "\n",
      "cross_val_score=  0.8332298136645961\n",
      "\n",
      "\n",
      "roc_auc_score =  0.7483926743827927\n",
      "\n",
      "\n",
      "Classification_Report\n",
      "               precision    recall  f1-score   support\n",
      "\n",
      "           0       0.89      0.91      0.90      6618\n",
      "           1       0.64      0.59      0.62      1883\n",
      "\n",
      "    accuracy                           0.84      8501\n",
      "   macro avg       0.76      0.75      0.76      8501\n",
      "weighted avg       0.83      0.84      0.83      8501\n",
      "\n",
      "\n",
      "\n",
      "[[6001  617]\n",
      " [ 772 1111]]\n",
      "\n",
      "\n",
      "AxesSubplot(0.125,0.808774;0.62x0.0712264)\n",
      "\n",
      "\n",
      "\n",
      "********************* SVC ***********************\n",
      "\n",
      "\n",
      "SVC(C=1.0, break_ties=False, cache_size=200, class_weight=None, coef0=0.0,\n",
      "    decision_function_shape='ovr', degree=3, gamma='scale', kernel='rbf',\n",
      "    max_iter=-1, probability=False, random_state=None, shrinking=True,\n",
      "    tol=0.001, verbose=False)\n",
      "\n",
      "\n",
      "Accuracy score =  0.845665215856958\n",
      "\n",
      "\n",
      "cross_val_score=  0.8357142857142856\n",
      "\n",
      "\n",
      "roc_auc_score =  0.7297024385288228\n",
      "\n",
      "\n",
      "Classification_Report\n",
      "               precision    recall  f1-score   support\n",
      "\n",
      "           0       0.87      0.94      0.90      6618\n",
      "           1       0.70      0.52      0.60      1883\n",
      "\n",
      "    accuracy                           0.85      8501\n",
      "   macro avg       0.79      0.73      0.75      8501\n",
      "weighted avg       0.84      0.85      0.84      8501\n",
      "\n",
      "\n",
      "\n",
      "[[6207  411]\n",
      " [ 901  982]]\n",
      "\n",
      "\n",
      "AxesSubplot(0.125,0.808774;0.62x0.0712264)\n",
      "\n",
      "\n",
      "\n",
      "********************* DecisionTreeClassifier ***********************\n",
      "\n",
      "\n",
      "DecisionTreeClassifier(ccp_alpha=0.0, class_weight=None, criterion='gini',\n",
      "                       max_depth=None, max_features=None, max_leaf_nodes=None,\n",
      "                       min_impurity_decrease=0.0, min_impurity_split=None,\n",
      "                       min_samples_leaf=1, min_samples_split=2,\n",
      "                       min_weight_fraction_leaf=0.0, presort='deprecated',\n",
      "                       random_state=None, splitter='best')\n",
      "\n",
      "\n",
      "Accuracy score =  0.7994353605458181\n",
      "\n",
      "\n",
      "cross_val_score=  0.8031444099378883\n",
      "\n",
      "\n",
      "roc_auc_score =  0.7216686591726614\n",
      "\n",
      "\n",
      "Classification_Report\n",
      "               precision    recall  f1-score   support\n",
      "\n",
      "           0       0.88      0.86      0.87      6618\n",
      "           1       0.54      0.58      0.56      1883\n",
      "\n",
      "    accuracy                           0.80      8501\n",
      "   macro avg       0.71      0.72      0.72      8501\n",
      "weighted avg       0.80      0.80      0.80      8501\n",
      "\n",
      "\n",
      "\n",
      "[[5700  918]\n",
      " [ 787 1096]]\n",
      "\n",
      "\n",
      "AxesSubplot(0.125,0.808774;0.62x0.0712264)\n",
      "\n",
      "\n",
      "\n",
      "********************* LogisticRegression ***********************\n",
      "\n",
      "\n",
      "LogisticRegression(C=1.0, class_weight=None, dual=False, fit_intercept=True,\n",
      "                   intercept_scaling=1, l1_ratio=None, max_iter=100,\n",
      "                   multi_class='auto', n_jobs=None, penalty='l2',\n",
      "                   random_state=None, solver='lbfgs', tol=0.0001, verbose=0,\n",
      "                   warm_start=False)\n",
      "\n",
      "\n",
      "Accuracy score =  0.83237266203976\n",
      "\n",
      "\n",
      "cross_val_score=  0.8253881987577639\n",
      "\n",
      "\n",
      "roc_auc_score =  0.7025468608039966\n",
      "\n",
      "\n",
      "Classification_Report\n",
      "               precision    recall  f1-score   support\n",
      "\n",
      "           0       0.86      0.94      0.90      6618\n",
      "           1       0.67      0.47      0.55      1883\n",
      "\n",
      "    accuracy                           0.83      8501\n",
      "   macro avg       0.77      0.70      0.73      8501\n",
      "weighted avg       0.82      0.83      0.82      8501\n",
      "\n",
      "\n",
      "\n",
      "[[6192  426]\n",
      " [ 999  884]]\n",
      "\n",
      "\n",
      "AxesSubplot(0.125,0.808774;0.62x0.0712264)\n",
      "\n",
      "\n",
      "\n",
      "********************* GaussianNB ***********************\n",
      "\n",
      "\n",
      "GaussianNB(priors=None, var_smoothing=1e-09)\n",
      "\n",
      "\n",
      "Accuracy score =  0.7590871662157394\n",
      "\n",
      "\n",
      "cross_val_score=  0.7592003105590062\n",
      "\n",
      "\n",
      "roc_auc_score =  0.7738371685262052\n",
      "\n",
      "\n",
      "Classification_Report\n",
      "               precision    recall  f1-score   support\n",
      "\n",
      "           0       0.93      0.75      0.83      6618\n",
      "           1       0.47      0.80      0.60      1883\n",
      "\n",
      "    accuracy                           0.76      8501\n",
      "   macro avg       0.70      0.77      0.71      8501\n",
      "weighted avg       0.83      0.76      0.78      8501\n",
      "\n",
      "\n",
      "\n",
      "[[4946 1672]\n",
      " [ 376 1507]]\n",
      "\n",
      "\n",
      "AxesSubplot(0.125,0.808774;0.62x0.0712264)\n",
      "\n",
      "\n",
      "\n"
     ]
    },
    {
     "data": {
      "image/png": "[encoded data removed]",
      "text/plain": [
       "<Figure size 720x2880 with 3 Axes>"
      ]
     },
     "metadata": {
      "needs_background": "light"
     },
     "output_type": "display_data"
    },
    {
     "data": {
      "image/png": "[encoded data removed]",
      "text/plain": [
       "<Figure size 720x2880 with 3 Axes>"
      ]
     },
     "metadata": {
      "needs_background": "light"
     },
     "output_type": "display_data"
    },
    {
     "data": {
      "image/png": "[encoded data removed]",
      "text/plain": [
       "<Figure size 720x2880 with 3 Axes>"
      ]
     },
     "metadata": {
      "needs_background": "light"
     },
     "output_type": "display_data"
    },
    {
     "data": {
      "image/png": "[encoded data removed]",
      "text/plain": [
       "<Figure size 720x2880 with 3 Axes>"
      ]
     },
     "metadata": {
      "needs_background": "light"
     },
     "output_type": "display_data"
    },
    {
     "data": {
      "image/png": "[encoded data removed]",
      "text/plain": [
       "<Figure size 720x2880 with 3 Axes>"
      ]
     },
     "metadata": {
      "needs_background": "light"
     },
     "output_type": "display_data"
    }
   ],
   "source": [
    "Model =[]\n",
    "score =[]\n",
    "cvs=[]\n",
    "rocscore=[]\n",
    "for name,model in models:\n",
    "    print('*********************',name,'***********************')\n",
    "    print('\\n')\n",
    "    Model.append(name)\n",
    "    model.fit(x_train,y_train)\n",
    "    print(model)\n",
    "    pre=model.predict(x_test)\n",
    "    print('\\n')\n",
    "    AS = accuracy_score(y_test,pre)\n",
    "    print(\"Accuracy score = \",AS)\n",
    "    score.append(AS*100)\n",
    "    print('\\n')\n",
    "    sc = cross_val_score(model,x,y,cv=10,scoring=\"accuracy\").mean()\n",
    "    print(\"cross_val_score= \",sc)\n",
    "    cvs.append(sc*100)\n",
    "    print('\\n')\n",
    "    false_positive_rate,true_positive_rate,thresholds = roc_curve(y_test,pre)\n",
    "    roc_auc = auc(false_positive_rate,true_positive_rate)\n",
    "    print(\"roc_auc_score = \",roc_auc)\n",
    "    rocscore.append(roc_auc*100)\n",
    "    print('\\n')\n",
    "    print(\"Classification_Report\\n\",classification_report(y_test,pre))\n",
    "    print('\\n')\n",
    "    cm = confusion_matrix(y_test,pre)\n",
    "    print(cm)\n",
    "    print('\\n')\n",
    "    plt.figure(figsize=(10,40))\n",
    "    plt.subplot(911)\n",
    "    plt.title(name)\n",
    "    print(sns.heatmap(cm,annot = True))\n",
    "    plt.subplot(912)\n",
    "    plt.title(name)\n",
    "    plt.plot(false_positive_rate,true_positive_rate,label = \"AUC = %0.2f\"%roc_auc)\n",
    "    plt.plot([0,1],[0,1],'r--')\n",
    "    plt.legend(loc=\"lower right\")\n",
    "    plt.ylabel('True Positive Rate')\n",
    "    plt.xlabel('False Positive Rate')\n",
    "    print('\\n\\n')"
   ]
  },
  {
   "cell_type": "code",
   "execution_count": 89,
   "metadata": {},
   "outputs": [
    {
     "data": {
      "text/html": [
       "<div>\n",
       "<style scoped>\n",
       "    .dataframe tbody tr th:only-of-type {\n",
       "        vertical-align: middle;\n",
       "    }\n",
       "\n",
       "    .dataframe tbody tr th {\n",
       "        vertical-align: top;\n",
       "    }\n",
       "\n",
       "    .dataframe thead th {\n",
       "        text-align: right;\n",
       "    }\n",
       "</style>\n",
       "<table border=\"1\" class=\"dataframe\">\n",
       "  <thead>\n",
       "    <tr style=\"text-align: right;\">\n",
       "      <th></th>\n",
       "      <th>Model</th>\n",
       "      <th>Accuracy Score</th>\n",
       "      <th>Cross_val_score</th>\n",
       "      <th>Roc_auc_curve</th>\n",
       "    </tr>\n",
       "  </thead>\n",
       "  <tbody>\n",
       "    <tr>\n",
       "      <th>0</th>\n",
       "      <td>KNeighborsClassifier</td>\n",
       "      <td>83.660746</td>\n",
       "      <td>83.322981</td>\n",
       "      <td>74.839267</td>\n",
       "    </tr>\n",
       "    <tr>\n",
       "      <th>1</th>\n",
       "      <td>SVC</td>\n",
       "      <td>84.566522</td>\n",
       "      <td>83.571429</td>\n",
       "      <td>72.970244</td>\n",
       "    </tr>\n",
       "    <tr>\n",
       "      <th>2</th>\n",
       "      <td>DecisionTreeClassifier</td>\n",
       "      <td>79.943536</td>\n",
       "      <td>80.314441</td>\n",
       "      <td>72.166866</td>\n",
       "    </tr>\n",
       "    <tr>\n",
       "      <th>3</th>\n",
       "      <td>LogisticRegression</td>\n",
       "      <td>83.237266</td>\n",
       "      <td>82.538820</td>\n",
       "      <td>70.254686</td>\n",
       "    </tr>\n",
       "    <tr>\n",
       "      <th>4</th>\n",
       "      <td>GaussianNB</td>\n",
       "      <td>75.908717</td>\n",
       "      <td>75.920031</td>\n",
       "      <td>77.383717</td>\n",
       "    </tr>\n",
       "  </tbody>\n",
       "</table>\n",
       "</div>"
      ],
      "text/plain": [
       "                    Model  Accuracy Score  Cross_val_score  Roc_auc_curve\n",
       "0    KNeighborsClassifier       83.660746        83.322981      74.839267\n",
       "1                     SVC       84.566522        83.571429      72.970244\n",
       "2  DecisionTreeClassifier       79.943536        80.314441      72.166866\n",
       "3      LogisticRegression       83.237266        82.538820      70.254686\n",
       "4              GaussianNB       75.908717        75.920031      77.383717"
      ]
     },
     "execution_count": 89,
     "metadata": {},
     "output_type": "execute_result"
    }
   ],
   "source": [
    "result = pd.DataFrame({\"Model\": Model,\"Accuracy Score\":score,\"Cross_val_score\":cvs,'Roc_auc_curve':rocscore})\n",
    "result"
   ]
  },
  {
   "cell_type": "code",
   "execution_count": 91,
   "metadata": {},
   "outputs": [
    {
     "name": "stderr",
     "output_type": "stream",
     "text": [
      "C:\\Users\\lenovo\\anaconda3\\lib\\site-packages\\sklearn\\externals\\joblib\\__init__.py:15: FutureWarning: sklearn.externals.joblib is deprecated in 0.21 and will be removed in 0.23. Please import this functionality directly from joblib, which can be installed with: pip install joblib. If this warning is raised when loading pickled models, you may need to re-serialize those models with scikit-learn 0.21+.\n",
      "  warnings.warn(msg, category=FutureWarning)\n"
     ]
    }
   ],
   "source": [
    "from sklearn.externals import joblib"
   ]
  },
  {
   "cell_type": "code",
   "execution_count": 92,
   "metadata": {},
   "outputs": [
    {
     "data": {
      "text/plain": [
       "['Income Prediction.obj']"
      ]
     },
     "execution_count": 92,
     "metadata": {},
     "output_type": "execute_result"
    }
   ],
   "source": [
    "joblib.dump(svc,\"Income Prediction.obj\")"
   ]
  },
  {
   "cell_type": "code",
   "execution_count": 93,
   "metadata": {},
   "outputs": [
    {
     "data": {
      "text/plain": [
       "array([0, 0, 0, ..., 0, 0, 0])"
      ]
     },
     "execution_count": 93,
     "metadata": {},
     "output_type": "execute_result"
    }
   ],
   "source": [
    "model.predict(x_test)"
   ]
  },
  {
   "cell_type": "code",
   "execution_count": null,
   "metadata": {},
   "outputs": [],
   "source": []
  }
 ],
 "metadata": {
  "kernelspec": {
   "display_name": "Python 3",
   "language": "python",
   "name": "python3"
  },
  "language_info": {
   "codemirror_mode": {
    "name": "ipython",
    "version": 3
   },
   "file_extension": ".py",
   "mimetype": "text/x-python",
   "name": "python",
   "nbconvert_exporter": "python",
   "pygments_lexer": "ipython3",
   "version": "3.7.6"
  }
 },
 "nbformat": 4,
 "nbformat_minor": 4
}
