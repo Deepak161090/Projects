{
 "cells": [
  {
   "cell_type": "code",
   "execution_count": 14,
   "metadata": {
    "executionInfo": {
     "elapsed": 354,
     "status": "ok",
     "timestamp": 1629305340254,
     "user": {
      "displayName": "Deepak Dabral",
      "photoUrl": "https://lh3.googleusercontent.com/a-/AOh14GgFTOWHd-q4MYX4E4VTeiebxMGb7IfgLkovZ6UKng=s64",
      "userId": "01154582435153101705"
     },
     "user_tz": -330
    },
    "id": "MXqwqD7wGlC-"
   },
   "outputs": [],
   "source": [
    "from gensim.summarization import keywords\n",
    "import pandas as pd"
   ]
  },
  {
   "cell_type": "code",
   "execution_count": null,
   "metadata": {
    "id": "XzV7nXkyGvc_"
   },
   "outputs": [],
   "source": [
    "text =\"ICT underpins innovation and competitiveness across a broad range of private and public markets and sectors  The potential and capabilities of modern ICT systems are still growing exponentially fuelled by the progress in electronics  microsystems  networking  the ability to master increasingly complex cyber physical systems and robots  and progress in data processing and human machine interfaces  These developments provide major opportunities for Europe to develop the next generation of open platforms on top of which a multiplicity of innovative devices  systems and applications can be implemented   These new solutions will enable a wealth of new business developments in particular for SMEs  and will contribute to boosting competitiveness  creating jobs and supporting growth   Main features of the Work Programme The first ICT Leadership in Enabling and Industrial Technologies LEIT Work Programme under H2020 provides a balanced response to the main challenges faced by Europe in the field: firstly  the need to maintain a strong expertise in key technology value chains; secondly  the necessity to move quicker from research excellence to the market   It combines a strong support to industrial roadmaps with new mechanisms to encourage disruptive innovation  The former will reinforce medium to long term commitment to industrial strategies and provide continuity and stability  The latter will offer flexibility and openness and will help develop dynamic eco systems in which innovators can operate  Both strands will require the involvement of new actors  on one hand to exploit and leverage new technologies and on the other to initiate and drive change   Activities Six main activity lines have been identified in the ICT LEIT part of the Work Programme:  A new generation of components and systems Advanced Computing Future Internet Content technologies and information management Robotics Micro  and nano electronic technologies  Photonics In addition  the Work Programme features several cross cutting topics addressing cyber security  Internet of Things and research on a Human centric Digital Age  All activities are complemented with support to innovation and take up  international cooperation and a dedicated action for SMEs to propose bottom up innovative ideas  using the SME instrument\""
   ]
  },
  {
   "cell_type": "code",
   "execution_count": null,
   "metadata": {
    "colab": {
     "base_uri": "https://localhost:8080/"
    },
    "executionInfo": {
     "elapsed": 404,
     "status": "ok",
     "timestamp": 1629304360068,
     "user": {
      "displayName": "Deepak Dabral",
      "photoUrl": "https://lh3.googleusercontent.com/a-/AOh14GgFTOWHd-q4MYX4E4VTeiebxMGb7IfgLkovZ6UKng=s64",
      "userId": "01154582435153101705"
     },
     "user_tz": -330
    },
    "id": "IaMHyjZdGzue",
    "outputId": "73eddf54-79c7-43d8-8192-fe0f5f2c6316"
   },
   "outputs": [
    {
     "data": {
      "text/plain": [
       "['technologies',\n",
       " 'technology',\n",
       " 'new',\n",
       " 'ict',\n",
       " 'systems',\n",
       " 'main',\n",
       " 'develop',\n",
       " 'innovation',\n",
       " 'innovative',\n",
       " 'innovators',\n",
       " 'cyber',\n",
       " 'developments provide',\n",
       " 'activities',\n",
       " 'activity',\n",
       " 'provides',\n",
       " 'industrial',\n",
       " 'term',\n",
       " 'exponentially',\n",
       " 'electronics',\n",
       " 'electronic',\n",
       " 'creating',\n",
       " 'competitiveness',\n",
       " 'robots',\n",
       " 'robotics',\n",
       " 'management',\n",
       " 'internet',\n",
       " 'leit',\n",
       " 'digital',\n",
       " 'machine']"
      ]
     },
     "execution_count": 3,
     "metadata": {
      "tags": []
     },
     "output_type": "execute_result"
    }
   ],
   "source": [
    "keywords(text).split('\\n')"
   ]
  },
  {
   "cell_type": "code",
   "execution_count": null,
   "metadata": {
    "id": "pUTzBOy3G4iI"
   },
   "outputs": [],
   "source": [
    "key =list(keywords(text).split('\\n'))"
   ]
  },
  {
   "cell_type": "code",
   "execution_count": null,
   "metadata": {
    "colab": {
     "base_uri": "https://localhost:8080/"
    },
    "executionInfo": {
     "elapsed": 372,
     "status": "ok",
     "timestamp": 1629304602449,
     "user": {
      "displayName": "Deepak Dabral",
      "photoUrl": "https://lh3.googleusercontent.com/a-/AOh14GgFTOWHd-q4MYX4E4VTeiebxMGb7IfgLkovZ6UKng=s64",
      "userId": "01154582435153101705"
     },
     "user_tz": -330
    },
    "id": "GoRTFNPbHynp",
    "outputId": "4c980997-d651-4ccf-92d0-d6d4e146c503"
   },
   "outputs": [
    {
     "data": {
      "text/plain": [
       "['technologies',\n",
       " 'technology',\n",
       " 'new',\n",
       " 'ict',\n",
       " 'systems',\n",
       " 'main',\n",
       " 'develop',\n",
       " 'innovation',\n",
       " 'innovative',\n",
       " 'innovators',\n",
       " 'cyber',\n",
       " 'developments provide',\n",
       " 'activities',\n",
       " 'activity',\n",
       " 'provides',\n",
       " 'industrial',\n",
       " 'term',\n",
       " 'exponentially',\n",
       " 'electronics',\n",
       " 'electronic',\n",
       " 'robots',\n",
       " 'robotics',\n",
       " 'competitiveness',\n",
       " 'creating',\n",
       " 'management',\n",
       " 'internet',\n",
       " 'leit',\n",
       " 'machine',\n",
       " 'digital']"
      ]
     },
     "execution_count": 5,
     "metadata": {
      "tags": []
     },
     "output_type": "execute_result"
    }
   ],
   "source": [
    "key"
   ]
  },
  {
   "cell_type": "code",
   "execution_count": null,
   "metadata": {
    "id": "_8vEuyaLHzt4"
   },
   "outputs": [],
   "source": [
    "key_df= pd.DataFrame({'Keywords':key})"
   ]
  },
  {
   "cell_type": "code",
   "execution_count": null,
   "metadata": {
    "colab": {
     "base_uri": "https://localhost:8080/",
     "height": 942
    },
    "executionInfo": {
     "elapsed": 368,
     "status": "ok",
     "timestamp": 1629304672510,
     "user": {
      "displayName": "Deepak Dabral",
      "photoUrl": "https://lh3.googleusercontent.com/a-/AOh14GgFTOWHd-q4MYX4E4VTeiebxMGb7IfgLkovZ6UKng=s64",
      "userId": "01154582435153101705"
     },
     "user_tz": -330
    },
    "id": "gaadqEW2H9DJ",
    "outputId": "e2ff2d4e-040e-40c9-9bd3-b56e517eb64f"
   },
   "outputs": [
    {
     "data": {
      "text/html": [
       "<div>\n",
       "<style scoped>\n",
       "    .dataframe tbody tr th:only-of-type {\n",
       "        vertical-align: middle;\n",
       "    }\n",
       "\n",
       "    .dataframe tbody tr th {\n",
       "        vertical-align: top;\n",
       "    }\n",
       "\n",
       "    .dataframe thead th {\n",
       "        text-align: right;\n",
       "    }\n",
       "</style>\n",
       "<table border=\"1\" class=\"dataframe\">\n",
       "  <thead>\n",
       "    <tr style=\"text-align: right;\">\n",
       "      <th></th>\n",
       "      <th>Keywords</th>\n",
       "    </tr>\n",
       "  </thead>\n",
       "  <tbody>\n",
       "    <tr>\n",
       "      <th>0</th>\n",
       "      <td>technologies</td>\n",
       "    </tr>\n",
       "    <tr>\n",
       "      <th>1</th>\n",
       "      <td>technology</td>\n",
       "    </tr>\n",
       "    <tr>\n",
       "      <th>2</th>\n",
       "      <td>new</td>\n",
       "    </tr>\n",
       "    <tr>\n",
       "      <th>3</th>\n",
       "      <td>ict</td>\n",
       "    </tr>\n",
       "    <tr>\n",
       "      <th>4</th>\n",
       "      <td>systems</td>\n",
       "    </tr>\n",
       "    <tr>\n",
       "      <th>5</th>\n",
       "      <td>main</td>\n",
       "    </tr>\n",
       "    <tr>\n",
       "      <th>6</th>\n",
       "      <td>develop</td>\n",
       "    </tr>\n",
       "    <tr>\n",
       "      <th>7</th>\n",
       "      <td>innovation</td>\n",
       "    </tr>\n",
       "    <tr>\n",
       "      <th>8</th>\n",
       "      <td>innovative</td>\n",
       "    </tr>\n",
       "    <tr>\n",
       "      <th>9</th>\n",
       "      <td>innovators</td>\n",
       "    </tr>\n",
       "    <tr>\n",
       "      <th>10</th>\n",
       "      <td>cyber</td>\n",
       "    </tr>\n",
       "    <tr>\n",
       "      <th>11</th>\n",
       "      <td>developments provide</td>\n",
       "    </tr>\n",
       "    <tr>\n",
       "      <th>12</th>\n",
       "      <td>activities</td>\n",
       "    </tr>\n",
       "    <tr>\n",
       "      <th>13</th>\n",
       "      <td>activity</td>\n",
       "    </tr>\n",
       "    <tr>\n",
       "      <th>14</th>\n",
       "      <td>provides</td>\n",
       "    </tr>\n",
       "    <tr>\n",
       "      <th>15</th>\n",
       "      <td>industrial</td>\n",
       "    </tr>\n",
       "    <tr>\n",
       "      <th>16</th>\n",
       "      <td>term</td>\n",
       "    </tr>\n",
       "    <tr>\n",
       "      <th>17</th>\n",
       "      <td>exponentially</td>\n",
       "    </tr>\n",
       "    <tr>\n",
       "      <th>18</th>\n",
       "      <td>electronics</td>\n",
       "    </tr>\n",
       "    <tr>\n",
       "      <th>19</th>\n",
       "      <td>electronic</td>\n",
       "    </tr>\n",
       "    <tr>\n",
       "      <th>20</th>\n",
       "      <td>robots</td>\n",
       "    </tr>\n",
       "    <tr>\n",
       "      <th>21</th>\n",
       "      <td>robotics</td>\n",
       "    </tr>\n",
       "    <tr>\n",
       "      <th>22</th>\n",
       "      <td>competitiveness</td>\n",
       "    </tr>\n",
       "    <tr>\n",
       "      <th>23</th>\n",
       "      <td>creating</td>\n",
       "    </tr>\n",
       "    <tr>\n",
       "      <th>24</th>\n",
       "      <td>management</td>\n",
       "    </tr>\n",
       "    <tr>\n",
       "      <th>25</th>\n",
       "      <td>internet</td>\n",
       "    </tr>\n",
       "    <tr>\n",
       "      <th>26</th>\n",
       "      <td>leit</td>\n",
       "    </tr>\n",
       "    <tr>\n",
       "      <th>27</th>\n",
       "      <td>machine</td>\n",
       "    </tr>\n",
       "    <tr>\n",
       "      <th>28</th>\n",
       "      <td>digital</td>\n",
       "    </tr>\n",
       "  </tbody>\n",
       "</table>\n",
       "</div>"
      ],
      "text/plain": [
       "                Keywords\n",
       "0           technologies\n",
       "1             technology\n",
       "2                    new\n",
       "3                    ict\n",
       "4                systems\n",
       "5                   main\n",
       "6                develop\n",
       "7             innovation\n",
       "8             innovative\n",
       "9             innovators\n",
       "10                 cyber\n",
       "11  developments provide\n",
       "12            activities\n",
       "13              activity\n",
       "14              provides\n",
       "15            industrial\n",
       "16                  term\n",
       "17         exponentially\n",
       "18           electronics\n",
       "19            electronic\n",
       "20                robots\n",
       "21              robotics\n",
       "22       competitiveness\n",
       "23              creating\n",
       "24            management\n",
       "25              internet\n",
       "26                  leit\n",
       "27               machine\n",
       "28               digital"
      ]
     },
     "execution_count": 9,
     "metadata": {
      "tags": []
     },
     "output_type": "execute_result"
    }
   ],
   "source": [
    "key_df"
   ]
  },
  {
   "cell_type": "code",
   "execution_count": null,
   "metadata": {
    "id": "Wyl3QVAoIE0x"
   },
   "outputs": [],
   "source": [
    "key_df.to_csv('Keywords.csv', index = False)"
   ]
  },
  {
   "cell_type": "code",
   "execution_count": 12,
   "metadata": {
    "executionInfo": {
     "elapsed": 1299,
     "status": "ok",
     "timestamp": 1629305330743,
     "user": {
      "displayName": "Deepak Dabral",
      "photoUrl": "https://lh3.googleusercontent.com/a-/AOh14GgFTOWHd-q4MYX4E4VTeiebxMGb7IfgLkovZ6UKng=s64",
      "userId": "01154582435153101705"
     },
     "user_tz": -330
    },
    "id": "BdiVpcMaIOr5"
   },
   "outputs": [],
   "source": [
    "from bs4 import BeautifulSoup\n",
    "import requests\n",
    "import re\n",
    "def url_to_string(url):\n",
    "    res = requests.get(url)\n",
    "    html = res.text\n",
    "    soup = BeautifulSoup(html, 'html5lib')\n",
    "    for script in soup([\"script\", \"style\", 'aside']):\n",
    "        script.extract()\n",
    "    return \" \".join(re.split(r'[\\n\\t]+', soup.get_text()))\n",
    "text1 = url_to_string('https://ec.europa.eu/programmes/horizon2020/en/h2020-section/information-and-communication-technologies')"
   ]
  },
  {
   "cell_type": "code",
   "execution_count": 13,
   "metadata": {
    "executionInfo": {
     "elapsed": 554,
     "status": "ok",
     "timestamp": 1629305333269,
     "user": {
      "displayName": "Deepak Dabral",
      "photoUrl": "https://lh3.googleusercontent.com/a-/AOh14GgFTOWHd-q4MYX4E4VTeiebxMGb7IfgLkovZ6UKng=s64",
      "userId": "01154582435153101705"
     },
     "user_tz": -330
    },
    "id": "R9dRq63dKTL-"
   },
   "outputs": [],
   "source": [
    "key1=list(keywords(text1).split('\\n'))"
   ]
  },
  {
   "cell_type": "code",
   "execution_count": 15,
   "metadata": {
    "colab": {
     "base_uri": "https://localhost:8080/"
    },
    "executionInfo": {
     "elapsed": 375,
     "status": "ok",
     "timestamp": 1629305364859,
     "user": {
      "displayName": "Deepak Dabral",
      "photoUrl": "https://lh3.googleusercontent.com/a-/AOh14GgFTOWHd-q4MYX4E4VTeiebxMGb7IfgLkovZ6UKng=s64",
      "userId": "01154582435153101705"
     },
     "user_tz": -330
    },
    "id": "nL3m8XFOKmEv",
    "outputId": "4b482d29-4a9c-440f-cc09-1fb6a557ae18"
   },
   "outputs": [
    {
     "data": {
      "text/plain": [
       "['news',\n",
       " 'new',\n",
       " 'innovation',\n",
       " 'innovative',\n",
       " 'innovators',\n",
       " 'technologies',\n",
       " 'technology',\n",
       " 'horizon',\n",
       " 'european',\n",
       " 'projects',\n",
       " 'project',\n",
       " 'ict',\n",
       " 'information',\n",
       " 'april',\n",
       " 'multimedia',\n",
       " 'related',\n",
       " 'programme',\n",
       " 'programmes',\n",
       " 'research',\n",
       " 'main content',\n",
       " 'systems',\n",
       " 'commission',\n",
       " 'publications',\n",
       " 'public',\n",
       " 'contact',\n",
       " 'advanced',\n",
       " 'cyber',\n",
       " 'work',\n",
       " 'working',\n",
       " 'links',\n",
       " 'develop',\n",
       " 'healthier',\n",
       " 'term',\n",
       " 'exponentially',\n",
       " 'developments provide',\n",
       " 'age',\n",
       " 'ageing',\n",
       " 'provides',\n",
       " 'industrial',\n",
       " 'electronics',\n",
       " 'human',\n",
       " 'points',\n",
       " 'digital',\n",
       " 'creating',\n",
       " 'competitiveness',\n",
       " 'software greater',\n",
       " 'february',\n",
       " 'service',\n",
       " 'services',\n",
       " 'press releases',\n",
       " 'features',\n",
       " 'featured',\n",
       " 'graphene',\n",
       " 'policies',\n",
       " 'expertise',\n",
       " 'instrument',\n",
       " 'help',\n",
       " 'reports',\n",
       " 'report',\n",
       " 'cookies',\n",
       " 'city']"
      ]
     },
     "execution_count": 15,
     "metadata": {},
     "output_type": "execute_result"
    }
   ],
   "source": [
    "key1"
   ]
  },
  {
   "cell_type": "code",
   "execution_count": 16,
   "metadata": {
    "executionInfo": {
     "elapsed": 441,
     "status": "ok",
     "timestamp": 1629305459755,
     "user": {
      "displayName": "Deepak Dabral",
      "photoUrl": "https://lh3.googleusercontent.com/a-/AOh14GgFTOWHd-q4MYX4E4VTeiebxMGb7IfgLkovZ6UKng=s64",
      "userId": "01154582435153101705"
     },
     "user_tz": -330
    },
    "id": "XImN5A3UKt2I"
   },
   "outputs": [],
   "source": [
    "key_df1= pd.DataFrame({'Keywords':key1})"
   ]
  },
  {
   "cell_type": "code",
   "execution_count": 17,
   "metadata": {
    "colab": {
     "base_uri": "https://localhost:8080/",
     "height": 417
    },
    "executionInfo": {
     "elapsed": 414,
     "status": "ok",
     "timestamp": 1629305474215,
     "user": {
      "displayName": "Deepak Dabral",
      "photoUrl": "https://lh3.googleusercontent.com/a-/AOh14GgFTOWHd-q4MYX4E4VTeiebxMGb7IfgLkovZ6UKng=s64",
      "userId": "01154582435153101705"
     },
     "user_tz": -330
    },
    "id": "avqUh460LFAJ",
    "outputId": "44047b62-2bb3-4176-aa9e-a27337c8b977"
   },
   "outputs": [
    {
     "data": {
      "text/html": [
       "<div>\n",
       "<style scoped>\n",
       "    .dataframe tbody tr th:only-of-type {\n",
       "        vertical-align: middle;\n",
       "    }\n",
       "\n",
       "    .dataframe tbody tr th {\n",
       "        vertical-align: top;\n",
       "    }\n",
       "\n",
       "    .dataframe thead th {\n",
       "        text-align: right;\n",
       "    }\n",
       "</style>\n",
       "<table border=\"1\" class=\"dataframe\">\n",
       "  <thead>\n",
       "    <tr style=\"text-align: right;\">\n",
       "      <th></th>\n",
       "      <th>Keywords</th>\n",
       "    </tr>\n",
       "  </thead>\n",
       "  <tbody>\n",
       "    <tr>\n",
       "      <th>0</th>\n",
       "      <td>news</td>\n",
       "    </tr>\n",
       "    <tr>\n",
       "      <th>1</th>\n",
       "      <td>new</td>\n",
       "    </tr>\n",
       "    <tr>\n",
       "      <th>2</th>\n",
       "      <td>innovation</td>\n",
       "    </tr>\n",
       "    <tr>\n",
       "      <th>3</th>\n",
       "      <td>innovative</td>\n",
       "    </tr>\n",
       "    <tr>\n",
       "      <th>4</th>\n",
       "      <td>innovators</td>\n",
       "    </tr>\n",
       "    <tr>\n",
       "      <th>...</th>\n",
       "      <td>...</td>\n",
       "    </tr>\n",
       "    <tr>\n",
       "      <th>56</th>\n",
       "      <td>help</td>\n",
       "    </tr>\n",
       "    <tr>\n",
       "      <th>57</th>\n",
       "      <td>reports</td>\n",
       "    </tr>\n",
       "    <tr>\n",
       "      <th>58</th>\n",
       "      <td>report</td>\n",
       "    </tr>\n",
       "    <tr>\n",
       "      <th>59</th>\n",
       "      <td>cookies</td>\n",
       "    </tr>\n",
       "    <tr>\n",
       "      <th>60</th>\n",
       "      <td>city</td>\n",
       "    </tr>\n",
       "  </tbody>\n",
       "</table>\n",
       "<p>61 rows × 1 columns</p>\n",
       "</div>"
      ],
      "text/plain": [
       "      Keywords\n",
       "0         news\n",
       "1          new\n",
       "2   innovation\n",
       "3   innovative\n",
       "4   innovators\n",
       "..         ...\n",
       "56        help\n",
       "57     reports\n",
       "58      report\n",
       "59     cookies\n",
       "60        city\n",
       "\n",
       "[61 rows x 1 columns]"
      ]
     },
     "execution_count": 17,
     "metadata": {},
     "output_type": "execute_result"
    }
   ],
   "source": [
    "key_df1"
   ]
  },
  {
   "cell_type": "code",
   "execution_count": null,
   "metadata": {
    "id": "HMPhRitnLIiN"
   },
   "outputs": [],
   "source": []
  }
 ],
 "metadata": {
  "accelerator": "TPU",
  "colab": {
   "authorship_tag": "ABX9TyNSU6TayZsqIlecZOlmPFD2",
   "name": "Assignment improve.ipynb",
   "provenance": []
  },
  "kernelspec": {
   "display_name": "Python 3",
   "language": "python",
   "name": "python3"
  },
  "language_info": {
   "codemirror_mode": {
    "name": "ipython",
    "version": 3
   },
   "file_extension": ".py",
   "mimetype": "text/x-python",
   "name": "python",
   "nbconvert_exporter": "python",
   "pygments_lexer": "ipython3",
   "version": "3.8.5"
  }
 },
 "nbformat": 4,
 "nbformat_minor": 1
}
