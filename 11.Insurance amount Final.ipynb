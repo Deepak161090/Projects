{
 "cells": [
  {
   "cell_type": "code",
   "execution_count": 1,
   "metadata": {},
   "outputs": [],
   "source": [
    "import pandas as pd\n",
    "import numpy as np\n",
    "import sklearn\n",
    "import seaborn as sns\n",
    "import matplotlib.pyplot as plt\n",
    "from sklearn.linear_model import LinearRegression\n",
    "from sklearn.metrics import mean_squared_error,mean_absolute_error\n",
    "from sklearn.model_selection import train_test_split\n",
    "from sklearn.preprocessing import StandardScaler\n",
    "from sklearn.preprocessing import PowerTransformer"
   ]
  },
  {
   "cell_type": "code",
   "execution_count": 2,
   "metadata": {},
   "outputs": [],
   "source": [
    "amount = pd.read_csv('Insurance amount.csv')"
   ]
  },
  {
   "cell_type": "code",
   "execution_count": 3,
   "metadata": {},
   "outputs": [
    {
     "data": {
      "text/html": [
       "<div>\n",
       "<style scoped>\n",
       "    .dataframe tbody tr th:only-of-type {\n",
       "        vertical-align: middle;\n",
       "    }\n",
       "\n",
       "    .dataframe tbody tr th {\n",
       "        vertical-align: top;\n",
       "    }\n",
       "\n",
       "    .dataframe thead th {\n",
       "        text-align: right;\n",
       "    }\n",
       "</style>\n",
       "<table border=\"1\" class=\"dataframe\">\n",
       "  <thead>\n",
       "    <tr style=\"text-align: right;\">\n",
       "      <th></th>\n",
       "      <th>Customer</th>\n",
       "      <th>Country</th>\n",
       "      <th>State Code</th>\n",
       "      <th>State</th>\n",
       "      <th>Claim Amount</th>\n",
       "      <th>Response</th>\n",
       "      <th>Coverage</th>\n",
       "      <th>Education</th>\n",
       "      <th>Effective To Date</th>\n",
       "      <th>EmploymentStatus</th>\n",
       "      <th>...</th>\n",
       "      <th>Months Since Policy Inception</th>\n",
       "      <th>Number of Open Complaints</th>\n",
       "      <th>Number of Policies</th>\n",
       "      <th>Policy Type</th>\n",
       "      <th>Policy</th>\n",
       "      <th>Claim Reason</th>\n",
       "      <th>Sales Channel</th>\n",
       "      <th>Total Claim Amount</th>\n",
       "      <th>Vehicle Class</th>\n",
       "      <th>Vehicle Size</th>\n",
       "    </tr>\n",
       "  </thead>\n",
       "  <tbody>\n",
       "    <tr>\n",
       "      <th>0</th>\n",
       "      <td>BU79786</td>\n",
       "      <td>US</td>\n",
       "      <td>KS</td>\n",
       "      <td>Kansas</td>\n",
       "      <td>276.351928</td>\n",
       "      <td>No</td>\n",
       "      <td>Basic</td>\n",
       "      <td>Bachelor</td>\n",
       "      <td>2/24/11</td>\n",
       "      <td>Employed</td>\n",
       "      <td>...</td>\n",
       "      <td>5</td>\n",
       "      <td>0</td>\n",
       "      <td>1</td>\n",
       "      <td>Corporate Auto</td>\n",
       "      <td>Corporate L3</td>\n",
       "      <td>Collision</td>\n",
       "      <td>Agent</td>\n",
       "      <td>384.811147</td>\n",
       "      <td>Two-Door Car</td>\n",
       "      <td>Medsize</td>\n",
       "    </tr>\n",
       "    <tr>\n",
       "      <th>1</th>\n",
       "      <td>QZ44356</td>\n",
       "      <td>US</td>\n",
       "      <td>NE</td>\n",
       "      <td>Nebraska</td>\n",
       "      <td>697.953590</td>\n",
       "      <td>No</td>\n",
       "      <td>Extended</td>\n",
       "      <td>Bachelor</td>\n",
       "      <td>1/31/11</td>\n",
       "      <td>Unemployed</td>\n",
       "      <td>...</td>\n",
       "      <td>42</td>\n",
       "      <td>0</td>\n",
       "      <td>8</td>\n",
       "      <td>Personal Auto</td>\n",
       "      <td>Personal L3</td>\n",
       "      <td>Scratch/Dent</td>\n",
       "      <td>Agent</td>\n",
       "      <td>1131.464935</td>\n",
       "      <td>Four-Door Car</td>\n",
       "      <td>Medsize</td>\n",
       "    </tr>\n",
       "    <tr>\n",
       "      <th>2</th>\n",
       "      <td>AI49188</td>\n",
       "      <td>US</td>\n",
       "      <td>OK</td>\n",
       "      <td>Oklahoma</td>\n",
       "      <td>1288.743165</td>\n",
       "      <td>No</td>\n",
       "      <td>Premium</td>\n",
       "      <td>Bachelor</td>\n",
       "      <td>2/19/11</td>\n",
       "      <td>Employed</td>\n",
       "      <td>...</td>\n",
       "      <td>38</td>\n",
       "      <td>0</td>\n",
       "      <td>2</td>\n",
       "      <td>Personal Auto</td>\n",
       "      <td>Personal L3</td>\n",
       "      <td>Collision</td>\n",
       "      <td>Agent</td>\n",
       "      <td>566.472247</td>\n",
       "      <td>Two-Door Car</td>\n",
       "      <td>Medsize</td>\n",
       "    </tr>\n",
       "    <tr>\n",
       "      <th>3</th>\n",
       "      <td>WW63253</td>\n",
       "      <td>US</td>\n",
       "      <td>MO</td>\n",
       "      <td>Missouri</td>\n",
       "      <td>764.586183</td>\n",
       "      <td>No</td>\n",
       "      <td>Basic</td>\n",
       "      <td>Bachelor</td>\n",
       "      <td>1/20/11</td>\n",
       "      <td>Unemployed</td>\n",
       "      <td>...</td>\n",
       "      <td>65</td>\n",
       "      <td>0</td>\n",
       "      <td>7</td>\n",
       "      <td>Corporate Auto</td>\n",
       "      <td>Corporate L2</td>\n",
       "      <td>Collision</td>\n",
       "      <td>Call Center</td>\n",
       "      <td>529.881344</td>\n",
       "      <td>SUV</td>\n",
       "      <td>Medsize</td>\n",
       "    </tr>\n",
       "    <tr>\n",
       "      <th>4</th>\n",
       "      <td>HB64268</td>\n",
       "      <td>US</td>\n",
       "      <td>KS</td>\n",
       "      <td>Kansas</td>\n",
       "      <td>281.369258</td>\n",
       "      <td>No</td>\n",
       "      <td>Basic</td>\n",
       "      <td>Bachelor</td>\n",
       "      <td>2/3/11</td>\n",
       "      <td>Employed</td>\n",
       "      <td>...</td>\n",
       "      <td>44</td>\n",
       "      <td>0</td>\n",
       "      <td>1</td>\n",
       "      <td>Personal Auto</td>\n",
       "      <td>Personal L1</td>\n",
       "      <td>Collision</td>\n",
       "      <td>Agent</td>\n",
       "      <td>138.130879</td>\n",
       "      <td>Four-Door Car</td>\n",
       "      <td>Medsize</td>\n",
       "    </tr>\n",
       "  </tbody>\n",
       "</table>\n",
       "<p>5 rows × 26 columns</p>\n",
       "</div>"
      ],
      "text/plain": [
       "  Customer Country State Code     State  Claim Amount Response  Coverage  \\\n",
       "0  BU79786      US         KS    Kansas    276.351928       No     Basic   \n",
       "1  QZ44356      US         NE  Nebraska    697.953590       No  Extended   \n",
       "2  AI49188      US         OK  Oklahoma   1288.743165       No   Premium   \n",
       "3  WW63253      US         MO  Missouri    764.586183       No     Basic   \n",
       "4  HB64268      US         KS    Kansas    281.369258       No     Basic   \n",
       "\n",
       "  Education Effective To Date EmploymentStatus  ...  \\\n",
       "0  Bachelor           2/24/11         Employed  ...   \n",
       "1  Bachelor           1/31/11       Unemployed  ...   \n",
       "2  Bachelor           2/19/11         Employed  ...   \n",
       "3  Bachelor           1/20/11       Unemployed  ...   \n",
       "4  Bachelor            2/3/11         Employed  ...   \n",
       "\n",
       "  Months Since Policy Inception  Number of Open Complaints Number of Policies  \\\n",
       "0                             5                          0                  1   \n",
       "1                            42                          0                  8   \n",
       "2                            38                          0                  2   \n",
       "3                            65                          0                  7   \n",
       "4                            44                          0                  1   \n",
       "\n",
       "      Policy Type        Policy  Claim Reason  Sales Channel  \\\n",
       "0  Corporate Auto  Corporate L3     Collision          Agent   \n",
       "1   Personal Auto   Personal L3  Scratch/Dent          Agent   \n",
       "2   Personal Auto   Personal L3     Collision          Agent   \n",
       "3  Corporate Auto  Corporate L2     Collision    Call Center   \n",
       "4   Personal Auto   Personal L1     Collision          Agent   \n",
       "\n",
       "   Total Claim Amount  Vehicle Class Vehicle Size  \n",
       "0          384.811147   Two-Door Car      Medsize  \n",
       "1         1131.464935  Four-Door Car      Medsize  \n",
       "2          566.472247   Two-Door Car      Medsize  \n",
       "3          529.881344            SUV      Medsize  \n",
       "4          138.130879  Four-Door Car      Medsize  \n",
       "\n",
       "[5 rows x 26 columns]"
      ]
     },
     "execution_count": 3,
     "metadata": {},
     "output_type": "execute_result"
    }
   ],
   "source": [
    "amount.head()"
   ]
  },
  {
   "cell_type": "code",
   "execution_count": 4,
   "metadata": {},
   "outputs": [
    {
     "data": {
      "text/plain": [
       "Customer                         0\n",
       "Country                          0\n",
       "State Code                       0\n",
       "State                            0\n",
       "Claim Amount                     0\n",
       "Response                         0\n",
       "Coverage                         0\n",
       "Education                        0\n",
       "Effective To Date                0\n",
       "EmploymentStatus                 0\n",
       "Gender                           0\n",
       "Income                           0\n",
       "Location Code                    0\n",
       "Marital Status                   0\n",
       "Monthly Premium Auto             0\n",
       "Months Since Last Claim          0\n",
       "Months Since Policy Inception    0\n",
       "Number of Open Complaints        0\n",
       "Number of Policies               0\n",
       "Policy Type                      0\n",
       "Policy                           0\n",
       "Claim Reason                     0\n",
       "Sales Channel                    0\n",
       "Total Claim Amount               0\n",
       "Vehicle Class                    0\n",
       "Vehicle Size                     0\n",
       "dtype: int64"
      ]
     },
     "execution_count": 4,
     "metadata": {},
     "output_type": "execute_result"
    }
   ],
   "source": [
    "amount.isnull().sum() #### no null values observed"
   ]
  },
  {
   "cell_type": "code",
   "execution_count": 5,
   "metadata": {},
   "outputs": [
    {
     "data": {
      "text/plain": [
       "(9134, 26)"
      ]
     },
     "execution_count": 5,
     "metadata": {},
     "output_type": "execute_result"
    }
   ],
   "source": [
    "amount.shape"
   ]
  },
  {
   "cell_type": "code",
   "execution_count": 6,
   "metadata": {},
   "outputs": [
    {
     "name": "stdout",
     "output_type": "stream",
     "text": [
      "<class 'pandas.core.frame.DataFrame'>\n",
      "RangeIndex: 9134 entries, 0 to 9133\n",
      "Data columns (total 26 columns):\n",
      " #   Column                         Non-Null Count  Dtype  \n",
      "---  ------                         --------------  -----  \n",
      " 0   Customer                       9134 non-null   object \n",
      " 1   Country                        9134 non-null   object \n",
      " 2   State Code                     9134 non-null   object \n",
      " 3   State                          9134 non-null   object \n",
      " 4   Claim Amount                   9134 non-null   float64\n",
      " 5   Response                       9134 non-null   object \n",
      " 6   Coverage                       9134 non-null   object \n",
      " 7   Education                      9134 non-null   object \n",
      " 8   Effective To Date              9134 non-null   object \n",
      " 9   EmploymentStatus               9134 non-null   object \n",
      " 10  Gender                         9134 non-null   object \n",
      " 11  Income                         9134 non-null   int64  \n",
      " 12  Location Code                  9134 non-null   object \n",
      " 13  Marital Status                 9134 non-null   object \n",
      " 14  Monthly Premium Auto           9134 non-null   int64  \n",
      " 15  Months Since Last Claim        9134 non-null   int64  \n",
      " 16  Months Since Policy Inception  9134 non-null   int64  \n",
      " 17  Number of Open Complaints      9134 non-null   int64  \n",
      " 18  Number of Policies             9134 non-null   int64  \n",
      " 19  Policy Type                    9134 non-null   object \n",
      " 20  Policy                         9134 non-null   object \n",
      " 21  Claim Reason                   9134 non-null   object \n",
      " 22  Sales Channel                  9134 non-null   object \n",
      " 23  Total Claim Amount             9134 non-null   float64\n",
      " 24  Vehicle Class                  9134 non-null   object \n",
      " 25  Vehicle Size                   9134 non-null   object \n",
      "dtypes: float64(2), int64(6), object(18)\n",
      "memory usage: 1.8+ MB\n"
     ]
    }
   ],
   "source": [
    "amount.info()"
   ]
  },
  {
   "cell_type": "code",
   "execution_count": 7,
   "metadata": {},
   "outputs": [
    {
     "data": {
      "text/plain": [
       "Index(['Customer', 'Country', 'State Code', 'State', 'Claim Amount',\n",
       "       'Response', 'Coverage', 'Education', 'Effective To Date',\n",
       "       'EmploymentStatus', 'Gender', 'Income', 'Location Code',\n",
       "       'Marital Status', 'Monthly Premium Auto', 'Months Since Last Claim',\n",
       "       'Months Since Policy Inception', 'Number of Open Complaints',\n",
       "       'Number of Policies', 'Policy Type', 'Policy', 'Claim Reason',\n",
       "       'Sales Channel', 'Total Claim Amount', 'Vehicle Class', 'Vehicle Size'],\n",
       "      dtype='object')"
      ]
     },
     "execution_count": 7,
     "metadata": {},
     "output_type": "execute_result"
    }
   ],
   "source": [
    "amount.columns"
   ]
  },
  {
   "cell_type": "code",
   "execution_count": 8,
   "metadata": {},
   "outputs": [
    {
     "data": {
      "text/plain": [
       "array(['US'], dtype=object)"
      ]
     },
     "execution_count": 8,
     "metadata": {},
     "output_type": "execute_result"
    }
   ],
   "source": [
    "amount[\"Country\"].unique()  # same country for all the rows can be dropped"
   ]
  },
  {
   "cell_type": "code",
   "execution_count": 9,
   "metadata": {},
   "outputs": [],
   "source": [
    "amount.drop(['Country'],axis=1,inplace = True)"
   ]
  },
  {
   "cell_type": "code",
   "execution_count": 10,
   "metadata": {},
   "outputs": [
    {
     "data": {
      "text/html": [
       "<div>\n",
       "<style scoped>\n",
       "    .dataframe tbody tr th:only-of-type {\n",
       "        vertical-align: middle;\n",
       "    }\n",
       "\n",
       "    .dataframe tbody tr th {\n",
       "        vertical-align: top;\n",
       "    }\n",
       "\n",
       "    .dataframe thead th {\n",
       "        text-align: right;\n",
       "    }\n",
       "</style>\n",
       "<table border=\"1\" class=\"dataframe\">\n",
       "  <thead>\n",
       "    <tr style=\"text-align: right;\">\n",
       "      <th></th>\n",
       "      <th>Customer</th>\n",
       "      <th>State Code</th>\n",
       "      <th>State</th>\n",
       "      <th>Claim Amount</th>\n",
       "      <th>Response</th>\n",
       "      <th>Coverage</th>\n",
       "      <th>Education</th>\n",
       "      <th>Effective To Date</th>\n",
       "      <th>EmploymentStatus</th>\n",
       "      <th>Gender</th>\n",
       "      <th>...</th>\n",
       "      <th>Months Since Policy Inception</th>\n",
       "      <th>Number of Open Complaints</th>\n",
       "      <th>Number of Policies</th>\n",
       "      <th>Policy Type</th>\n",
       "      <th>Policy</th>\n",
       "      <th>Claim Reason</th>\n",
       "      <th>Sales Channel</th>\n",
       "      <th>Total Claim Amount</th>\n",
       "      <th>Vehicle Class</th>\n",
       "      <th>Vehicle Size</th>\n",
       "    </tr>\n",
       "  </thead>\n",
       "  <tbody>\n",
       "    <tr>\n",
       "      <th>0</th>\n",
       "      <td>BU79786</td>\n",
       "      <td>KS</td>\n",
       "      <td>Kansas</td>\n",
       "      <td>276.351928</td>\n",
       "      <td>No</td>\n",
       "      <td>Basic</td>\n",
       "      <td>Bachelor</td>\n",
       "      <td>2/24/11</td>\n",
       "      <td>Employed</td>\n",
       "      <td>F</td>\n",
       "      <td>...</td>\n",
       "      <td>5</td>\n",
       "      <td>0</td>\n",
       "      <td>1</td>\n",
       "      <td>Corporate Auto</td>\n",
       "      <td>Corporate L3</td>\n",
       "      <td>Collision</td>\n",
       "      <td>Agent</td>\n",
       "      <td>384.811147</td>\n",
       "      <td>Two-Door Car</td>\n",
       "      <td>Medsize</td>\n",
       "    </tr>\n",
       "    <tr>\n",
       "      <th>1</th>\n",
       "      <td>QZ44356</td>\n",
       "      <td>NE</td>\n",
       "      <td>Nebraska</td>\n",
       "      <td>697.953590</td>\n",
       "      <td>No</td>\n",
       "      <td>Extended</td>\n",
       "      <td>Bachelor</td>\n",
       "      <td>1/31/11</td>\n",
       "      <td>Unemployed</td>\n",
       "      <td>F</td>\n",
       "      <td>...</td>\n",
       "      <td>42</td>\n",
       "      <td>0</td>\n",
       "      <td>8</td>\n",
       "      <td>Personal Auto</td>\n",
       "      <td>Personal L3</td>\n",
       "      <td>Scratch/Dent</td>\n",
       "      <td>Agent</td>\n",
       "      <td>1131.464935</td>\n",
       "      <td>Four-Door Car</td>\n",
       "      <td>Medsize</td>\n",
       "    </tr>\n",
       "    <tr>\n",
       "      <th>2</th>\n",
       "      <td>AI49188</td>\n",
       "      <td>OK</td>\n",
       "      <td>Oklahoma</td>\n",
       "      <td>1288.743165</td>\n",
       "      <td>No</td>\n",
       "      <td>Premium</td>\n",
       "      <td>Bachelor</td>\n",
       "      <td>2/19/11</td>\n",
       "      <td>Employed</td>\n",
       "      <td>F</td>\n",
       "      <td>...</td>\n",
       "      <td>38</td>\n",
       "      <td>0</td>\n",
       "      <td>2</td>\n",
       "      <td>Personal Auto</td>\n",
       "      <td>Personal L3</td>\n",
       "      <td>Collision</td>\n",
       "      <td>Agent</td>\n",
       "      <td>566.472247</td>\n",
       "      <td>Two-Door Car</td>\n",
       "      <td>Medsize</td>\n",
       "    </tr>\n",
       "    <tr>\n",
       "      <th>3</th>\n",
       "      <td>WW63253</td>\n",
       "      <td>MO</td>\n",
       "      <td>Missouri</td>\n",
       "      <td>764.586183</td>\n",
       "      <td>No</td>\n",
       "      <td>Basic</td>\n",
       "      <td>Bachelor</td>\n",
       "      <td>1/20/11</td>\n",
       "      <td>Unemployed</td>\n",
       "      <td>M</td>\n",
       "      <td>...</td>\n",
       "      <td>65</td>\n",
       "      <td>0</td>\n",
       "      <td>7</td>\n",
       "      <td>Corporate Auto</td>\n",
       "      <td>Corporate L2</td>\n",
       "      <td>Collision</td>\n",
       "      <td>Call Center</td>\n",
       "      <td>529.881344</td>\n",
       "      <td>SUV</td>\n",
       "      <td>Medsize</td>\n",
       "    </tr>\n",
       "    <tr>\n",
       "      <th>4</th>\n",
       "      <td>HB64268</td>\n",
       "      <td>KS</td>\n",
       "      <td>Kansas</td>\n",
       "      <td>281.369258</td>\n",
       "      <td>No</td>\n",
       "      <td>Basic</td>\n",
       "      <td>Bachelor</td>\n",
       "      <td>2/3/11</td>\n",
       "      <td>Employed</td>\n",
       "      <td>M</td>\n",
       "      <td>...</td>\n",
       "      <td>44</td>\n",
       "      <td>0</td>\n",
       "      <td>1</td>\n",
       "      <td>Personal Auto</td>\n",
       "      <td>Personal L1</td>\n",
       "      <td>Collision</td>\n",
       "      <td>Agent</td>\n",
       "      <td>138.130879</td>\n",
       "      <td>Four-Door Car</td>\n",
       "      <td>Medsize</td>\n",
       "    </tr>\n",
       "  </tbody>\n",
       "</table>\n",
       "<p>5 rows × 25 columns</p>\n",
       "</div>"
      ],
      "text/plain": [
       "  Customer State Code     State  Claim Amount Response  Coverage Education  \\\n",
       "0  BU79786         KS    Kansas    276.351928       No     Basic  Bachelor   \n",
       "1  QZ44356         NE  Nebraska    697.953590       No  Extended  Bachelor   \n",
       "2  AI49188         OK  Oklahoma   1288.743165       No   Premium  Bachelor   \n",
       "3  WW63253         MO  Missouri    764.586183       No     Basic  Bachelor   \n",
       "4  HB64268         KS    Kansas    281.369258       No     Basic  Bachelor   \n",
       "\n",
       "  Effective To Date EmploymentStatus Gender  ...  \\\n",
       "0           2/24/11         Employed      F  ...   \n",
       "1           1/31/11       Unemployed      F  ...   \n",
       "2           2/19/11         Employed      F  ...   \n",
       "3           1/20/11       Unemployed      M  ...   \n",
       "4            2/3/11         Employed      M  ...   \n",
       "\n",
       "   Months Since Policy Inception Number of Open Complaints Number of Policies  \\\n",
       "0                              5                         0                  1   \n",
       "1                             42                         0                  8   \n",
       "2                             38                         0                  2   \n",
       "3                             65                         0                  7   \n",
       "4                             44                         0                  1   \n",
       "\n",
       "      Policy Type        Policy  Claim Reason  Sales Channel  \\\n",
       "0  Corporate Auto  Corporate L3     Collision          Agent   \n",
       "1   Personal Auto   Personal L3  Scratch/Dent          Agent   \n",
       "2   Personal Auto   Personal L3     Collision          Agent   \n",
       "3  Corporate Auto  Corporate L2     Collision    Call Center   \n",
       "4   Personal Auto   Personal L1     Collision          Agent   \n",
       "\n",
       "   Total Claim Amount  Vehicle Class Vehicle Size  \n",
       "0          384.811147   Two-Door Car      Medsize  \n",
       "1         1131.464935  Four-Door Car      Medsize  \n",
       "2          566.472247   Two-Door Car      Medsize  \n",
       "3          529.881344            SUV      Medsize  \n",
       "4          138.130879  Four-Door Car      Medsize  \n",
       "\n",
       "[5 rows x 25 columns]"
      ]
     },
     "execution_count": 10,
     "metadata": {},
     "output_type": "execute_result"
    }
   ],
   "source": [
    "amount.head()"
   ]
  },
  {
   "cell_type": "code",
   "execution_count": 11,
   "metadata": {},
   "outputs": [
    {
     "data": {
      "text/plain": [
       "array(['No', 'Yes'], dtype=object)"
      ]
     },
     "execution_count": 11,
     "metadata": {},
     "output_type": "execute_result"
    }
   ],
   "source": [
    "amount[\"Response\"].unique()"
   ]
  },
  {
   "cell_type": "code",
   "execution_count": 12,
   "metadata": {},
   "outputs": [
    {
     "data": {
      "text/plain": [
       "array(['Bachelor', 'College', 'Master', 'High School or Below', 'Doctor'],\n",
       "      dtype=object)"
      ]
     },
     "execution_count": 12,
     "metadata": {},
     "output_type": "execute_result"
    }
   ],
   "source": [
    "amount[\"Education\"].unique()"
   ]
  },
  {
   "cell_type": "code",
   "execution_count": 13,
   "metadata": {},
   "outputs": [
    {
     "data": {
      "text/plain": [
       "array(['Basic', 'Extended', 'Premium'], dtype=object)"
      ]
     },
     "execution_count": 13,
     "metadata": {},
     "output_type": "execute_result"
    }
   ],
   "source": [
    "amount[\"Coverage\"].unique()"
   ]
  },
  {
   "cell_type": "code",
   "execution_count": 14,
   "metadata": {},
   "outputs": [
    {
     "data": {
      "text/plain": [
       "array(['Employed', 'Unemployed', 'Medical Leave', 'Disabled', 'Retired'],\n",
       "      dtype=object)"
      ]
     },
     "execution_count": 14,
     "metadata": {},
     "output_type": "execute_result"
    }
   ],
   "source": [
    "amount[\"EmploymentStatus\"].unique()"
   ]
  },
  {
   "cell_type": "code",
   "execution_count": 15,
   "metadata": {},
   "outputs": [
    {
     "data": {
      "text/plain": [
       "array(['Corporate Auto', 'Personal Auto', 'Special Auto'], dtype=object)"
      ]
     },
     "execution_count": 15,
     "metadata": {},
     "output_type": "execute_result"
    }
   ],
   "source": [
    "amount[\"Policy Type\"].unique()"
   ]
  },
  {
   "cell_type": "code",
   "execution_count": 16,
   "metadata": {},
   "outputs": [
    {
     "data": {
      "text/plain": [
       "array(['Corporate L3', 'Personal L3', 'Corporate L2', 'Personal L1',\n",
       "       'Special L2', 'Corporate L1', 'Personal L2', 'Special L1',\n",
       "       'Special L3'], dtype=object)"
      ]
     },
     "execution_count": 16,
     "metadata": {},
     "output_type": "execute_result"
    }
   ],
   "source": [
    "amount[\"Policy\"].unique()"
   ]
  },
  {
   "cell_type": "code",
   "execution_count": 17,
   "metadata": {},
   "outputs": [
    {
     "data": {
      "text/plain": [
       "array(['Two-Door Car', 'Four-Door Car', 'SUV', 'Luxury SUV', 'Sports Car',\n",
       "       'Luxury Car'], dtype=object)"
      ]
     },
     "execution_count": 17,
     "metadata": {},
     "output_type": "execute_result"
    }
   ],
   "source": [
    "amount[\"Vehicle Class\"].unique()"
   ]
  },
  {
   "cell_type": "code",
   "execution_count": 18,
   "metadata": {},
   "outputs": [
    {
     "data": {
      "text/plain": [
       "array(['Suburban', 'Rural', 'Urban'], dtype=object)"
      ]
     },
     "execution_count": 18,
     "metadata": {},
     "output_type": "execute_result"
    }
   ],
   "source": [
    "amount[\"Location Code\"].unique()"
   ]
  },
  {
   "cell_type": "code",
   "execution_count": 19,
   "metadata": {},
   "outputs": [
    {
     "data": {
      "text/plain": [
       "array(['Medsize', 'Small', 'Large'], dtype=object)"
      ]
     },
     "execution_count": 19,
     "metadata": {},
     "output_type": "execute_result"
    }
   ],
   "source": [
    "amount[\"Vehicle Size\"].unique()"
   ]
  },
  {
   "cell_type": "code",
   "execution_count": 20,
   "metadata": {},
   "outputs": [
    {
     "data": {
      "text/plain": [
       "array([1, 8, 2, 7, 9, 4, 3, 6, 5], dtype=int64)"
      ]
     },
     "execution_count": 20,
     "metadata": {},
     "output_type": "execute_result"
    }
   ],
   "source": [
    "amount[\"Number of Policies\"].unique()"
   ]
  },
  {
   "cell_type": "code",
   "execution_count": 21,
   "metadata": {},
   "outputs": [
    {
     "data": {
      "text/plain": [
       "array(['Collision', 'Scratch/Dent', 'Hail', 'Other'], dtype=object)"
      ]
     },
     "execution_count": 21,
     "metadata": {},
     "output_type": "execute_result"
    }
   ],
   "source": [
    "amount[\"Claim Reason\"].unique()"
   ]
  },
  {
   "cell_type": "code",
   "execution_count": 22,
   "metadata": {},
   "outputs": [
    {
     "data": {
      "text/plain": [
       "array(['Agent', 'Call Center', 'Web', 'Branch'], dtype=object)"
      ]
     },
     "execution_count": 22,
     "metadata": {},
     "output_type": "execute_result"
    }
   ],
   "source": [
    "amount[\"Sales Channel\"].unique()"
   ]
  },
  {
   "cell_type": "code",
   "execution_count": 23,
   "metadata": {},
   "outputs": [],
   "source": [
    "# from above analysis wwe can conclude that id is not important , country has only one value (not important),state and state code either one of them is enough we can drop any one of them\n"
   ]
  },
  {
   "cell_type": "code",
   "execution_count": 24,
   "metadata": {},
   "outputs": [
    {
     "data": {
      "text/plain": [
       "Index(['Customer', 'State Code', 'State', 'Claim Amount', 'Response',\n",
       "       'Coverage', 'Education', 'Effective To Date', 'EmploymentStatus',\n",
       "       'Gender', 'Income', 'Location Code', 'Marital Status',\n",
       "       'Monthly Premium Auto', 'Months Since Last Claim',\n",
       "       'Months Since Policy Inception', 'Number of Open Complaints',\n",
       "       'Number of Policies', 'Policy Type', 'Policy', 'Claim Reason',\n",
       "       'Sales Channel', 'Total Claim Amount', 'Vehicle Class', 'Vehicle Size'],\n",
       "      dtype='object')"
      ]
     },
     "execution_count": 24,
     "metadata": {},
     "output_type": "execute_result"
    }
   ],
   "source": [
    "amount.columns"
   ]
  },
  {
   "cell_type": "code",
   "execution_count": 25,
   "metadata": {},
   "outputs": [],
   "source": [
    "amount.drop(['Customer',\"State Code\"],axis=1,inplace=True)"
   ]
  },
  {
   "cell_type": "code",
   "execution_count": 26,
   "metadata": {},
   "outputs": [
    {
     "data": {
      "text/plain": [
       "<matplotlib.axes._subplots.AxesSubplot at 0x18202b11cc8>"
      ]
     },
     "execution_count": 26,
     "metadata": {},
     "output_type": "execute_result"
    },
    {
     "data": {
      "image/png": "[encoded data removed]",
      "text/plain": [
       "<Figure size 432x288 with 1 Axes>"
      ]
     },
     "metadata": {
      "needs_background": "light"
     },
     "output_type": "display_data"
    }
   ],
   "source": [
    "sns.barplot(x=\"Response\",y=\"Claim Amount\",data= amount)"
   ]
  },
  {
   "cell_type": "code",
   "execution_count": 27,
   "metadata": {},
   "outputs": [
    {
     "data": {
      "text/plain": [
       "<matplotlib.axes._subplots.AxesSubplot at 0x18202b11388>"
      ]
     },
     "execution_count": 27,
     "metadata": {},
     "output_type": "execute_result"
    },
    {
     "data": {
      "image/png": "[encoded data removed]",
      "text/plain": [
       "<Figure size 432x288 with 1 Axes>"
      ]
     },
     "metadata": {
      "needs_background": "light"
     },
     "output_type": "display_data"
    }
   ],
   "source": [
    "sns.barplot(x=\"Education\",y=\"Claim Amount\",data= amount) # master and high school & below gets quite same claim amount"
   ]
  },
  {
   "cell_type": "code",
   "execution_count": 28,
   "metadata": {},
   "outputs": [
    {
     "data": {
      "text/plain": [
       "<matplotlib.axes._subplots.AxesSubplot at 0x182034c27c8>"
      ]
     },
     "execution_count": 28,
     "metadata": {},
     "output_type": "execute_result"
    },
    {
     "data": {
      "image/png": "[encoded data removed]",
      "text/plain": [
       "<Figure size 432x288 with 1 Axes>"
      ]
     },
     "metadata": {
      "needs_background": "light"
     },
     "output_type": "display_data"
    }
   ],
   "source": [
    "sns.barplot(x=\"Gender\",y=\"Claim Amount\",data= amount)  # female gets little more claim "
   ]
  },
  {
   "cell_type": "code",
   "execution_count": 29,
   "metadata": {},
   "outputs": [
    {
     "data": {
      "text/plain": [
       "<matplotlib.axes._subplots.AxesSubplot at 0x182035cbc88>"
      ]
     },
     "execution_count": 29,
     "metadata": {},
     "output_type": "execute_result"
    },
    {
     "data": {
      "image/png": "[encoded data removed]",
      "text/plain": [
       "<Figure size 432x288 with 1 Axes>"
      ]
     },
     "metadata": {
      "needs_background": "light"
     },
     "output_type": "display_data"
    }
   ],
   "source": [
    "sns.barplot(x=\"Location Code\",y=\"Claim Amount\",data= amount)  # not much of a difference noticed"
   ]
  },
  {
   "cell_type": "code",
   "execution_count": 30,
   "metadata": {},
   "outputs": [
    {
     "data": {
      "text/plain": [
       "<matplotlib.axes._subplots.AxesSubplot at 0x1820354c108>"
      ]
     },
     "execution_count": 30,
     "metadata": {},
     "output_type": "execute_result"
    },
    {
     "data": {
      "image/png": "[encoded data removed]",
      "text/plain": [
       "<Figure size 432x288 with 1 Axes>"
      ]
     },
     "metadata": {
      "needs_background": "light"
     },
     "output_type": "display_data"
    }
   ],
   "source": [
    "sns.barplot(x=\"Marital Status\",y=\"Claim Amount\",data= amount) # oddly divorced people get max claim"
   ]
  },
  {
   "cell_type": "code",
   "execution_count": 31,
   "metadata": {},
   "outputs": [
    {
     "data": {
      "text/plain": [
       "<matplotlib.axes._subplots.AxesSubplot at 0x18203698948>"
      ]
     },
     "execution_count": 31,
     "metadata": {},
     "output_type": "execute_result"
    },
    {
     "data": {
      "image/png": "[encoded data removed]",
      "text/plain": [
       "<Figure size 432x288 with 1 Axes>"
      ]
     },
     "metadata": {
      "needs_background": "light"
     },
     "output_type": "display_data"
    }
   ],
   "source": [
    "sns.barplot(x=\"Claim Reason\",y=\"Claim Amount\",data= amount) # collided vehicle gets max claim"
   ]
  },
  {
   "cell_type": "code",
   "execution_count": 32,
   "metadata": {},
   "outputs": [
    {
     "data": {
      "text/plain": [
       "<matplotlib.axes._subplots.AxesSubplot at 0x182036e0b48>"
      ]
     },
     "execution_count": 32,
     "metadata": {},
     "output_type": "execute_result"
    },
    {
     "data": {
      "image/png": "[encoded data removed]",
      "text/plain": [
       "<Figure size 432x288 with 1 Axes>"
      ]
     },
     "metadata": {
      "needs_background": "light"
     },
     "output_type": "display_data"
    }
   ],
   "source": [
    "sns.barplot(x=\"Vehicle Size\",y=\"Claim Amount\",data= amount) # large vehicle gets less claim"
   ]
  },
  {
   "cell_type": "code",
   "execution_count": 33,
   "metadata": {},
   "outputs": [
    {
     "data": {
      "text/plain": [
       "<matplotlib.axes._subplots.AxesSubplot at 0x18203770d48>"
      ]
     },
     "execution_count": 33,
     "metadata": {},
     "output_type": "execute_result"
    },
    {
     "data": {
      "image/png": "[encoded data removed]",
      "text/plain": [
       "<Figure size 432x288 with 1 Axes>"
      ]
     },
     "metadata": {
      "needs_background": "light"
     },
     "output_type": "display_data"
    }
   ],
   "source": [
    "sns.barplot(x=\"Policy Type\",y=\"Claim Amount\",data= amount) # special auto gets max claim"
   ]
  },
  {
   "cell_type": "code",
   "execution_count": 34,
   "metadata": {},
   "outputs": [
    {
     "data": {
      "text/plain": [
       "<matplotlib.axes._subplots.AxesSubplot at 0x182037d0f88>"
      ]
     },
     "execution_count": 34,
     "metadata": {},
     "output_type": "execute_result"
    },
    {
     "data": {
      "image/png": "[encoded data removed]",
      "text/plain": [
       "<Figure size 432x288 with 1 Axes>"
      ]
     },
     "metadata": {
      "needs_background": "light"
     },
     "output_type": "display_data"
    }
   ],
   "source": [
    "sns.barplot(x=\"Coverage\",y=\"Claim Amount\",data= amount) # premium policy gets max claim"
   ]
  },
  {
   "cell_type": "code",
   "execution_count": 35,
   "metadata": {},
   "outputs": [
    {
     "data": {
      "text/plain": [
       "<matplotlib.axes._subplots.AxesSubplot at 0x18203835348>"
      ]
     },
     "execution_count": 35,
     "metadata": {},
     "output_type": "execute_result"
    },
    {
     "data": {
      "image/png": "[encoded data removed]",
      "text/plain": [
       "<Figure size 432x288 with 1 Axes>"
      ]
     },
     "metadata": {
      "needs_background": "light"
     },
     "output_type": "display_data"
    }
   ],
   "source": [
    "sns.barplot(x=\"Number of Policies\",y=\"Claim Amount\",data= amount) # 2 policies gets maximum claim"
   ]
  },
  {
   "cell_type": "code",
   "execution_count": 36,
   "metadata": {},
   "outputs": [
    {
     "data": {
      "text/plain": [
       "<matplotlib.axes._subplots.AxesSubplot at 0x182038dd248>"
      ]
     },
     "execution_count": 36,
     "metadata": {},
     "output_type": "execute_result"
    },
    {
     "data": {
      "image/png": "[encoded data removed]",
      "text/plain": [
       "<Figure size 432x288 with 1 Axes>"
      ]
     },
     "metadata": {
      "needs_background": "light"
     },
     "output_type": "display_data"
    }
   ],
   "source": [
    "sns.barplot(x=\"Sales Channel\",y=\"Claim Amount\",data= amount)"
   ]
  },
  {
   "cell_type": "code",
   "execution_count": 37,
   "metadata": {},
   "outputs": [
    {
     "data": {
      "text/plain": [
       "<matplotlib.axes._subplots.AxesSubplot at 0x18203951588>"
      ]
     },
     "execution_count": 37,
     "metadata": {},
     "output_type": "execute_result"
    },
    {
     "data": {
      "image/png": "[encoded data removed]",
      "text/plain": [
       "<Figure size 432x288 with 1 Axes>"
      ]
     },
     "metadata": {
      "needs_background": "light"
     },
     "output_type": "display_data"
    }
   ],
   "source": [
    "sns.barplot(x=\"Vehicle Class\",y=\"Claim Amount\",data= amount) #  luxury caars  gets max claim amount"
   ]
  },
  {
   "cell_type": "code",
   "execution_count": 38,
   "metadata": {},
   "outputs": [
    {
     "data": {
      "text/plain": [
       "<matplotlib.axes._subplots.AxesSubplot at 0x182038e3808>"
      ]
     },
     "execution_count": 38,
     "metadata": {},
     "output_type": "execute_result"
    },
    {
     "data": {
      "image/png": "[encoded data removed]",
      "text/plain": [
       "<Figure size 432x288 with 1 Axes>"
      ]
     },
     "metadata": {
      "needs_background": "light"
     },
     "output_type": "display_data"
    }
   ],
   "source": [
    "sns.barplot(x=\"EmploymentStatus\",y=\"Claim Amount\",data= amount) # employed gets max"
   ]
  },
  {
   "cell_type": "code",
   "execution_count": 39,
   "metadata": {},
   "outputs": [],
   "source": [
    "amount[\"Education\"].replace(['Bachelor', 'College', 'Master', 'High School or Below', 'Doctor'],[2,1,3,0,4],inplace = True)\n",
    "amount[\"Claim Reason\"].replace(['Collision', 'Scratch/Dent', 'Hail', 'Other'],[3,2,1,0],inplace = True)\n",
    "amount['Vehicle Size'].replace(['Medsize',\"Small\",'Large'],[1,0,2],inplace = True)\n",
    "amount[\"Policy Type\"].replace(['Corporate Auto', 'Personal Auto', 'Special Auto'],[1,0,2],inplace = True)\n",
    "amount[\"Coverage\"].replace(['Basic', 'Extended', 'Premium'],[0,1,2],inplace = True)\n",
    "amount[\"Response\"].replace(['No','Yes'],[0,1],inplace = True)\n",
    "amount[\"Location Code\"].replace(['Suburban', 'Rural', 'Urban'],[1,0,2],inplace = True)\n",
    "amount[\"Gender\"].replace([\"F\",'M'],[0,1],inplace = True)   \n",
    "# manual replacement according to rank as i saw best"
   ]
  },
  {
   "cell_type": "code",
   "execution_count": 40,
   "metadata": {},
   "outputs": [],
   "source": [
    "amount['Day'] = amount['Effective To Date'].str.split('/').str[0]\n",
    "amount['month'] =amount['Effective To Date'].str.split('/').str[1]\n",
    "amount['year'] = amount['Effective To Date'].str.split('/').str[2]\n",
    "amount['Day'] = pd.to_numeric(amount['Day'],errors='coerce')\n",
    "amount['month'] = pd.to_numeric(amount['month'],errors='coerce')\n",
    "amount['year'] = pd.to_numeric(amount['year'],errors='coerce')"
   ]
  },
  {
   "cell_type": "code",
   "execution_count": 41,
   "metadata": {},
   "outputs": [
    {
     "data": {
      "text/plain": [
       "State                             object\n",
       "Claim Amount                     float64\n",
       "Response                           int64\n",
       "Coverage                           int64\n",
       "Education                          int64\n",
       "Effective To Date                 object\n",
       "EmploymentStatus                  object\n",
       "Gender                             int64\n",
       "Income                             int64\n",
       "Location Code                      int64\n",
       "Marital Status                    object\n",
       "Monthly Premium Auto               int64\n",
       "Months Since Last Claim            int64\n",
       "Months Since Policy Inception      int64\n",
       "Number of Open Complaints          int64\n",
       "Number of Policies                 int64\n",
       "Policy Type                        int64\n",
       "Policy                            object\n",
       "Claim Reason                       int64\n",
       "Sales Channel                     object\n",
       "Total Claim Amount               float64\n",
       "Vehicle Class                     object\n",
       "Vehicle Size                       int64\n",
       "Day                                int64\n",
       "month                              int64\n",
       "year                               int64\n",
       "dtype: object"
      ]
     },
     "execution_count": 41,
     "metadata": {},
     "output_type": "execute_result"
    }
   ],
   "source": [
    "amount.dtypes"
   ]
  },
  {
   "cell_type": "code",
   "execution_count": 42,
   "metadata": {},
   "outputs": [],
   "source": [
    "# still some columns remain categorical time to apply label Encoder"
   ]
  },
  {
   "cell_type": "code",
   "execution_count": 43,
   "metadata": {},
   "outputs": [],
   "source": [
    "from sklearn.preprocessing import LabelEncoder\n",
    "le = LabelEncoder()\n",
    "encode = ['State','EmploymentStatus','Marital Status','Policy','Sales Channel','Vehicle Class']\n",
    "for i in encode:\n",
    "    amount[i]=le.fit_transform(amount[i].astype(str))"
   ]
  },
  {
   "cell_type": "code",
   "execution_count": 44,
   "metadata": {},
   "outputs": [
    {
     "data": {
      "text/html": [
       "<div>\n",
       "<style scoped>\n",
       "    .dataframe tbody tr th:only-of-type {\n",
       "        vertical-align: middle;\n",
       "    }\n",
       "\n",
       "    .dataframe tbody tr th {\n",
       "        vertical-align: top;\n",
       "    }\n",
       "\n",
       "    .dataframe thead th {\n",
       "        text-align: right;\n",
       "    }\n",
       "</style>\n",
       "<table border=\"1\" class=\"dataframe\">\n",
       "  <thead>\n",
       "    <tr style=\"text-align: right;\">\n",
       "      <th></th>\n",
       "      <th>State</th>\n",
       "      <th>Claim Amount</th>\n",
       "      <th>Response</th>\n",
       "      <th>Coverage</th>\n",
       "      <th>Education</th>\n",
       "      <th>Effective To Date</th>\n",
       "      <th>EmploymentStatus</th>\n",
       "      <th>Gender</th>\n",
       "      <th>Income</th>\n",
       "      <th>Location Code</th>\n",
       "      <th>...</th>\n",
       "      <th>Policy Type</th>\n",
       "      <th>Policy</th>\n",
       "      <th>Claim Reason</th>\n",
       "      <th>Sales Channel</th>\n",
       "      <th>Total Claim Amount</th>\n",
       "      <th>Vehicle Class</th>\n",
       "      <th>Vehicle Size</th>\n",
       "      <th>Day</th>\n",
       "      <th>month</th>\n",
       "      <th>year</th>\n",
       "    </tr>\n",
       "  </thead>\n",
       "  <tbody>\n",
       "    <tr>\n",
       "      <th>0</th>\n",
       "      <td>1</td>\n",
       "      <td>276.351928</td>\n",
       "      <td>0</td>\n",
       "      <td>0</td>\n",
       "      <td>2</td>\n",
       "      <td>2/24/11</td>\n",
       "      <td>1</td>\n",
       "      <td>0</td>\n",
       "      <td>56274</td>\n",
       "      <td>1</td>\n",
       "      <td>...</td>\n",
       "      <td>1</td>\n",
       "      <td>2</td>\n",
       "      <td>3</td>\n",
       "      <td>0</td>\n",
       "      <td>384.811147</td>\n",
       "      <td>5</td>\n",
       "      <td>1</td>\n",
       "      <td>2</td>\n",
       "      <td>24</td>\n",
       "      <td>11</td>\n",
       "    </tr>\n",
       "    <tr>\n",
       "      <th>1</th>\n",
       "      <td>3</td>\n",
       "      <td>697.953590</td>\n",
       "      <td>0</td>\n",
       "      <td>1</td>\n",
       "      <td>2</td>\n",
       "      <td>1/31/11</td>\n",
       "      <td>4</td>\n",
       "      <td>0</td>\n",
       "      <td>0</td>\n",
       "      <td>1</td>\n",
       "      <td>...</td>\n",
       "      <td>0</td>\n",
       "      <td>5</td>\n",
       "      <td>2</td>\n",
       "      <td>0</td>\n",
       "      <td>1131.464935</td>\n",
       "      <td>0</td>\n",
       "      <td>1</td>\n",
       "      <td>1</td>\n",
       "      <td>31</td>\n",
       "      <td>11</td>\n",
       "    </tr>\n",
       "    <tr>\n",
       "      <th>2</th>\n",
       "      <td>4</td>\n",
       "      <td>1288.743165</td>\n",
       "      <td>0</td>\n",
       "      <td>2</td>\n",
       "      <td>2</td>\n",
       "      <td>2/19/11</td>\n",
       "      <td>1</td>\n",
       "      <td>0</td>\n",
       "      <td>48767</td>\n",
       "      <td>1</td>\n",
       "      <td>...</td>\n",
       "      <td>0</td>\n",
       "      <td>5</td>\n",
       "      <td>3</td>\n",
       "      <td>0</td>\n",
       "      <td>566.472247</td>\n",
       "      <td>5</td>\n",
       "      <td>1</td>\n",
       "      <td>2</td>\n",
       "      <td>19</td>\n",
       "      <td>11</td>\n",
       "    </tr>\n",
       "    <tr>\n",
       "      <th>3</th>\n",
       "      <td>2</td>\n",
       "      <td>764.586183</td>\n",
       "      <td>0</td>\n",
       "      <td>0</td>\n",
       "      <td>2</td>\n",
       "      <td>1/20/11</td>\n",
       "      <td>4</td>\n",
       "      <td>1</td>\n",
       "      <td>0</td>\n",
       "      <td>1</td>\n",
       "      <td>...</td>\n",
       "      <td>1</td>\n",
       "      <td>1</td>\n",
       "      <td>3</td>\n",
       "      <td>2</td>\n",
       "      <td>529.881344</td>\n",
       "      <td>3</td>\n",
       "      <td>1</td>\n",
       "      <td>1</td>\n",
       "      <td>20</td>\n",
       "      <td>11</td>\n",
       "    </tr>\n",
       "    <tr>\n",
       "      <th>4</th>\n",
       "      <td>1</td>\n",
       "      <td>281.369258</td>\n",
       "      <td>0</td>\n",
       "      <td>0</td>\n",
       "      <td>2</td>\n",
       "      <td>2/3/11</td>\n",
       "      <td>1</td>\n",
       "      <td>1</td>\n",
       "      <td>43836</td>\n",
       "      <td>0</td>\n",
       "      <td>...</td>\n",
       "      <td>0</td>\n",
       "      <td>3</td>\n",
       "      <td>3</td>\n",
       "      <td>0</td>\n",
       "      <td>138.130879</td>\n",
       "      <td>0</td>\n",
       "      <td>1</td>\n",
       "      <td>2</td>\n",
       "      <td>3</td>\n",
       "      <td>11</td>\n",
       "    </tr>\n",
       "    <tr>\n",
       "      <th>...</th>\n",
       "      <td>...</td>\n",
       "      <td>...</td>\n",
       "      <td>...</td>\n",
       "      <td>...</td>\n",
       "      <td>...</td>\n",
       "      <td>...</td>\n",
       "      <td>...</td>\n",
       "      <td>...</td>\n",
       "      <td>...</td>\n",
       "      <td>...</td>\n",
       "      <td>...</td>\n",
       "      <td>...</td>\n",
       "      <td>...</td>\n",
       "      <td>...</td>\n",
       "      <td>...</td>\n",
       "      <td>...</td>\n",
       "      <td>...</td>\n",
       "      <td>...</td>\n",
       "      <td>...</td>\n",
       "      <td>...</td>\n",
       "      <td>...</td>\n",
       "    </tr>\n",
       "    <tr>\n",
       "      <th>9129</th>\n",
       "      <td>2</td>\n",
       "      <td>2340.598798</td>\n",
       "      <td>0</td>\n",
       "      <td>0</td>\n",
       "      <td>2</td>\n",
       "      <td>2/10/11</td>\n",
       "      <td>1</td>\n",
       "      <td>1</td>\n",
       "      <td>71941</td>\n",
       "      <td>2</td>\n",
       "      <td>...</td>\n",
       "      <td>0</td>\n",
       "      <td>3</td>\n",
       "      <td>1</td>\n",
       "      <td>3</td>\n",
       "      <td>198.234764</td>\n",
       "      <td>0</td>\n",
       "      <td>1</td>\n",
       "      <td>2</td>\n",
       "      <td>10</td>\n",
       "      <td>11</td>\n",
       "    </tr>\n",
       "    <tr>\n",
       "      <th>9130</th>\n",
       "      <td>2</td>\n",
       "      <td>309.651122</td>\n",
       "      <td>1</td>\n",
       "      <td>1</td>\n",
       "      <td>1</td>\n",
       "      <td>2/12/11</td>\n",
       "      <td>1</td>\n",
       "      <td>0</td>\n",
       "      <td>21604</td>\n",
       "      <td>1</td>\n",
       "      <td>...</td>\n",
       "      <td>1</td>\n",
       "      <td>2</td>\n",
       "      <td>3</td>\n",
       "      <td>1</td>\n",
       "      <td>379.200000</td>\n",
       "      <td>0</td>\n",
       "      <td>1</td>\n",
       "      <td>2</td>\n",
       "      <td>12</td>\n",
       "      <td>11</td>\n",
       "    </tr>\n",
       "    <tr>\n",
       "      <th>9131</th>\n",
       "      <td>2</td>\n",
       "      <td>816.389043</td>\n",
       "      <td>0</td>\n",
       "      <td>1</td>\n",
       "      <td>2</td>\n",
       "      <td>2/6/11</td>\n",
       "      <td>4</td>\n",
       "      <td>1</td>\n",
       "      <td>0</td>\n",
       "      <td>1</td>\n",
       "      <td>...</td>\n",
       "      <td>1</td>\n",
       "      <td>1</td>\n",
       "      <td>3</td>\n",
       "      <td>1</td>\n",
       "      <td>790.784983</td>\n",
       "      <td>0</td>\n",
       "      <td>1</td>\n",
       "      <td>2</td>\n",
       "      <td>6</td>\n",
       "      <td>11</td>\n",
       "    </tr>\n",
       "    <tr>\n",
       "      <th>9132</th>\n",
       "      <td>2</td>\n",
       "      <td>752.444244</td>\n",
       "      <td>0</td>\n",
       "      <td>1</td>\n",
       "      <td>1</td>\n",
       "      <td>2/3/11</td>\n",
       "      <td>1</td>\n",
       "      <td>1</td>\n",
       "      <td>21941</td>\n",
       "      <td>1</td>\n",
       "      <td>...</td>\n",
       "      <td>0</td>\n",
       "      <td>4</td>\n",
       "      <td>2</td>\n",
       "      <td>1</td>\n",
       "      <td>691.200000</td>\n",
       "      <td>0</td>\n",
       "      <td>2</td>\n",
       "      <td>2</td>\n",
       "      <td>3</td>\n",
       "      <td>11</td>\n",
       "    </tr>\n",
       "    <tr>\n",
       "      <th>9133</th>\n",
       "      <td>2</td>\n",
       "      <td>261.183687</td>\n",
       "      <td>0</td>\n",
       "      <td>1</td>\n",
       "      <td>1</td>\n",
       "      <td>2/14/11</td>\n",
       "      <td>4</td>\n",
       "      <td>1</td>\n",
       "      <td>0</td>\n",
       "      <td>1</td>\n",
       "      <td>...</td>\n",
       "      <td>1</td>\n",
       "      <td>2</td>\n",
       "      <td>0</td>\n",
       "      <td>2</td>\n",
       "      <td>369.600000</td>\n",
       "      <td>5</td>\n",
       "      <td>1</td>\n",
       "      <td>2</td>\n",
       "      <td>14</td>\n",
       "      <td>11</td>\n",
       "    </tr>\n",
       "  </tbody>\n",
       "</table>\n",
       "<p>9134 rows × 26 columns</p>\n",
       "</div>"
      ],
      "text/plain": [
       "      State  Claim Amount  Response  Coverage  Education Effective To Date  \\\n",
       "0         1    276.351928         0         0          2           2/24/11   \n",
       "1         3    697.953590         0         1          2           1/31/11   \n",
       "2         4   1288.743165         0         2          2           2/19/11   \n",
       "3         2    764.586183         0         0          2           1/20/11   \n",
       "4         1    281.369258         0         0          2            2/3/11   \n",
       "...     ...           ...       ...       ...        ...               ...   \n",
       "9129      2   2340.598798         0         0          2           2/10/11   \n",
       "9130      2    309.651122         1         1          1           2/12/11   \n",
       "9131      2    816.389043         0         1          2            2/6/11   \n",
       "9132      2    752.444244         0         1          1            2/3/11   \n",
       "9133      2    261.183687         0         1          1           2/14/11   \n",
       "\n",
       "      EmploymentStatus  Gender  Income  Location Code  ...  Policy Type  \\\n",
       "0                    1       0   56274              1  ...            1   \n",
       "1                    4       0       0              1  ...            0   \n",
       "2                    1       0   48767              1  ...            0   \n",
       "3                    4       1       0              1  ...            1   \n",
       "4                    1       1   43836              0  ...            0   \n",
       "...                ...     ...     ...            ...  ...          ...   \n",
       "9129                 1       1   71941              2  ...            0   \n",
       "9130                 1       0   21604              1  ...            1   \n",
       "9131                 4       1       0              1  ...            1   \n",
       "9132                 1       1   21941              1  ...            0   \n",
       "9133                 4       1       0              1  ...            1   \n",
       "\n",
       "      Policy  Claim Reason  Sales Channel  Total Claim Amount  Vehicle Class  \\\n",
       "0          2             3              0          384.811147              5   \n",
       "1          5             2              0         1131.464935              0   \n",
       "2          5             3              0          566.472247              5   \n",
       "3          1             3              2          529.881344              3   \n",
       "4          3             3              0          138.130879              0   \n",
       "...      ...           ...            ...                 ...            ...   \n",
       "9129       3             1              3          198.234764              0   \n",
       "9130       2             3              1          379.200000              0   \n",
       "9131       1             3              1          790.784983              0   \n",
       "9132       4             2              1          691.200000              0   \n",
       "9133       2             0              2          369.600000              5   \n",
       "\n",
       "      Vehicle Size  Day  month  year  \n",
       "0                1    2     24    11  \n",
       "1                1    1     31    11  \n",
       "2                1    2     19    11  \n",
       "3                1    1     20    11  \n",
       "4                1    2      3    11  \n",
       "...            ...  ...    ...   ...  \n",
       "9129             1    2     10    11  \n",
       "9130             1    2     12    11  \n",
       "9131             1    2      6    11  \n",
       "9132             2    2      3    11  \n",
       "9133             1    2     14    11  \n",
       "\n",
       "[9134 rows x 26 columns]"
      ]
     },
     "execution_count": 44,
     "metadata": {},
     "output_type": "execute_result"
    }
   ],
   "source": [
    "amount"
   ]
  },
  {
   "cell_type": "code",
   "execution_count": 45,
   "metadata": {},
   "outputs": [],
   "source": [
    "amount.drop([\"Effective To Date\"],axis=1,inplace =True)"
   ]
  },
  {
   "cell_type": "code",
   "execution_count": 46,
   "metadata": {},
   "outputs": [
    {
     "data": {
      "text/plain": [
       "State                              int32\n",
       "Claim Amount                     float64\n",
       "Response                           int64\n",
       "Coverage                           int64\n",
       "Education                          int64\n",
       "EmploymentStatus                   int32\n",
       "Gender                             int64\n",
       "Income                             int64\n",
       "Location Code                      int64\n",
       "Marital Status                     int32\n",
       "Monthly Premium Auto               int64\n",
       "Months Since Last Claim            int64\n",
       "Months Since Policy Inception      int64\n",
       "Number of Open Complaints          int64\n",
       "Number of Policies                 int64\n",
       "Policy Type                        int64\n",
       "Policy                             int32\n",
       "Claim Reason                       int64\n",
       "Sales Channel                      int32\n",
       "Total Claim Amount               float64\n",
       "Vehicle Class                      int32\n",
       "Vehicle Size                       int64\n",
       "Day                                int64\n",
       "month                              int64\n",
       "year                               int64\n",
       "dtype: object"
      ]
     },
     "execution_count": 46,
     "metadata": {},
     "output_type": "execute_result"
    }
   ],
   "source": [
    "amount.dtypes\n"
   ]
  },
  {
   "cell_type": "code",
   "execution_count": 56,
   "metadata": {},
   "outputs": [],
   "source": [
    "x = amount.drop([\"Claim Amount\"],axis=1)\n",
    "y = amount[\"Claim Amount\"]\n",
    "df_x = amount.drop([\"Claim Amount\"],axis=1)"
   ]
  },
  {
   "cell_type": "code",
   "execution_count": 57,
   "metadata": {},
   "outputs": [
    {
     "data": {
      "image/png": "[encoded data removed]",
      "text/plain": [
       "<Figure size 1296x1296 with 2 Axes>"
      ]
     },
     "metadata": {
      "needs_background": "light"
     },
     "output_type": "display_data"
    }
   ],
   "source": [
    "plt.figure(figsize=(18,18))\n",
    "sns.heatmap(amount.corr(),annot= True)   # not much correlaton among varaibles observed\n",
    "plt.show()"
   ]
  },
  {
   "cell_type": "code",
   "execution_count": 58,
   "metadata": {},
   "outputs": [
    {
     "data": {
      "text/plain": [
       "State                            0.021065\n",
       "Response                         2.037567\n",
       "Coverage                         1.031310\n",
       "Education                        0.508900\n",
       "EmploymentStatus                 0.832147\n",
       "Gender                           0.039866\n",
       "Income                           0.286887\n",
       "Location Code                    0.009511\n",
       "Marital Status                  -0.107553\n",
       "Monthly Premium Auto             2.123546\n",
       "Months Since Last Claim          0.278586\n",
       "Months Since Policy Inception    0.040165\n",
       "Number of Open Complaints        2.783263\n",
       "Number of Policies               1.253333\n",
       "Policy Type                      1.639408\n",
       "Policy                          -0.427639\n",
       "Claim Reason                    -0.269852\n",
       "Sales Channel                    0.506774\n",
       "Total Claim Amount               1.714966\n",
       "Vehicle Class                    0.395146\n",
       "Vehicle Size                    -0.072742\n",
       "Day                              0.145359\n",
       "month                            0.006796\n",
       "year                             0.000000\n",
       "dtype: float64"
      ]
     },
     "execution_count": 58,
     "metadata": {},
     "output_type": "execute_result"
    }
   ],
   "source": [
    "x.skew()"
   ]
  },
  {
   "cell_type": "code",
   "execution_count": 59,
   "metadata": {},
   "outputs": [
    {
     "data": {
      "text/plain": [
       "State                               AxesSubplot(0.125,0.749828;0.133621x0.130172)\n",
       "Response                         AxesSubplot(0.285345,0.749828;0.133621x0.130172)\n",
       "Coverage                          AxesSubplot(0.44569,0.749828;0.133621x0.130172)\n",
       "Education                        AxesSubplot(0.606034,0.749828;0.133621x0.130172)\n",
       "EmploymentStatus                 AxesSubplot(0.766379,0.749828;0.133621x0.130172)\n",
       "Gender                              AxesSubplot(0.125,0.593621;0.133621x0.130172)\n",
       "Income                           AxesSubplot(0.285345,0.593621;0.133621x0.130172)\n",
       "Location Code                     AxesSubplot(0.44569,0.593621;0.133621x0.130172)\n",
       "Marital Status                   AxesSubplot(0.606034,0.593621;0.133621x0.130172)\n",
       "Monthly Premium Auto             AxesSubplot(0.766379,0.593621;0.133621x0.130172)\n",
       "Months Since Last Claim             AxesSubplot(0.125,0.437414;0.133621x0.130172)\n",
       "Months Since Policy Inception    AxesSubplot(0.285345,0.437414;0.133621x0.130172)\n",
       "Number of Open Complaints         AxesSubplot(0.44569,0.437414;0.133621x0.130172)\n",
       "Number of Policies               AxesSubplot(0.606034,0.437414;0.133621x0.130172)\n",
       "Policy Type                      AxesSubplot(0.766379,0.437414;0.133621x0.130172)\n",
       "Policy                              AxesSubplot(0.125,0.281207;0.133621x0.130172)\n",
       "Claim Reason                     AxesSubplot(0.285345,0.281207;0.133621x0.130172)\n",
       "Sales Channel                     AxesSubplot(0.44569,0.281207;0.133621x0.130172)\n",
       "Total Claim Amount               AxesSubplot(0.606034,0.281207;0.133621x0.130172)\n",
       "Vehicle Class                    AxesSubplot(0.766379,0.281207;0.133621x0.130172)\n",
       "Vehicle Size                           AxesSubplot(0.125,0.125;0.133621x0.130172)\n",
       "Day                                 AxesSubplot(0.285345,0.125;0.133621x0.130172)\n",
       "month                                AxesSubplot(0.44569,0.125;0.133621x0.130172)\n",
       "year                                AxesSubplot(0.606034,0.125;0.133621x0.130172)\n",
       "dtype: object"
      ]
     },
     "execution_count": 59,
     "metadata": {},
     "output_type": "execute_result"
    },
    {
     "data": {
      "image/png": "[encoded data removed]",
      "text/plain": [
       "<Figure size 1296x1296 with 25 Axes>"
      ]
     },
     "metadata": {
      "needs_background": "light"
     },
     "output_type": "display_data"
    }
   ],
   "source": [
    "x.plot(kind=\"box\",subplots=True,layout=(5,5),figsize=(18,18))"
   ]
  },
  {
   "cell_type": "code",
   "execution_count": 61,
   "metadata": {},
   "outputs": [],
   "source": [
    "from sklearn.preprocessing import StandardScaler\n",
    "sc = StandardScaler()\n",
    "x = sc.fit_transform(x)\n",
    "\n",
    "    "
   ]
  },
  {
   "cell_type": "code",
   "execution_count": 62,
   "metadata": {},
   "outputs": [
    {
     "data": {
      "text/plain": [
       "array([[-0.55068994, -0.40882171, -0.73289946, ...,  1.07530438,\n",
       "         0.98677607,  0.        ],\n",
       "       [ 0.97332215, -0.40882171,  0.79199887, ..., -0.92996924,\n",
       "         1.79571635,  0.        ],\n",
       "       [ 1.73532819, -0.40882171,  2.31689721, ...,  1.07530438,\n",
       "         0.40896158,  0.        ],\n",
       "       ...,\n",
       "       [ 0.21131611, -0.40882171,  0.79199887, ...,  1.07530438,\n",
       "        -1.09335608,  0.        ],\n",
       "       [ 0.21131611, -0.40882171,  0.79199887, ...,  1.07530438,\n",
       "        -1.44004477,  0.        ],\n",
       "       [ 0.21131611, -0.40882171,  0.79199887, ...,  1.07530438,\n",
       "        -0.1688529 ,  0.        ]])"
      ]
     },
     "execution_count": 62,
     "metadata": {},
     "output_type": "execute_result"
    }
   ],
   "source": [
    "x"
   ]
  },
  {
   "cell_type": "code",
   "execution_count": 63,
   "metadata": {},
   "outputs": [],
   "source": [
    "\n",
    "x = pd.DataFrame(x,columns=df_x.columns)"
   ]
  },
  {
   "cell_type": "code",
   "execution_count": 64,
   "metadata": {},
   "outputs": [
    {
     "data": {
      "text/html": [
       "<div>\n",
       "<style scoped>\n",
       "    .dataframe tbody tr th:only-of-type {\n",
       "        vertical-align: middle;\n",
       "    }\n",
       "\n",
       "    .dataframe tbody tr th {\n",
       "        vertical-align: top;\n",
       "    }\n",
       "\n",
       "    .dataframe thead th {\n",
       "        text-align: right;\n",
       "    }\n",
       "</style>\n",
       "<table border=\"1\" class=\"dataframe\">\n",
       "  <thead>\n",
       "    <tr style=\"text-align: right;\">\n",
       "      <th></th>\n",
       "      <th>State</th>\n",
       "      <th>Response</th>\n",
       "      <th>Coverage</th>\n",
       "      <th>Education</th>\n",
       "      <th>EmploymentStatus</th>\n",
       "      <th>Gender</th>\n",
       "      <th>Income</th>\n",
       "      <th>Location Code</th>\n",
       "      <th>Marital Status</th>\n",
       "      <th>Monthly Premium Auto</th>\n",
       "      <th>...</th>\n",
       "      <th>Policy Type</th>\n",
       "      <th>Policy</th>\n",
       "      <th>Claim Reason</th>\n",
       "      <th>Sales Channel</th>\n",
       "      <th>Total Claim Amount</th>\n",
       "      <th>Vehicle Class</th>\n",
       "      <th>Vehicle Size</th>\n",
       "      <th>Day</th>\n",
       "      <th>month</th>\n",
       "      <th>year</th>\n",
       "    </tr>\n",
       "  </thead>\n",
       "  <tbody>\n",
       "    <tr>\n",
       "      <th>0</th>\n",
       "      <td>-0.550690</td>\n",
       "      <td>-0.408822</td>\n",
       "      <td>-0.732899</td>\n",
       "      <td>0.658959</td>\n",
       "      <td>-0.612669</td>\n",
       "      <td>-0.980269</td>\n",
       "      <td>0.612827</td>\n",
       "      <td>0.034524</td>\n",
       "      <td>-0.188771</td>\n",
       "      <td>-0.703925</td>\n",
       "      <td>...</td>\n",
       "      <td>1.298568</td>\n",
       "      <td>-1.119497</td>\n",
       "      <td>1.051946</td>\n",
       "      <td>-1.031138</td>\n",
       "      <td>-0.169640</td>\n",
       "      <td>1.499181</td>\n",
       "      <td>0.166682</td>\n",
       "      <td>1.075304</td>\n",
       "      <td>0.986776</td>\n",
       "      <td>0.0</td>\n",
       "    </tr>\n",
       "    <tr>\n",
       "      <th>1</th>\n",
       "      <td>0.973322</td>\n",
       "      <td>-0.408822</td>\n",
       "      <td>0.791999</td>\n",
       "      <td>0.658959</td>\n",
       "      <td>1.613313</td>\n",
       "      <td>-0.980269</td>\n",
       "      <td>-1.239617</td>\n",
       "      <td>0.034524</td>\n",
       "      <td>1.381572</td>\n",
       "      <td>0.022691</td>\n",
       "      <td>...</td>\n",
       "      <td>-0.551841</td>\n",
       "      <td>0.748626</td>\n",
       "      <td>0.124129</td>\n",
       "      <td>-1.031138</td>\n",
       "      <td>2.400737</td>\n",
       "      <td>-0.912924</td>\n",
       "      <td>0.166682</td>\n",
       "      <td>-0.929969</td>\n",
       "      <td>1.795716</td>\n",
       "      <td>0.0</td>\n",
       "    </tr>\n",
       "    <tr>\n",
       "      <th>2</th>\n",
       "      <td>1.735328</td>\n",
       "      <td>-0.408822</td>\n",
       "      <td>2.316897</td>\n",
       "      <td>0.658959</td>\n",
       "      <td>-0.612669</td>\n",
       "      <td>-0.980269</td>\n",
       "      <td>0.365710</td>\n",
       "      <td>0.034524</td>\n",
       "      <td>-0.188771</td>\n",
       "      <td>0.429596</td>\n",
       "      <td>...</td>\n",
       "      <td>-0.551841</td>\n",
       "      <td>0.748626</td>\n",
       "      <td>1.051946</td>\n",
       "      <td>-1.031138</td>\n",
       "      <td>0.455734</td>\n",
       "      <td>1.499181</td>\n",
       "      <td>0.166682</td>\n",
       "      <td>1.075304</td>\n",
       "      <td>0.408962</td>\n",
       "      <td>0.0</td>\n",
       "    </tr>\n",
       "    <tr>\n",
       "      <th>3</th>\n",
       "      <td>0.211316</td>\n",
       "      <td>-0.408822</td>\n",
       "      <td>-0.732899</td>\n",
       "      <td>0.658959</td>\n",
       "      <td>1.613313</td>\n",
       "      <td>1.020128</td>\n",
       "      <td>-1.239617</td>\n",
       "      <td>0.034524</td>\n",
       "      <td>-0.188771</td>\n",
       "      <td>0.371467</td>\n",
       "      <td>...</td>\n",
       "      <td>1.298568</td>\n",
       "      <td>-1.742204</td>\n",
       "      <td>1.051946</td>\n",
       "      <td>0.839080</td>\n",
       "      <td>0.329769</td>\n",
       "      <td>0.534339</td>\n",
       "      <td>0.166682</td>\n",
       "      <td>-0.929969</td>\n",
       "      <td>0.524524</td>\n",
       "      <td>0.0</td>\n",
       "    </tr>\n",
       "    <tr>\n",
       "      <th>4</th>\n",
       "      <td>-0.550690</td>\n",
       "      <td>-0.408822</td>\n",
       "      <td>-0.732899</td>\n",
       "      <td>0.658959</td>\n",
       "      <td>-0.612669</td>\n",
       "      <td>1.020128</td>\n",
       "      <td>0.203390</td>\n",
       "      <td>-1.616461</td>\n",
       "      <td>1.381572</td>\n",
       "      <td>-0.587666</td>\n",
       "      <td>...</td>\n",
       "      <td>-0.551841</td>\n",
       "      <td>-0.496789</td>\n",
       "      <td>1.051946</td>\n",
       "      <td>-1.031138</td>\n",
       "      <td>-1.018843</td>\n",
       "      <td>-0.912924</td>\n",
       "      <td>0.166682</td>\n",
       "      <td>1.075304</td>\n",
       "      <td>-1.440045</td>\n",
       "      <td>0.0</td>\n",
       "    </tr>\n",
       "    <tr>\n",
       "      <th>...</th>\n",
       "      <td>...</td>\n",
       "      <td>...</td>\n",
       "      <td>...</td>\n",
       "      <td>...</td>\n",
       "      <td>...</td>\n",
       "      <td>...</td>\n",
       "      <td>...</td>\n",
       "      <td>...</td>\n",
       "      <td>...</td>\n",
       "      <td>...</td>\n",
       "      <td>...</td>\n",
       "      <td>...</td>\n",
       "      <td>...</td>\n",
       "      <td>...</td>\n",
       "      <td>...</td>\n",
       "      <td>...</td>\n",
       "      <td>...</td>\n",
       "      <td>...</td>\n",
       "      <td>...</td>\n",
       "      <td>...</td>\n",
       "      <td>...</td>\n",
       "    </tr>\n",
       "    <tr>\n",
       "      <th>9129</th>\n",
       "      <td>0.211316</td>\n",
       "      <td>-0.408822</td>\n",
       "      <td>-0.732899</td>\n",
       "      <td>0.658959</td>\n",
       "      <td>-0.612669</td>\n",
       "      <td>1.020128</td>\n",
       "      <td>1.128558</td>\n",
       "      <td>1.685508</td>\n",
       "      <td>-0.188771</td>\n",
       "      <td>-0.587666</td>\n",
       "      <td>...</td>\n",
       "      <td>-0.551841</td>\n",
       "      <td>-0.496789</td>\n",
       "      <td>-0.803688</td>\n",
       "      <td>1.774189</td>\n",
       "      <td>-0.811934</td>\n",
       "      <td>-0.912924</td>\n",
       "      <td>0.166682</td>\n",
       "      <td>1.075304</td>\n",
       "      <td>-0.631104</td>\n",
       "      <td>0.0</td>\n",
       "    </tr>\n",
       "    <tr>\n",
       "      <th>9130</th>\n",
       "      <td>0.211316</td>\n",
       "      <td>2.446054</td>\n",
       "      <td>0.791999</td>\n",
       "      <td>-0.267031</td>\n",
       "      <td>-0.612669</td>\n",
       "      <td>-0.980269</td>\n",
       "      <td>-0.528450</td>\n",
       "      <td>0.034524</td>\n",
       "      <td>-1.759114</td>\n",
       "      <td>-0.413278</td>\n",
       "      <td>...</td>\n",
       "      <td>1.298568</td>\n",
       "      <td>-1.119497</td>\n",
       "      <td>1.051946</td>\n",
       "      <td>-0.096029</td>\n",
       "      <td>-0.188956</td>\n",
       "      <td>-0.912924</td>\n",
       "      <td>0.166682</td>\n",
       "      <td>1.075304</td>\n",
       "      <td>-0.399979</td>\n",
       "      <td>0.0</td>\n",
       "    </tr>\n",
       "    <tr>\n",
       "      <th>9131</th>\n",
       "      <td>0.211316</td>\n",
       "      <td>-0.408822</td>\n",
       "      <td>0.791999</td>\n",
       "      <td>0.658959</td>\n",
       "      <td>1.613313</td>\n",
       "      <td>1.020128</td>\n",
       "      <td>-1.239617</td>\n",
       "      <td>0.034524</td>\n",
       "      <td>1.381572</td>\n",
       "      <td>-0.238891</td>\n",
       "      <td>...</td>\n",
       "      <td>1.298568</td>\n",
       "      <td>-1.742204</td>\n",
       "      <td>1.051946</td>\n",
       "      <td>-0.096029</td>\n",
       "      <td>1.227937</td>\n",
       "      <td>-0.912924</td>\n",
       "      <td>0.166682</td>\n",
       "      <td>1.075304</td>\n",
       "      <td>-1.093356</td>\n",
       "      <td>0.0</td>\n",
       "    </tr>\n",
       "    <tr>\n",
       "      <th>9132</th>\n",
       "      <td>0.211316</td>\n",
       "      <td>-0.408822</td>\n",
       "      <td>0.791999</td>\n",
       "      <td>-0.267031</td>\n",
       "      <td>-0.612669</td>\n",
       "      <td>1.020128</td>\n",
       "      <td>-0.517356</td>\n",
       "      <td>0.034524</td>\n",
       "      <td>-0.188771</td>\n",
       "      <td>0.080820</td>\n",
       "      <td>...</td>\n",
       "      <td>-0.551841</td>\n",
       "      <td>0.125919</td>\n",
       "      <td>0.124129</td>\n",
       "      <td>-0.096029</td>\n",
       "      <td>0.885113</td>\n",
       "      <td>-0.912924</td>\n",
       "      <td>2.027897</td>\n",
       "      <td>1.075304</td>\n",
       "      <td>-1.440045</td>\n",
       "      <td>0.0</td>\n",
       "    </tr>\n",
       "    <tr>\n",
       "      <th>9133</th>\n",
       "      <td>0.211316</td>\n",
       "      <td>-0.408822</td>\n",
       "      <td>0.791999</td>\n",
       "      <td>-0.267031</td>\n",
       "      <td>1.613313</td>\n",
       "      <td>1.020128</td>\n",
       "      <td>-1.239617</td>\n",
       "      <td>0.034524</td>\n",
       "      <td>1.381572</td>\n",
       "      <td>-0.471408</td>\n",
       "      <td>...</td>\n",
       "      <td>1.298568</td>\n",
       "      <td>-1.119497</td>\n",
       "      <td>-1.731505</td>\n",
       "      <td>0.839080</td>\n",
       "      <td>-0.222004</td>\n",
       "      <td>1.499181</td>\n",
       "      <td>0.166682</td>\n",
       "      <td>1.075304</td>\n",
       "      <td>-0.168853</td>\n",
       "      <td>0.0</td>\n",
       "    </tr>\n",
       "  </tbody>\n",
       "</table>\n",
       "<p>9134 rows × 24 columns</p>\n",
       "</div>"
      ],
      "text/plain": [
       "         State  Response  Coverage  Education  EmploymentStatus    Gender  \\\n",
       "0    -0.550690 -0.408822 -0.732899   0.658959         -0.612669 -0.980269   \n",
       "1     0.973322 -0.408822  0.791999   0.658959          1.613313 -0.980269   \n",
       "2     1.735328 -0.408822  2.316897   0.658959         -0.612669 -0.980269   \n",
       "3     0.211316 -0.408822 -0.732899   0.658959          1.613313  1.020128   \n",
       "4    -0.550690 -0.408822 -0.732899   0.658959         -0.612669  1.020128   \n",
       "...        ...       ...       ...        ...               ...       ...   \n",
       "9129  0.211316 -0.408822 -0.732899   0.658959         -0.612669  1.020128   \n",
       "9130  0.211316  2.446054  0.791999  -0.267031         -0.612669 -0.980269   \n",
       "9131  0.211316 -0.408822  0.791999   0.658959          1.613313  1.020128   \n",
       "9132  0.211316 -0.408822  0.791999  -0.267031         -0.612669  1.020128   \n",
       "9133  0.211316 -0.408822  0.791999  -0.267031          1.613313  1.020128   \n",
       "\n",
       "        Income  Location Code  Marital Status  Monthly Premium Auto  ...  \\\n",
       "0     0.612827       0.034524       -0.188771             -0.703925  ...   \n",
       "1    -1.239617       0.034524        1.381572              0.022691  ...   \n",
       "2     0.365710       0.034524       -0.188771              0.429596  ...   \n",
       "3    -1.239617       0.034524       -0.188771              0.371467  ...   \n",
       "4     0.203390      -1.616461        1.381572             -0.587666  ...   \n",
       "...        ...            ...             ...                   ...  ...   \n",
       "9129  1.128558       1.685508       -0.188771             -0.587666  ...   \n",
       "9130 -0.528450       0.034524       -1.759114             -0.413278  ...   \n",
       "9131 -1.239617       0.034524        1.381572             -0.238891  ...   \n",
       "9132 -0.517356       0.034524       -0.188771              0.080820  ...   \n",
       "9133 -1.239617       0.034524        1.381572             -0.471408  ...   \n",
       "\n",
       "      Policy Type    Policy  Claim Reason  Sales Channel  Total Claim Amount  \\\n",
       "0        1.298568 -1.119497      1.051946      -1.031138           -0.169640   \n",
       "1       -0.551841  0.748626      0.124129      -1.031138            2.400737   \n",
       "2       -0.551841  0.748626      1.051946      -1.031138            0.455734   \n",
       "3        1.298568 -1.742204      1.051946       0.839080            0.329769   \n",
       "4       -0.551841 -0.496789      1.051946      -1.031138           -1.018843   \n",
       "...           ...       ...           ...            ...                 ...   \n",
       "9129    -0.551841 -0.496789     -0.803688       1.774189           -0.811934   \n",
       "9130     1.298568 -1.119497      1.051946      -0.096029           -0.188956   \n",
       "9131     1.298568 -1.742204      1.051946      -0.096029            1.227937   \n",
       "9132    -0.551841  0.125919      0.124129      -0.096029            0.885113   \n",
       "9133     1.298568 -1.119497     -1.731505       0.839080           -0.222004   \n",
       "\n",
       "      Vehicle Class  Vehicle Size       Day     month  year  \n",
       "0          1.499181      0.166682  1.075304  0.986776   0.0  \n",
       "1         -0.912924      0.166682 -0.929969  1.795716   0.0  \n",
       "2          1.499181      0.166682  1.075304  0.408962   0.0  \n",
       "3          0.534339      0.166682 -0.929969  0.524524   0.0  \n",
       "4         -0.912924      0.166682  1.075304 -1.440045   0.0  \n",
       "...             ...           ...       ...       ...   ...  \n",
       "9129      -0.912924      0.166682  1.075304 -0.631104   0.0  \n",
       "9130      -0.912924      0.166682  1.075304 -0.399979   0.0  \n",
       "9131      -0.912924      0.166682  1.075304 -1.093356   0.0  \n",
       "9132      -0.912924      2.027897  1.075304 -1.440045   0.0  \n",
       "9133       1.499181      0.166682  1.075304 -0.168853   0.0  \n",
       "\n",
       "[9134 rows x 24 columns]"
      ]
     },
     "execution_count": 64,
     "metadata": {},
     "output_type": "execute_result"
    }
   ],
   "source": [
    "x"
   ]
  },
  {
   "cell_type": "code",
   "execution_count": 65,
   "metadata": {},
   "outputs": [
    {
     "name": "stderr",
     "output_type": "stream",
     "text": [
      "C:\\Users\\lenovo\\anaconda3\\lib\\site-packages\\sklearn\\preprocessing\\_data.py:2982: RuntimeWarning: divide by zero encountered in log\n",
      "  loglike = -n_samples / 2 * np.log(x_trans.var())\n"
     ]
    },
    {
     "data": {
      "text/html": [
       "<div>\n",
       "<style scoped>\n",
       "    .dataframe tbody tr th:only-of-type {\n",
       "        vertical-align: middle;\n",
       "    }\n",
       "\n",
       "    .dataframe tbody tr th {\n",
       "        vertical-align: top;\n",
       "    }\n",
       "\n",
       "    .dataframe thead th {\n",
       "        text-align: right;\n",
       "    }\n",
       "</style>\n",
       "<table border=\"1\" class=\"dataframe\">\n",
       "  <thead>\n",
       "    <tr style=\"text-align: right;\">\n",
       "      <th></th>\n",
       "      <th>State</th>\n",
       "      <th>Response</th>\n",
       "      <th>Coverage</th>\n",
       "      <th>Education</th>\n",
       "      <th>EmploymentStatus</th>\n",
       "      <th>Gender</th>\n",
       "      <th>Income</th>\n",
       "      <th>Location Code</th>\n",
       "      <th>Marital Status</th>\n",
       "      <th>Monthly Premium Auto</th>\n",
       "      <th>...</th>\n",
       "      <th>Policy Type</th>\n",
       "      <th>Policy</th>\n",
       "      <th>Claim Reason</th>\n",
       "      <th>Sales Channel</th>\n",
       "      <th>Total Claim Amount</th>\n",
       "      <th>Vehicle Class</th>\n",
       "      <th>Vehicle Size</th>\n",
       "      <th>Day</th>\n",
       "      <th>month</th>\n",
       "      <th>year</th>\n",
       "    </tr>\n",
       "  </thead>\n",
       "  <tbody>\n",
       "    <tr>\n",
       "      <th>0</th>\n",
       "      <td>-0.559025</td>\n",
       "      <td>-0.408822</td>\n",
       "      <td>-0.792225</td>\n",
       "      <td>0.739818</td>\n",
       "      <td>-0.516862</td>\n",
       "      <td>-0.980269</td>\n",
       "      <td>0.676535</td>\n",
       "      <td>0.031159</td>\n",
       "      <td>-0.190493</td>\n",
       "      <td>-0.870344</td>\n",
       "      <td>...</td>\n",
       "      <td>1.678012</td>\n",
       "      <td>-1.109616</td>\n",
       "      <td>1.088787</td>\n",
       "      <td>-1.129106</td>\n",
       "      <td>0.020446</td>\n",
       "      <td>1.369053</td>\n",
       "      <td>0.134681</td>\n",
       "      <td>1.075304</td>\n",
       "      <td>0.986735</td>\n",
       "      <td>0.0</td>\n",
       "    </tr>\n",
       "    <tr>\n",
       "      <th>1</th>\n",
       "      <td>0.973395</td>\n",
       "      <td>-0.408822</td>\n",
       "      <td>1.112841</td>\n",
       "      <td>0.739818</td>\n",
       "      <td>1.445285</td>\n",
       "      <td>-0.980269</td>\n",
       "      <td>-1.320057</td>\n",
       "      <td>0.031159</td>\n",
       "      <td>1.383418</td>\n",
       "      <td>0.433066</td>\n",
       "      <td>...</td>\n",
       "      <td>-0.587688</td>\n",
       "      <td>0.730714</td>\n",
       "      <td>0.016595</td>\n",
       "      <td>-1.129106</td>\n",
       "      <td>1.928957</td>\n",
       "      <td>-0.945680</td>\n",
       "      <td>0.134681</td>\n",
       "      <td>-0.929969</td>\n",
       "      <td>1.792661</td>\n",
       "      <td>0.0</td>\n",
       "    </tr>\n",
       "    <tr>\n",
       "      <th>2</th>\n",
       "      <td>1.758969</td>\n",
       "      <td>-0.408822</td>\n",
       "      <td>1.650123</td>\n",
       "      <td>0.739818</td>\n",
       "      <td>-0.516862</td>\n",
       "      <td>-0.980269</td>\n",
       "      <td>0.452396</td>\n",
       "      <td>0.031159</td>\n",
       "      <td>-0.190493</td>\n",
       "      <td>0.844752</td>\n",
       "      <td>...</td>\n",
       "      <td>-0.587688</td>\n",
       "      <td>0.730714</td>\n",
       "      <td>1.088787</td>\n",
       "      <td>-1.129106</td>\n",
       "      <td>0.669908</td>\n",
       "      <td>1.369053</td>\n",
       "      <td>0.134681</td>\n",
       "      <td>1.075304</td>\n",
       "      <td>0.410223</td>\n",
       "      <td>0.0</td>\n",
       "    </tr>\n",
       "    <tr>\n",
       "      <th>3</th>\n",
       "      <td>0.198942</td>\n",
       "      <td>-0.408822</td>\n",
       "      <td>-0.792225</td>\n",
       "      <td>0.739818</td>\n",
       "      <td>1.445285</td>\n",
       "      <td>1.020128</td>\n",
       "      <td>-1.320057</td>\n",
       "      <td>0.031159</td>\n",
       "      <td>-0.190493</td>\n",
       "      <td>0.795003</td>\n",
       "      <td>...</td>\n",
       "      <td>1.678012</td>\n",
       "      <td>-1.602039</td>\n",
       "      <td>1.088787</td>\n",
       "      <td>0.925053</td>\n",
       "      <td>0.556230</td>\n",
       "      <td>0.705994</td>\n",
       "      <td>0.134681</td>\n",
       "      <td>-0.929969</td>\n",
       "      <td>0.525596</td>\n",
       "      <td>0.0</td>\n",
       "    </tr>\n",
       "    <tr>\n",
       "      <th>4</th>\n",
       "      <td>-0.559025</td>\n",
       "      <td>-0.408822</td>\n",
       "      <td>-0.792225</td>\n",
       "      <td>0.739818</td>\n",
       "      <td>-0.516862</td>\n",
       "      <td>1.020128</td>\n",
       "      <td>0.299186</td>\n",
       "      <td>-1.610962</td>\n",
       "      <td>1.383418</td>\n",
       "      <td>-0.605827</td>\n",
       "      <td>...</td>\n",
       "      <td>-0.587688</td>\n",
       "      <td>-0.573794</td>\n",
       "      <td>1.088787</td>\n",
       "      <td>-1.129106</td>\n",
       "      <td>-1.265336</td>\n",
       "      <td>-0.945680</td>\n",
       "      <td>0.134681</td>\n",
       "      <td>1.075304</td>\n",
       "      <td>-1.441650</td>\n",
       "      <td>0.0</td>\n",
       "    </tr>\n",
       "    <tr>\n",
       "      <th>...</th>\n",
       "      <td>...</td>\n",
       "      <td>...</td>\n",
       "      <td>...</td>\n",
       "      <td>...</td>\n",
       "      <td>...</td>\n",
       "      <td>...</td>\n",
       "      <td>...</td>\n",
       "      <td>...</td>\n",
       "      <td>...</td>\n",
       "      <td>...</td>\n",
       "      <td>...</td>\n",
       "      <td>...</td>\n",
       "      <td>...</td>\n",
       "      <td>...</td>\n",
       "      <td>...</td>\n",
       "      <td>...</td>\n",
       "      <td>...</td>\n",
       "      <td>...</td>\n",
       "      <td>...</td>\n",
       "      <td>...</td>\n",
       "      <td>...</td>\n",
       "    </tr>\n",
       "    <tr>\n",
       "      <th>9129</th>\n",
       "      <td>0.198942</td>\n",
       "      <td>-0.408822</td>\n",
       "      <td>-0.792225</td>\n",
       "      <td>0.739818</td>\n",
       "      <td>-0.516862</td>\n",
       "      <td>1.020128</td>\n",
       "      <td>1.116639</td>\n",
       "      <td>1.691636</td>\n",
       "      <td>-0.190493</td>\n",
       "      <td>-0.605827</td>\n",
       "      <td>...</td>\n",
       "      <td>-0.587688</td>\n",
       "      <td>-0.573794</td>\n",
       "      <td>-0.849262</td>\n",
       "      <td>1.546170</td>\n",
       "      <td>-0.911275</td>\n",
       "      <td>-0.945680</td>\n",
       "      <td>0.134681</td>\n",
       "      <td>1.075304</td>\n",
       "      <td>-0.630248</td>\n",
       "      <td>0.0</td>\n",
       "    </tr>\n",
       "    <tr>\n",
       "      <th>9130</th>\n",
       "      <td>0.198942</td>\n",
       "      <td>2.446054</td>\n",
       "      <td>1.112841</td>\n",
       "      <td>-0.156779</td>\n",
       "      <td>-0.516862</td>\n",
       "      <td>-0.980269</td>\n",
       "      <td>-0.468721</td>\n",
       "      <td>0.031159</td>\n",
       "      <td>-1.755777</td>\n",
       "      <td>-0.249737</td>\n",
       "      <td>...</td>\n",
       "      <td>1.678012</td>\n",
       "      <td>-1.109616</td>\n",
       "      <td>1.088787</td>\n",
       "      <td>0.095250</td>\n",
       "      <td>-0.003643</td>\n",
       "      <td>-0.945680</td>\n",
       "      <td>0.134681</td>\n",
       "      <td>1.075304</td>\n",
       "      <td>-0.398707</td>\n",
       "      <td>0.0</td>\n",
       "    </tr>\n",
       "    <tr>\n",
       "      <th>9131</th>\n",
       "      <td>0.198942</td>\n",
       "      <td>-0.408822</td>\n",
       "      <td>1.112841</td>\n",
       "      <td>0.739818</td>\n",
       "      <td>1.445285</td>\n",
       "      <td>1.020128</td>\n",
       "      <td>-1.320057</td>\n",
       "      <td>0.031159</td>\n",
       "      <td>1.383418</td>\n",
       "      <td>0.058398</td>\n",
       "      <td>...</td>\n",
       "      <td>1.678012</td>\n",
       "      <td>-1.602039</td>\n",
       "      <td>1.088787</td>\n",
       "      <td>0.095250</td>\n",
       "      <td>1.255081</td>\n",
       "      <td>-0.945680</td>\n",
       "      <td>0.134681</td>\n",
       "      <td>1.075304</td>\n",
       "      <td>-1.093736</td>\n",
       "      <td>0.0</td>\n",
       "    </tr>\n",
       "    <tr>\n",
       "      <th>9132</th>\n",
       "      <td>0.198942</td>\n",
       "      <td>-0.408822</td>\n",
       "      <td>1.112841</td>\n",
       "      <td>-0.156779</td>\n",
       "      <td>-0.516862</td>\n",
       "      <td>1.020128</td>\n",
       "      <td>-0.456169</td>\n",
       "      <td>0.031159</td>\n",
       "      <td>-0.190493</td>\n",
       "      <td>0.502649</td>\n",
       "      <td>...</td>\n",
       "      <td>-0.587688</td>\n",
       "      <td>0.031233</td>\n",
       "      <td>0.016595</td>\n",
       "      <td>0.095250</td>\n",
       "      <td>1.014960</td>\n",
       "      <td>-0.945680</td>\n",
       "      <td>2.133226</td>\n",
       "      <td>1.075304</td>\n",
       "      <td>-1.441650</td>\n",
       "      <td>0.0</td>\n",
       "    </tr>\n",
       "    <tr>\n",
       "      <th>9133</th>\n",
       "      <td>0.198942</td>\n",
       "      <td>-0.408822</td>\n",
       "      <td>1.112841</td>\n",
       "      <td>-0.156779</td>\n",
       "      <td>1.445285</td>\n",
       "      <td>1.020128</td>\n",
       "      <td>-1.320057</td>\n",
       "      <td>0.031159</td>\n",
       "      <td>1.383418</td>\n",
       "      <td>-0.363055</td>\n",
       "      <td>...</td>\n",
       "      <td>1.678012</td>\n",
       "      <td>-1.109616</td>\n",
       "      <td>-1.585890</td>\n",
       "      <td>0.925053</td>\n",
       "      <td>-0.045451</td>\n",
       "      <td>1.369053</td>\n",
       "      <td>0.134681</td>\n",
       "      <td>1.075304</td>\n",
       "      <td>-0.167333</td>\n",
       "      <td>0.0</td>\n",
       "    </tr>\n",
       "  </tbody>\n",
       "</table>\n",
       "<p>9134 rows × 24 columns</p>\n",
       "</div>"
      ],
      "text/plain": [
       "         State  Response  Coverage  Education  EmploymentStatus    Gender  \\\n",
       "0    -0.559025 -0.408822 -0.792225   0.739818         -0.516862 -0.980269   \n",
       "1     0.973395 -0.408822  1.112841   0.739818          1.445285 -0.980269   \n",
       "2     1.758969 -0.408822  1.650123   0.739818         -0.516862 -0.980269   \n",
       "3     0.198942 -0.408822 -0.792225   0.739818          1.445285  1.020128   \n",
       "4    -0.559025 -0.408822 -0.792225   0.739818         -0.516862  1.020128   \n",
       "...        ...       ...       ...        ...               ...       ...   \n",
       "9129  0.198942 -0.408822 -0.792225   0.739818         -0.516862  1.020128   \n",
       "9130  0.198942  2.446054  1.112841  -0.156779         -0.516862 -0.980269   \n",
       "9131  0.198942 -0.408822  1.112841   0.739818          1.445285  1.020128   \n",
       "9132  0.198942 -0.408822  1.112841  -0.156779         -0.516862  1.020128   \n",
       "9133  0.198942 -0.408822  1.112841  -0.156779          1.445285  1.020128   \n",
       "\n",
       "        Income  Location Code  Marital Status  Monthly Premium Auto  ...  \\\n",
       "0     0.676535       0.031159       -0.190493             -0.870344  ...   \n",
       "1    -1.320057       0.031159        1.383418              0.433066  ...   \n",
       "2     0.452396       0.031159       -0.190493              0.844752  ...   \n",
       "3    -1.320057       0.031159       -0.190493              0.795003  ...   \n",
       "4     0.299186      -1.610962        1.383418             -0.605827  ...   \n",
       "...        ...            ...             ...                   ...  ...   \n",
       "9129  1.116639       1.691636       -0.190493             -0.605827  ...   \n",
       "9130 -0.468721       0.031159       -1.755777             -0.249737  ...   \n",
       "9131 -1.320057       0.031159        1.383418              0.058398  ...   \n",
       "9132 -0.456169       0.031159       -0.190493              0.502649  ...   \n",
       "9133 -1.320057       0.031159        1.383418             -0.363055  ...   \n",
       "\n",
       "      Policy Type    Policy  Claim Reason  Sales Channel  Total Claim Amount  \\\n",
       "0        1.678012 -1.109616      1.088787      -1.129106            0.020446   \n",
       "1       -0.587688  0.730714      0.016595      -1.129106            1.928957   \n",
       "2       -0.587688  0.730714      1.088787      -1.129106            0.669908   \n",
       "3        1.678012 -1.602039      1.088787       0.925053            0.556230   \n",
       "4       -0.587688 -0.573794      1.088787      -1.129106           -1.265336   \n",
       "...           ...       ...           ...            ...                 ...   \n",
       "9129    -0.587688 -0.573794     -0.849262       1.546170           -0.911275   \n",
       "9130     1.678012 -1.109616      1.088787       0.095250           -0.003643   \n",
       "9131     1.678012 -1.602039      1.088787       0.095250            1.255081   \n",
       "9132    -0.587688  0.031233      0.016595       0.095250            1.014960   \n",
       "9133     1.678012 -1.109616     -1.585890       0.925053           -0.045451   \n",
       "\n",
       "      Vehicle Class  Vehicle Size       Day     month  year  \n",
       "0          1.369053      0.134681  1.075304  0.986735   0.0  \n",
       "1         -0.945680      0.134681 -0.929969  1.792661   0.0  \n",
       "2          1.369053      0.134681  1.075304  0.410223   0.0  \n",
       "3          0.705994      0.134681 -0.929969  0.525596   0.0  \n",
       "4         -0.945680      0.134681  1.075304 -1.441650   0.0  \n",
       "...             ...           ...       ...       ...   ...  \n",
       "9129      -0.945680      0.134681  1.075304 -0.630248   0.0  \n",
       "9130      -0.945680      0.134681  1.075304 -0.398707   0.0  \n",
       "9131      -0.945680      0.134681  1.075304 -1.093736   0.0  \n",
       "9132      -0.945680      2.133226  1.075304 -1.441650   0.0  \n",
       "9133       1.369053      0.134681  1.075304 -0.167333   0.0  \n",
       "\n",
       "[9134 rows x 24 columns]"
      ]
     },
     "execution_count": 65,
     "metadata": {},
     "output_type": "execute_result"
    }
   ],
   "source": [
    "from sklearn.preprocessing import PowerTransformer\n",
    "pt = PowerTransformer()\n",
    "x = pt.fit_transform(x)  \n",
    "x = pd.DataFrame(x,columns=df_x.columns)\n",
    "x"
   ]
  },
  {
   "cell_type": "code",
   "execution_count": 66,
   "metadata": {},
   "outputs": [
    {
     "data": {
      "text/plain": [
       "State                            0.054655\n",
       "Response                         2.037567\n",
       "Coverage                         0.516041\n",
       "Education                        0.088741\n",
       "EmploymentStatus                 0.136266\n",
       "Gender                           0.039866\n",
       "Income                           0.065481\n",
       "Location Code                    0.026924\n",
       "Marital Status                  -0.100166\n",
       "Monthly Premium Auto             0.245532\n",
       "Months Since Last Claim          0.055075\n",
       "Months Since Policy Inception    0.008976\n",
       "Number of Open Complaints        1.458060\n",
       "Number of Policies               0.319833\n",
       "Policy Type                      1.115679\n",
       "Policy                           0.155621\n",
       "Claim Reason                    -0.113202\n",
       "Sales Channel                    0.141469\n",
       "Total Claim Amount               0.013602\n",
       "Vehicle Class                    0.234585\n",
       "Vehicle Size                     0.163863\n",
       "Day                              0.145359\n",
       "month                            0.003190\n",
       "year                             0.000000\n",
       "dtype: float64"
      ]
     },
     "execution_count": 66,
     "metadata": {},
     "output_type": "execute_result"
    }
   ],
   "source": [
    "x.skew()"
   ]
  },
  {
   "cell_type": "code",
   "execution_count": 88,
   "metadata": {},
   "outputs": [],
   "source": [
    "from sklearn.metrics import r2_score\n",
    "lr =LinearRegression()\n",
    "def maxr2_score(regr,x,y):\n",
    "    max_r_score = 0 \n",
    "    for r_state in range(42,100):\n",
    "        x_train,x_test,y_train,y_test = train_test_split(x,y,test_size=0.3,random_state=r_state)\n",
    "        regr.fit(x_train,y_train)\n",
    "        y_pred = regr.predict(x_test)\n",
    "        r2_scr = r2_score(y_test,y_pred)\n",
    "        print(\"r2 score corresponding to \",r_state,\"is\",r2_score)\n",
    "        if r2_scr>max_r_score:\n",
    "            max_r_score = r2_scr\n",
    "            final_r_state=r_state\n",
    "    print(\"max r2 score corresponding to \",final_r_state,\"is\",max_r_score)\n",
    "    return final_r_state\n"
   ]
  },
  {
   "cell_type": "code",
   "execution_count": 89,
   "metadata": {},
   "outputs": [
    {
     "name": "stdout",
     "output_type": "stream",
     "text": [
      "r2 score corresponding to  42 is <function r2_score at 0x000001820276CA68>\n",
      "r2 score corresponding to  43 is <function r2_score at 0x000001820276CA68>\n",
      "r2 score corresponding to  44 is <function r2_score at 0x000001820276CA68>\n",
      "r2 score corresponding to  45 is <function r2_score at 0x000001820276CA68>\n",
      "r2 score corresponding to  46 is <function r2_score at 0x000001820276CA68>\n",
      "r2 score corresponding to  47 is <function r2_score at 0x000001820276CA68>\n",
      "r2 score corresponding to  48 is <function r2_score at 0x000001820276CA68>\n",
      "r2 score corresponding to  49 is <function r2_score at 0x000001820276CA68>\n",
      "r2 score corresponding to  50 is <function r2_score at 0x000001820276CA68>\n",
      "r2 score corresponding to  51 is <function r2_score at 0x000001820276CA68>\n",
      "r2 score corresponding to  52 is <function r2_score at 0x000001820276CA68>\n",
      "r2 score corresponding to  53 is <function r2_score at 0x000001820276CA68>\n",
      "r2 score corresponding to  54 is <function r2_score at 0x000001820276CA68>\n",
      "r2 score corresponding to  55 is <function r2_score at 0x000001820276CA68>\n",
      "r2 score corresponding to  56 is <function r2_score at 0x000001820276CA68>\n",
      "r2 score corresponding to  57 is <function r2_score at 0x000001820276CA68>\n",
      "r2 score corresponding to  58 is <function r2_score at 0x000001820276CA68>\n",
      "r2 score corresponding to  59 is <function r2_score at 0x000001820276CA68>\n",
      "r2 score corresponding to  60 is <function r2_score at 0x000001820276CA68>\n",
      "r2 score corresponding to  61 is <function r2_score at 0x000001820276CA68>\n",
      "r2 score corresponding to  62 is <function r2_score at 0x000001820276CA68>\n",
      "r2 score corresponding to  63 is <function r2_score at 0x000001820276CA68>\n",
      "r2 score corresponding to  64 is <function r2_score at 0x000001820276CA68>\n",
      "r2 score corresponding to  65 is <function r2_score at 0x000001820276CA68>\n",
      "r2 score corresponding to  66 is <function r2_score at 0x000001820276CA68>\n",
      "r2 score corresponding to  67 is <function r2_score at 0x000001820276CA68>\n",
      "r2 score corresponding to  68 is <function r2_score at 0x000001820276CA68>\n",
      "r2 score corresponding to  69 is <function r2_score at 0x000001820276CA68>\n",
      "r2 score corresponding to  70 is <function r2_score at 0x000001820276CA68>\n",
      "r2 score corresponding to  71 is <function r2_score at 0x000001820276CA68>\n",
      "r2 score corresponding to  72 is <function r2_score at 0x000001820276CA68>\n",
      "r2 score corresponding to  73 is <function r2_score at 0x000001820276CA68>\n",
      "r2 score corresponding to  74 is <function r2_score at 0x000001820276CA68>\n",
      "r2 score corresponding to  75 is <function r2_score at 0x000001820276CA68>\n",
      "r2 score corresponding to  76 is <function r2_score at 0x000001820276CA68>\n",
      "r2 score corresponding to  77 is <function r2_score at 0x000001820276CA68>\n",
      "r2 score corresponding to  78 is <function r2_score at 0x000001820276CA68>\n",
      "r2 score corresponding to  79 is <function r2_score at 0x000001820276CA68>\n",
      "r2 score corresponding to  80 is <function r2_score at 0x000001820276CA68>\n",
      "r2 score corresponding to  81 is <function r2_score at 0x000001820276CA68>\n",
      "r2 score corresponding to  82 is <function r2_score at 0x000001820276CA68>\n",
      "r2 score corresponding to  83 is <function r2_score at 0x000001820276CA68>\n",
      "r2 score corresponding to  84 is <function r2_score at 0x000001820276CA68>\n",
      "r2 score corresponding to  85 is <function r2_score at 0x000001820276CA68>\n",
      "r2 score corresponding to  86 is <function r2_score at 0x000001820276CA68>\n",
      "r2 score corresponding to  87 is <function r2_score at 0x000001820276CA68>\n",
      "r2 score corresponding to  88 is <function r2_score at 0x000001820276CA68>\n",
      "r2 score corresponding to  89 is <function r2_score at 0x000001820276CA68>\n",
      "r2 score corresponding to  90 is <function r2_score at 0x000001820276CA68>\n",
      "r2 score corresponding to  91 is <function r2_score at 0x000001820276CA68>\n",
      "r2 score corresponding to  92 is <function r2_score at 0x000001820276CA68>\n",
      "r2 score corresponding to  93 is <function r2_score at 0x000001820276CA68>\n",
      "r2 score corresponding to  94 is <function r2_score at 0x000001820276CA68>\n",
      "r2 score corresponding to  95 is <function r2_score at 0x000001820276CA68>\n",
      "r2 score corresponding to  96 is <function r2_score at 0x000001820276CA68>\n",
      "r2 score corresponding to  97 is <function r2_score at 0x000001820276CA68>\n",
      "r2 score corresponding to  98 is <function r2_score at 0x000001820276CA68>\n",
      "r2 score corresponding to  99 is <function r2_score at 0x000001820276CA68>\n",
      "max r2 score corresponding to  96 is 0.18949597224252335\n"
     ]
    }
   ],
   "source": [
    "r_state= maxr2_score(lr,x,y)"
   ]
  },
  {
   "cell_type": "code",
   "execution_count": 90,
   "metadata": {},
   "outputs": [
    {
     "data": {
      "text/plain": [
       "{'alpha': 0.1}"
      ]
     },
     "execution_count": 90,
     "metadata": {},
     "output_type": "execute_result"
    }
   ],
   "source": [
    "from sklearn.model_selection import GridSearchCV\n",
    "from sklearn.linear_model import Lasso,Ridge\n",
    "ls = Lasso()\n",
    "parameters = {\"alpha\":[0.0001,0.001,0.01,0.1]}\n",
    "clf= GridSearchCV(ls,parameters,cv=10)\n",
    "clf.fit(x,y)\n",
    "clf.best_params_"
   ]
  },
  {
   "cell_type": "code",
   "execution_count": 92,
   "metadata": {},
   "outputs": [
    {
     "data": {
      "text/plain": [
       "{'n_neighbors': 10}"
      ]
     },
     "execution_count": 92,
     "metadata": {},
     "output_type": "execute_result"
    }
   ],
   "source": [
    "from sklearn.neighbors import KNeighborsRegressor\n",
    "neighbors={'n_neighbors':range(1,20)}\n",
    "knr = KNeighborsRegressor()\n",
    "gknr = GridSearchCV(knr,neighbors,cv=5)\n",
    "gknr.fit(x,y)\n",
    "gknr.best_params_"
   ]
  },
  {
   "cell_type": "code",
   "execution_count": 93,
   "metadata": {},
   "outputs": [],
   "source": [
    "lr = LinearRegression()\n",
    "ls=Lasso(alpha=0.1)\n",
    "rg = Ridge(alpha=0.1)\n",
    "knr= KNeighborsRegressor(n_neighbors=10)"
   ]
  },
  {
   "cell_type": "code",
   "execution_count": 94,
   "metadata": {},
   "outputs": [
    {
     "name": "stdout",
     "output_type": "stream",
     "text": [
      "r2 score corresponding to  42 is <function r2_score at 0x000001820276CA68>\n",
      "r2 score corresponding to  43 is <function r2_score at 0x000001820276CA68>\n",
      "r2 score corresponding to  44 is <function r2_score at 0x000001820276CA68>\n",
      "r2 score corresponding to  45 is <function r2_score at 0x000001820276CA68>\n",
      "r2 score corresponding to  46 is <function r2_score at 0x000001820276CA68>\n",
      "r2 score corresponding to  47 is <function r2_score at 0x000001820276CA68>\n",
      "r2 score corresponding to  48 is <function r2_score at 0x000001820276CA68>\n",
      "r2 score corresponding to  49 is <function r2_score at 0x000001820276CA68>\n",
      "r2 score corresponding to  50 is <function r2_score at 0x000001820276CA68>\n",
      "r2 score corresponding to  51 is <function r2_score at 0x000001820276CA68>\n",
      "r2 score corresponding to  52 is <function r2_score at 0x000001820276CA68>\n",
      "r2 score corresponding to  53 is <function r2_score at 0x000001820276CA68>\n",
      "r2 score corresponding to  54 is <function r2_score at 0x000001820276CA68>\n",
      "r2 score corresponding to  55 is <function r2_score at 0x000001820276CA68>\n",
      "r2 score corresponding to  56 is <function r2_score at 0x000001820276CA68>\n",
      "r2 score corresponding to  57 is <function r2_score at 0x000001820276CA68>\n",
      "r2 score corresponding to  58 is <function r2_score at 0x000001820276CA68>\n",
      "r2 score corresponding to  59 is <function r2_score at 0x000001820276CA68>\n",
      "r2 score corresponding to  60 is <function r2_score at 0x000001820276CA68>\n",
      "r2 score corresponding to  61 is <function r2_score at 0x000001820276CA68>\n",
      "r2 score corresponding to  62 is <function r2_score at 0x000001820276CA68>\n",
      "r2 score corresponding to  63 is <function r2_score at 0x000001820276CA68>\n",
      "r2 score corresponding to  64 is <function r2_score at 0x000001820276CA68>\n",
      "r2 score corresponding to  65 is <function r2_score at 0x000001820276CA68>\n",
      "r2 score corresponding to  66 is <function r2_score at 0x000001820276CA68>\n",
      "r2 score corresponding to  67 is <function r2_score at 0x000001820276CA68>\n",
      "r2 score corresponding to  68 is <function r2_score at 0x000001820276CA68>\n",
      "r2 score corresponding to  69 is <function r2_score at 0x000001820276CA68>\n",
      "r2 score corresponding to  70 is <function r2_score at 0x000001820276CA68>\n",
      "r2 score corresponding to  71 is <function r2_score at 0x000001820276CA68>\n",
      "r2 score corresponding to  72 is <function r2_score at 0x000001820276CA68>\n",
      "r2 score corresponding to  73 is <function r2_score at 0x000001820276CA68>\n",
      "r2 score corresponding to  74 is <function r2_score at 0x000001820276CA68>\n",
      "r2 score corresponding to  75 is <function r2_score at 0x000001820276CA68>\n",
      "r2 score corresponding to  76 is <function r2_score at 0x000001820276CA68>\n",
      "r2 score corresponding to  77 is <function r2_score at 0x000001820276CA68>\n",
      "r2 score corresponding to  78 is <function r2_score at 0x000001820276CA68>\n",
      "r2 score corresponding to  79 is <function r2_score at 0x000001820276CA68>\n",
      "r2 score corresponding to  80 is <function r2_score at 0x000001820276CA68>\n",
      "r2 score corresponding to  81 is <function r2_score at 0x000001820276CA68>\n",
      "r2 score corresponding to  82 is <function r2_score at 0x000001820276CA68>\n",
      "r2 score corresponding to  83 is <function r2_score at 0x000001820276CA68>\n",
      "r2 score corresponding to  84 is <function r2_score at 0x000001820276CA68>\n",
      "r2 score corresponding to  85 is <function r2_score at 0x000001820276CA68>\n",
      "r2 score corresponding to  86 is <function r2_score at 0x000001820276CA68>\n",
      "r2 score corresponding to  87 is <function r2_score at 0x000001820276CA68>\n",
      "r2 score corresponding to  88 is <function r2_score at 0x000001820276CA68>\n",
      "r2 score corresponding to  89 is <function r2_score at 0x000001820276CA68>\n",
      "r2 score corresponding to  90 is <function r2_score at 0x000001820276CA68>\n",
      "r2 score corresponding to  91 is <function r2_score at 0x000001820276CA68>\n",
      "r2 score corresponding to  92 is <function r2_score at 0x000001820276CA68>\n",
      "r2 score corresponding to  93 is <function r2_score at 0x000001820276CA68>\n",
      "r2 score corresponding to  94 is <function r2_score at 0x000001820276CA68>\n",
      "r2 score corresponding to  95 is <function r2_score at 0x000001820276CA68>\n",
      "r2 score corresponding to  96 is <function r2_score at 0x000001820276CA68>\n",
      "r2 score corresponding to  97 is <function r2_score at 0x000001820276CA68>\n",
      "r2 score corresponding to  98 is <function r2_score at 0x000001820276CA68>\n",
      "r2 score corresponding to  99 is <function r2_score at 0x000001820276CA68>\n",
      "max r2 score corresponding to  96 is 0.18952373443942472\n"
     ]
    }
   ],
   "source": [
    "r_state= maxr2_score(ls,x,y)"
   ]
  },
  {
   "cell_type": "code",
   "execution_count": 95,
   "metadata": {},
   "outputs": [
    {
     "name": "stdout",
     "output_type": "stream",
     "text": [
      "r2 score corresponding to  42 is <function r2_score at 0x000001820276CA68>\n",
      "r2 score corresponding to  43 is <function r2_score at 0x000001820276CA68>\n",
      "r2 score corresponding to  44 is <function r2_score at 0x000001820276CA68>\n",
      "r2 score corresponding to  45 is <function r2_score at 0x000001820276CA68>\n",
      "r2 score corresponding to  46 is <function r2_score at 0x000001820276CA68>\n",
      "r2 score corresponding to  47 is <function r2_score at 0x000001820276CA68>\n",
      "r2 score corresponding to  48 is <function r2_score at 0x000001820276CA68>\n",
      "r2 score corresponding to  49 is <function r2_score at 0x000001820276CA68>\n",
      "r2 score corresponding to  50 is <function r2_score at 0x000001820276CA68>\n",
      "r2 score corresponding to  51 is <function r2_score at 0x000001820276CA68>\n",
      "r2 score corresponding to  52 is <function r2_score at 0x000001820276CA68>\n",
      "r2 score corresponding to  53 is <function r2_score at 0x000001820276CA68>\n",
      "r2 score corresponding to  54 is <function r2_score at 0x000001820276CA68>\n",
      "r2 score corresponding to  55 is <function r2_score at 0x000001820276CA68>\n",
      "r2 score corresponding to  56 is <function r2_score at 0x000001820276CA68>\n",
      "r2 score corresponding to  57 is <function r2_score at 0x000001820276CA68>\n",
      "r2 score corresponding to  58 is <function r2_score at 0x000001820276CA68>\n",
      "r2 score corresponding to  59 is <function r2_score at 0x000001820276CA68>\n",
      "r2 score corresponding to  60 is <function r2_score at 0x000001820276CA68>\n",
      "r2 score corresponding to  61 is <function r2_score at 0x000001820276CA68>\n",
      "r2 score corresponding to  62 is <function r2_score at 0x000001820276CA68>\n",
      "r2 score corresponding to  63 is <function r2_score at 0x000001820276CA68>\n",
      "r2 score corresponding to  64 is <function r2_score at 0x000001820276CA68>\n",
      "r2 score corresponding to  65 is <function r2_score at 0x000001820276CA68>\n",
      "r2 score corresponding to  66 is <function r2_score at 0x000001820276CA68>\n",
      "r2 score corresponding to  67 is <function r2_score at 0x000001820276CA68>\n",
      "r2 score corresponding to  68 is <function r2_score at 0x000001820276CA68>\n",
      "r2 score corresponding to  69 is <function r2_score at 0x000001820276CA68>\n",
      "r2 score corresponding to  70 is <function r2_score at 0x000001820276CA68>\n",
      "r2 score corresponding to  71 is <function r2_score at 0x000001820276CA68>\n",
      "r2 score corresponding to  72 is <function r2_score at 0x000001820276CA68>\n",
      "r2 score corresponding to  73 is <function r2_score at 0x000001820276CA68>\n",
      "r2 score corresponding to  74 is <function r2_score at 0x000001820276CA68>\n",
      "r2 score corresponding to  75 is <function r2_score at 0x000001820276CA68>\n",
      "r2 score corresponding to  76 is <function r2_score at 0x000001820276CA68>\n",
      "r2 score corresponding to  77 is <function r2_score at 0x000001820276CA68>\n",
      "r2 score corresponding to  78 is <function r2_score at 0x000001820276CA68>\n",
      "r2 score corresponding to  79 is <function r2_score at 0x000001820276CA68>\n",
      "r2 score corresponding to  80 is <function r2_score at 0x000001820276CA68>\n",
      "r2 score corresponding to  81 is <function r2_score at 0x000001820276CA68>\n",
      "r2 score corresponding to  82 is <function r2_score at 0x000001820276CA68>\n",
      "r2 score corresponding to  83 is <function r2_score at 0x000001820276CA68>\n",
      "r2 score corresponding to  84 is <function r2_score at 0x000001820276CA68>\n",
      "r2 score corresponding to  85 is <function r2_score at 0x000001820276CA68>\n",
      "r2 score corresponding to  86 is <function r2_score at 0x000001820276CA68>\n",
      "r2 score corresponding to  87 is <function r2_score at 0x000001820276CA68>\n",
      "r2 score corresponding to  88 is <function r2_score at 0x000001820276CA68>\n",
      "r2 score corresponding to  89 is <function r2_score at 0x000001820276CA68>\n",
      "r2 score corresponding to  90 is <function r2_score at 0x000001820276CA68>\n",
      "r2 score corresponding to  91 is <function r2_score at 0x000001820276CA68>\n",
      "r2 score corresponding to  92 is <function r2_score at 0x000001820276CA68>\n",
      "r2 score corresponding to  93 is <function r2_score at 0x000001820276CA68>\n",
      "r2 score corresponding to  94 is <function r2_score at 0x000001820276CA68>\n",
      "r2 score corresponding to  95 is <function r2_score at 0x000001820276CA68>\n",
      "r2 score corresponding to  96 is <function r2_score at 0x000001820276CA68>\n",
      "r2 score corresponding to  97 is <function r2_score at 0x000001820276CA68>\n",
      "r2 score corresponding to  98 is <function r2_score at 0x000001820276CA68>\n",
      "r2 score corresponding to  99 is <function r2_score at 0x000001820276CA68>\n",
      "max r2 score corresponding to  96 is 0.18949583945936244\n"
     ]
    }
   ],
   "source": [
    "r_state= maxr2_score(rg,x,y)"
   ]
  },
  {
   "cell_type": "code",
   "execution_count": 96,
   "metadata": {},
   "outputs": [
    {
     "name": "stdout",
     "output_type": "stream",
     "text": [
      "r2 score corresponding to  42 is <function r2_score at 0x000001820276CA68>\n",
      "r2 score corresponding to  43 is <function r2_score at 0x000001820276CA68>\n",
      "r2 score corresponding to  44 is <function r2_score at 0x000001820276CA68>\n",
      "r2 score corresponding to  45 is <function r2_score at 0x000001820276CA68>\n",
      "r2 score corresponding to  46 is <function r2_score at 0x000001820276CA68>\n",
      "r2 score corresponding to  47 is <function r2_score at 0x000001820276CA68>\n",
      "r2 score corresponding to  48 is <function r2_score at 0x000001820276CA68>\n",
      "r2 score corresponding to  49 is <function r2_score at 0x000001820276CA68>\n",
      "r2 score corresponding to  50 is <function r2_score at 0x000001820276CA68>\n",
      "r2 score corresponding to  51 is <function r2_score at 0x000001820276CA68>\n",
      "r2 score corresponding to  52 is <function r2_score at 0x000001820276CA68>\n",
      "r2 score corresponding to  53 is <function r2_score at 0x000001820276CA68>\n",
      "r2 score corresponding to  54 is <function r2_score at 0x000001820276CA68>\n",
      "r2 score corresponding to  55 is <function r2_score at 0x000001820276CA68>\n",
      "r2 score corresponding to  56 is <function r2_score at 0x000001820276CA68>\n",
      "r2 score corresponding to  57 is <function r2_score at 0x000001820276CA68>\n",
      "r2 score corresponding to  58 is <function r2_score at 0x000001820276CA68>\n",
      "r2 score corresponding to  59 is <function r2_score at 0x000001820276CA68>\n",
      "r2 score corresponding to  60 is <function r2_score at 0x000001820276CA68>\n",
      "r2 score corresponding to  61 is <function r2_score at 0x000001820276CA68>\n",
      "r2 score corresponding to  62 is <function r2_score at 0x000001820276CA68>\n",
      "r2 score corresponding to  63 is <function r2_score at 0x000001820276CA68>\n",
      "r2 score corresponding to  64 is <function r2_score at 0x000001820276CA68>\n",
      "r2 score corresponding to  65 is <function r2_score at 0x000001820276CA68>\n",
      "r2 score corresponding to  66 is <function r2_score at 0x000001820276CA68>\n",
      "r2 score corresponding to  67 is <function r2_score at 0x000001820276CA68>\n",
      "r2 score corresponding to  68 is <function r2_score at 0x000001820276CA68>\n",
      "r2 score corresponding to  69 is <function r2_score at 0x000001820276CA68>\n",
      "r2 score corresponding to  70 is <function r2_score at 0x000001820276CA68>\n",
      "r2 score corresponding to  71 is <function r2_score at 0x000001820276CA68>\n",
      "r2 score corresponding to  72 is <function r2_score at 0x000001820276CA68>\n",
      "r2 score corresponding to  73 is <function r2_score at 0x000001820276CA68>\n",
      "r2 score corresponding to  74 is <function r2_score at 0x000001820276CA68>\n",
      "r2 score corresponding to  75 is <function r2_score at 0x000001820276CA68>\n",
      "r2 score corresponding to  76 is <function r2_score at 0x000001820276CA68>\n",
      "r2 score corresponding to  77 is <function r2_score at 0x000001820276CA68>\n",
      "r2 score corresponding to  78 is <function r2_score at 0x000001820276CA68>\n",
      "r2 score corresponding to  79 is <function r2_score at 0x000001820276CA68>\n",
      "r2 score corresponding to  80 is <function r2_score at 0x000001820276CA68>\n",
      "r2 score corresponding to  81 is <function r2_score at 0x000001820276CA68>\n",
      "r2 score corresponding to  82 is <function r2_score at 0x000001820276CA68>\n",
      "r2 score corresponding to  83 is <function r2_score at 0x000001820276CA68>\n",
      "r2 score corresponding to  84 is <function r2_score at 0x000001820276CA68>\n",
      "r2 score corresponding to  85 is <function r2_score at 0x000001820276CA68>\n",
      "r2 score corresponding to  86 is <function r2_score at 0x000001820276CA68>\n",
      "r2 score corresponding to  87 is <function r2_score at 0x000001820276CA68>\n",
      "r2 score corresponding to  88 is <function r2_score at 0x000001820276CA68>\n",
      "r2 score corresponding to  89 is <function r2_score at 0x000001820276CA68>\n",
      "r2 score corresponding to  90 is <function r2_score at 0x000001820276CA68>\n",
      "r2 score corresponding to  91 is <function r2_score at 0x000001820276CA68>\n",
      "r2 score corresponding to  92 is <function r2_score at 0x000001820276CA68>\n",
      "r2 score corresponding to  93 is <function r2_score at 0x000001820276CA68>\n",
      "r2 score corresponding to  94 is <function r2_score at 0x000001820276CA68>\n",
      "r2 score corresponding to  95 is <function r2_score at 0x000001820276CA68>\n",
      "r2 score corresponding to  96 is <function r2_score at 0x000001820276CA68>\n",
      "r2 score corresponding to  97 is <function r2_score at 0x000001820276CA68>\n",
      "r2 score corresponding to  98 is <function r2_score at 0x000001820276CA68>\n",
      "r2 score corresponding to  99 is <function r2_score at 0x000001820276CA68>\n",
      "max r2 score corresponding to  85 is 0.2153404400105401\n"
     ]
    }
   ],
   "source": [
    "r_state= maxr2_score(knr,x,y)"
   ]
  },
  {
   "cell_type": "code",
   "execution_count": 97,
   "metadata": {},
   "outputs": [
    {
     "data": {
      "text/plain": [
       "{'learning_rate': 0.1, 'n_estimators': 250}"
      ]
     },
     "execution_count": 97,
     "metadata": {},
     "output_type": "execute_result"
    }
   ],
   "source": [
    "from sklearn.ensemble import GradientBoostingRegressor\n",
    "import warnings \n",
    "warnings.filterwarnings(\"ignore\")\n",
    "gbr = GradientBoostingRegressor()\n",
    "parameters = {\"learning_rate\":[0.001,0.01,0.1,1],\"n_estimators\":[50,100,150,200,250]}\n",
    "clft = GridSearchCV(gbr,parameters,cv=5)\n",
    "clft.fit(x,y)\n",
    "clft.best_params_"
   ]
  },
  {
   "cell_type": "code",
   "execution_count": 77,
   "metadata": {},
   "outputs": [],
   "source": [
    "gbr = GradientBoostingRegressor(learning_rate=0.1,n_estimators=250)"
   ]
  },
  {
   "cell_type": "code",
   "execution_count": 98,
   "metadata": {},
   "outputs": [
    {
     "name": "stdout",
     "output_type": "stream",
     "text": [
      "r2 score corresponding to  42 is <function r2_score at 0x000001820276CA68>\n",
      "r2 score corresponding to  43 is <function r2_score at 0x000001820276CA68>\n",
      "r2 score corresponding to  44 is <function r2_score at 0x000001820276CA68>\n",
      "r2 score corresponding to  45 is <function r2_score at 0x000001820276CA68>\n",
      "r2 score corresponding to  46 is <function r2_score at 0x000001820276CA68>\n",
      "r2 score corresponding to  47 is <function r2_score at 0x000001820276CA68>\n",
      "r2 score corresponding to  48 is <function r2_score at 0x000001820276CA68>\n",
      "r2 score corresponding to  49 is <function r2_score at 0x000001820276CA68>\n",
      "r2 score corresponding to  50 is <function r2_score at 0x000001820276CA68>\n",
      "r2 score corresponding to  51 is <function r2_score at 0x000001820276CA68>\n",
      "r2 score corresponding to  52 is <function r2_score at 0x000001820276CA68>\n",
      "r2 score corresponding to  53 is <function r2_score at 0x000001820276CA68>\n",
      "r2 score corresponding to  54 is <function r2_score at 0x000001820276CA68>\n",
      "r2 score corresponding to  55 is <function r2_score at 0x000001820276CA68>\n",
      "r2 score corresponding to  56 is <function r2_score at 0x000001820276CA68>\n",
      "r2 score corresponding to  57 is <function r2_score at 0x000001820276CA68>\n",
      "r2 score corresponding to  58 is <function r2_score at 0x000001820276CA68>\n",
      "r2 score corresponding to  59 is <function r2_score at 0x000001820276CA68>\n",
      "r2 score corresponding to  60 is <function r2_score at 0x000001820276CA68>\n",
      "r2 score corresponding to  61 is <function r2_score at 0x000001820276CA68>\n",
      "r2 score corresponding to  62 is <function r2_score at 0x000001820276CA68>\n",
      "r2 score corresponding to  63 is <function r2_score at 0x000001820276CA68>\n",
      "r2 score corresponding to  64 is <function r2_score at 0x000001820276CA68>\n",
      "r2 score corresponding to  65 is <function r2_score at 0x000001820276CA68>\n",
      "r2 score corresponding to  66 is <function r2_score at 0x000001820276CA68>\n",
      "r2 score corresponding to  67 is <function r2_score at 0x000001820276CA68>\n",
      "r2 score corresponding to  68 is <function r2_score at 0x000001820276CA68>\n",
      "r2 score corresponding to  69 is <function r2_score at 0x000001820276CA68>\n",
      "r2 score corresponding to  70 is <function r2_score at 0x000001820276CA68>\n",
      "r2 score corresponding to  71 is <function r2_score at 0x000001820276CA68>\n",
      "r2 score corresponding to  72 is <function r2_score at 0x000001820276CA68>\n",
      "r2 score corresponding to  73 is <function r2_score at 0x000001820276CA68>\n",
      "r2 score corresponding to  74 is <function r2_score at 0x000001820276CA68>\n",
      "r2 score corresponding to  75 is <function r2_score at 0x000001820276CA68>\n",
      "r2 score corresponding to  76 is <function r2_score at 0x000001820276CA68>\n",
      "r2 score corresponding to  77 is <function r2_score at 0x000001820276CA68>\n",
      "r2 score corresponding to  78 is <function r2_score at 0x000001820276CA68>\n",
      "r2 score corresponding to  79 is <function r2_score at 0x000001820276CA68>\n",
      "r2 score corresponding to  80 is <function r2_score at 0x000001820276CA68>\n",
      "r2 score corresponding to  81 is <function r2_score at 0x000001820276CA68>\n",
      "r2 score corresponding to  82 is <function r2_score at 0x000001820276CA68>\n",
      "r2 score corresponding to  83 is <function r2_score at 0x000001820276CA68>\n",
      "r2 score corresponding to  84 is <function r2_score at 0x000001820276CA68>\n",
      "r2 score corresponding to  85 is <function r2_score at 0x000001820276CA68>\n",
      "r2 score corresponding to  86 is <function r2_score at 0x000001820276CA68>\n",
      "r2 score corresponding to  87 is <function r2_score at 0x000001820276CA68>\n",
      "r2 score corresponding to  88 is <function r2_score at 0x000001820276CA68>\n",
      "r2 score corresponding to  89 is <function r2_score at 0x000001820276CA68>\n",
      "r2 score corresponding to  90 is <function r2_score at 0x000001820276CA68>\n",
      "r2 score corresponding to  91 is <function r2_score at 0x000001820276CA68>\n",
      "r2 score corresponding to  92 is <function r2_score at 0x000001820276CA68>\n",
      "r2 score corresponding to  93 is <function r2_score at 0x000001820276CA68>\n",
      "r2 score corresponding to  94 is <function r2_score at 0x000001820276CA68>\n",
      "r2 score corresponding to  95 is <function r2_score at 0x000001820276CA68>\n",
      "r2 score corresponding to  96 is <function r2_score at 0x000001820276CA68>\n",
      "r2 score corresponding to  97 is <function r2_score at 0x000001820276CA68>\n",
      "r2 score corresponding to  98 is <function r2_score at 0x000001820276CA68>\n",
      "r2 score corresponding to  99 is <function r2_score at 0x000001820276CA68>\n",
      "max r2 score corresponding to  87 is 0.7041903907252778\n"
     ]
    }
   ],
   "source": [
    "r_state= maxr2_score(gbr,x,y)"
   ]
  },
  {
   "cell_type": "code",
   "execution_count": 99,
   "metadata": {},
   "outputs": [
    {
     "data": {
      "text/plain": [
       "{'base_estimator': DecisionTreeRegressor(ccp_alpha=0.0, criterion='mse', max_depth=None,\n",
       "                       max_features=None, max_leaf_nodes=None,\n",
       "                       min_impurity_decrease=0.0, min_impurity_split=None,\n",
       "                       min_samples_leaf=1, min_samples_split=2,\n",
       "                       min_weight_fraction_leaf=0.0, presort='deprecated',\n",
       "                       random_state=None, splitter='best'),\n",
       " 'learning_rate': 1,\n",
       " 'n_estimators': 200}"
      ]
     },
     "execution_count": 99,
     "metadata": {},
     "output_type": "execute_result"
    }
   ],
   "source": [
    "from sklearn.ensemble import AdaBoostRegressor\n",
    "from sklearn.tree import DecisionTreeRegressor\n",
    "ada = AdaBoostRegressor()\n",
    "parameters = {\"learning_rate\":[0.001,0.01,0.1,1],\"n_estimators\":[50,100,150,200,250],\"base_estimator\":[lr,ls,DecisionTreeRegressor()]}\n",
    "fd = GridSearchCV(ada,parameters,cv=5)\n",
    "fd.fit(x,y)\n",
    "fd.best_params_"
   ]
  },
  {
   "cell_type": "code",
   "execution_count": 80,
   "metadata": {},
   "outputs": [],
   "source": [
    "ada = AdaBoostRegressor(base_estimator=DecisionTreeRegressor(),learning_rate=1,n_estimators=250)"
   ]
  },
  {
   "cell_type": "code",
   "execution_count": 81,
   "metadata": {},
   "outputs": [
    {
     "name": "stdout",
     "output_type": "stream",
     "text": [
      "r2 score corresponding to  42 is <function r2_score at 0x000001820276CA68>\n",
      "r2 score corresponding to  43 is <function r2_score at 0x000001820276CA68>\n",
      "r2 score corresponding to  44 is <function r2_score at 0x000001820276CA68>\n",
      "r2 score corresponding to  45 is <function r2_score at 0x000001820276CA68>\n",
      "r2 score corresponding to  46 is <function r2_score at 0x000001820276CA68>\n",
      "r2 score corresponding to  47 is <function r2_score at 0x000001820276CA68>\n",
      "r2 score corresponding to  48 is <function r2_score at 0x000001820276CA68>\n",
      "r2 score corresponding to  49 is <function r2_score at 0x000001820276CA68>\n",
      "r2 score corresponding to  50 is <function r2_score at 0x000001820276CA68>\n",
      "r2 score corresponding to  51 is <function r2_score at 0x000001820276CA68>\n",
      "r2 score corresponding to  52 is <function r2_score at 0x000001820276CA68>\n",
      "r2 score corresponding to  53 is <function r2_score at 0x000001820276CA68>\n",
      "r2 score corresponding to  54 is <function r2_score at 0x000001820276CA68>\n",
      "r2 score corresponding to  55 is <function r2_score at 0x000001820276CA68>\n",
      "r2 score corresponding to  56 is <function r2_score at 0x000001820276CA68>\n",
      "r2 score corresponding to  57 is <function r2_score at 0x000001820276CA68>\n",
      "r2 score corresponding to  58 is <function r2_score at 0x000001820276CA68>\n",
      "r2 score corresponding to  59 is <function r2_score at 0x000001820276CA68>\n",
      "r2 score corresponding to  60 is <function r2_score at 0x000001820276CA68>\n",
      "r2 score corresponding to  61 is <function r2_score at 0x000001820276CA68>\n",
      "r2 score corresponding to  62 is <function r2_score at 0x000001820276CA68>\n",
      "r2 score corresponding to  63 is <function r2_score at 0x000001820276CA68>\n",
      "r2 score corresponding to  64 is <function r2_score at 0x000001820276CA68>\n",
      "r2 score corresponding to  65 is <function r2_score at 0x000001820276CA68>\n",
      "r2 score corresponding to  66 is <function r2_score at 0x000001820276CA68>\n",
      "r2 score corresponding to  67 is <function r2_score at 0x000001820276CA68>\n",
      "r2 score corresponding to  68 is <function r2_score at 0x000001820276CA68>\n",
      "r2 score corresponding to  69 is <function r2_score at 0x000001820276CA68>\n",
      "r2 score corresponding to  70 is <function r2_score at 0x000001820276CA68>\n",
      "r2 score corresponding to  71 is <function r2_score at 0x000001820276CA68>\n",
      "r2 score corresponding to  72 is <function r2_score at 0x000001820276CA68>\n",
      "r2 score corresponding to  73 is <function r2_score at 0x000001820276CA68>\n",
      "r2 score corresponding to  74 is <function r2_score at 0x000001820276CA68>\n",
      "r2 score corresponding to  75 is <function r2_score at 0x000001820276CA68>\n",
      "r2 score corresponding to  76 is <function r2_score at 0x000001820276CA68>\n",
      "r2 score corresponding to  77 is <function r2_score at 0x000001820276CA68>\n",
      "r2 score corresponding to  78 is <function r2_score at 0x000001820276CA68>\n",
      "r2 score corresponding to  79 is <function r2_score at 0x000001820276CA68>\n",
      "r2 score corresponding to  80 is <function r2_score at 0x000001820276CA68>\n",
      "r2 score corresponding to  81 is <function r2_score at 0x000001820276CA68>\n",
      "r2 score corresponding to  82 is <function r2_score at 0x000001820276CA68>\n",
      "r2 score corresponding to  83 is <function r2_score at 0x000001820276CA68>\n",
      "r2 score corresponding to  84 is <function r2_score at 0x000001820276CA68>\n",
      "r2 score corresponding to  85 is <function r2_score at 0x000001820276CA68>\n",
      "r2 score corresponding to  86 is <function r2_score at 0x000001820276CA68>\n",
      "r2 score corresponding to  87 is <function r2_score at 0x000001820276CA68>\n",
      "r2 score corresponding to  88 is <function r2_score at 0x000001820276CA68>\n",
      "r2 score corresponding to  89 is <function r2_score at 0x000001820276CA68>\n",
      "r2 score corresponding to  90 is <function r2_score at 0x000001820276CA68>\n",
      "r2 score corresponding to  91 is <function r2_score at 0x000001820276CA68>\n",
      "r2 score corresponding to  92 is <function r2_score at 0x000001820276CA68>\n",
      "r2 score corresponding to  93 is <function r2_score at 0x000001820276CA68>\n",
      "r2 score corresponding to  94 is <function r2_score at 0x000001820276CA68>\n",
      "r2 score corresponding to  95 is <function r2_score at 0x000001820276CA68>\n",
      "r2 score corresponding to  96 is <function r2_score at 0x000001820276CA68>\n",
      "r2 score corresponding to  97 is <function r2_score at 0x000001820276CA68>\n",
      "r2 score corresponding to  98 is <function r2_score at 0x000001820276CA68>\n",
      "r2 score corresponding to  99 is <function r2_score at 0x000001820276CA68>\n",
      "max r2 score corresponding to  97 is 0.7239417028070503\n"
     ]
    }
   ],
   "source": [
    "r_state= maxr2_score(ada,x,y)"
   ]
  },
  {
   "cell_type": "code",
   "execution_count": null,
   "metadata": {},
   "outputs": [],
   "source": [
    "!pip install xgboost"
   ]
  },
  {
   "cell_type": "code",
   "execution_count": 82,
   "metadata": {},
   "outputs": [
    {
     "data": {
      "text/plain": [
       "{'learning_rate': 0.1, 'n_estimators': 100}"
      ]
     },
     "execution_count": 82,
     "metadata": {},
     "output_type": "execute_result"
    }
   ],
   "source": [
    "from xgboost import XGBRegressor\n",
    "xgb = XGBRegressor()\n",
    "parameters = {\"learning_rate\":[0.001,0.01,0.1,1],\"n_estimators\":[50,100,150,200,250]}\n",
    "fd = GridSearchCV(xgb,parameters,cv=5)\n",
    "fd.fit(x,y)\n",
    "fd.best_params_"
   ]
  },
  {
   "cell_type": "code",
   "execution_count": 84,
   "metadata": {},
   "outputs": [
    {
     "name": "stdout",
     "output_type": "stream",
     "text": [
      "r2 score corresponding to  42 is <function r2_score at 0x000001820276CA68>\n",
      "r2 score corresponding to  43 is <function r2_score at 0x000001820276CA68>\n",
      "r2 score corresponding to  44 is <function r2_score at 0x000001820276CA68>\n",
      "r2 score corresponding to  45 is <function r2_score at 0x000001820276CA68>\n",
      "r2 score corresponding to  46 is <function r2_score at 0x000001820276CA68>\n",
      "r2 score corresponding to  47 is <function r2_score at 0x000001820276CA68>\n",
      "r2 score corresponding to  48 is <function r2_score at 0x000001820276CA68>\n",
      "r2 score corresponding to  49 is <function r2_score at 0x000001820276CA68>\n",
      "r2 score corresponding to  50 is <function r2_score at 0x000001820276CA68>\n",
      "r2 score corresponding to  51 is <function r2_score at 0x000001820276CA68>\n",
      "r2 score corresponding to  52 is <function r2_score at 0x000001820276CA68>\n",
      "r2 score corresponding to  53 is <function r2_score at 0x000001820276CA68>\n",
      "r2 score corresponding to  54 is <function r2_score at 0x000001820276CA68>\n",
      "r2 score corresponding to  55 is <function r2_score at 0x000001820276CA68>\n",
      "r2 score corresponding to  56 is <function r2_score at 0x000001820276CA68>\n",
      "r2 score corresponding to  57 is <function r2_score at 0x000001820276CA68>\n",
      "r2 score corresponding to  58 is <function r2_score at 0x000001820276CA68>\n",
      "r2 score corresponding to  59 is <function r2_score at 0x000001820276CA68>\n",
      "r2 score corresponding to  60 is <function r2_score at 0x000001820276CA68>\n",
      "r2 score corresponding to  61 is <function r2_score at 0x000001820276CA68>\n",
      "r2 score corresponding to  62 is <function r2_score at 0x000001820276CA68>\n",
      "r2 score corresponding to  63 is <function r2_score at 0x000001820276CA68>\n",
      "r2 score corresponding to  64 is <function r2_score at 0x000001820276CA68>\n",
      "r2 score corresponding to  65 is <function r2_score at 0x000001820276CA68>\n",
      "r2 score corresponding to  66 is <function r2_score at 0x000001820276CA68>\n",
      "r2 score corresponding to  67 is <function r2_score at 0x000001820276CA68>\n",
      "r2 score corresponding to  68 is <function r2_score at 0x000001820276CA68>\n",
      "r2 score corresponding to  69 is <function r2_score at 0x000001820276CA68>\n",
      "r2 score corresponding to  70 is <function r2_score at 0x000001820276CA68>\n",
      "r2 score corresponding to  71 is <function r2_score at 0x000001820276CA68>\n",
      "r2 score corresponding to  72 is <function r2_score at 0x000001820276CA68>\n",
      "r2 score corresponding to  73 is <function r2_score at 0x000001820276CA68>\n",
      "r2 score corresponding to  74 is <function r2_score at 0x000001820276CA68>\n",
      "r2 score corresponding to  75 is <function r2_score at 0x000001820276CA68>\n",
      "r2 score corresponding to  76 is <function r2_score at 0x000001820276CA68>\n",
      "r2 score corresponding to  77 is <function r2_score at 0x000001820276CA68>\n",
      "r2 score corresponding to  78 is <function r2_score at 0x000001820276CA68>\n",
      "r2 score corresponding to  79 is <function r2_score at 0x000001820276CA68>\n",
      "r2 score corresponding to  80 is <function r2_score at 0x000001820276CA68>\n",
      "r2 score corresponding to  81 is <function r2_score at 0x000001820276CA68>\n",
      "r2 score corresponding to  82 is <function r2_score at 0x000001820276CA68>\n",
      "r2 score corresponding to  83 is <function r2_score at 0x000001820276CA68>\n",
      "r2 score corresponding to  84 is <function r2_score at 0x000001820276CA68>\n",
      "r2 score corresponding to  85 is <function r2_score at 0x000001820276CA68>\n",
      "r2 score corresponding to  86 is <function r2_score at 0x000001820276CA68>\n",
      "r2 score corresponding to  87 is <function r2_score at 0x000001820276CA68>\n",
      "r2 score corresponding to  88 is <function r2_score at 0x000001820276CA68>\n",
      "r2 score corresponding to  89 is <function r2_score at 0x000001820276CA68>\n",
      "r2 score corresponding to  90 is <function r2_score at 0x000001820276CA68>\n",
      "r2 score corresponding to  91 is <function r2_score at 0x000001820276CA68>\n",
      "r2 score corresponding to  92 is <function r2_score at 0x000001820276CA68>\n",
      "r2 score corresponding to  93 is <function r2_score at 0x000001820276CA68>\n",
      "r2 score corresponding to  94 is <function r2_score at 0x000001820276CA68>\n",
      "r2 score corresponding to  95 is <function r2_score at 0x000001820276CA68>\n",
      "r2 score corresponding to  96 is <function r2_score at 0x000001820276CA68>\n",
      "r2 score corresponding to  97 is <function r2_score at 0x000001820276CA68>\n",
      "r2 score corresponding to  98 is <function r2_score at 0x000001820276CA68>\n",
      "r2 score corresponding to  99 is <function r2_score at 0x000001820276CA68>\n",
      "max r2 score corresponding to  97 is 0.7381276722564183\n"
     ]
    }
   ],
   "source": [
    "xgb = XGBRegressor(learning_rate=0.1,n_estimators=100)\n",
    "r_state= maxr2_score(xgb,x,y)"
   ]
  },
  {
   "cell_type": "code",
   "execution_count": 85,
   "metadata": {},
   "outputs": [],
   "source": [
    " # here xg boosting regressor gives best r2 score at random state  97 hence it is the best algorithm of all the used algorithm\n"
   ]
  },
  {
   "cell_type": "code",
   "execution_count": 101,
   "metadata": {},
   "outputs": [],
   "source": [
    "x_train,x_test,y_train,y_test = train_test_split(x,y,random_state=97 ,test_size=0.3)\n",
    "xgb = XGBRegressor(learning_rate=0.1,n_estimators=100)\n",
    "xgb.fit(x_train,y_train)\n",
    "y_pred = gbr.predict(x_test)"
   ]
  },
  {
   "cell_type": "code",
   "execution_count": 102,
   "metadata": {},
   "outputs": [
    {
     "name": "stdout",
     "output_type": "stream",
     "text": [
      "RMSE is: 327.91939528364037\n",
      "r2 score: 75.83564337365306\n"
     ]
    }
   ],
   "source": [
    "print(\"RMSE is:\",np.sqrt(mean_squared_error(y_test,y_pred)))\n",
    "print(\"r2 score:\",r2_score(y_test,y_pred)*100)"
   ]
  },
  {
   "cell_type": "code",
   "execution_count": 103,
   "metadata": {},
   "outputs": [
    {
     "data": {
      "text/plain": [
       "['Insurance Amount.obj']"
      ]
     },
     "execution_count": 103,
     "metadata": {},
     "output_type": "execute_result"
    }
   ],
   "source": [
    "from sklearn.externals import joblib\n",
    "joblib.dump(xgb,\"Insurance Amount.obj\")"
   ]
  },
  {
   "cell_type": "code",
   "execution_count": 104,
   "metadata": {},
   "outputs": [],
   "source": [
    "model=joblib.load('Insurance Amount.obj')"
   ]
  },
  {
   "cell_type": "code",
   "execution_count": 105,
   "metadata": {},
   "outputs": [
    {
     "data": {
      "text/plain": [
       "array([ 296.56253,  714.48706, 1147.5582 , ...,  834.4107 ,  264.95544,\n",
       "        635.7363 ], dtype=float32)"
      ]
     },
     "execution_count": 105,
     "metadata": {},
     "output_type": "execute_result"
    }
   ],
   "source": [
    "model.predict(x_test)"
   ]
  },
  {
   "cell_type": "code",
   "execution_count": null,
   "metadata": {},
   "outputs": [],
   "source": []
  }
 ],
 "metadata": {
  "kernelspec": {
   "display_name": "Python 3",
   "language": "python",
   "name": "python3"
  },
  "language_info": {
   "codemirror_mode": {
    "name": "ipython",
    "version": 3
   },
   "file_extension": ".py",
   "mimetype": "text/x-python",
   "name": "python",
   "nbconvert_exporter": "python",
   "pygments_lexer": "ipython3",
   "version": "3.7.6"
  }
 },
 "nbformat": 4,
 "nbformat_minor": 4
}
